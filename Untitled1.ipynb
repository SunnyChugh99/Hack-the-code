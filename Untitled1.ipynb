{
 "cells": [
  {
   "cell_type": "code",
   "execution_count": 1,
   "id": "e7b467a0",
   "metadata": {},
   "outputs": [
    {
     "name": "stdout",
     "output_type": "stream",
     "text": [
      "Connection manager service url initialised to http://fdc-project-manager:80/project-manager\n",
      "If you need to update its value then update the variable CONNECTION_MANAGER_BASE_URL in os env.\n",
      "Feast is an open source project that collects anonymized error reporting and usage statistics. To opt out or learn more see https://docs.feast.dev/reference/usage\n"
     ]
    }
   ],
   "source": [
    "from refractio import fs\n",
    "store = fs.get_feature_store(\"testingggg\", \"0fc288ef-e72d-403f-b94d-a9a51473cf83\")"
   ]
  },
  {
   "cell_type": "code",
   "execution_count": 2,
   "id": "e469a03b",
   "metadata": {},
   "outputs": [
    {
     "name": "stdout",
     "output_type": "stream",
     "text": [
      "<feast.feature_store.FeatureStore object at 0x7fc08e3198b0>\n"
     ]
    }
   ],
   "source": [
    "print(store)"
   ]
  },
  {
   "cell_type": "code",
   "execution_count": 3,
   "id": "f793b051",
   "metadata": {},
   "outputs": [
    {
     "name": "stdout",
     "output_type": "stream",
     "text": [
      "Name: refractio\n",
      "Version: 2.1.5.2\n",
      "Summary: REFRACT-IO: To read and write dataframe from different connectors.\n",
      "Home-page: None\n",
      "Author: Abhishek Chaurasia\n",
      "Author-email: <abhishek1.chaurasia@fosfor.com>\n",
      "License: None\n",
      "Location: /opt/conda/lib/python3.8/site-packages\n",
      "Requires: pandas\n",
      "Required-by: \n",
      "Note: you may need to restart the kernel to use updated packages.\n"
     ]
    }
   ],
   "source": [
    "pip show refractio"
   ]
  },
  {
   "cell_type": "code",
   "execution_count": null,
   "id": "ac071d07",
   "metadata": {},
   "outputs": [],
   "source": []
  }
 ],
 "metadata": {
  "kernelspec": {
   "display_name": "Python 3",
   "language": "python",
   "name": "python3"
  },
  "language_info": {
   "codemirror_mode": {
    "name": "ipython",
    "version": 3
   },
   "file_extension": ".py",
   "mimetype": "text/x-python",
   "name": "python",
   "nbconvert_exporter": "python",
   "pygments_lexer": "ipython3",
   "version": "3.8.18"
  }
 },
 "nbformat": 4,
 "nbformat_minor": 5
}
