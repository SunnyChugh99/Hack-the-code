{
 "cells": [
  {
   "cell_type": "code",
   "execution_count": 1,
   "id": "b28eec4d-3251-4ae4-af7e-a5145a2b4277",
   "metadata": {},
   "outputs": [
    {
     "name": "stdout",
     "output_type": "stream",
     "text": [
      "1\n",
      "1\n",
      "1\n"
     ]
    }
   ],
   "source": [
    "print('1')\n",
    "print('1')\n",
    "print('1')\n",
    "\n",
    "print('4')\n",
    "print('529 auto work')"
   ]
  },
  {
   "cell_type": "code",
   "execution_count": 1,
   "id": "1c71656c-e48a-44cf-88db-8be31a0a0051",
   "metadata": {},
   "outputs": [
    {
     "name": "stdout",
     "output_type": "stream",
     "text": [
      "600 auto work\n"
     ]
    }
   ],
   "source": [
    "print('600 auto work')"
   ]
  },
  {
   "cell_type": "code",
   "execution_count": null,
   "id": "614183f3-a96c-4182-9c0c-3e74de2547e9",
   "metadata": {},
   "outputs": [],
   "source": []
  }
 ],
 "metadata": {
  "kernelspec": {
   "display_name": "Python 3 (ipykernel)",
   "language": "python",
   "name": "python3"
  },
  "language_info": {
   "codemirror_mode": {
    "name": "ipython",
    "version": 3
   },
   "file_extension": ".py",
   "mimetype": "text/x-python",
   "name": "python",
   "nbconvert_exporter": "python",
   "pygments_lexer": "ipython3",
   "version": "3.9.19"
  }
 },
 "nbformat": 4,
 "nbformat_minor": 5
}
