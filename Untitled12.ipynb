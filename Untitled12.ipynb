{
 "cells": [
  {
   "cell_type": "code",
   "execution_count": 3,
   "id": "7f0e6cf1",
   "metadata": {},
   "outputs": [],
   "source": [
    "# !pip install fosforml"
   ]
  },
  {
   "cell_type": "code",
   "execution_count": 14,
   "id": "4a4415e6",
   "metadata": {},
   "outputs": [],
   "source": [
    "from fosforml.model_manager.snowflakesession import get_session\n",
    "session = get_session()"
   ]
  },
  {
   "cell_type": "code",
   "execution_count": 2,
   "id": "28c60106",
   "metadata": {},
   "outputs": [
    {
     "name": "stdout",
     "output_type": "stream",
     "text": [
      "{'account': 'rwb76633.None.None', 'user': 'SUNNYCHUGH', 'password': 'Password@1209', 'database': 'INSIGHT_DESIGNER_SPCS', 'schema': 'INSIGHT_SPCS_SCHEMA', 'warehouse': 'FOSFOR_WAREHOUSE', 'role': 'SUNNYCHUGH'}\n"
     ]
    }
   ],
   "source": [
    "from fosforml.model_manager import snowflakesession\n",
    "session_instance = snowflakesession()\n",
    "params = session_instance.connection_params\n",
    "print(params)"
   ]
  },
  {
   "cell_type": "code",
   "execution_count": 3,
   "id": "a330ac91",
   "metadata": {},
   "outputs": [
    {
     "name": "stdout",
     "output_type": "stream",
     "text": [
      "reference 3.csv\r\n"
     ]
    }
   ],
   "source": [
    "!ls | grep reference"
   ]
  },
  {
   "cell_type": "code",
   "execution_count": 4,
   "id": "3011bc47",
   "metadata": {},
   "outputs": [
    {
     "name": "stdout",
     "output_type": "stream",
     "text": [
      "current 3.csv\r\n"
     ]
    }
   ],
   "source": [
    "!ls | grep current"
   ]
  },
  {
   "cell_type": "code",
   "execution_count": 6,
   "id": "65e79d2b",
   "metadata": {},
   "outputs": [],
   "source": [
    "import pandas as pd"
   ]
  },
  {
   "cell_type": "code",
   "execution_count": 8,
   "id": "40ea4257",
   "metadata": {},
   "outputs": [],
   "source": [
    "reference = pd.read_csv(\"reference 3.csv\")\n",
    "current = pd.read_csv(\"current 3.csv\")"
   ]
  },
  {
   "cell_type": "code",
   "execution_count": 18,
   "id": "69a7fcb3",
   "metadata": {},
   "outputs": [
    {
     "data": {
      "text/plain": [
       "'Failed to create snowflake session. Failed to create snowflake session. 250001: Could not connect to Snowflake backend after 2 attempt(s).Aborting'"
      ]
     },
     "execution_count": 18,
     "metadata": {},
     "output_type": "execute_result"
    }
   ],
   "source": [
    "session"
   ]
  },
  {
   "cell_type": "code",
   "execution_count": null,
   "id": "3101892f",
   "metadata": {},
   "outputs": [],
   "source": []
  },
  {
   "cell_type": "code",
   "execution_count": null,
   "id": "7d3f3de9",
   "metadata": {},
   "outputs": [],
   "source": []
  }
 ],
 "metadata": {
  "kernelspec": {
   "display_name": "Python 3",
   "language": "python",
   "name": "python3"
  },
  "language_info": {
   "codemirror_mode": {
    "name": "ipython",
    "version": 3
   },
   "file_extension": ".py",
   "mimetype": "text/x-python",
   "name": "python",
   "nbconvert_exporter": "python",
   "pygments_lexer": "ipython3",
   "version": "3.10.13"
  }
 },
 "nbformat": 4,
 "nbformat_minor": 5
}
