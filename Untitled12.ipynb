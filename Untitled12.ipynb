{
 "cells": [
  {
   "cell_type": "code",
   "execution_count": 3,
   "id": "944dfd2c",
   "metadata": {},
   "outputs": [],
   "source": [
    "# !pip install fosforml"
   ]
  },
  {
   "cell_type": "code",
   "execution_count": 1,
   "id": "9e570fa3",
   "metadata": {},
   "outputs": [],
   "source": [
    "from fosforml.model_manager.snowflakesession import get_session\n",
    "session = get_session()"
   ]
  },
  {
   "cell_type": "code",
   "execution_count": 2,
   "id": "c1a1d582",
   "metadata": {},
   "outputs": [
    {
     "name": "stdout",
     "output_type": "stream",
     "text": [
      "{'account': 'rwb76633.None.None', 'user': 'SUNNYCHUGH', 'password': 'Password@1209', 'database': 'INSIGHT_DESIGNER_SPCS', 'schema': 'INSIGHT_SPCS_SCHEMA', 'warehouse': 'FOSFOR_WAREHOUSE', 'role': 'SUNNYCHUGH'}\n"
     ]
    }
   ],
   "source": [
    "from fosforml.model_manager import snowflakesession\n",
    "session_instance = snowflakesession()\n",
    "params = session_instance.connection_params\n",
    "print(params)"
   ]
  },
  {
   "cell_type": "code",
   "execution_count": 3,
   "id": "36d44b7d",
   "metadata": {},
   "outputs": [
    {
     "name": "stdout",
     "output_type": "stream",
     "text": [
      "reference 3.csv\r\n"
     ]
    }
   ],
   "source": [
    "!ls | grep reference"
   ]
  },
  {
   "cell_type": "code",
   "execution_count": 4,
   "id": "4a9729d5",
   "metadata": {},
   "outputs": [
    {
     "name": "stdout",
     "output_type": "stream",
     "text": [
      "current 3.csv\r\n"
     ]
    }
   ],
   "source": [
    "!ls | grep current"
   ]
  },
  {
   "cell_type": "code",
   "execution_count": 6,
   "id": "c8f865bc",
   "metadata": {},
   "outputs": [],
   "source": [
    "import pandas as pd"
   ]
  },
  {
   "cell_type": "code",
   "execution_count": 8,
   "id": "803b31d8",
   "metadata": {},
   "outputs": [],
   "source": [
    "reference = pd.read_csv(\"reference 3.csv\")\n",
    "current = pd.read_csv(\"current 3.csv\")"
   ]
  },
  {
   "cell_type": "code",
   "execution_count": 10,
   "id": "29115edb",
   "metadata": {},
   "outputs": [
    {
     "ename": "AttributeError",
     "evalue": "'str' object has no attribute 'write_pandas'",
     "output_type": "error",
     "traceback": [
      "\u001b[0;31m---------------------------------------------------------------------------\u001b[0m",
      "\u001b[0;31mAttributeError\u001b[0m                            Traceback (most recent call last)",
      "Cell \u001b[0;32mIn[10], line 1\u001b[0m\n\u001b[0;32m----> 1\u001b[0m \u001b[43msession\u001b[49m\u001b[38;5;241;43m.\u001b[39;49m\u001b[43mwrite_pandas\u001b[49m\n",
      "\u001b[0;31mAttributeError\u001b[0m: 'str' object has no attribute 'write_pandas'"
     ]
    }
   ],
   "source": [
    "session.write_pandas"
   ]
  },
  {
   "cell_type": "code",
   "execution_count": null,
   "id": "160096c6",
   "metadata": {},
   "outputs": [],
   "source": []
  }
 ],
 "metadata": {
  "kernelspec": {
   "display_name": "Python 3",
   "language": "python",
   "name": "python3"
  },
  "language_info": {
   "codemirror_mode": {
    "name": "ipython",
    "version": 3
   },
   "file_extension": ".py",
   "mimetype": "text/x-python",
   "name": "python",
   "nbconvert_exporter": "python",
   "pygments_lexer": "ipython3",
   "version": "3.10.13"
  }
 },
 "nbformat": 4,
 "nbformat_minor": 5
}
