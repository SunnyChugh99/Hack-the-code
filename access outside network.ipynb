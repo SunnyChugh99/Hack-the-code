{
 "cells": [
  {
   "cell_type": "code",
   "execution_count": 1,
   "id": "ab5edc61-d5f2-4032-8c47-eae329277bf5",
   "metadata": {},
   "outputs": [
    {
     "data": {
      "text/plain": [
       "{'Authorization': 'Snowflake Token=\"ver:1-hint:32355341568905222-ETMsDgAAAZHfmvzPABRBRVMvQ0JDL1BLQ1M1UGFkZGluZwEAABAAEFyNecrhfAhte8GXmJ+ZbrkAAACA71WWZNaZHgkqJyPXTrBj2SYyBzt6/AxzS0ASEJnLmEwh3rEOQtcd/3t0cpVtk/Odnep46tfsbAqdc8abddxHF5AJwIrG+TSQiasr5Rorq33x6VFArDil+fflxwexg3gEQdnDmemk3QiuZ2K5qTAavbYpikd5c9QixyZ6SNtF2N8AFFhkbrPi0XD0xbT3QSNKmXaRGQXh\"'}"
      ]
     },
     "execution_count": 1,
     "metadata": {},
     "output_type": "execute_result"
    }
   ],
   "source": [
    "import snowflake.connector\n",
    "import requests\n",
    "\n",
    "ctx = snowflake.connector.connect(\n",
    "   user=\"SAURABHKULKARNI\",# username\n",
    "   password=\"Epsilon0*\", # insert password here\n",
    "   account=\"fya62509.us-east-1\",\n",
    "   session_parameters={\n",
    "      'PYTHON_CONNECTOR_QUERY_RESULT_FORMAT': 'json'\n",
    "   })\n",
    "\n",
    "# Obtain a session token.\n",
    "token_data = ctx._rest._token_request('ISSUE')\n",
    "token_extract = token_data['data']['sessionToken']\n",
    "\n",
    "token = f'\\\"{token_extract}\\\"'\n",
    "headers = {'Authorization': f'Snowflake Token={token}'}\n",
    "headers\n",
    "\n",
    "# Create a request to the ingress endpoint with authz."
   ]
  },
  {
   "cell_type": "code",
   "execution_count": 2,
   "id": "a5fc272d-420b-4537-b0b0-28cde95c685f",
   "metadata": {},
   "outputs": [
    {
     "name": "stdout",
     "output_type": "stream",
     "text": [
      "\"ver:1-hint:32355341568905222-ETMsDgAAAZHcbFHsABRBRVMvQ0JDL1BLQ1M1UGFkZGluZwEAABAAECUjL/kIc/YSgeiAQOhqKxcAAACAn/OEXvdYTDa8SnX7GQO2Dj+TAxIzYx+92lx2G5HZZ7wjdflGrKok6nYHV8p8v79nxdu0L4lnriPEOPSqHnQKlhJEhsZb8ci3ZLZgGtzRA2z26tx8hvCfF24R0gOfWrjW4FYZe8rEg20ElI4Sqsi7hpV6ITYynXmYxBqNZ2Q5qr8AFP1coAQafexjU1yr8QPBlEgTcL89\"\n",
      "<!DOCTYPE HTML>\n",
      "<html>\n",
      "\n",
      "<head>\n",
      "\n",
      "    <meta charset=\"utf-8\">\n",
      "\n",
      "    <title>Jupyter Server</title>\n",
      "    <link id=\"favicon\" rel=\"shortcut icon\" type=\"image/x-icon\" href=\"/notebooks/proxy/static/favicon.ico?v=50afa725b5de8b00030139d09b38620224d4e7dba47c07ef0e86d4643f30c9bfe6bb7e1a4a1c561aa32834480909a4b6fe7cd1e17f7159330b6b5914bf45a880\">\n",
      "    \n",
      "    <link rel=\"stylesheet\" href=\"/notebooks/proxy/static/style/bootstrap.min.css?v=0e8a7fbd6de23ad6b27ab95802a0a0915af6693af612bc304d83af445529ce5d95842309ca3405d10f538d45c8a3a261b8cff78b4bd512dd9effb4109a71d0ab\" />\n",
      "    <link rel=\"stylesheet\" href=\"/notebooks/proxy/static/style/bootstrap-theme.min.css?v=8b2f045cb5b4d5ad346f6e816aa2566829a4f5f2783ec31d80d46a57de8ac0c3d21fe6e53bcd8e1f38ac17fcd06d12088bc9b43e23b5d1da52d10c6b717b22b3\" />\n",
      "    <link rel=\"stylesheet\" href=\"/notebooks/proxy/static/style/index.css?v=30372e3246a801d662cf9e3f9dd656fa192eebde9054a2282449fe43919de9f0ee9b745d7eb49d3b0a5e56357912cc7d776390eddcab9dac85b77bdb17b4bdae\" />\n",
      "    <meta http-equiv=\"X-UA-Compatible\" content=\"IE=edge\" />\n",
      "    <meta name=\"viewport\" content=\"width=device-width, initial-scale=1.0\">\n",
      "\n",
      "    \n",
      "\n",
      "    \n",
      "<style type=\"text/css\">\n",
      "    /* disable initial hide */\n",
      "    div#header,\n",
      "    div#site {\n",
      "        display: block;\n",
      "    }\n",
      "</style>\n",
      "\n",
      "\n",
      "    \n",
      "    \n",
      "\n",
      "</head>\n",
      "\n",
      "<body class=\"\"    dir=\"ltr\">\n",
      "\n",
      "  <noscript>\n",
      "    <div id='noscript'>\n",
      "      Jupyter Server requires JavaScript.<br>\n",
      "      Please enable it to proceed. \n",
      "    </div>\n",
      "  </noscript>\n",
      "\n",
      "  <div id=\"header\" role=\"navigation\" aria-label=\"Top Menu\">\n",
      "    <div id=\"header-container\" class=\"container\">\n",
      "      <div id=\"jupyter_server\" class=\"nav navbar-brand\"><a href=\"/notebooks/proxy/tree\" title='dashboard'>\n",
      "          <img src='/notebooks/proxy/static/logo/logo.png?v=a2a176ee3cee251ffddf5fa21fe8e43727a9e5f87a06f9c91ad7b776d9e9d3d5e0159c16cc188a3965e00375fb4bc336c16067c688f5040c0c2d4bfdb852a9e4' alt='Jupyter Server' />\n",
      "        </a></div>\n",
      "\n",
      "      \n",
      "      \n",
      "\n",
      "      \n",
      "      \n",
      "\n",
      "    </div>\n",
      "    <div class=\"header-bar\"></div>\n",
      "\n",
      "    \n",
      "    \n",
      "  </div>\n",
      "\n",
      "  <div id=\"site\">\n",
      "    \n",
      "\n",
      "<div class=\"error\">\n",
      "    \n",
      "    <h1>404 : Not Found</h1>\n",
      "    \n",
      "    \n",
      "<p>You are requesting a page that does not exist!</p>\n",
      "\n",
      "</div>\n",
      "\n",
      "\n",
      "  </div>\n",
      "\n",
      "  \n",
      "  \n",
      "\n",
      "  \n",
      "\n",
      "\n",
      "  <script type='text/javascript'>\n",
      "    function _remove_token_from_url() {\n",
      "      if (window.location.search.length <= 1) {\n",
      "        return;\n",
      "      }\n",
      "      var search_parameters = window.location.search.slice(1).split('&');\n",
      "      for (var i = 0; i < search_parameters.length; i++) {\n",
      "        if (search_parameters[i].split('=')[0] === 'token') {\n",
      "          // remote token from search parameters\n",
      "          search_parameters.splice(i, 1);\n",
      "          var new_search = '';\n",
      "          if (search_parameters.length) {\n",
      "            new_search = '?' + search_parameters.join('&');\n",
      "          }\n",
      "          var new_url = window.location.origin +\n",
      "            window.location.pathname +\n",
      "            new_search +\n",
      "            window.location.hash;\n",
      "          window.history.replaceState({}, \"\", new_url);\n",
      "          return;\n",
      "        }\n",
      "      }\n",
      "    }\n",
      "    _remove_token_from_url();\n",
      "  </script>\n",
      "</body>\n",
      "\n",
      "</html>\n"
     ]
    }
   ],
   "source": [
    "token = f'\\\"{token_extract}\\\"'\n",
    "headers = {'Authorization': f'Snowflake Token={token}'}\n",
    "# Set this to the ingress endpoint URL for your service\n",
    "url = 'https://olzqgcbb-zqiseam-ltimosaic.snowflakecomputing.app/notebooks/proxy/tree?'\n",
    "\n",
    "\n",
    "print(token)\n",
    "# Validate the connection.\n",
    "response = requests.get(f'{url}', headers=headers)\n",
    "print(response.text)\n",
    "\n",
    "# Insert your code to interact with the application here"
   ]
  },
  {
   "cell_type": "code",
   "execution_count": null,
   "id": "18875ef4-c781-41e6-9c7e-35aba91a699d",
   "metadata": {},
   "outputs": [],
   "source": []
  },
  {
   "cell_type": "code",
   "execution_count": null,
   "id": "c2bf6d02-ec3b-4c48-8a2c-a5ff1c47d032",
   "metadata": {},
   "outputs": [],
   "source": []
  },
  {
   "cell_type": "code",
   "execution_count": null,
   "id": "dc7bc47c-cb22-447a-aed4-c25f4625e2a7",
   "metadata": {},
   "outputs": [],
   "source": []
  },
  {
   "cell_type": "code",
   "execution_count": null,
   "id": "1a17b25f-0206-4f8f-856b-56ac928ec7ca",
   "metadata": {},
   "outputs": [],
   "source": []
  },
  {
   "cell_type": "code",
   "execution_count": 4,
   "id": "5c137697-bd4c-4f51-8bcc-36df5e4de06a",
   "metadata": {},
   "outputs": [
    {
     "data": {
      "text/plain": [
       "{'Authorization': 'Snowflake Token=\"ver:1-hint:32355341568905222-ETMsDgAAAZHG+TaoABRBRVMvQ0JDL1BLQ1M1UGFkZGluZwEAABAAENlWjYID7pv4rLCxzywtT6QAAACA+sIDyngtaXZMtqvZK1ZN1jyYF0z6/D1+6Fw2PEIOJfvEZCi2qUm3UGcuc1QfaqUx1grW3r24O7fffCb9jkvT8ENuFo5k9U94eJC4NzBJ2yuBymNgrHqdWC0L2Iolt+OMfAY3TkSfvAj5psvsqlQIxZmjMS1dCMNAoYQAz1gwJVQAFJGObTvhD1ffTfoA+bBMAK6G/7jC\"'}"
      ]
     },
     "execution_count": 4,
     "metadata": {},
     "output_type": "execute_result"
    }
   ],
   "source": [
    "headers"
   ]
  },
  {
   "cell_type": "code",
   "execution_count": null,
   "id": "6fa3a91a-1c87-4eee-985a-d1cb7cf73492",
   "metadata": {},
   "outputs": [],
   "source": [
    "import snowflake.connector"
   ]
  }
 ],
 "metadata": {
  "kernelspec": {
   "display_name": "Python 3 (ipykernel)",
   "language": "python",
   "name": "python3"
  },
  "language_info": {
   "codemirror_mode": {
    "name": "ipython",
    "version": 3
   },
   "file_extension": ".py",
   "mimetype": "text/x-python",
   "name": "python",
   "nbconvert_exporter": "python",
   "pygments_lexer": "ipython3",
   "version": "3.9.19"
  }
 },
 "nbformat": 4,
 "nbformat_minor": 5
}
