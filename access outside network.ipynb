{
 "cells": [
  {
   "cell_type": "code",
   "execution_count": 1,
   "id": "ab5edc61-d5f2-4032-8c47-eae329277bf5",
   "metadata": {},
   "outputs": [
    {
     "data": {
      "text/plain": [
       "{'Authorization': 'Snowflake Token=\"ver:1-hint:14544919635812358-ETMsDgAAAZJDgHFAABRBRVMvQ0JDL1BLQ1M1UGFkZGluZwEAABAAECHT+9oNGhsztBzJCEHYqRQAAACAjtnV1K9id9VexrLS8AJCTITWNpjCcPp1BTJNDDAu9+XL24kKk1KxCKNAH8CeGHWQ9Ywr2M51Ryl0lh/rQkl7Rykfba5uHjXU6q2el4tkOBAQX1IYuZZb+cumO1k0zQY2QjCqm00vjpckXNqdRl36KB6kbXWps4XAAu+yZl97lGAAFOgWrowSnkZwMmEXmILCMUsQDdY+\"'}"
      ]
     },
     "execution_count": 1,
     "metadata": {},
     "output_type": "execute_result"
    }
   ],
   "source": [
    "import snowflake.connector\n",
    "import requests\n",
    "import snowflake\n",
    "ctx = snowflake.connector.connect(\n",
    "   user=\"AAVESH\",# username\n",
    "   password=\"Panchi@0410\", # insert password here\n",
    "   account=\"rwb76633\",\n",
    "   session_parameters={\n",
    "      'PYTHON_CONNECTOR_QUERY_RESULT_FORMAT': 'json'\n",
    "   })\n",
    "\n",
    "# # Obtain a session token.\n",
    "token_data = ctx._rest._token_request('ISSUE')\n",
    "token_extract = token_data['data']['sessionToken']\n",
    "token = f'\\\"{token_extract}\\\"'\n",
    "headers = {'Authorization': f'Snowflake Token={token}'}\n",
    "headers"
   ]
  },
  {
   "cell_type": "code",
   "execution_count": null,
   "id": "b872302d-c67d-4ba2-93a3-d85e27fa9e53",
   "metadata": {},
   "outputs": [],
   "source": []
  },
  {
   "cell_type": "code",
   "execution_count": null,
   "id": "578b4371-20c5-40aa-8ff6-fcebe6503e42",
   "metadata": {},
   "outputs": [],
   "source": [
    "headers"
   ]
  },
  {
   "cell_type": "code",
   "execution_count": null,
   "id": "19f0e316-1f85-4e47-83e1-0fadb456b448",
   "metadata": {},
   "outputs": [],
   "source": [
    "!pip install fosforml"
   ]
  }
 ],
 "metadata": {
  "kernelspec": {
   "display_name": "Python 3 (ipykernel)",
   "language": "python",
   "name": "python3"
  },
  "language_info": {
   "codemirror_mode": {
    "name": "ipython",
    "version": 3
   },
   "file_extension": ".py",
   "mimetype": "text/x-python",
   "name": "python",
   "nbconvert_exporter": "python",
   "pygments_lexer": "ipython3",
   "version": "3.9.19"
  }
 },
 "nbformat": 4,
 "nbformat_minor": 5
}
