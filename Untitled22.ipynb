{
 "cells": [
  {
   "cell_type": "code",
   "execution_count": null,
   "id": "4ea498a5-e3dd-4a0f-8ee6-9160b5b57224",
   "metadata": {},
   "outputs": [],
   "source": []
  }
 ],
 "metadata": {
  "kernelspec": {
   "display_name": "",
   "name": ""
  },
  "language_info": {
   "name": ""
  }
 },
 "nbformat": 4,
 "nbformat_minor": 5
}
