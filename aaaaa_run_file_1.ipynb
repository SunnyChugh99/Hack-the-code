{
 "cells": [
  {
   "cell_type": "code",
   "execution_count": 1,
   "id": "cc4a3a54",
   "metadata": {},
   "outputs": [
    {
     "name": "stdout",
     "output_type": "stream",
     "text": [
      "*----------------------------------2*\n"
     ]
    }
   ],
   "source": [
    "import os\n",
    "\n",
    "# Print a separator for clarity.\n",
    "print('*----------------------------------2*')"
   ]
  },
  {
   "cell_type": "code",
   "execution_count": 2,
   "id": "846fab68",
   "metadata": {},
   "outputs": [
    {
     "name": "stdout",
     "output_type": "stream",
     "text": [
      "os.environ['FDC_TEST'] not availble\n",
      "*RUN COMPLETE-----------------------*\n"
     ]
    }
   ],
   "source": [
    "# Access and print the 'HOME' environment variable.\n",
    "try:\n",
    "  print(os.environ['FDC_TEST'])\n",
    "except:\n",
    "  print(\"os.environ['FDC_TEST'] not availble\")\n",
    "\n",
    "print('*RUN COMPLETE-----------------------*')"
   ]
  },
  {
   "cell_type": "code",
   "execution_count": 3,
   "id": "08b78449",
   "metadata": {},
   "outputs": [
    {
     "ename": "ModuleNotFoundError",
     "evalue": "No module named 'fdc_connector_python_sdk'",
     "output_type": "error",
     "traceback": [
      "\u001b[0;31m---------------------------------------------------------------------------\u001b[0m",
      "\u001b[0;31mModuleNotFoundError\u001b[0m                       Traceback (most recent call last)",
      "Cell \u001b[0;32mIn[3], line 2\u001b[0m\n\u001b[1;32m      1\u001b[0m \u001b[38;5;28;01mimport\u001b[39;00m \u001b[38;5;21;01mfosforml\u001b[39;00m\n\u001b[0;32m----> 2\u001b[0m \u001b[38;5;28;01mfrom\u001b[39;00m \u001b[38;5;21;01mfdc_connector_python_sdk\u001b[39;00m\u001b[38;5;21;01m.\u001b[39;00m\u001b[38;5;21;01mfactory\u001b[39;00m\u001b[38;5;21;01m.\u001b[39;00m\u001b[38;5;21;01mconnectorFactory\u001b[39;00m \u001b[38;5;28;01mimport\u001b[39;00m ConnectionFactory\n\u001b[1;32m      3\u001b[0m \u001b[38;5;28;01mimport\u001b[39;00m \u001b[38;5;21;01msys\u001b[39;00m\n\u001b[1;32m      5\u001b[0m \u001b[38;5;28mprint\u001b[39m(\u001b[38;5;124mf\u001b[39m\u001b[38;5;124m'\u001b[39m\u001b[38;5;124m*Import working with - \u001b[39m\u001b[38;5;132;01m{\u001b[39;00msys\u001b[38;5;241m.\u001b[39mversion\u001b[38;5;132;01m}\u001b[39;00m\u001b[38;5;124m---------------*\u001b[39m\u001b[38;5;124m'\u001b[39m)\n",
      "\u001b[0;31mModuleNotFoundError\u001b[0m: No module named 'fdc_connector_python_sdk'"
     ]
    }
   ],
   "source": [
    "import fosforml\n",
    "from fdc_connector_python_sdk.factory.connectorFactory import ConnectionFactory\n",
    "import sys\n",
    "\n",
    "print(f'*Import working with - {sys.version}---------------*')"
   ]
  },
  {
   "cell_type": "code",
   "execution_count": null,
   "id": "505a4431",
   "metadata": {},
   "outputs": [],
   "source": []
  }
 ],
 "metadata": {
  "kernelspec": {
   "display_name": "Python 3",
   "language": "python",
   "name": "python3"
  },
  "language_info": {
   "codemirror_mode": {
    "name": "ipython",
    "version": 3
   },
   "file_extension": ".py",
   "mimetype": "text/x-python",
   "name": "python",
   "nbconvert_exporter": "python",
   "pygments_lexer": "ipython3",
   "version": "3.9.20"
  }
 },
 "nbformat": 4,
 "nbformat_minor": 5
}
