{
 "cells": [
  {
   "cell_type": "code",
   "execution_count": 1,
   "id": "cc4a3a54",
   "metadata": {},
   "outputs": [
    {
     "name": "stdout",
     "output_type": "stream",
     "text": [
      "*----------------------------------*\n"
     ]
    }
   ],
   "source": [
    "import os\n",
    "\n",
    "# Print a separator for clarity.\n",
    "print('*----------------------------------*')"
   ]
  },
  {
   "cell_type": "code",
   "execution_count": null,
   "id": "846fab68",
   "metadata": {},
   "outputs": [
    {
     "name": "stdout",
     "output_type": "stream",
     "text": [
      "<feast.feature_store.FeatureStore object at 0x7fe4390abb50>\n"
     ]
    }
   ],
   "source": [
    "# Access and print the 'HOME' environment variable.\n",
    "try:\n",
    "  print(os.environ['FDC_TEST'])\n",
    "except:\n",
    "  print(\"os.environ['FDC_TEST'] not availble\")\n",
    "\n",
    "print('*RUN COMPLETE-----------------------*')"
   ]
  },
  {
   "cell_type": "code",
   "execution_count": null,
   "id": "08b78449",
   "metadata": {},
   "outputs": [],
   "source": [
    "import fosforml\n",
    "from fdc_connector_python_sdk.factory.connectorFactory import ConnectionFactory\n",
    "import sys\n",
    "\n",
    "print(f'*Import working with - {sys.version}---------------*')"
   ]
  }
 ],
 "metadata": {
  "kernelspec": {
   "display_name": "Python 3",
   "language": "python",
   "name": "python3"
  },
  "language_info": {
   "codemirror_mode": {
    "name": "ipython",
    "version": 3
   },
   "file_extension": ".py",
   "mimetype": "text/x-python",
   "name": "python",
   "nbconvert_exporter": "python",
   "pygments_lexer": "ipython3",
   "version": "3.9.20"
  }
 },
 "nbformat": 4,
 "nbformat_minor": 5
}
