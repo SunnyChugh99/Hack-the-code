{
 "cells": [
  {
   "cell_type": "code",
   "execution_count": null,
   "id": "cc4a3a54",
   "metadata": {},
   "outputs": [
    {
     "name": "stdout",
     "output_type": "stream",
     "text": [
      "Connection manager service url initialised to http://fdc-project-manager:80/project-manager\n",
      "If you need to update its value then update the variable CONNECTION_MANAGER_BASE_URL in os env.\n",
      "Feast is an open source project that collects anonymized error reporting and usage statistics. To opt out or learn more see https://docs.feast.dev/reference/usage\n"
     ]
    }
   ],
   "source": [
    "import os\n",
    "\n",
    "# Print a separator for clarity.\n",
    "print('*----------------------------------*')"
   ]
  },
  {
   "cell_type": "code",
   "execution_count": null,
   "id": "846fab68",
   "metadata": {},
   "outputs": [
    {
     "name": "stdout",
     "output_type": "stream",
     "text": [
      "<feast.feature_store.FeatureStore object at 0x7fe4390abb50>\n"
     ]
    }
   ],
   "source": [
    "# Access and print the 'HOME' environment variable.\n",
    "try:\n",
    "  print(os.environ['FDC_TEST'])\n",
    "except:\n",
    "  print(\"os.environ['FDC_TEST'] not availble\")\n",
    "\n",
    "print('*RUN COMPLETE-----------------------*')"
   ]
  },
  {
   "cell_type": "code",
   "execution_count": null,
   "id": "08b78449",
   "metadata": {},
   "outputs": [],
   "source": [
    "import fosforml\n",
    "from fdc_connector_python_sdk.factory.connectorFactory import ConnectionFactory\n",
    "import sys\n",
    "\n",
    "print(f'*Import working with - {sys.version}---------------*')"
   ]
  }
 ],
 "metadata": {
  "kernelspec": {
   "display_name": "Python 3",
   "language": "python",
   "name": "python3"
  },
  "language_info": {
   "codemirror_mode": {
    "name": "ipython",
    "version": 3
   },
   "file_extension": ".py",
   "mimetype": "text/x-python",
   "name": "python",
   "nbconvert_exporter": "python",
   "pygments_lexer": "ipython3",
   "version": "3.9.20"
  }
 },
 "nbformat": 4,
 "nbformat_minor": 5
}
