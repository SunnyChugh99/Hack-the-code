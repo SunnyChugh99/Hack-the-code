{
 "cells": [
  {
   "cell_type": "code",
   "execution_count": 2,
   "id": "ca4c8f58-fc6f-4962-a7ef-cd86a0150759",
   "metadata": {},
   "outputs": [
    {
     "name": "stdout",
     "output_type": "stream",
     "text": [
      "21\n"
     ]
    }
   ],
   "source": [
    "print('22')"
   ]
  },
  {
   "cell_type": "code",
   "execution_count": 3,
   "id": "316e4057-47cc-4814-9e49-5f7e9cc75fe6",
   "metadata": {},
   "outputs": [
    {
     "name": "stdout",
     "output_type": "stream",
     "text": [
      "22\n"
     ]
    }
   ],
   "source": [
    "print('2')"
   ]
  },
  {
   "cell_type": "code",
   "execution_count": 4,
   "id": "a14948eb-77af-45e7-b123-cdf70eda2d4f",
   "metadata": {},
   "outputs": [
    {
     "name": "stdout",
     "output_type": "stream",
     "text": [
      "23\n"
     ]
    }
   ],
   "source": [
    "print('23')"
   ]
  },
  {
   "cell_type": "code",
   "execution_count": 5,
   "id": "ee5804bd-8d8e-44c3-b6bc-133d82ab6ab5",
   "metadata": {},
   "outputs": [
    {
     "name": "stdout",
     "output_type": "stream",
     "text": [
      "24\n"
     ]
    }
   ],
   "source": [
    "print('24')"
   ]
  },
  {
   "cell_type": "code",
   "execution_count": null,
   "id": "e673cd4d-ce96-4895-b2bd-ba966d47d3f1",
   "metadata": {},
   "outputs": [],
   "source": [
    "print('601 auto')"
   ]
  },
  {
   "cell_type": "code",
   "execution_count": 2,
   "id": "492267f0-9bbd-469f-8069-aaff8a4653d2",
   "metadata": {},
   "outputs": [
    {
     "name": "stdout",
     "output_type": "stream",
     "text": [
      "618 auto\n"
     ]
    }
   ],
   "source": [
    "print('618 auto')"
   ]
  },
  {
   "cell_type": "code",
   "execution_count": null,
   "id": "1abe34c3-6ee4-4ce9-afd7-ade57f2cb7df",
   "metadata": {},
   "outputs": [],
   "source": []
  }
 ],
 "metadata": {
  "kernelspec": {
   "display_name": "Python 3",
   "language": "python",
   "name": "python3"
  },
  "language_info": {
   "codemirror_mode": {
    "name": "ipython",
    "version": 3
   },
   "file_extension": ".py",
   "mimetype": "text/x-python",
   "name": "python",
   "nbconvert_exporter": "python",
   "pygments_lexer": "ipython3",
   "version": "3.8.18"
  }
 },
 "nbformat": 4,
 "nbformat_minor": 5
}
