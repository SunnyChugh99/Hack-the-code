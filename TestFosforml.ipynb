{
 "cells": [
  {
   "cell_type": "code",
   "execution_count": 1,
   "id": "29c38d84-e71f-477c-ae2f-6d490239c172",
   "metadata": {},
   "outputs": [
    {
     "ename": "ModuleNotFoundError",
     "evalue": "No module named 'fosforml'",
     "output_type": "error",
     "traceback": [
      "\u001b[0;31m---------------------------------------------------------------------------\u001b[0m",
      "\u001b[0;31mModuleNotFoundError\u001b[0m                       Traceback (most recent call last)",
      "Cell \u001b[0;32mIn[1], line 1\u001b[0m\n\u001b[0;32m----> 1\u001b[0m \u001b[38;5;28;01mimport\u001b[39;00m \u001b[38;5;21;01mfosforml\u001b[39;00m\n",
      "\u001b[0;31mModuleNotFoundError\u001b[0m: No module named 'fosforml'"
     ]
    }
   ],
   "source": [
    "import fosforml"
   ]
  },
  {
   "cell_type": "code",
   "execution_count": 6,
   "id": "7bbe3e89-51a4-4058-a7cb-9a3ba85ab626",
   "metadata": {},
   "outputs": [],
   "source": [
    "from OpenSSL import crypto"
   ]
  },
  {
   "cell_type": "code",
   "execution_count": 7,
   "id": "c462f8a7-ebd0-458a-8802-fb4291a2078e",
   "metadata": {},
   "outputs": [
    {
     "name": "stdout",
     "output_type": "stream",
     "text": [
      "Name: pyOpenSSL\n",
      "Version: 24.0.0\n",
      "Summary: Python wrapper module around the OpenSSL library\n",
      "Home-page: https://pyopenssl.org/\n",
      "Author: The pyOpenSSL developers\n",
      "Author-email: cryptography-dev@python.org\n",
      "License: Apache License, Version 2.0\n",
      "Location: /opt/conda/lib/python3.9/site-packages\n",
      "Requires: cryptography\n",
      "Required-by: \n"
     ]
    }
   ],
   "source": [
    "!pip show pyOpenSSL"
   ]
  },
  {
   "cell_type": "code",
   "execution_count": 2,
   "id": "18f66d97-51f2-4bd6-ba4d-d4428c920792",
   "metadata": {},
   "outputs": [
    {
     "name": "stdout",
     "output_type": "stream",
     "text": [
      "\u001b[33mWARNING: Package(s) not found: fosforml\u001b[0m\n"
     ]
    }
   ],
   "source": [
    "!pip show fosforml"
   ]
  },
  {
   "cell_type": "code",
   "execution_count": 3,
   "id": "77b183d1-aa5b-40c4-a091-ae75cdaf0569",
   "metadata": {},
   "outputs": [
    {
     "ename": "ModuleNotFoundError",
     "evalue": "No module named 'sklearn'",
     "output_type": "error",
     "traceback": [
      "\u001b[0;31m---------------------------------------------------------------------------\u001b[0m",
      "\u001b[0;31mModuleNotFoundError\u001b[0m                       Traceback (most recent call last)",
      "Cell \u001b[0;32mIn[3], line 1\u001b[0m\n\u001b[0;32m----> 1\u001b[0m \u001b[38;5;28;01mimport\u001b[39;00m \u001b[38;5;21;01msklearn\u001b[39;00m\n",
      "\u001b[0;31mModuleNotFoundError\u001b[0m: No module named 'sklearn'"
     ]
    }
   ],
   "source": [
    "import sklearn"
   ]
  },
  {
   "cell_type": "code",
   "execution_count": null,
   "id": "ef6700de-999c-4500-af19-70c89bf313b1",
   "metadata": {},
   "outputs": [],
   "source": [
    "print(sklearn.__version__)"
   ]
  },
  {
   "cell_type": "code",
   "execution_count": 4,
   "id": "0b83915a-9d6b-4362-b09a-90c7790ad93c",
   "metadata": {},
   "outputs": [
    {
     "name": "stdout",
     "output_type": "stream",
     "text": [
      "\u001b[33mWARNING: Package(s) not found: scikit-learn\u001b[0m\n"
     ]
    }
   ],
   "source": [
    "!pip show scikit-learn"
   ]
  },
  {
   "cell_type": "code",
   "execution_count": null,
   "id": "2563dc73-8d0f-49ca-9417-598f2462d006",
   "metadata": {},
   "outputs": [],
   "source": [
    "import numpy"
   ]
  },
  {
   "cell_type": "code",
   "execution_count": null,
   "id": "1235b27f-ae56-42e4-9d2a-b9098cbd96ae",
   "metadata": {},
   "outputs": [],
   "source": [
    "print(numpy.__version__)"
   ]
  },
  {
   "cell_type": "code",
   "execution_count": null,
   "id": "f23878af-260b-4316-b139-5240f195cb06",
   "metadata": {},
   "outputs": [],
   "source": [
    "!pip show numpy"
   ]
  },
  {
   "cell_type": "code",
   "execution_count": null,
   "id": "a680b85b-f4d8-4d51-b2aa-57bdbd050e23",
   "metadata": {},
   "outputs": [],
   "source": [
    "# import os"
   ]
  },
  {
   "cell_type": "code",
   "execution_count": null,
   "id": "2e721d79-354a-4f76-84ef-35c279beed88",
   "metadata": {},
   "outputs": [],
   "source": [
    "# print(os.environ.get(\"Secure\"))"
   ]
  },
  {
   "cell_type": "code",
   "execution_count": null,
   "id": "8263df86-bbed-41dd-94cb-bf9787df8a08",
   "metadata": {},
   "outputs": [],
   "source": [
    "# print(os.environ.get(\"NonSecure\"))"
   ]
  },
  {
   "cell_type": "code",
   "execution_count": null,
   "id": "337f15c3-fb2f-406f-b853-c3fcc8a3dbb5",
   "metadata": {},
   "outputs": [],
   "source": []
  }
 ],
 "metadata": {
  "kernelspec": {
   "display_name": "Python 3 (ipykernel)",
   "language": "python",
   "name": "python3"
  },
  "language_info": {
   "codemirror_mode": {
    "name": "ipython",
    "version": 3
   },
   "file_extension": ".py",
   "mimetype": "text/x-python",
   "name": "python",
   "nbconvert_exporter": "python",
   "pygments_lexer": "ipython3",
   "version": "3.9.19"
  }
 },
 "nbformat": 4,
 "nbformat_minor": 5
}
