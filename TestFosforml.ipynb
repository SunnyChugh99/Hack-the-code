{
 "cells": [
  {
   "cell_type": "code",
   "execution_count": 1,
   "id": "29c38d84-e71f-477c-ae2f-6d490239c172",
   "metadata": {},
   "outputs": [],
   "source": [
    "import fosforml"
   ]
  },
  {
   "cell_type": "code",
   "execution_count": 2,
   "id": "18f66d97-51f2-4bd6-ba4d-d4428c920792",
   "metadata": {},
   "outputs": [
    {
     "name": "stdout",
     "output_type": "stream",
     "text": [
      "Name: fosforml\n",
      "Version: 1.1.8a0\n",
      "Summary: A Python package for registering machine learning models directly to the Snowflake Model Registry, leveraging Snowflake ML capabilities.\n",
      "Home-page: https://gitlab.fosfor.com/fosfor-decision-cloud/intelligence/refract-sdk.git\n",
      "Author: Mahesh Gadipea\n",
      "Author-email: mahesh.gadipea@fosfor.com\n",
      "License: None\n",
      "Location: /opt/conda/lib/python3.9/site-packages\n",
      "Requires: cloudpickle, snowflake-ml-python, scikit-learn\n",
      "Required-by: \n"
     ]
    }
   ],
   "source": [
    "!pip show fosforml"
   ]
  }
 ],
 "metadata": {
  "kernelspec": {
   "display_name": "Python 3 (ipykernel)",
   "language": "python",
   "name": "python3"
  },
  "language_info": {
   "codemirror_mode": {
    "name": "ipython",
    "version": 3
   },
   "file_extension": ".py",
   "mimetype": "text/x-python",
   "name": "python",
   "nbconvert_exporter": "python",
   "pygments_lexer": "ipython3",
   "version": "3.9.19"
  }
 },
 "nbformat": 4,
 "nbformat_minor": 5
}
