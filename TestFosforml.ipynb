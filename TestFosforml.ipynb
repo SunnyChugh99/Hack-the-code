{
 "cells": [
  {
   "cell_type": "code",
   "execution_count": 1,
   "id": "29c38d84-e71f-477c-ae2f-6d490239c172",
   "metadata": {},
   "outputs": [
    {
     "ename": "ModuleNotFoundError",
     "evalue": "No module named 'fosforml'",
     "output_type": "error",
     "traceback": [
      "\u001b[0;31m---------------------------------------------------------------------------\u001b[0m",
      "\u001b[0;31mModuleNotFoundError\u001b[0m                       Traceback (most recent call last)",
      "Cell \u001b[0;32mIn[1], line 1\u001b[0m\n\u001b[0;32m----> 1\u001b[0m \u001b[38;5;28;01mimport\u001b[39;00m \u001b[38;5;21;01mfosforml\u001b[39;00m\n",
      "\u001b[0;31mModuleNotFoundError\u001b[0m: No module named 'fosforml'"
     ]
    }
   ],
   "source": [
    "# import fosforml"
   ]
  },
  {
   "cell_type": "code",
   "execution_count": 2,
   "id": "118ed47f-1216-4783-9952-18dec5d1e4c4",
   "metadata": {},
   "outputs": [
    {
     "name": "stdout",
     "output_type": "stream",
     "text": [
      "Name: presidio-analyzer\n",
      "Version: 2.2.355\n",
      "Summary: Presidio Analyzer package\n",
      "Home-page: None\n",
      "Author: Presidio\n",
      "Author-email: presidio@microsoft.com\n",
      "License: MIT\n",
      "Location: /opt/conda/lib/python3.9/site-packages\n",
      "Requires: tldextract, phonenumbers, spacy, pyyaml, regex\n",
      "Required-by: \n"
     ]
    }
   ],
   "source": [
    "!pip show presidio-analyzer"
   ]
  },
  {
   "cell_type": "code",
   "execution_count": 1,
   "id": "ae8c8a36-84d5-45e0-bf2a-a97ea0369044",
   "metadata": {},
   "outputs": [
    {
     "name": "stdout",
     "output_type": "stream",
     "text": [
      "Collecting en-core-web-lg==3.8.0\n",
      "  Downloading https://github.com/explosion/spacy-models/releases/download/en_core_web_lg-3.8.0/en_core_web_lg-3.8.0-py3-none-any.whl (400.7MB)\n",
      "Installing collected packages: en-core-web-lg\n",
      "Successfully installed en-core-web-lg-3.8.0\n",
      "\u001b[38;5;2m✔ Download and installation successful\u001b[0m\n",
      "You can now load the package via spacy.load('en_core_web_lg')\n",
      "\u001b[38;5;3m⚠ Restart to reload dependencies\u001b[0m\n",
      "If you are in a Jupyter or Colab notebook, you may need to restart Python in\n",
      "order to load all the package's dependencies. You can do this by selecting the\n",
      "'Restart kernel' or 'Restart runtime' option.\n"
     ]
    },
    {
     "name": "stderr",
     "output_type": "stream",
     "text": [
      "WARNING: You are using pip version 19.3.1; however, version 24.3.1 is available.\n",
      "You should consider upgrading via the 'pip install --upgrade pip' command.\n"
     ]
    },
    {
     "name": "stdout",
     "output_type": "stream",
     "text": [
      "[type: PHONE_NUMBER, start: 19, end: 31, score: 0.75]\n"
     ]
    }
   ],
   "source": [
    "from presidio_analyzer import AnalyzerEngine\n",
    "\n",
    "# Set up the engine, loads the NLP module (spaCy model by default) and other PII recognizers\n",
    "analyzer = AnalyzerEngine()\n",
    "\n",
    "# Call analyzer to get results\n",
    "results = analyzer.analyze(text=\"My phone number is 212-555-5555\",\n",
    "                           entities=[\"PHONE_NUMBER\"],\n",
    "                           language='en')\n",
    "print(results)"
   ]
  },
  {
   "cell_type": "code",
   "execution_count": 3,
   "id": "2151162b-6f4c-4e43-8b5b-ad22cf61a5aa",
   "metadata": {},
   "outputs": [
    {
     "name": "stdout",
     "output_type": "stream",
     "text": [
      "Collecting lxml\n",
      "\u001b[?25l  Downloading https://files.pythonhosted.org/packages/d8/5f/9dea130ae3ba77848f4b93d11dfd365085620fb34c5c9d22746227b86952/lxml-5.3.0-cp39-cp39-manylinux_2_17_x86_64.manylinux2014_x86_64.whl (5.0MB)\n",
      "\u001b[K     |████████████████████████████████| 5.0MB 10.5MB/s eta 0:00:01\n",
      "\u001b[?25hInstalling collected packages: lxml\n",
      "Successfully installed lxml-5.3.0\n",
      "\u001b[33mWARNING: You are using pip version 19.3.1; however, version 24.3.1 is available.\n",
      "You should consider upgrading via the 'pip install --upgrade pip' command.\u001b[0m\n"
     ]
    }
   ],
   "source": [
    "!pip install lxml"
   ]
  },
  {
   "cell_type": "code",
   "execution_count": 2,
   "id": "18f66d97-51f2-4bd6-ba4d-d4428c920792",
   "metadata": {},
   "outputs": [
    {
     "name": "stdout",
     "output_type": "stream",
     "text": [
      "\u001b[33mWARNING: Package(s) not found: fosforml\u001b[0m\n"
     ]
    }
   ],
   "source": [
    "# !pip show fosforml"
   ]
  },
  {
   "cell_type": "code",
   "execution_count": 3,
   "id": "77b183d1-aa5b-40c4-a091-ae75cdaf0569",
   "metadata": {},
   "outputs": [
    {
     "ename": "ModuleNotFoundError",
     "evalue": "No module named 'sklearn'",
     "output_type": "error",
     "traceback": [
      "\u001b[0;31m---------------------------------------------------------------------------\u001b[0m",
      "\u001b[0;31mModuleNotFoundError\u001b[0m                       Traceback (most recent call last)",
      "Cell \u001b[0;32mIn[3], line 1\u001b[0m\n\u001b[0;32m----> 1\u001b[0m \u001b[38;5;28;01mimport\u001b[39;00m \u001b[38;5;21;01msklearn\u001b[39;00m\n",
      "\u001b[0;31mModuleNotFoundError\u001b[0m: No module named 'sklearn'"
     ]
    }
   ],
   "source": [
    "# import sklearn"
   ]
  },
  {
   "cell_type": "code",
   "execution_count": null,
   "id": "ef6700de-999c-4500-af19-70c89bf313b1",
   "metadata": {},
   "outputs": [],
   "source": [
    "# print(sklearn.__version__)"
   ]
  },
  {
   "cell_type": "code",
   "execution_count": 4,
   "id": "0b83915a-9d6b-4362-b09a-90c7790ad93c",
   "metadata": {},
   "outputs": [
    {
     "name": "stdout",
     "output_type": "stream",
     "text": [
      "\u001b[33mWARNING: Package(s) not found: scikit-learn\u001b[0m\n"
     ]
    }
   ],
   "source": [
    "# !pip show scikit-learn"
   ]
  },
  {
   "cell_type": "code",
   "execution_count": null,
   "id": "2563dc73-8d0f-49ca-9417-598f2462d006",
   "metadata": {},
   "outputs": [],
   "source": [
    "# import numpy"
   ]
  },
  {
   "cell_type": "code",
   "execution_count": null,
   "id": "1235b27f-ae56-42e4-9d2a-b9098cbd96ae",
   "metadata": {},
   "outputs": [],
   "source": [
    "# print(numpy.__version__)"
   ]
  },
  {
   "cell_type": "code",
   "execution_count": null,
   "id": "f23878af-260b-4316-b139-5240f195cb06",
   "metadata": {},
   "outputs": [],
   "source": [
    "# !pip show numpy"
   ]
  },
  {
   "cell_type": "code",
   "execution_count": null,
   "id": "a680b85b-f4d8-4d51-b2aa-57bdbd050e23",
   "metadata": {},
   "outputs": [],
   "source": [
    "# import os"
   ]
  },
  {
   "cell_type": "code",
   "execution_count": null,
   "id": "2e721d79-354a-4f76-84ef-35c279beed88",
   "metadata": {},
   "outputs": [],
   "source": [
    "# print(os.environ.get(\"Secure\"))"
   ]
  },
  {
   "cell_type": "code",
   "execution_count": null,
   "id": "8263df86-bbed-41dd-94cb-bf9787df8a08",
   "metadata": {},
   "outputs": [],
   "source": [
    "# print(os.environ.get(\"NonSecure\"))"
   ]
  },
  {
   "cell_type": "code",
   "execution_count": null,
   "id": "337f15c3-fb2f-406f-b853-c3fcc8a3dbb5",
   "metadata": {},
   "outputs": [],
   "source": []
  }
 ],
 "metadata": {
  "kernelspec": {
   "display_name": "Python 3 (ipykernel)",
   "language": "python",
   "name": "python3"
  },
  "language_info": {
   "codemirror_mode": {
    "name": "ipython",
    "version": 3
   },
   "file_extension": ".py",
   "mimetype": "text/x-python",
   "name": "python",
   "nbconvert_exporter": "python",
   "pygments_lexer": "ipython3",
   "version": "3.9.19"
  }
 },
 "nbformat": 4,
 "nbformat_minor": 5
}
