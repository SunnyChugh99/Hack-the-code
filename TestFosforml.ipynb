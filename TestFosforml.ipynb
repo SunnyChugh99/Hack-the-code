{
 "cells": [
  {
   "cell_type": "code",
   "execution_count": null,
   "id": "694655f3-4d73-4a48-971a-a0c68b8e8649",
   "metadata": {},
   "outputs": [],
   "source": [
    "!sleep 300"
   ]
  },
  {
   "cell_type": "code",
   "execution_count": 1,
   "id": "29c38d84-e71f-477c-ae2f-6d490239c172",
   "metadata": {},
   "outputs": [],
   "source": [
    "import fosforml"
   ]
  },
  {
   "cell_type": "code",
   "execution_count": 2,
   "id": "18f66d97-51f2-4bd6-ba4d-d4428c920792",
   "metadata": {},
   "outputs": [
    {
     "name": "stdout",
     "output_type": "stream",
     "text": [
      "Name: fosforml\n",
      "Version: 1.1.8a0\n",
      "Summary: A Python package for registering machine learning models directly to the Snowflake Model Registry, leveraging Snowflake ML capabilities.\n",
      "Home-page: https://gitlab.fosfor.com/fosfor-decision-cloud/intelligence/refract-sdk.git\n",
      "Author: Mahesh Gadipea\n",
      "Author-email: mahesh.gadipea@fosfor.com\n",
      "License: None\n",
      "Location: /opt/conda/lib/python3.9/site-packages\n",
      "Requires: cloudpickle, snowflake-ml-python, scikit-learn\n",
      "Required-by: \n"
     ]
    }
   ],
   "source": [
    "!pip show fosforml"
   ]
  },
  {
   "cell_type": "code",
   "execution_count": 3,
   "id": "0b83915a-9d6b-4362-b09a-90c7790ad93c",
   "metadata": {},
   "outputs": [
    {
     "name": "stdout",
     "output_type": "stream",
     "text": [
      "Name: matplotlib\n",
      "Version: 3.9.2\n",
      "Summary: Python plotting package\n",
      "Home-page: None\n",
      "Author: John D. Hunter, Michael Droettboom\n",
      "Author-email: Unknown <matplotlib-users@python.org>\n",
      "License: License agreement for matplotlib versions 1.3.0 and later\n",
      "        =========================================================\n",
      "        \n",
      "        1. This LICENSE AGREEMENT is between the Matplotlib Development Team\n",
      "        (\"MDT\"), and the Individual or Organization (\"Licensee\") accessing and\n",
      "        otherwise using matplotlib software in source or binary form and its\n",
      "        associated documentation.\n",
      "        \n",
      "        2. Subject to the terms and conditions of this License Agreement, MDT\n",
      "        hereby grants Licensee a nonexclusive, royalty-free, world-wide license\n",
      "        to reproduce, analyze, test, perform and/or display publicly, prepare\n",
      "        derivative works, distribute, and otherwise use matplotlib\n",
      "        alone or in any derivative version, provided, however, that MDT's\n",
      "        License Agreement and MDT's notice of copyright, i.e., \"Copyright (c)\n",
      "        2012- Matplotlib Development Team; All Rights Reserved\" are retained in\n",
      "        matplotlib  alone or in any derivative version prepared by\n",
      "        Licensee.\n",
      "        \n",
      "        3. In the event Licensee prepares a derivative work that is based on or\n",
      "        incorporates matplotlib or any part thereof, and wants to\n",
      "        make the derivative work available to others as provided herein, then\n",
      "        Licensee hereby agrees to include in any such work a brief summary of\n",
      "        the changes made to matplotlib .\n",
      "        \n",
      "        4. MDT is making matplotlib available to Licensee on an \"AS\n",
      "        IS\" basis.  MDT MAKES NO REPRESENTATIONS OR WARRANTIES, EXPRESS OR\n",
      "        IMPLIED.  BY WAY OF EXAMPLE, BUT NOT LIMITATION, MDT MAKES NO AND\n",
      "        DISCLAIMS ANY REPRESENTATION OR WARRANTY OF MERCHANTABILITY OR FITNESS\n",
      "        FOR ANY PARTICULAR PURPOSE OR THAT THE USE OF MATPLOTLIB\n",
      "        WILL NOT INFRINGE ANY THIRD PARTY RIGHTS.\n",
      "        \n",
      "        5. MDT SHALL NOT BE LIABLE TO LICENSEE OR ANY OTHER USERS OF MATPLOTLIB\n",
      "         FOR ANY INCIDENTAL, SPECIAL, OR CONSEQUENTIAL DAMAGES OR\n",
      "        LOSS AS A RESULT OF MODIFYING, DISTRIBUTING, OR OTHERWISE USING\n",
      "        MATPLOTLIB , OR ANY DERIVATIVE THEREOF, EVEN IF ADVISED OF\n",
      "        THE POSSIBILITY THEREOF.\n",
      "        \n",
      "        6. This License Agreement will automatically terminate upon a material\n",
      "        breach of its terms and conditions.\n",
      "        \n",
      "        7. Nothing in this License Agreement shall be deemed to create any\n",
      "        relationship of agency, partnership, or joint venture between MDT and\n",
      "        Licensee.  This License Agreement does not grant permission to use MDT\n",
      "        trademarks or trade name in a trademark sense to endorse or promote\n",
      "        products or services of Licensee, or any third party.\n",
      "        \n",
      "        8. By copying, installing or otherwise using matplotlib ,\n",
      "        Licensee agrees to be bound by the terms and conditions of this License\n",
      "        Agreement.\n",
      "        \n",
      "        License agreement for matplotlib versions prior to 1.3.0\n",
      "        ========================================================\n",
      "        \n",
      "        1. This LICENSE AGREEMENT is between John D. Hunter (\"JDH\"), and the\n",
      "        Individual or Organization (\"Licensee\") accessing and otherwise using\n",
      "        matplotlib software in source or binary form and its associated\n",
      "        documentation.\n",
      "        \n",
      "        2. Subject to the terms and conditions of this License Agreement, JDH\n",
      "        hereby grants Licensee a nonexclusive, royalty-free, world-wide license\n",
      "        to reproduce, analyze, test, perform and/or display publicly, prepare\n",
      "        derivative works, distribute, and otherwise use matplotlib\n",
      "        alone or in any derivative version, provided, however, that JDH's\n",
      "        License Agreement and JDH's notice of copyright, i.e., \"Copyright (c)\n",
      "        2002-2011 John D. Hunter; All Rights Reserved\" are retained in\n",
      "        matplotlib  alone or in any derivative version prepared by\n",
      "        Licensee.\n",
      "        \n",
      "        3. In the event Licensee prepares a derivative work that is based on or\n",
      "        incorporates matplotlib  or any part thereof, and wants to\n",
      "        make the derivative work available to others as provided herein, then\n",
      "        Licensee hereby agrees to include in any such work a brief summary of\n",
      "        the changes made to matplotlib.\n",
      "        \n",
      "        4. JDH is making matplotlib  available to Licensee on an \"AS\n",
      "        IS\" basis.  JDH MAKES NO REPRESENTATIONS OR WARRANTIES, EXPRESS OR\n",
      "        IMPLIED.  BY WAY OF EXAMPLE, BUT NOT LIMITATION, JDH MAKES NO AND\n",
      "        DISCLAIMS ANY REPRESENTATION OR WARRANTY OF MERCHANTABILITY OR FITNESS\n",
      "        FOR ANY PARTICULAR PURPOSE OR THAT THE USE OF MATPLOTLIB\n",
      "        WILL NOT INFRINGE ANY THIRD PARTY RIGHTS.\n",
      "        \n",
      "        5. JDH SHALL NOT BE LIABLE TO LICENSEE OR ANY OTHER USERS OF MATPLOTLIB\n",
      "         FOR ANY INCIDENTAL, SPECIAL, OR CONSEQUENTIAL DAMAGES OR\n",
      "        LOSS AS A RESULT OF MODIFYING, DISTRIBUTING, OR OTHERWISE USING\n",
      "        MATPLOTLIB , OR ANY DERIVATIVE THEREOF, EVEN IF ADVISED OF\n",
      "        THE POSSIBILITY THEREOF.\n",
      "        \n",
      "        6. This License Agreement will automatically terminate upon a material\n",
      "        breach of its terms and conditions.\n",
      "        \n",
      "        7. Nothing in this License Agreement shall be deemed to create any\n",
      "        relationship of agency, partnership, or joint venture between JDH and\n",
      "        Licensee.  This License Agreement does not grant permission to use JDH\n",
      "        trademarks or trade name in a trademark sense to endorse or promote\n",
      "        products or services of Licensee, or any third party.\n",
      "        \n",
      "        8. By copying, installing or otherwise using matplotlib,\n",
      "        Licensee agrees to be bound by the terms and conditions of this License\n",
      "        Agreement.\n",
      "Location: /opt/conda/lib/python3.9/site-packages\n",
      "Requires: numpy, pyparsing, importlib-resources, fonttools, python-dateutil, pillow, cycler, contourpy, kiwisolver, packaging\n",
      "Required-by: catboost\n"
     ]
    }
   ],
   "source": [
    "!pip show matplotlib"
   ]
  },
  {
   "cell_type": "code",
   "execution_count": null,
   "id": "a680b85b-f4d8-4d51-b2aa-57bdbd050e23",
   "metadata": {},
   "outputs": [],
   "source": [
    "import os"
   ]
  },
  {
   "cell_type": "code",
   "execution_count": null,
   "id": "2e721d79-354a-4f76-84ef-35c279beed88",
   "metadata": {},
   "outputs": [],
   "source": [
    "print(os.environ.get(\"Secure\"))"
   ]
  },
  {
   "cell_type": "code",
   "execution_count": null,
   "id": "8263df86-bbed-41dd-94cb-bf9787df8a08",
   "metadata": {},
   "outputs": [],
   "source": [
    "print(os.environ.get(\"NonSecure\"))"
   ]
  },
  {
   "cell_type": "code",
   "execution_count": null,
   "id": "337f15c3-fb2f-406f-b853-c3fcc8a3dbb5",
   "metadata": {},
   "outputs": [],
   "source": []
  }
 ],
 "metadata": {
  "kernelspec": {
   "display_name": "Python 3 (ipykernel)",
   "language": "python",
   "name": "python3"
  },
  "language_info": {
   "codemirror_mode": {
    "name": "ipython",
    "version": 3
   },
   "file_extension": ".py",
   "mimetype": "text/x-python",
   "name": "python",
   "nbconvert_exporter": "python",
   "pygments_lexer": "ipython3",
   "version": "3.9.19"
  }
 },
 "nbformat": 4,
 "nbformat_minor": 5
}
