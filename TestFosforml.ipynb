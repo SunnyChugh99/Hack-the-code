{
 "cells": [
  {
   "cell_type": "code",
   "execution_count": 1,
   "id": "29c38d84-e71f-477c-ae2f-6d490239c172",
   "metadata": {},
   "outputs": [],
   "source": [
    "import fosforml"
   ]
  },
  {
   "cell_type": "code",
   "execution_count": null,
   "id": "f4b70e7a-5f2e-40e7-9ce4-b0ff73904571",
   "metadata": {},
   "outputs": [],
   "source": []
  },
  {
   "cell_type": "code",
   "execution_count": null,
   "id": "118ed47f-1216-4783-9952-18dec5d1e4c4",
   "metadata": {},
   "outputs": [],
   "source": []
  },
  {
   "cell_type": "code",
   "execution_count": null,
   "id": "ae8c8a36-84d5-45e0-bf2a-a97ea0369044",
   "metadata": {},
   "outputs": [],
   "source": []
  },
  {
   "cell_type": "code",
   "execution_count": 2,
   "id": "77b183d1-aa5b-40c4-a091-ae75cdaf0569",
   "metadata": {},
   "outputs": [],
   "source": [
    "# import sklearn"
   ]
  },
  {
   "cell_type": "code",
   "execution_count": 3,
   "id": "ef6700de-999c-4500-af19-70c89bf313b1",
   "metadata": {},
   "outputs": [],
   "source": [
    "# print(sklearn.__version__)"
   ]
  },
  {
   "cell_type": "code",
   "execution_count": 4,
   "id": "0b83915a-9d6b-4362-b09a-90c7790ad93c",
   "metadata": {},
   "outputs": [],
   "source": [
    "# !pip show scikit-learn"
   ]
  },
  {
   "cell_type": "code",
   "execution_count": 5,
   "id": "2563dc73-8d0f-49ca-9417-598f2462d006",
   "metadata": {},
   "outputs": [],
   "source": [
    "# import numpy"
   ]
  },
  {
   "cell_type": "code",
   "execution_count": 6,
   "id": "1235b27f-ae56-42e4-9d2a-b9098cbd96ae",
   "metadata": {},
   "outputs": [],
   "source": [
    "# print(numpy.__version__)"
   ]
  },
  {
   "cell_type": "code",
   "execution_count": 7,
   "id": "f23878af-260b-4316-b139-5240f195cb06",
   "metadata": {},
   "outputs": [],
   "source": [
    "# !pip show numpy"
   ]
  },
  {
   "cell_type": "code",
   "execution_count": 8,
   "id": "a680b85b-f4d8-4d51-b2aa-57bdbd050e23",
   "metadata": {},
   "outputs": [],
   "source": [
    "# import os"
   ]
  },
  {
   "cell_type": "code",
   "execution_count": 9,
   "id": "2e721d79-354a-4f76-84ef-35c279beed88",
   "metadata": {},
   "outputs": [],
   "source": [
    "# print(os.environ.get(\"Secure\"))"
   ]
  },
  {
   "cell_type": "code",
   "execution_count": 10,
   "id": "8263df86-bbed-41dd-94cb-bf9787df8a08",
   "metadata": {},
   "outputs": [],
   "source": [
    "# print(os.environ.get(\"NonSecure\"))"
   ]
  },
  {
   "cell_type": "code",
   "execution_count": null,
   "id": "337f15c3-fb2f-406f-b853-c3fcc8a3dbb5",
   "metadata": {},
   "outputs": [],
   "source": []
  }
 ],
 "metadata": {
  "kernelspec": {
   "display_name": "Python 3",
   "language": "python",
   "name": "python3"
  },
  "language_info": {
   "codemirror_mode": {
    "name": "ipython",
    "version": 3
   },
   "file_extension": ".py",
   "mimetype": "text/x-python",
   "name": "python",
   "nbconvert_exporter": "python",
   "pygments_lexer": "ipython3",
   "version": "3.11.10"
  }
 },
 "nbformat": 4,
 "nbformat_minor": 5
}
