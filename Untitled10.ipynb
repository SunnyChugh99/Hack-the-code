{
 "cells": [
  {
   "cell_type": "code",
   "execution_count": null,
   "id": "83fb9731-f4fc-4e80-8b6d-3845bfd8ab81",
   "metadata": {},
   "outputs": [],
   "source": []
  }
 ],
 "metadata": {
  "kernelspec": {
   "display_name": "",
   "name": ""
  },
  "language_info": {
   "name": ""
  }
 },
 "nbformat": 4,
 "nbformat_minor": 5
}
