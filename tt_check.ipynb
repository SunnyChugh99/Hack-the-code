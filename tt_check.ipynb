{
 "cells": [
  {
   "cell_type": "code",
   "execution_count": null,
   "id": "dd6a5031-10cb-4267-aec1-86a6835043e1",
   "metadata": {},
   "outputs": [
    {
     "name": "stdout",
     "output_type": "stream",
     "text": [
      "Start Execution Time: 2024-10-08 07:21:41.190939\n",
      "Current Time: 2024-10-08 07:21:41.191046, Time Elapsed: 0:00:00.000107\n"
     ]
    }
   ],
   "source": [
    "import time\n",
    "from datetime import datetime, timedelta\n",
    "\n",
    "# Record the start execution time\n",
    "start_time = datetime.now()\n",
    "print(f\"Start Execution Time: {start_time}\")\n",
    "\n",
    "while True:\n",
    "    # Calculate the time elapsed from the start execution time\n",
    "    current_time = datetime.now()\n",
    "    elapsed_time = current_time - start_time\n",
    "    print(f\"Current Time: {current_time}, Time Elapsed: {elapsed_time}\")\n",
    "    \n",
    "    # Sleep for a second before the next iteration\n",
    "    time.sleep(600)"
   ]
  },
  {
   "cell_type": "code",
   "execution_count": null,
   "id": "7fb81a65-74c6-43cd-bc6b-55965153f521",
   "metadata": {},
   "outputs": [],
   "source": []
  }
 ],
 "metadata": {
  "kernelspec": {
   "display_name": "Python 3 (ipykernel)",
   "language": "python",
   "name": "python3"
  },
  "language_info": {
   "codemirror_mode": {
    "name": "ipython",
    "version": 3
   },
   "file_extension": ".py",
   "mimetype": "text/x-python",
   "name": "python",
   "nbconvert_exporter": "python",
   "pygments_lexer": "ipython3",
   "version": "3.9.19"
  }
 },
 "nbformat": 4,
 "nbformat_minor": 5
}
