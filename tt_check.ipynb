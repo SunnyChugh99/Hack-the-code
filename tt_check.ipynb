{
 "cells": [
  {
   "cell_type": "code",
   "execution_count": null,
   "id": "dd6a5031-10cb-4267-aec1-86a6835043e1",
   "metadata": {},
   "outputs": [
    {
     "name": "stdout",
     "output_type": "stream",
     "text": [
      "Start Execution Time (IST): 2024-10-08 12:57:07\n",
      "Current Time (IST): 2024-10-08 12:57:07, Time Elapsed: 0:00:00.000092\n",
      "Start Execution Time (IST): 2024-10-08 12:57:07\n",
      "Current Time (IST): 2024-10-08 13:07:07, Time Elapsed: 0:10:00.096344\n",
      "Start Execution Time (IST): 2024-10-08 12:57:07\n",
      "Current Time (IST): 2024-10-08 13:17:08, Time Elapsed: 0:20:00.153084\n",
      "Start Execution Time (IST): 2024-10-08 12:57:07\n",
      "Current Time (IST): 2024-10-08 13:27:08, Time Elapsed: 0:30:00.252816\n"
     ]
    }
   ],
   "source": [
    "import time\n",
    "from datetime import datetime, timedelta\n",
    "import pytz\n",
    "\n",
    "# Define the IST timezone\n",
    "ist = pytz.timezone('Asia/Kolkata')\n",
    "\n",
    "# Record the start execution time in IST\n",
    "start_time = datetime.now(ist)\n",
    "\n",
    "while True:\n",
    "    # Calculate the current time in IST\n",
    "    current_time = datetime.now(ist)\n",
    "    elapsed_time = current_time - start_time\n",
    "\n",
    "    print(f\"Start Execution Time (IST): {start_time.strftime('%Y-%m-%d %H:%M:%S')}\")\n",
    "    print(f\"Current Time (IST): {current_time.strftime('%Y-%m-%d %H:%M:%S')}, Time Elapsed: {elapsed_time}\")\n",
    "\n",
    "    # Sleep for a second before the next iteration\n",
    "    time.sleep(600)"
   ]
  },
  {
   "cell_type": "code",
   "execution_count": null,
   "id": "7fb81a65-74c6-43cd-bc6b-55965153f521",
   "metadata": {},
   "outputs": [],
   "source": []
  }
 ],
 "metadata": {
  "kernelspec": {
   "display_name": "Python 3 (ipykernel)",
   "language": "python",
   "name": "python3"
  },
  "language_info": {
   "codemirror_mode": {
    "name": "ipython",
    "version": 3
   },
   "file_extension": ".py",
   "mimetype": "text/x-python",
   "name": "python",
   "nbconvert_exporter": "python",
   "pygments_lexer": "ipython3",
   "version": "3.9.19"
  }
 },
 "nbformat": 4,
 "nbformat_minor": 5
}
