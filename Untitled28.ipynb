{
 "cells": [
  {
   "cell_type": "code",
   "execution_count": 2,
   "id": "60aa4fd5-257a-445f-b827-51a78dfa5b0a",
   "metadata": {},
   "outputs": [
    {
     "name": "stdout",
     "output_type": "stream",
     "text": [
      "Triggering code to generate alert ....\n",
      "{'sessionToken': 'ver:1-hint:32355341569548294-ETMsDgAAAZJDPTXDABRBRVMvQ0JDL1BLQ1M1UGFkZGluZwEAABAAENPTL8anrrUZNwf9ziq1HioAAACAiAYLniGqSWewYhencK9q39YhjSLlFS89QK4Ul7hsNrX9YX1g6qy/Wo1R4pHstJNN0G/efcdaqZrx/WHB5w4U/LQs9pq0XxWF6RkgcLpKTlNBkmL/8MkIJx94qwQaN3OlzeOZCqpWZ16+c3JQmm0M7cRPBoS+3iEh05+fo1HGN/MAFE09W4K6pqE4GrtLkrUIsQ2wGF6B', 'validityInSecondsST': 3600, 'masterToken': 'ver:1-hint:32355341569548294-ETMsDgAAAZJDPTXDABRBRVMvQ0JDL1BLQ1M1UGFkZGluZwEAABAAEEHGMEjz+pUzBtDB/9+VPcoAAACArvaFL8NkdpOsAwnju8INWshEmsoR55lQTOtcTyD9gkDsqTU/4j+G5MI1lCLC0WB+LdcRVH/vCXWFnQlEMUxyqnPWtdcWYCF5BhlMS4O88p2d54GT4lrzx4GVw7PTEUKHGTbtt9x4iqPxWfH1EPMsnRWyI6wNeBVezO8JcbcXeVwAFFHEyjZiW/6ROi6b6ZCayW9qK3z/', 'validityInSecondsMT': 14400, 'sessionId': 32355342353535126}\n",
      "\"ver:1-hint:32355341569548294-ETMsDgAAAZJDPTXDABRBRVMvQ0JDL1BLQ1M1UGFkZGluZwEAABAAENPTL8anrrUZNwf9ziq1HioAAACAiAYLniGqSWewYhencK9q39YhjSLlFS89QK4Ul7hsNrX9YX1g6qy/Wo1R4pHstJNN0G/efcdaqZrx/WHB5w4U/LQs9pq0XxWF6RkgcLpKTlNBkmL/8MkIJx94qwQaN3OlzeOZCqpWZ16+c3JQmm0M7cRPBoS+3iEh05+fo1HGN/MAFE09W4K6pqE4GrtLkrUIsQ2wGF6B\"\n",
      "Finally\n"
     ]
    }
   ],
   "source": [
    "import os\n",
    "import snowflake\n",
    "import logging, sys\n",
    "from snowflake.snowpark.session import Session\n",
    "from snowflake.ml.registry.registry import Registry\n",
    "\n",
    "\n",
    "print(\"Triggering code to generate alert ....\")\n",
    "\n",
    "\n",
    "CONNECTION_PARAMETERS = {\n",
    "    \"user\" : 'SAURABHKULKARNI',\n",
    "    \"password\" : 'Epsilon0*',\n",
    "    \"account\" : 'FYA62509.us-east-1',\n",
    "    \"role\" : 'SAURABHKULKARNI',\n",
    "    \"warehouse\" : 'FOSFOR_INSIGHT_WH',\n",
    "    \"database\" : 'INSIGHT_DESIGNER_SPCS',\n",
    "    \"schema\" : 'INSIGHT_SPCS_SCHEMA'\n",
    "}\n",
    "\n",
    "compute_pool = \"INSIGHT_COMPUTE_POOL1\"\n",
    "image_repository = \"INSIGHT_SPCS_REPOSITORY\"\n",
    "stage = \"INSIGHT_SPCS_STAGE\"\n",
    "\n",
    "def get_session():\n",
    "    \"\"\"\n",
    "    Method creates snowflake session object.\n",
    "    :return:\n",
    "    \"\"\"\n",
    "    try:\n",
    "        return Session.builder.configs(CONNECTION_PARAMETERS).create()\n",
    "    except Exception as ex:\n",
    "        print(\"Error while creating snowflake session\", ex)\n",
    "        raise ex\n",
    "\n",
    "\n",
    "def get_login_token():\n",
    "  with open('/snowflake/session/token', 'r') as f:\n",
    "    return f.read()\n",
    "\n",
    "ctx = snowflake.connector.connect(\n",
    "  host = os.getenv('SNOWFLAKE_HOST'),\n",
    "  account = os.getenv('SNOWFLAKE_ACCOUNT'),\n",
    "  token = get_login_token(),\n",
    "  authenticator = 'oauth',\n",
    "  database = 'INSIGHT_DESIGNER_SPCS',\n",
    "  schema = 'INSIGHT_SPCS_SCHEMA'\n",
    ")\n",
    "\n",
    "def session() -> Session:\n",
    "    return Session.builder.configs({\"connection\": ctx}).create()\n",
    "\n",
    "#session = get_session()\n",
    "try:\n",
    "    #con.cursor().execute(\"USE WAREHOUSE FOSFOR_INSIGHT_WH\")\n",
    "    #con.cursor().execute(\"USE DATABASE INSIGHT_DESIGNER_SPCS\")\n",
    "    #con.cursor().execute(\"USE SCHEMA INSIGHT_DESIGNER_SPCS.INSIGHT_SPCS_SCHEMA\")\n",
    "    #data = con.cursor().execute(\"DROP SERVICE nb_template\")\n",
    "    #s1 = session()\n",
    "    #print(\"session Creation\")\n",
    "    # Obtain a session token.\n",
    "    token_data = ctx._rest._token_request('ISSUE')\n",
    "    print(token_data['data'])\n",
    "    token_extract = token_data['data']['sessionToken']\n",
    "    token = f'\\\"{token_extract}\\\"'\n",
    "    print(token)\n",
    "finally:\n",
    "    print(\"Finally\")\n",
    "    #con.close()\n",
    "\n",
    "# import time\n",
    "# while 1:\n",
    "#     print(\"sleeping\")\n",
    "#     print(token)\n",
    "#     time.sleep(60)\n",
    "\n",
    "\n",
    "\n",
    "\n",
    "#stop_response = session.sql(\"DROP SERVICE nb_template\").collect()\n",
    "#data = [{\"response\": stop_response[0].as_dict()}]\n",
    "#print(\"DELETE RESPONSE : \", data)"
   ]
  },
  {
   "cell_type": "code",
   "execution_count": 5,
   "id": "8055ce3f-09b6-49fc-9700-39fc3fd41bd4",
   "metadata": {},
   "outputs": [
    {
     "name": "stdout",
     "output_type": "stream",
     "text": [
      "{'Authorization': 'Snowflake Token=\"ver:1-hint:32355341569548294-ETMsDgAAAZJDPTXDABRBRVMvQ0JDL1BLQ1M1UGFkZGluZwEAABAAENPTL8anrrUZNwf9ziq1HioAAACAiAYLniGqSWewYhencK9q39YhjSLlFS89QK4Ul7hsNrX9YX1g6qy/Wo1R4pHstJNN0G/efcdaqZrx/WHB5w4U/LQs9pq0XxWF6RkgcLpKTlNBkmL/8MkIJx94qwQaN3OlzeOZCqpWZ16+c3JQmm0M7cRPBoS+3iEh05+fo1HGN/MAFE09W4K6pqE4GrtLkrUIsQ2wGF6B\"'}\n",
      "\"ver:1-hint:32355341569548294-ETMsDgAAAZJDPTXDABRBRVMvQ0JDL1BLQ1M1UGFkZGluZwEAABAAENPTL8anrrUZNwf9ziq1HioAAACAiAYLniGqSWewYhencK9q39YhjSLlFS89QK4Ul7hsNrX9YX1g6qy/Wo1R4pHstJNN0G/efcdaqZrx/WHB5w4U/LQs9pq0XxWF6RkgcLpKTlNBkmL/8MkIJx94qwQaN3OlzeOZCqpWZ16+c3JQmm0M7cRPBoS+3iEh05+fo1HGN/MAFE09W4K6pqE4GrtLkrUIsQ2wGF6B\"\n"
     ]
    },
    {
     "name": "stderr",
     "output_type": "stream",
     "text": [
      "/opt/conda/lib/python3.9/site-packages/urllib3/connectionpool.py:1064: InsecureRequestWarning: Unverified HTTPS request is being made to host 'fexmatx4-zqiseam-ltimosaic.snowflakecomputing.app'. Adding certificate verification is strongly advised. See: https://urllib3.readthedocs.io/en/1.26.x/advanced-usage.html#ssl-warnings\n",
      "  warnings.warn(\n"
     ]
    },
    {
     "name": "stdout",
     "output_type": "stream",
     "text": [
      "<Response [404]>\n",
      "\n"
     ]
    }
   ],
   "source": [
    "import requests\n",
    "\n",
    "#token = f'\\\"{token_extract}\\\"'\n",
    "#token2=\"ver:1-hint:32355341569548294-ETMsDgAAAZJDLrBuABRBRVMvQ0JDL1BLQ1M1UGFkZGluZwEAABAAECpsnm4U+EXg6qxo0eEqGEcAAACAbIdkHmusbXeZfNH02Cm4xBFDvyAnoY1bZsvpNcHT5fHUssSDkRcc7uQUHCrjy46F3knPRVKJTK46z8n/BSwZeWWfXRWzNAQay9oIQmHtjDekcIrhcNTEqiczWtHBqVS2QUi8mJUGr/sw9vCUKMWn/QdSDEuz49LNA8FNziRAG0UAFLaIj5g6fuuaKkaEP9MxXwObjVH0\"\n",
    "headers = {'Authorization': f'Snowflake Token={token}'}\n",
    "# Set this to the ingress endpoint URL for your service\n",
    "url = 'https://fexmatx4-zqiseam-ltimosaic.snowflakecomputing.app/insight/notebook/vaibhav/tree?'\n",
    "\n",
    "print(headers)\n",
    "\n",
    "print(token)\n",
    "# Validate the connection.\n",
    "response = requests.get(f'{url}', headers=headers, verify=False)\n",
    "print(response)\n",
    "print(response.text)"
   ]
  },
  {
   "cell_type": "code",
   "execution_count": null,
   "id": "b08dacf5-9585-43b3-a11b-0c1fbbe7b6e2",
   "metadata": {},
   "outputs": [],
   "source": []
  }
 ],
 "metadata": {
  "kernelspec": {
   "display_name": "Python 3 (ipykernel)",
   "language": "python",
   "name": "python3"
  },
  "language_info": {
   "codemirror_mode": {
    "name": "ipython",
    "version": 3
   },
   "file_extension": ".py",
   "mimetype": "text/x-python",
   "name": "python",
   "nbconvert_exporter": "python",
   "pygments_lexer": "ipython3",
   "version": "3.9.19"
  }
 },
 "nbformat": 4,
 "nbformat_minor": 5
}
