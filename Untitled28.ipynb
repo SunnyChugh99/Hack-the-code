{
 "cells": [
  {
   "cell_type": "code",
   "execution_count": 1,
   "id": "60aa4fd5-257a-445f-b827-51a78dfa5b0a",
   "metadata": {},
   "outputs": [
    {
     "name": "stdout",
     "output_type": "stream",
     "text": [
      "ver:1-hint:32355341569548294-ETMsDgAAAZJDLrBuABRBRVMvQ0JDL1BLQ1M1UGFkZGluZwEAABAAECpsnm4U+EXg6qxo0eEqGEcAAACAbIdkHmusbXeZfNH02Cm4xBFDvyAnoY1bZsvpNcHT5fHUssSDkRcc7uQUHCrjy46F3knPRVKJTK46z8n/BSwZeWWfXRWzNAQay9oIQmHtjDekcIrhcNTEqiczWtHBqVS2QUi8mJUGr/sw9vCUKMWn/QdSDEuz49LNA8FNziRAG0UAFLaIj5g6fuuaKkaEP9MxXwObjVH0\n"
     ]
    },
    {
     "name": "stderr",
     "output_type": "stream",
     "text": [
      "/opt/conda/lib/python3.9/site-packages/urllib3/connectionpool.py:1064: InsecureRequestWarning: Unverified HTTPS request is being made to host 'fexmatx4-zqiseam-ltimosaic.snowflakecomputing.app'. Adding certificate verification is strongly advised. See: https://urllib3.readthedocs.io/en/1.26.x/advanced-usage.html#ssl-warnings\n",
      "  warnings.warn(\n",
      "/opt/conda/lib/python3.9/site-packages/urllib3/connectionpool.py:1064: InsecureRequestWarning: Unverified HTTPS request is being made to host 'sfc-endpoint-login-va2.snowflakecomputing.app'. Adding certificate verification is strongly advised. See: https://urllib3.readthedocs.io/en/1.26.x/advanced-usage.html#ssl-warnings\n",
      "  warnings.warn(\n",
      "/opt/conda/lib/python3.9/site-packages/urllib3/connectionpool.py:1064: InsecureRequestWarning: Unverified HTTPS request is being made to host 'zqiseam-ltimosaic.snowflakecomputing.com'. Adding certificate verification is strongly advised. See: https://urllib3.readthedocs.io/en/1.26.x/advanced-usage.html#ssl-warnings\n",
      "  warnings.warn(\n"
     ]
    },
    {
     "name": "stdout",
     "output_type": "stream",
     "text": [
      "<Response [200]>\n",
      "<!DOCTYPE HTML>\n",
      "<html>\n",
      "<head>\n",
      "    <meta http-equiv=\"X-UA-Compatible\" content=\"IE=edge\">\n",
      "    <meta charset=\"UTF-8\">\n",
      "    <meta name=\"viewport\"\n",
      "          content=\"width=device-width, initial-scale=1, maximum-scale=1, user-scalable=no\">\n",
      "    <meta name=\"robots\" content=\"noindex, nofollow\" />\n",
      "    \n",
      "    <!-- set the base path for all urls -->\n",
      "    <base href=\"../../../assets/ui/Login/\" />\n",
      "    \n",
      "    <link rel=\"icon\" href=\"../../../favicon.ico\" />\n",
      "    \n",
      "    <!-- The line below must be kept intact for Sencha Cmd to build your application -->\n",
      "    <script  id=\"microloader\" data-app=\"a2154f47-8466-46a8-9e13-14fe535c3076\" src=\"microloader.js\"></script>\n",
      "    <style>\n",
      "        body {\n",
      "            background: #FAFAFA;\n",
      "        }\n",
      "        @keyframes growShrink {\n",
      "            0% {\n",
      "                transform: scale(0.6);\n",
      "            }\n",
      "            50% {\n",
      "                transform: scale(0.9);\n",
      "            }\n",
      "            100% {\n",
      "                transform: scale(0.6);\n",
      "            }\n",
      "        }\n",
      "    </style>\n",
      "</head>\n",
      "<body data-bind=\"{&quot;LOCALE&quot;:&quot;en&quot;,&quot;APP_PREFIX_LOGIN&quot;:&quot;oauth&quot;,&quot;APP_PREFIX_HOME&quot;:&quot;console&quot;,&quot;ACCOUNT_NAME&quot;:&quot;FYA62509&quot;,&quot;AUTH_METHODS&quot;:&quot;[\\&quot;USERNAME_PASSWORD\\&quot;]&quot;,&quot;FED_LABEL&quot;:&quot;&quot;,&quot;ENABLE_FORGOTTEN_PASSWORD&quot;:false,&quot;OAUTH_INTEGRATION_NAME&quot;:&quot;SNOWSERVICES_INGRESS_OAUTH&quot;,&quot;OAUTH_PARTNER_INTEGRATION_NAME&quot;:&quot;SnowServices Ingress&quot;,&quot;OAUTH_SNOWFLAKE_INTEGRATION&quot;:false,&quot;OAUTH_CLIENT_TYPE&quot;:&quot;CONFIDENTIAL&quot;,&quot;PROVIDED_LOCALES&quot;:[&quot;ja&quot;,&quot;en&quot;,&quot;fr-FR&quot;],&quot;LOCALIZE_UI&quot;:false,&quot;UI_LANDING_PAGE&quot;:&quot;CLASSIC_CONSOLE&quot;,&quot;UI_LANDING_PAGE_OVERRIDE&quot;:&quot;NONE&quot;,&quot;ORG_NAME&quot;:&quot;ZQISEAM&quot;,&quot;REGION&quot;:&quot;us-east-1&quot;,&quot;DEPLOYMENT_LOCATION&quot;:&quot;PUBLIC.AWS_US_EAST_1&quot;,&quot;AVAILABLE_REGIONS&quot;:{&quot;PUBLIC.AWS_EU_WEST_1&quot;:{&quot;snowflakeRegion&quot;:&quot;AWS_EU_WEST_1&quot;,&quot;regionGroup&quot;:&quot;PUBLIC&quot;,&quot;cloud&quot;:&quot;aws&quot;,&quot;cloudRegion&quot;:&quot;eu-west-1&quot;,&quot;cloudRegionName&quot;:&quot;EU (Ireland)&quot;,&quot;regionGroupType&quot;:&quot;PUBLIC&quot;},&quot;PUBLIC.GCP_US_CENTRAL1&quot;:{&quot;snowflakeRegion&quot;:&quot;GCP_US_CENTRAL1&quot;,&quot;regionGroup&quot;:&quot;PUBLIC&quot;,&quot;cloud&quot;:&quot;gcp&quot;,&quot;cloudRegion&quot;:&quot;us-central1&quot;,&quot;cloudRegionName&quot;:&quot;US Central 1 (Iowa)&quot;,&quot;regionGroupType&quot;:&quot;PUBLIC&quot;},&quot;PUBLIC.AWS_EU_WEST_2&quot;:{&quot;snowflakeRegion&quot;:&quot;AWS_EU_WEST_2&quot;,&quot;regionGroup&quot;:&quot;PUBLIC&quot;,&quot;cloud&quot;:&quot;aws&quot;,&quot;cloudRegion&quot;:&quot;eu-west-2&quot;,&quot;cloudRegionName&quot;:&quot;EU (London)&quot;,&quot;regionGroupType&quot;:&quot;PUBLIC&quot;},&quot;PUBLIC.AZURE_CENTRALUS&quot;:{&quot;snowflakeRegion&quot;:&quot;AZURE_CENTRALUS&quot;,&quot;regionGroup&quot;:&quot;PUBLIC&quot;,&quot;cloud&quot;:&quot;azure&quot;,&quot;cloudRegion&quot;:&quot;centralus&quot;,&quot;cloudRegionName&quot;:&quot;Central US (Iowa)&quot;,&quot;regionGroupType&quot;:&quot;PUBLIC&quot;},&quot;PUBLIC.AWS_EU_WEST_3&quot;:{&quot;snowflakeRegion&quot;:&quot;AWS_EU_WEST_3&quot;,&quot;regionGroup&quot;:&quot;PUBLIC&quot;,&quot;cloud&quot;:&quot;aws&quot;,&quot;cloudRegion&quot;:&quot;eu-west-3&quot;,&quot;cloudRegionName&quot;:&quot;EU (Paris)&quot;,&quot;regionGroupType&quot;:&quot;PUBLIC&quot;},&quot;PUBLIC.AZURE_CANADACENTRAL&quot;:{&quot;snowflakeRegion&quot;:&quot;AZURE_CANADACENTRAL&quot;,&quot;regionGroup&quot;:&quot;PUBLIC&quot;,&quot;cloud&quot;:&quot;azure&quot;,&quot;cloudRegion&quot;:&quot;canadacentral&quot;,&quot;cloudRegionName&quot;:&quot;Canada Central (Toronto)&quot;,&quot;regionGroupType&quot;:&quot;PUBLIC&quot;},&quot;PUBLIC.AZURE_WESTUS2&quot;:{&quot;snowflakeRegion&quot;:&quot;AZURE_WESTUS2&quot;,&quot;regionGroup&quot;:&quot;PUBLIC&quot;,&quot;cloud&quot;:&quot;azure&quot;,&quot;cloudRegion&quot;:&quot;westus2&quot;,&quot;cloudRegionName&quot;:&quot;West US 2 (Washington)&quot;,&quot;regionGroupType&quot;:&quot;PUBLIC&quot;},&quot;PUBLIC.AZURE_UAENORTH&quot;:{&quot;snowflakeRegion&quot;:&quot;AZURE_UAENORTH&quot;,&quot;regionGroup&quot;:&quot;PUBLIC&quot;,&quot;cloud&quot;:&quot;azure&quot;,&quot;cloudRegion&quot;:&quot;uaenorth&quot;,&quot;cloudRegionName&quot;:&quot;UAE North (Dubai)&quot;,&quot;regionGroupType&quot;:&quot;PUBLIC&quot;},&quot;PUBLIC.AWS_SA_EAST_1&quot;:{&quot;snowflakeRegion&quot;:&quot;AWS_SA_EAST_1&quot;,&quot;regionGroup&quot;:&quot;PUBLIC&quot;,&quot;cloud&quot;:&quot;aws&quot;,&quot;cloudRegion&quot;:&quot;sa-east-1&quot;,&quot;cloudRegionName&quot;:&quot;South America (Sao Paulo)&quot;,&quot;regionGroupType&quot;:&quot;PUBLIC&quot;},&quot;PUBLIC.AZURE_SOUTHCENTRALUS&quot;:{&quot;snowflakeRegion&quot;:&quot;AZURE_SOUTHCENTRALUS&quot;,&quot;regionGroup&quot;:&quot;PUBLIC&quot;,&quot;cloud&quot;:&quot;azure&quot;,&quot;cloudRegion&quot;:&quot;southcentralus&quot;,&quot;cloudRegionName&quot;:&quot;South Central US (Texas)&quot;,&quot;regionGroupType&quot;:&quot;PUBLIC&quot;},&quot;PUBLIC.AWS_US_WEST_2&quot;:{&quot;snowflakeRegion&quot;:&quot;AWS_US_WEST_2&quot;,&quot;regionGroup&quot;:&quot;PUBLIC&quot;,&quot;cloud&quot;:&quot;aws&quot;,&quot;cloudRegion&quot;:&quot;us-west-2&quot;,&quot;cloudRegionName&quot;:&quot;US West (Oregon)&quot;,&quot;regionGroupType&quot;:&quot;PUBLIC&quot;},&quot;PUBLIC.AZURE_EASTUS2&quot;:{&quot;snowflakeRegion&quot;:&quot;AZURE_EASTUS2&quot;,&quot;regionGroup&quot;:&quot;PUBLIC&quot;,&quot;cloud&quot;:&quot;azure&quot;,&quot;cloudRegion&quot;:&quot;eastus2&quot;,&quot;cloudRegionName&quot;:&quot;East US 2 (Virginia)&quot;,&quot;regionGroupType&quot;:&quot;PUBLIC&quot;},&quot;PUBLIC.AWS_AP_SOUTHEAST_1&quot;:{&quot;snowflakeRegion&quot;:&quot;AWS_AP_SOUTHEAST_1&quot;,&quot;regionGroup&quot;:&quot;PUBLIC&quot;,&quot;cloud&quot;:&quot;aws&quot;,&quot;cloudRegion&quot;:&quot;ap-southeast-1&quot;,&quot;cloudRegionName&quot;:&quot;Asia Pacific (Singapore)&quot;,&quot;regionGroupType&quot;:&quot;PUBLIC&quot;},&quot;PUBLIC.AZURE_SOUTHEASTASIA&quot;:{&quot;snowflakeRegion&quot;:&quot;AZURE_SOUTHEASTASIA&quot;,&quot;regionGroup&quot;:&quot;PUBLIC&quot;,&quot;cloud&quot;:&quot;azure&quot;,&quot;cloudRegion&quot;:&quot;southeastasia&quot;,&quot;cloudRegionName&quot;:&quot;Southeast Asia (Singapore)&quot;,&quot;regionGroupType&quot;:&quot;PUBLIC&quot;},&quot;PUBLIC.AWS_AP_SOUTHEAST_2&quot;:{&quot;snowflakeRegion&quot;:&quot;AWS_AP_SOUTHEAST_2&quot;,&quot;regionGroup&quot;:&quot;PUBLIC&quot;,&quot;cloud&quot;:&quot;aws&quot;,&quot;cloudRegion&quot;:&quot;ap-southeast-2&quot;,&quot;cloudRegionName&quot;:&quot;Asia Pacific (Sydney)&quot;,&quot;regionGroupType&quot;:&quot;PUBLIC&quot;},&quot;PUBLIC.AWS_AP_SOUTHEAST_3&quot;:{&quot;snowflakeRegion&quot;:&quot;AWS_AP_SOUTHEAST_3&quot;,&quot;regionGroup&quot;:&quot;PUBLIC&quot;,&quot;cloud&quot;:&quot;aws&quot;,&quot;cloudRegion&quot;:&quot;ap-southeast-3&quot;,&quot;cloudRegionName&quot;:&quot;Asia Pacific (Jakarta)&quot;,&quot;regionGroupType&quot;:&quot;PUBLIC&quot;},&quot;PUBLIC.AWS_EU_CENTRAL_2&quot;:{&quot;snowflakeRegion&quot;:&quot;AWS_EU_CENTRAL_2&quot;,&quot;regionGroup&quot;:&quot;PUBLIC&quot;,&quot;cloud&quot;:&quot;aws&quot;,&quot;cloudRegion&quot;:&quot;eu-central-2&quot;,&quot;cloudRegionName&quot;:&quot;EU (Zurich)&quot;,&quot;regionGroupType&quot;:&quot;PUBLIC&quot;},&quot;PUBLIC.AZURE_SWITZERLANDN&quot;:{&quot;snowflakeRegion&quot;:&quot;AZURE_SWITZERLANDN&quot;,&quot;regionGroup&quot;:&quot;PUBLIC&quot;,&quot;cloud&quot;:&quot;azure&quot;,&quot;cloudRegion&quot;:&quot;switzerlandn&quot;,&quot;cloudRegionName&quot;:&quot;Switzerland North (Zurich)&quot;,&quot;regionGroupType&quot;:&quot;PUBLIC&quot;},&quot;PUBLIC.AWS_EU_NORTH_1&quot;:{&quot;snowflakeRegion&quot;:&quot;AWS_EU_NORTH_1&quot;,&quot;regionGroup&quot;:&quot;PUBLIC&quot;,&quot;cloud&quot;:&quot;aws&quot;,&quot;cloudRegion&quot;:&quot;eu-north-1&quot;,&quot;cloudRegionName&quot;:&quot;EU (Stockholm)&quot;,&quot;regionGroupType&quot;:&quot;PUBLIC&quot;},&quot;PUBLIC.GCP_US_EAST4&quot;:{&quot;snowflakeRegion&quot;:&quot;GCP_US_EAST4&quot;,&quot;regionGroup&quot;:&quot;PUBLIC&quot;,&quot;cloud&quot;:&quot;gcp&quot;,&quot;cloudRegion&quot;:&quot;us-east4&quot;,&quot;cloudRegionName&quot;:&quot;US East 4 (N. Virginia)&quot;,&quot;regionGroupType&quot;:&quot;PUBLIC&quot;},&quot;PUBLIC.AZURE_UKSOUTH&quot;:{&quot;snowflakeRegion&quot;:&quot;AZURE_UKSOUTH&quot;,&quot;regionGroup&quot;:&quot;PUBLIC&quot;,&quot;cloud&quot;:&quot;azure&quot;,&quot;cloudRegion&quot;:&quot;uksouth&quot;,&quot;cloudRegionName&quot;:&quot;UK South (London)&quot;,&quot;regionGroupType&quot;:&quot;PUBLIC&quot;},&quot;PUBLIC.AZURE_CENTRALINDIA&quot;:{&quot;snowflakeRegion&quot;:&quot;AZURE_CENTRALINDIA&quot;,&quot;regionGroup&quot;:&quot;PUBLIC&quot;,&quot;cloud&quot;:&quot;azure&quot;,&quot;cloudRegion&quot;:&quot;centralindia&quot;,&quot;cloudRegionName&quot;:&quot;Central India (Pune)&quot;,&quot;regionGroupType&quot;:&quot;PUBLIC&quot;},&quot;PUBLIC.AZURE_NORTHEUROPE&quot;:{&quot;snowflakeRegion&quot;:&quot;AZURE_NORTHEUROPE&quot;,&quot;regionGroup&quot;:&quot;PUBLIC&quot;,&quot;cloud&quot;:&quot;azure&quot;,&quot;cloudRegion&quot;:&quot;northeurope&quot;,&quot;cloudRegionName&quot;:&quot;North Europe (Ireland)&quot;,&quot;regionGroupType&quot;:&quot;PUBLIC&quot;},&quot;PUBLIC.AWS_EU_CENTRAL_1&quot;:{&quot;snowflakeRegion&quot;:&quot;AWS_EU_CENTRAL_1&quot;,&quot;regionGroup&quot;:&quot;PUBLIC&quot;,&quot;cloud&quot;:&quot;aws&quot;,&quot;cloudRegion&quot;:&quot;eu-central-1&quot;,&quot;cloudRegionName&quot;:&quot;EU (Frankfurt)&quot;,&quot;regionGroupType&quot;:&quot;PUBLIC&quot;},&quot;PUBLIC.AWS_AP_SOUTH_1&quot;:{&quot;snowflakeRegion&quot;:&quot;AWS_AP_SOUTH_1&quot;,&quot;regionGroup&quot;:&quot;PUBLIC&quot;,&quot;cloud&quot;:&quot;aws&quot;,&quot;cloudRegion&quot;:&quot;ap-south-1&quot;,&quot;cloudRegionName&quot;:&quot;Asia Pacific (Mumbai)&quot;,&quot;regionGroupType&quot;:&quot;PUBLIC&quot;},&quot;PUBLIC.AZURE_JAPANEAST&quot;:{&quot;snowflakeRegion&quot;:&quot;AZURE_JAPANEAST&quot;,&quot;regionGroup&quot;:&quot;PUBLIC&quot;,&quot;cloud&quot;:&quot;azure&quot;,&quot;cloudRegion&quot;:&quot;japaneast&quot;,&quot;cloudRegionName&quot;:&quot;Japan East (Tokyo, Saitama)&quot;,&quot;regionGroupType&quot;:&quot;PUBLIC&quot;},&quot;PUBLIC.AZURE_AUSTRALIAEAST&quot;:{&quot;snowflakeRegion&quot;:&quot;AZURE_AUSTRALIAEAST&quot;,&quot;regionGroup&quot;:&quot;PUBLIC&quot;,&quot;cloud&quot;:&quot;azure&quot;,&quot;cloudRegion&quot;:&quot;australiaeast&quot;,&quot;cloudRegionName&quot;:&quot;Australia East (New South Wales)&quot;,&quot;regionGroupType&quot;:&quot;PUBLIC&quot;},&quot;PUBLIC.AWS_AP_NORTHEAST_1&quot;:{&quot;snowflakeRegion&quot;:&quot;AWS_AP_NORTHEAST_1&quot;,&quot;regionGroup&quot;:&quot;PUBLIC&quot;,&quot;cloud&quot;:&quot;aws&quot;,&quot;cloudRegion&quot;:&quot;ap-northeast-1&quot;,&quot;cloudRegionName&quot;:&quot;Asia Pacific (Tokyo)&quot;,&quot;regionGroupType&quot;:&quot;PUBLIC&quot;},&quot;PUBLIC.AWS_US_EAST_1&quot;:{&quot;snowflakeRegion&quot;:&quot;AWS_US_EAST_1&quot;,&quot;regionGroup&quot;:&quot;PUBLIC&quot;,&quot;cloud&quot;:&quot;aws&quot;,&quot;cloudRegion&quot;:&quot;us-east-1&quot;,&quot;cloudRegionName&quot;:&quot;US East (N. Virginia)&quot;,&quot;regionGroupType&quot;:&quot;PUBLIC&quot;},&quot;PUBLIC.GCP_EUROPE_WEST3&quot;:{&quot;snowflakeRegion&quot;:&quot;GCP_EUROPE_WEST3&quot;,&quot;regionGroup&quot;:&quot;PUBLIC&quot;,&quot;cloud&quot;:&quot;gcp&quot;,&quot;cloudRegion&quot;:&quot;europe-west3&quot;,&quot;cloudRegionName&quot;:&quot;Europe West 3 (Frankfurt)&quot;,&quot;regionGroupType&quot;:&quot;PUBLIC&quot;},&quot;PUBLIC.AWS_CA_CENTRAL_1&quot;:{&quot;snowflakeRegion&quot;:&quot;AWS_CA_CENTRAL_1&quot;,&quot;regionGroup&quot;:&quot;PUBLIC&quot;,&quot;cloud&quot;:&quot;aws&quot;,&quot;cloudRegion&quot;:&quot;ca-central-1&quot;,&quot;cloudRegionName&quot;:&quot;Canada (Central)&quot;,&quot;regionGroupType&quot;:&quot;PUBLIC&quot;},&quot;PUBLIC.GCP_EUROPE_WEST2&quot;:{&quot;snowflakeRegion&quot;:&quot;GCP_EUROPE_WEST2&quot;,&quot;regionGroup&quot;:&quot;PUBLIC&quot;,&quot;cloud&quot;:&quot;gcp&quot;,&quot;cloudRegion&quot;:&quot;europe-west2&quot;,&quot;cloudRegionName&quot;:&quot;Europe West 2 (London)&quot;,&quot;regionGroupType&quot;:&quot;PUBLIC&quot;},&quot;PUBLIC.AWS_AP_NORTHEAST_3&quot;:{&quot;snowflakeRegion&quot;:&quot;AWS_AP_NORTHEAST_3&quot;,&quot;regionGroup&quot;:&quot;PUBLIC&quot;,&quot;cloud&quot;:&quot;aws&quot;,&quot;cloudRegion&quot;:&quot;ap-northeast-3&quot;,&quot;cloudRegionName&quot;:&quot;Asia Pacific (Osaka)&quot;,&quot;regionGroupType&quot;:&quot;PUBLIC&quot;},&quot;PUBLIC.AWS_US_EAST_2&quot;:{&quot;snowflakeRegion&quot;:&quot;AWS_US_EAST_2&quot;,&quot;regionGroup&quot;:&quot;PUBLIC&quot;,&quot;cloud&quot;:&quot;aws&quot;,&quot;cloudRegion&quot;:&quot;us-east-2&quot;,&quot;cloudRegionName&quot;:&quot;US East (Ohio)&quot;,&quot;regionGroupType&quot;:&quot;PUBLIC&quot;},&quot;PUBLIC.AWS_AP_NORTHEAST_2&quot;:{&quot;snowflakeRegion&quot;:&quot;AWS_AP_NORTHEAST_2&quot;,&quot;regionGroup&quot;:&quot;PUBLIC&quot;,&quot;cloud&quot;:&quot;aws&quot;,&quot;cloudRegion&quot;:&quot;ap-northeast-2&quot;,&quot;cloudRegionName&quot;:&quot;Asia Pacific (Seoul)&quot;,&quot;regionGroupType&quot;:&quot;PUBLIC&quot;},&quot;PUBLIC.GCP_EUROPE_WEST4&quot;:{&quot;snowflakeRegion&quot;:&quot;GCP_EUROPE_WEST4&quot;,&quot;regionGroup&quot;:&quot;PUBLIC&quot;,&quot;cloud&quot;:&quot;gcp&quot;,&quot;cloudRegion&quot;:&quot;europe-west4&quot;,&quot;cloudRegionName&quot;:&quot;Europe West 4 (Netherlands)&quot;,&quot;regionGroupType&quot;:&quot;PUBLIC&quot;},&quot;PUBLIC.AZURE_WESTEUROPE&quot;:{&quot;snowflakeRegion&quot;:&quot;AZURE_WESTEUROPE&quot;,&quot;regionGroup&quot;:&quot;PUBLIC&quot;,&quot;cloud&quot;:&quot;azure&quot;,&quot;cloudRegion&quot;:&quot;westeurope&quot;,&quot;cloudRegionName&quot;:&quot;West Europe (Netherlands)&quot;,&quot;regionGroupType&quot;:&quot;PUBLIC&quot;}},&quot;UI_SNOWSIGHT_PRIVATELINK_REDIRECT_BASE_URL&quot;:&quot;https://app.us-east-1.privatelink.snowflakecomputing.com&quot;,&quot;IS_ACCOUNT_ON_DEMAND&quot;:true,&quot;WILL_ACCOUNT_ORG_BE_DEFAULTED_TO_SNOWSIGHT&quot;:false,&quot;ENABLE_IDENTIFIER_FIRST_LOGIN&quot;:false,&quot;ACCOUNT_ALIAS&quot;:&quot;LTIMOSAIC&quot;,&quot;GLOBAL_ACCOUNT_SNOWSIGHT_PL_HOST&quot;:null,&quot;UI_MIGRATION_PRIVATE_LINK_LOCKOUT_TELEMETRY_ENABLED&quot;:true,&quot;ENABLE_DUO_V4&quot;:false,&quot;ENABLE_FIX_1064101&quot;:false,&quot;ENABLE_FIX_1542204_POST_SSO_LANDING_PAGE_REDIRECT&quot;:true}\">\n",
      "    <div id=\"__snowflakeAppLoadingImg\" style=\"position: absolute; left: calc(50% - 50px); top: calc(50% - 50px); width: 100px; height: 100px;\">\n",
      "        <svg width=\"100\" height=\"100\" style=\"position: absolute; top: 0px; left: 0px; animation: 2000ms cubic-bezier(0.745, -0.51, 0.065, 1.34) 0s infinite normal none running growShrink;\">\n",
      "            <circle cx=\"50\" cy=\"50\" r=\"33.333333333333336\" fill=\"none\" stroke=\"rgb(255,104,159)\" stroke-width=\"1\"></circle>\n",
      "        </svg>\n",
      "        <svg width=\"100\" height=\"100\" style=\"position: absolute; top: 0px; left: 0px; animation: 2000ms cubic-bezier(0.780714, -0.481429, 0.100714, 1.36857) 0s infinite normal none running growShrink;\">\n",
      "            <circle cx=\"50\" cy=\"50\" r=\"33.333333333333336\" fill=\"none\" stroke=\"rgb(247,99,174)\" stroke-width=\"1.5714285714285714\"></circle>\n",
      "        </svg>\n",
      "        <svg width=\"100\" height=\"100\" style=\"position: absolute; top: 0px; left: 0px; animation: 2000ms cubic-bezier(0.816429, -0.452857, 0.136429, 1.39714) 0s infinite normal none running growShrink;\">\n",
      "            <circle cx=\"50\" cy=\"50\" r=\"33.333333333333336\" fill=\"none\" stroke=\"rgb(234,97,190)\" stroke-width=\"2.142857142857143\"></circle>\n",
      "        </svg>\n",
      "        <svg width=\"100\" height=\"100\" style=\"position: absolute; top: 0px; left: 0px; animation: 2000ms cubic-bezier(0.852143, -0.424286, 0.172143, 1.42571) 0s infinite normal none running growShrink;\">\n",
      "            <circle cx=\"50\" cy=\"50\" r=\"33.333333333333336\" fill=\"none\" stroke=\"rgb(217,98,205)\" stroke-width=\"2.7142857142857144\"></circle>\n",
      "        </svg>\n",
      "        <svg width=\"100\" height=\"100\" style=\"position: absolute; top: 0px; left: 0px; animation: 2000ms cubic-bezier(0.887857, -0.395714, 0.207857, 1.45429) 0s infinite normal none running growShrink;\">\n",
      "            <circle cx=\"50\" cy=\"50\" r=\"33.333333333333336\" fill=\"none\" stroke=\"rgb(195,102,220)\" stroke-width=\"3.2857142857142856\"></circle>\n",
      "        </svg>\n",
      "        <svg width=\"100\" height=\"100\" style=\"position: absolute; top: 0px; left: 0px; animation: 2000ms cubic-bezier(0.923571, -0.367143, 0.243571, 1.48286) 0s infinite normal none running growShrink;\">\n",
      "            <circle cx=\"50\" cy=\"50\" r=\"33.333333333333336\" fill=\"none\" stroke=\"rgb(166,107,234)\" stroke-width=\"3.857142857142857\"></circle>\n",
      "        </svg>\n",
      "        <svg width=\"100\" height=\"100\" style=\"position: absolute; top: 0px; left: 0px; animation: 2000ms cubic-bezier(0.959286, -0.338571, 0.279286, 1.51143) 0s infinite normal none running growShrink;\">\n",
      "            <circle cx=\"50\" cy=\"50\" r=\"33.333333333333336\" fill=\"none\" stroke=\"rgb(127,113,246)\" stroke-width=\"4.428571428571429\"></circle>\n",
      "        </svg>\n",
      "        <svg width=\"100\" height=\"100\" style=\"position: absolute; top: 0px; left: 0px; animation: 2000ms cubic-bezier(0.995, -0.31, 0.315, 1.54) 0s infinite normal none running growShrink;\">\n",
      "            <circle cx=\"50\" cy=\"50\" r=\"33.333333333333336\" fill=\"none\" stroke=\"rgb(63,119,255)\" stroke-width=\"5\"></circle>\n",
      "        </svg>\n",
      "    </div>\n",
      "</body>\n",
      "\n",
      "\n",
      "\n"
     ]
    }
   ],
   "source": [
    "i"
   ]
  },
  {
   "cell_type": "code",
   "execution_count": null,
   "id": "8055ce3f-09b6-49fc-9700-39fc3fd41bd4",
   "metadata": {},
   "outputs": [],
   "source": [
    "mport requests\n",
    "\n",
    "#token = f'\\\"{token_extract}\\\"'\n",
    "token2=\"ver:1-hint:32355341569548294-ETMsDgAAAZJDLrBuABRBRVMvQ0JDL1BLQ1M1UGFkZGluZwEAABAAECpsnm4U+EXg6qxo0eEqGEcAAACAbIdkHmusbXeZfNH02Cm4xBFDvyAnoY1bZsvpNcHT5fHUssSDkRcc7uQUHCrjy46F3knPRVKJTK46z8n/BSwZeWWfXRWzNAQay9oIQmHtjDekcIrhcNTEqiczWtHBqVS2QUi8mJUGr/sw9vCUKMWn/QdSDEuz49LNA8FNziRAG0UAFLaIj5g6fuuaKkaEP9MxXwObjVH0\"\n",
    "headers = {'Authorization': f'Snowflake Token={token2}'}\n",
    "# Set this to the ingress endpoint URL for your service\n",
    "url = 'https://fexmatx4-zqiseam-ltimosaic.snowflakecomputing.app/insight/notebook/vaibhav/tree?'\n",
    "\n",
    "print(token2)\n",
    "# Validate the connection.\n",
    "response = requests.get(f'{url}', headers=headers, verify=False)\n",
    "print(response)\n",
    "print(response.text)"
   ]
  }
 ],
 "metadata": {
  "kernelspec": {
   "display_name": "Python 3 (ipykernel)",
   "language": "python",
   "name": "python3"
  },
  "language_info": {
   "codemirror_mode": {
    "name": "ipython",
    "version": 3
   },
   "file_extension": ".py",
   "mimetype": "text/x-python",
   "name": "python",
   "nbconvert_exporter": "python",
   "pygments_lexer": "ipython3",
   "version": "3.9.19"
  }
 },
 "nbformat": 4,
 "nbformat_minor": 5
}
