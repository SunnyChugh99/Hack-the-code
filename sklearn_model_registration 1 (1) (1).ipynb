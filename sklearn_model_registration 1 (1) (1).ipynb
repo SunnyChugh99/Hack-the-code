{
 "cells": [
  {
   "cell_type": "code",
   "execution_count": null,
   "id": "ca90e0d8",
   "metadata": {},
   "outputs": [],
   "source": [
    "!pip install fosforml"
   ]
  },
  {
   "cell_type": "markdown",
   "id": "91b28d33",
   "metadata": {},
   "source": [
    "## Sklearn Models Registration"
   ]
  },
  {
   "cell_type": "markdown",
   "id": "7125ad54",
   "metadata": {},
   "source": [
    "### session creation"
   ]
  },
  {
   "cell_type": "code",
   "execution_count": null,
   "id": "c28aa44f",
   "metadata": {},
   "outputs": [],
   "source": [
    "from fosforml.model_manager.snowflakesession import get_session\n",
    "session = get_session()"
   ]
  },
  {
   "cell_type": "markdown",
   "id": "36527182",
   "metadata": {},
   "source": [
    "### modeling"
   ]
  },
  {
   "cell_type": "markdown",
   "id": "a23f9d65",
   "metadata": {},
   "source": [
    "#### Multiclass classification"
   ]
  },
  {
   "cell_type": "code",
   "execution_count": null,
   "id": "a656ed51",
   "metadata": {},
   "outputs": [],
   "source": [
    "from sklearn.ensemble._forest import RandomForestClassifier\n",
    "from sklearn.datasets import load_iris\n",
    "from sklearn.model_selection import train_test_split\n",
    "import pandas as pd\n",
    "\n",
    "m_dataset = load_iris() \n"
   ]
  },
  {
   "cell_type": "code",
   "execution_count": null,
   "id": "d74bfe4b-b2bd-4fc1-a79d-99e936de1037",
   "metadata": {},
   "outputs": [],
   "source": [
    "\n",
    "feature_names = m_dataset.feature_names\n",
    "u_features = [col.replace(\" \",\"_\").replace(\"(\",\"\").replace(\")\",\"\") for col in feature_names]\n",
    "m_df = pd.DataFrame(m_dataset.data,columns=u_features)\n",
    "m_df.columns = m_df.columns.str.upper()\n",
    "\n",
    "m_df[\"Target\"] = m_dataset.target\n",
    "\n",
    "\n",
    "x_train,x_test,y_train,y_test = train_test_split(m_df.iloc[:,:-1],m_df['Target'])\n",
    "model = RandomForestClassifier()\n",
    "model.fit(x_train,y_train)\n",
    "\n",
    "y_pred = pd.DataFrame(model.predict(x_test),columns=[\"Predicted\"])"
   ]
  },
  {
   "cell_type": "code",
   "execution_count": null,
   "id": "69744be4-b128-4b7a-a47c-7a31b7febc42",
   "metadata": {},
   "outputs": [],
   "source": [
    "x_train"
   ]
  },
  {
   "cell_type": "code",
   "execution_count": null,
   "id": "6227d7f2",
   "metadata": {},
   "outputs": [],
   "source": [
    "from fosforml import register_model\n",
    "register_model(\n",
    "  model_obj=model,\n",
    "  session=session,\n",
    "  x_train=x_train,\n",
    "  y_train=y_train,\n",
    "  x_test=x_test,\n",
    "  y_test=y_test,\n",
    "  y_pred=y_pred,\n",
    "  dataset_name=\"RandomMulticlassMOdelForTesting\",\n",
    "  dataset_source=\"Snowflake\",\n",
    "  name=\"Mahesh_sklearn_28Aug\",\n",
    "  description=\"This is a test sklearn model\",\n",
    "  flavour=\"sklearn\",\n",
    "  model_type=\"classification\",\n",
    "  conda_dependencies=[\"scikit-learn==1.3.2\"]\n",
    ")"
   ]
  },
  {
   "cell_type": "code",
   "execution_count": null,
   "id": "f40e0edb",
   "metadata": {},
   "outputs": [],
   "source": [
    "x_test_df = session.create_dataframe(x_test)"
   ]
  },
  {
   "cell_type": "code",
   "execution_count": null,
   "id": "bdfafb5c",
   "metadata": {
    "scrolled": true
   },
   "outputs": [],
   "source": [
    "from fosforml.model_manager import DatasetManager\n",
    "\n",
    "dataset_manager = DatasetManager(model_name=\"MODEL_5AABC4FE_FC3D_4121_9E11_52C83C9FECC9_FDC_RANDOMMULTICLASSMODELFORTESTING\", version_name=\"v2\", session=session)\n",
    "dataset_manager.upload_datasets(session=session, datasets={\"x_train\": x_train_df})"
   ]
  },
  {
   "cell_type": "code",
   "execution_count": null,
   "id": "c2e8af10",
   "metadata": {},
   "outputs": [],
   "source": []
  },
  {
   "cell_type": "code",
   "execution_count": null,
   "id": "13a1f8ed",
   "metadata": {},
   "outputs": [],
   "source": []
  },
  {
   "cell_type": "markdown",
   "id": "78d58122",
   "metadata": {},
   "source": [
    "#### Custom Model using score_func"
   ]
  },
  {
   "cell_type": "code",
   "execution_count": null,
   "id": "728baf22",
   "metadata": {},
   "outputs": [],
   "source": [
    "from snowflake.ml.model import custom_model\n",
    "import pandas as pd"
   ]
  },
  {
   "cell_type": "code",
   "execution_count": null,
   "id": "6465b31e",
   "metadata": {},
   "outputs": [],
   "source": [
    "class CustomTestModel(custom_model.CustomModel):\n",
    "    def __init__(self, context: custom_model.CustomModel) -> None:\n",
    "        super().__init__(context)\n",
    "\n",
    "    @custom_model.inference_api\n",
    "    def predict(self, input_data: pd.DataFrame) -> pd.DataFrame:\n",
    "        score_func = self.context.model_ref('feature_preproc')\n",
    "        model = self.context.model_ref('model')\n",
    "        return score_func(\n",
    "            model,\n",
    "            input_data\n",
    "        )"
   ]
  },
  {
   "cell_type": "code",
   "execution_count": null,
   "id": "e7ad6bde",
   "metadata": {},
   "outputs": [],
   "source": [
    "def feature_preproc(model,input_data):\n",
    "    return pd.DataFrame(model.predict(input_data),columns=[\"Predicted\"])\n",
    "\n",
    "mc = custom_model.ModelContext(\n",
    "    models={\n",
    "        'model': model,\n",
    "        'feature_preproc': feature_preproc\n",
    "    }\n",
    ")"
   ]
  },
  {
   "cell_type": "code",
   "execution_count": null,
   "id": "4e355ccd",
   "metadata": {},
   "outputs": [],
   "source": [
    "custom_test_model = CustomTestModel(mc)"
   ]
  },
  {
   "cell_type": "code",
   "execution_count": null,
   "id": "d11aedae",
   "metadata": {},
   "outputs": [],
   "source": [
    "custom_model_predicted = custom_test_model.predict(x_test)"
   ]
  },
  {
   "cell_type": "code",
   "execution_count": null,
   "id": "f14daf7f",
   "metadata": {},
   "outputs": [],
   "source": [
    "custom_model_predicted.head()"
   ]
  },
  {
   "cell_type": "code",
   "execution_count": null,
   "id": "7aa716e0",
   "metadata": {},
   "outputs": [],
   "source": [
    "# custom_model_predicted"
   ]
  },
  {
   "cell_type": "code",
   "execution_count": null,
   "id": "f131fa86",
   "metadata": {},
   "outputs": [],
   "source": [
    "from fosforml.model_manager import snowflakesession\n",
    "session_instance = snowflakesession()\n",
    "params = session_instance.connection_params"
   ]
  },
  {
   "cell_type": "code",
   "execution_count": null,
   "id": "c6c7ec6d",
   "metadata": {},
   "outputs": [],
   "source": [
    "params"
   ]
  },
  {
   "cell_type": "code",
   "execution_count": null,
   "id": "76652c60",
   "metadata": {},
   "outputs": [],
   "source": [
    "from snowflake.ml.registry import Registry"
   ]
  },
  {
   "cell_type": "code",
   "execution_count": null,
   "id": "3d3059b4",
   "metadata": {},
   "outputs": [],
   "source": [
    "# model_reg = Registry(\n",
    "#     session=session,\n",
    "#     database_name=\"FDC_DEV_VISHWASMAHESHWARI\",\n",
    "#     schema_name=\"FDC_DEV_SCHMEA\"\n",
    "# )\n",
    "\n",
    "model_reg = Registry(\n",
    "    session=session\n",
    ")"
   ]
  },
  {
   "cell_type": "code",
   "execution_count": null,
   "id": "e4d3eb11-0b05-4b82-8a6e-39551b51cf88",
   "metadata": {},
   "outputs": [],
   "source": [
    "m = model_reg.get_model('MODEL_8D3FB8A6_A886_4236_9B35_73EB1303C4BF_FDC_MAHESH_SKLEARN_28AUG')"
   ]
  },
  {
   "cell_type": "code",
   "execution_count": null,
   "id": "8ab60937-05d0-49b5-833e-2d3381ca9891",
   "metadata": {},
   "outputs": [],
   "source": [
    "mv = m.version('V1')"
   ]
  },
  {
   "cell_type": "code",
   "execution_count": null,
   "id": "e3e4b98c-3ddc-4768-8dfb-15244bdf9a56",
   "metadata": {},
   "outputs": [],
   "source": [
    "from snowflake.snowpark.session import Session\n",
    "from snowflake.ml.registry.registry import Registry\n",
    "from snowflake.ml.modeling.pipeline import Pipeline\n",
    "from snowflake.ml.modeling.preprocessing import MinMaxScaler, LabelEncoder, OneHotEncoder\n",
    "from snowflake.snowpark.functions import col, when\n",
    "from snowflake.snowpark.types import StringType, DateType, BooleanType\n",
    "import re"
   ]
  },
  {
   "cell_type": "code",
   "execution_count": 75,
   "id": "2cf6d428-f9dc-4e52-b7be-052e46dd9ab1",
   "metadata": {},
   "outputs": [],
   "source": [
    "def get_valid_dataset_name(s):\n",
    "    pattern = r'^[\\d$]|[a-z\\s]|[^\\w$]'\n",
    "    if re.search(pattern, s):\n",
    "        return '\"' + s + '\"'\n",
    "    return s"
   ]
  },
  {
   "cell_type": "code",
   "execution_count": 73,
   "id": "c153b940-347a-483a-bd4a-1be5d70cc626",
   "metadata": {},
   "outputs": [],
   "source": [
    "def append_prediction_cols(original_df, predict_df, cols):\n",
    "    for col_name in cols:\n",
    "        # proba_col = predict_df.select(col(col_name)).to_pandas()\n",
    "        original_df[col_name] = predict_df[col_name]\n",
    "    return original_df"
   ]
  },
  {
   "cell_type": "code",
   "execution_count": 66,
   "id": "89c6e5ea-33e7-470c-93d8-1a27a11f41b9",
   "metadata": {},
   "outputs": [
    {
     "name": "stdout",
     "output_type": "stream",
     "text": [
      "['output_feature_0']\n"
     ]
    }
   ],
   "source": [
    "original_data = session.table('Iris_inference_dataset')\n",
    "remote_prediction = mv.run(original_data, function_name=\"predict\")\n",
    "original_data_df = original_data.to_pandas()\n",
    "remote_prediction_df = remote_prediction.to_pandas()\n",
    "predict_columns = [col for col in remote_prediction_df.columns if col not in original_data_df.columns]\n",
    "print(predict_columns)\n",
    "original_data_df = append_prediction_cols(original_data_df, remote_prediction_df, predict_columns)"
   ]
  },
  {
   "cell_type": "code",
   "execution_count": 67,
   "id": "32def9af-f927-47fa-8080-68e6aaae04ef",
   "metadata": {},
   "outputs": [
    {
     "data": {
      "text/plain": [
       "pandas.core.frame.DataFrame"
      ]
     },
     "execution_count": 67,
     "metadata": {},
     "output_type": "execute_result"
    }
   ],
   "source": [
    "type(original_data_df)"
   ]
  },
  {
   "cell_type": "code",
   "execution_count": 69,
   "id": "a96c8189-9574-4fcd-a14d-fad7e9423d1d",
   "metadata": {},
   "outputs": [
    {
     "name": "stdout",
     "output_type": "stream",
     "text": [
      "['output_feature_1', 'output_feature_2']\n"
     ]
    }
   ],
   "source": [
    "metrics = mv.show_metrics()\n",
    "if metrics['model_type'].upper() == 'CLASSIFICATION':\n",
    "    proba_prediction = mv.run(original_data, function_name=\"predict_proba\")\n",
    "    proba_prediction_df = proba_prediction.to_pandas()\n",
    "    proba_columns = [col for col in proba_prediction_df.columns if col not in original_data_df.columns]\n",
    "    print(proba_columns)\n",
    "    # original_data_df = append_prediction_cols(original_data_df, proba_prediction_df, proba_columns)"
   ]
  },
  {
   "cell_type": "code",
   "execution_count": 70,
   "id": "c80ba49f-1082-47b2-8310-d6fa2fd62262",
   "metadata": {},
   "outputs": [],
   "source": [
    "original_data_df = append_prediction_cols(original_data_df, proba_prediction_df, proba_columns)"
   ]
  },
  {
   "cell_type": "code",
   "execution_count": 63,
   "id": "6dd150a5-80ff-4d25-9559-8c2e13d39877",
   "metadata": {},
   "outputs": [],
   "source": [
    "original_data_df['output_feature_1'] = proba_prediction_df['output_feature_1']"
   ]
  },
  {
   "cell_type": "code",
   "execution_count": null,
   "id": "9f3b6d3c-336f-4710-87ae-06656fa02c65",
   "metadata": {},
   "outputs": [],
   "source": [
    "remote_prediction = remote_prediction.to_pandas()"
   ]
  },
  {
   "cell_type": "code",
   "execution_count": null,
   "id": "bf51972d-a4a3-4797-ba4e-43c8620e04e1",
   "metadata": {},
   "outputs": [],
   "source": [
    "proba_col = remote_prediction.select(col('output_feature_0')).to_pandas()"
   ]
  },
  {
   "cell_type": "code",
   "execution_count": null,
   "id": "86283fcc-68ee-4f4e-82b9-81652e477c63",
   "metadata": {},
   "outputs": [],
   "source": [
    "proba_col"
   ]
  },
  {
   "cell_type": "code",
   "execution_count": 72,
   "id": "774d5a0a-6474-4b3e-8575-9fe3bb10c9ef",
   "metadata": {},
   "outputs": [],
   "source": [
    "def batch_prediction(session, model_id, version_id, input_table, filter_cond='', output_table=''):\n",
    "    reg = Registry(session=session)\n",
    "    m = reg.get_model(model_id)\n",
    "    mv = m.version(version_id)\n",
    "    metrics = mv.show_metrics()\n",
    "    source = metrics['source']\n",
    "    input_table = get_valid_dataset_name(input_table)\n",
    "    if source.upper() == 'EXPERIMENT':\n",
    "        target_column = metrics['dataset_details'][0].get('target_column')\n",
    "        original_data = session.table(input_table)\n",
    "        data = apply_data_cleansing(original_data)\n",
    "        numerical_features, le_column_features, oh_column_features = get_feature_columns(data, target_column)\n",
    "        data = create_and_run_preprocessing(data, numerical_features, le_column_features, oh_column_features)\n",
    "        remote_prediction = mv.run(data, function_name=\"predict\")\n",
    "        # creating prediction with original data\n",
    "        prediction_column = remote_prediction.select(col('PREDICTIONS')).to_pandas()\n",
    "        original_data = original_data.to_pandas()\n",
    "        original_data['PREDICTIONS'] = prediction_column['PREDICTIONS']\n",
    "\n",
    "        if metrics['model_type'].upper() == 'CLASSIFICATION':\n",
    "            proba_prediction = mv.run(data, function_name=\"predict_proba\")\n",
    "            proba_prediction = proba_prediction.to_pandas()\n",
    "            proba_columns = [col for col in proba_prediction.columns if col not in data.columns]\n",
    "            original_data = append_prediction_cols(original_data, proba_prediction, proba_columns)\n",
    "\n",
    "            table_prefix = \"PREDICTION_\"\n",
    "            new_table_name = (table_prefix + output_table).upper()\n",
    "            session.write_pandas(original_data, new_table_name, auto_create_table=True, overwrite=True)\n",
    "            return output_table\n",
    "\n",
    "    else:\n",
    "        original_data = session.table('Iris_inference_dataset')\n",
    "        remote_prediction = mv.run(original_data, function_name=\"predict\")\n",
    "        original_data_df = original_data.to_pandas()\n",
    "        remote_prediction_df = remote_prediction.to_pandas()\n",
    "        print(remote_prediction_df.head())\n",
    "        predict_columns = [col for col in remote_prediction_df.columns if col not in original_data_df.columns]\n",
    "        original_data_df = append_prediction_cols(original_data_df, remote_prediction_df, predict_columns)\n",
    "\n",
    "        if metrics['model_type'].upper() == 'CLASSIFICATION':\n",
    "            proba_prediction = mv.run(original_data, function_name=\"predict_proba\")\n",
    "            proba_prediction_df = proba_prediction.to_pandas()\n",
    "            proba_columns = [col for col in proba_prediction_df.columns if col not in original_data_df.columns]\n",
    "            original_data_df = append_prediction_cols(original_data_df, proba_prediction_df, proba_columns)\n",
    "\n",
    "            table_prefix = \"PREDICTION_\"\n",
    "            new_table_name = (table_prefix + output_table).upper()\n",
    "            session.write_pandas(original_data_df, new_table_name, auto_create_table=True, overwrite=True)\n",
    "            return original_data_df"
   ]
  },
  {
   "cell_type": "code",
   "execution_count": 76,
   "id": "18574455-8ff1-4f1c-99a4-968f2b978f10",
   "metadata": {},
   "outputs": [
    {
     "data": {
      "text/plain": [
       "'28282828'"
      ]
     },
     "execution_count": 76,
     "metadata": {},
     "output_type": "execute_result"
    }
   ],
   "source": [
    "op = batch_prediction(session, 'MODEL_8D3FB8A6_A886_4236_9B35_73EB1303C4BF_FDC_MAHESH_SKLEARN_28AUG', 'V1', 'Iris_inference_dataset', '', '28282828')\n"
   ]
  },
  {
   "cell_type": "code",
   "execution_count": null,
   "id": "610d21c5-e768-419d-995a-39a1240ab5f4",
   "metadata": {},
   "outputs": [],
   "source": [
    "remote_prediction.head()"
   ]
  },
  {
   "cell_type": "code",
   "execution_count": null,
   "id": "33e1adf3-caa2-4896-a75b-80bb937fed3c",
   "metadata": {},
   "outputs": [],
   "source": [
    "remote_prediction = mv.run(x_test, function_name=\"predict_proba\")"
   ]
  },
  {
   "cell_type": "code",
   "execution_count": null,
   "id": "495d4962-9d61-4776-8fc3-9ee90ecbb438",
   "metadata": {},
   "outputs": [],
   "source": [
    "remote_prediction.head()"
   ]
  },
  {
   "cell_type": "code",
   "execution_count": 78,
   "id": "a6fcc743-2a5b-44b1-86b8-da45ee1e977b",
   "metadata": {},
   "outputs": [],
   "source": [
    "original_data = session.table('Iris_inference_dataset')\n",
    "remote_prediction_1 = mv.run(original_data, function_name=\"predict\")"
   ]
  },
  {
   "cell_type": "code",
   "execution_count": null,
   "id": "90839320-e5a9-47f0-a6a5-aeedf1a13b0c",
   "metadata": {},
   "outputs": [],
   "source": [
    "x_test_df.write.save_as_table(\"Iris_inference_dataset\", mode=\"overwrite\")"
   ]
  },
  {
   "cell_type": "code",
   "execution_count": 79,
   "id": "dd76f928-37d6-4dda-b18f-b4c3750133de",
   "metadata": {},
   "outputs": [
    {
     "name": "stdout",
     "output_type": "stream",
     "text": [
      "----------------------------------------------------------------------------------------------------\n",
      "|\"SEPAL_LENGTH_CM\"  |\"SEPAL_WIDTH_CM\"  |\"PETAL_LENGTH_CM\"  |\"PETAL_WIDTH_CM\"  |\"output_feature_0\"  |\n",
      "----------------------------------------------------------------------------------------------------\n",
      "|6.2                |2.2               |4.5                |1.5               |1                   |\n",
      "|7.2                |3.6               |6.1                |2.5               |2                   |\n",
      "|6.8                |3.0               |5.5                |2.1               |2                   |\n",
      "|5.4                |3.4               |1.7                |0.2               |0                   |\n",
      "|6.0                |2.9               |4.5                |1.5               |1                   |\n",
      "|6.0                |3.4               |4.5                |1.6               |1                   |\n",
      "|5.8                |2.7               |5.1                |1.9               |2                   |\n",
      "|6.7                |3.3               |5.7                |2.5               |2                   |\n",
      "|5.0                |3.5               |1.3                |0.3               |0                   |\n",
      "|5.0                |3.0               |1.6                |0.2               |0                   |\n",
      "----------------------------------------------------------------------------------------------------\n",
      "\n"
     ]
    }
   ],
   "source": [
    "remote_prediction_1.show()"
   ]
  },
  {
   "cell_type": "code",
   "execution_count": null,
   "id": "c0ee163d",
   "metadata": {},
   "outputs": [],
   "source": [
    "custom_test_model.context.model_refs.keys()"
   ]
  },
  {
   "cell_type": "code",
   "execution_count": null,
   "id": "695d9731",
   "metadata": {},
   "outputs": [],
   "source": [
    "!python -c \"import platform;print(platform.python_version())\""
   ]
  },
  {
   "cell_type": "code",
   "execution_count": null,
   "id": "04b83327",
   "metadata": {},
   "outputs": [],
   "source": [
    "model_reg.log_model(\n",
    "       model=custom_test_model,\n",
    "       model_name=\"custom_test_model_feature_pre\",\n",
    "       version_name=\"custom_test_model_v1\",\n",
    "       comment=\"Testing score function with custom_test_model\",\n",
    "       conda_dependencies=['scikit-learn==1.3.2'],\n",
    "       metrics={},\n",
    "       sample_input_data=m_df.drop('Target',axis=1),\n",
    "       python_version=\"3.10.13\"\n",
    ")"
   ]
  },
  {
   "cell_type": "code",
   "execution_count": null,
   "id": "09152e54",
   "metadata": {},
   "outputs": [],
   "source": []
  },
  {
   "cell_type": "code",
   "execution_count": null,
   "id": "a75521da",
   "metadata": {},
   "outputs": [],
   "source": [
    "from snowflake.ml.modeling.metrics import (confusion_matrix,\n",
    "                                        accuracy_score,\n",
    "                                        f1_score, recall_score,\n",
    "                                        precision_score,\n",
    "                                        log_loss ,\n",
    "                                        roc_auc_score ,\n",
    "                                        roc_curve)"
   ]
  },
  {
   "cell_type": "code",
   "execution_count": null,
   "id": "974782a5",
   "metadata": {},
   "outputs": [],
   "source": [
    "roc_auc_score(df=self.sf_df,y_true_col_names=self.true_cn, y_score_col_names=self.pred_cn)"
   ]
  },
  {
   "cell_type": "code",
   "execution_count": null,
   "id": "741a1120",
   "metadata": {},
   "outputs": [],
   "source": [
    "from fosforml import register_model\n",
    "register_model(\n",
    "  model_obj=custom_test_model,\n",
    "  session=session,\n",
    "  x_train=x_train,\n",
    "  y_train=y_train,\n",
    "  x_test=x_test,\n",
    "  y_test=y_test,\n",
    "  y_pred=y_pred,\n",
    "  dataset_name=\"Snowflake_dataset\",\n",
    "  dataset_source=\"Snowflake\",\n",
    "  name=\"SklearnMulitClassModel\",\n",
    "  description=\"This is a test sklearn model\",\n",
    "  flavour=\"sklearn\",\n",
    "  model_type=\"classification\",\n",
    "  conda_dependencies=[\"scikit-learn==1.3.2\"]\n",
    ")"
   ]
  },
  {
   "cell_type": "code",
   "execution_count": null,
   "id": "3a395843",
   "metadata": {},
   "outputs": [],
   "source": []
  },
  {
   "cell_type": "markdown",
   "id": "d7ba09b7",
   "metadata": {},
   "source": [
    "#### Binary Classfication"
   ]
  },
  {
   "cell_type": "code",
   "execution_count": null,
   "id": "607193c3",
   "metadata": {},
   "outputs": [],
   "source": [
    "from sklearn.ensemble._forest import RandomForestClassifier\n",
    "from sklearn.datasets import load_breast_cancer\n",
    "from sklearn.model_selection import train_test_split\n",
    "import pandas as pd\n",
    "\n",
    "m_dataset = load_breast_cancer() \n",
    "feature_names = m_dataset.feature_names\n",
    "u_features = [feature.replace(\" \",\"_\") for feature in feature_names]\n",
    "m_df = pd.DataFrame(m_dataset.data,columns=u_features)\n",
    "m_df[\"Target\"] = m_dataset.target\n",
    "\n",
    "\n",
    "x_train,x_test,y_train,y_test = train_test_split(m_df.iloc[:,:-1],m_df['Target'])\n",
    "model = RandomForestClassifier()\n",
    "model.fit(x_train,y_train)\n",
    "\n",
    "y_pred = pd.DataFrame(model.predict(x_test),columns=[\"Predicted\"])"
   ]
  },
  {
   "cell_type": "code",
   "execution_count": null,
   "id": "99a82f77",
   "metadata": {},
   "outputs": [],
   "source": [
    "session"
   ]
  },
  {
   "cell_type": "code",
   "execution_count": null,
   "id": "e905b3c2",
   "metadata": {},
   "outputs": [],
   "source": [
    "from fosforml import register_model\n",
    "register_model(\n",
    "  model_obj=model,\n",
    "  session=session,\n",
    "  x_train=x_train,\n",
    "  y_train=y_train,\n",
    "  x_test=x_test,\n",
    "  y_test=y_test,\n",
    "  y_pred=y_pred,\n",
    "  dataset_name=\"Binary_Model\",\n",
    "  dataset_source = \"SNOWFLAKE_STAGE\",\n",
    "  name=\"SklearnBinaryModel\",\n",
    "  description=\"This is a test sklearn model\",\n",
    "  flavour=\"sklearn\",\n",
    "  model_type=\"classification\",\n",
    "  conda_dependencies=[\"scikit-learn==1.3.2\"]\n",
    ")"
   ]
  },
  {
   "cell_type": "code",
   "execution_count": null,
   "id": "d7772309",
   "metadata": {},
   "outputs": [],
   "source": []
  },
  {
   "cell_type": "markdown",
   "id": "bbd5d726",
   "metadata": {},
   "source": [
    "#### Regression"
   ]
  },
  {
   "cell_type": "code",
   "execution_count": null,
   "id": "ff506979",
   "metadata": {},
   "outputs": [],
   "source": [
    "from sklearn.ensemble._forest import RandomForestRegressor\n",
    "from sklearn.datasets import load_diabetes\n",
    "from sklearn.model_selection import train_test_split\n",
    "import pandas as pd\n",
    "\n",
    "m_dataset = load_diabetes() \n",
    "feature_names = m_dataset.feature_names\n",
    "u_features = [feature.replace(\" \",\"_\") for feature in feature_names]\n",
    "\n",
    "m_df = pd.DataFrame(m_dataset.data,columns=u_features)\n",
    "m_df[\"Target\"] = m_dataset.target\n",
    "\n",
    "x_train,x_test,y_train,y_test = train_test_split(m_df.iloc[:,:-1],m_df['Target'])\n",
    "model = RandomForestRegressor()\n",
    "model.fit(x_train,y_train)\n",
    "\n",
    "y_pred = pd.DataFrame(model.predict(x_test),columns=[\"Predicted\"])"
   ]
  },
  {
   "cell_type": "code",
   "execution_count": null,
   "id": "3775cb1d",
   "metadata": {},
   "outputs": [],
   "source": [
    "from fosforml import register_model\n",
    "register_model(\n",
    "  name=\"SklearnReyhtyjhgressionModel\",\n",
    "  model_obj=model,\n",
    "  session=session,\n",
    "  x_train=x_train,\n",
    "  y_train=y_train,\n",
    "  x_test=x_test,\n",
    "  y_test=y_test,\n",
    "  y_pred=y_pred,\n",
    "  dataset_name=\"RegressionModel\",\n",
    "  dataset_source = \"SNOWFLAKE_STAGE\",\n",
    "  description=\"This is a test sklearn model\",\n",
    "  flavour=\"sklearn\",\n",
    "  model_type=\"regression\",\n",
    "  conda_dependencies=[\"scikit-learn==1.3.2\"]\n",
    ")"
   ]
  },
  {
   "cell_type": "code",
   "execution_count": null,
   "id": "fad79a57",
   "metadata": {},
   "outputs": [],
   "source": []
  },
  {
   "cell_type": "code",
   "execution_count": null,
   "id": "e1634b2e",
   "metadata": {},
   "outputs": [],
   "source": []
  },
  {
   "cell_type": "code",
   "execution_count": null,
   "id": "9300d98f",
   "metadata": {},
   "outputs": [],
   "source": []
  }
 ],
 "metadata": {
  "kernelspec": {
   "display_name": "Python 3 (ipykernel)",
   "language": "python",
   "name": "python3"
  },
  "language_info": {
   "codemirror_mode": {
    "name": "ipython",
    "version": 3
   },
   "file_extension": ".py",
   "mimetype": "text/x-python",
   "name": "python",
   "nbconvert_exporter": "python",
   "pygments_lexer": "ipython3",
   "version": "3.9.19"
  }
 },
 "nbformat": 4,
 "nbformat_minor": 5
}
