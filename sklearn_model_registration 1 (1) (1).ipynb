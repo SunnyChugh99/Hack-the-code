{
 "cells": [
  {
   "cell_type": "code",
   "execution_count": null,
   "id": "ca90e0d8",
   "metadata": {},
   "outputs": [
    {
     "name": "stdout",
     "output_type": "stream",
     "text": [
      "Successfully installed absl-py-1.4.0 aiobotocore-2.13.1 aiohttp-3.9.5 aioitertools-0.11.0 aiosignal-1.3.1 anyio-3.7.1 asn1crypto-1.5.1 async-timeout-4.0.3 attrs-23.2.0 botocore-1.34.131 cachetools-5.3.3 certifi-2024.7.4 cffi-1.16.0 charset-normalizer-3.3.2 cloudpickle-2.2.1 cryptography-42.0.8 exceptiongroup-1.2.2 filelock-3.15.4 fosforml-1.0.9 frozenlist-1.4.1 fsspec-2023.12.2 idna-3.7 importlib-resources-6.4.0 jmespath-1.0.1 joblib-1.4.2 multidict-6.0.5 numpy-1.26.4 packaging-23.2 pandas-2.2.2 platformdirs-4.2.2 pyOpenSSL-24.1.0 pyarrow-16.1.0 pycparser-2.22 pyjwt-2.8.0 python-dateutil-2.9.0.post0 pytimeparse-1.1.8 pytz-2024.1 pyyaml-6.0.1 requests-2.32.3 retrying-1.3.4 s3fs-2023.12.2 scikit-learn-1.3.2 scipy-1.14.0 setuptools-70.3.0 six-1.16.0 sniffio-1.3.1 snowflake-connector-python-3.11.0 snowflake-ml-python-1.5.1 snowflake-snowpark-python-1.19.0 sortedcontainers-2.4.0 sqlparse-0.5.0 threadpoolctl-3.5.0 tomlkit-0.13.0 typing-extensions-4.12.2 tzdata-2024.1 urllib3-2.2.2 wheel-0.43.0 wrapt-1.16.0 xgboost-1.7.6 yarl-1.9.4\n",
      "\u001b[33mWARNING: You are using pip version 19.3.1; however, version 24.1.2 is available.\n",
      "You should consider upgrading via the 'pip install --upgrade pip' command.\u001b[0m\n"
     ]
    }
   ],
   "source": [
    "!pip install fosforml"
   ]
  },
  {
   "cell_type": "markdown",
   "id": "91b28d33",
   "metadata": {},
   "source": [
    "## Sklearn Models Registration"
   ]
  },
  {
   "cell_type": "markdown",
   "id": "7125ad54",
   "metadata": {},
   "source": [
    "### session creation"
   ]
  },
  {
   "cell_type": "code",
   "execution_count": 1,
   "id": "c28aa44f",
   "metadata": {},
   "outputs": [],
   "source": [
    "from fosforml.model_manager.snowflakesession import get_session\n",
    "session = get_session()"
   ]
  },
  {
   "cell_type": "markdown",
   "id": "36527182",
   "metadata": {},
   "source": [
    "### modeling"
   ]
  },
  {
   "cell_type": "markdown",
   "id": "a23f9d65",
   "metadata": {},
   "source": [
    "#### Multiclass classification"
   ]
  },
  {
   "cell_type": "code",
   "execution_count": 2,
   "id": "a656ed51",
   "metadata": {},
   "outputs": [],
   "source": [
    "from sklearn.ensemble._forest import RandomForestClassifier\n",
    "from sklearn.datasets import load_iris\n",
    "from sklearn.model_selection import train_test_split\n",
    "import pandas as pd\n",
    "\n",
    "m_dataset = load_iris() \n",
    "feature_names = m_dataset.feature_names\n",
    "u_features = [col.replace(\" \",\"_\").replace(\"(\",\"\").replace(\")\",\"\") for col in feature_names]\n",
    "m_df = pd.DataFrame(m_dataset.data,columns=u_features)\n",
    "m_df[\"Target\"] = m_dataset.target\n",
    "\n",
    "\n",
    "x_train,x_test,y_train,y_test = train_test_split(m_df.iloc[:,:-1],m_df['Target'])\n",
    "model = RandomForestClassifier()\n",
    "model.fit(x_train,y_train)\n",
    "\n",
    "y_pred = pd.DataFrame(model.predict(x_test),columns=[\"Predicted\"])"
   ]
  },
  {
   "cell_type": "code",
   "execution_count": null,
   "id": "6227d7f2",
   "metadata": {},
   "outputs": [
    {
     "name": "stderr",
     "output_type": "stream",
     "text": [
      "Got error object of type 'NoneType' has no len() when trying to read default values from function: <class 'snowflake.ml.modeling.metrics.classification._register_confusion_matrix_computer.<locals>.ConfusionMatrixComputer'>. Proceeding without creating optional arguments\n",
      "Got error object of type 'NoneType' has no len() when trying to read default values from function: <class 'snowflake.ml.modeling.metrics.metrics_utils.register_accumulator_udtf.<locals>.Accumulator'>. Proceeding without creating optional arguments\n"
     ]
    },
    {
     "name": "stdout",
     "output_type": "stream",
     "text": [
      "Calculating build time metrics\n",
      "\n",
      "Progress: ██████████████                                                         20.0%\n",
      "Calculating build time metrics\n",
      "\n",
      "Progress: ████████████████████████████                                           40.0%\n"
     ]
    },
    {
     "name": "stderr",
     "output_type": "stream",
     "text": [
      "Got error object of type 'NoneType' has no len() when trying to read default values from function: <class 'snowflake.ml.modeling.metrics.classification._register_multilabel_confusion_matrix_computer.<locals>.MultilabelConfusionMatrixComputer'>. Proceeding without creating optional arguments\n",
      "The version of package 'scikit-learn' in the local environment is 1.3.2, which does not fit the criteria for the requirement 'scikit-learn<1.4'. Your UDF might not work when the package version is different between the server and your local environment.\n",
      "DataFrame.flatten() is deprecated since 0.7.0. Use `DataFrame.join_table_function()` instead.\n",
      "Got error object of type 'NoneType' has no len() when trying to read default values from function: <class 'snowflake.ml.modeling.metrics.classification._register_multilabel_confusion_matrix_computer.<locals>.MultilabelConfusionMatrixComputer'>. Proceeding without creating optional arguments\n",
      "The version of package 'scikit-learn' in the local environment is 1.3.2, which does not fit the criteria for the requirement 'scikit-learn<1.4'. Your UDF might not work when the package version is different between the server and your local environment.\n",
      "Got error object of type 'NoneType' has no len() when trying to read default values from function: <class 'snowflake.ml.modeling.metrics.classification._register_multilabel_confusion_matrix_computer.<locals>.MultilabelConfusionMatrixComputer'>. Proceeding without creating optional arguments\n",
      "The version of package 'scikit-learn' in the local environment is 1.3.2, which does not fit the criteria for the requirement 'scikit-learn<1.4'. Your UDF might not work when the package version is different between the server and your local environment.\n"
     ]
    },
    {
     "name": "stdout",
     "output_type": "stream",
     "text": [
      "Calculating build time metrics\n",
      "\n",
      "Progress: ██████████████████████████████████████████                             60.0%\n",
      "Calculating build time metrics\n",
      "\n",
      "Progress: ████████████████████████████████████████████████████████               80.0%\n",
      "Calculating build time metrics\n",
      "\n",
      "Progress: ██████████████████████████████████████████████████████████████████████ 100.0%\n"
     ]
    }
   ],
   "source": [
    "from fosforml import register_model\n",
    "register_model(\n",
    "  model_obj=model,\n",
    "  session=session,\n",
    "  x_train=x_train,\n",
    "  y_train=y_train,\n",
    "  x_test=x_test,\n",
    "  y_test=y_test,\n",
    "  y_pred=y_pred,\n",
    "  dataset_name=\"RandomMulticlassMOdelForTesting\",\n",
    "  dataset_source=\"Snowflake\",\n",
    "  name=\"Mahesh_sklearn_26Aug\",\n",
    "  description=\"This is a test sklearn model\",\n",
    "  flavour=\"sklearn\",\n",
    "  model_type=\"classification\",\n",
    "  conda_dependencies=[\"scikit-learn==1.3.2\"]\n",
    ")"
   ]
  },
  {
   "cell_type": "code",
   "execution_count": null,
   "id": "f40e0edb",
   "metadata": {},
   "outputs": [],
   "source": [
    "x_train_df = session.create_dataframe(x_train)"
   ]
  },
  {
   "cell_type": "code",
   "execution_count": null,
   "id": "bdfafb5c",
   "metadata": {
    "scrolled": true
   },
   "outputs": [],
   "source": [
    "from fosforml.model_manager import DatasetManager\n",
    "\n",
    "dataset_manager = DatasetManager(model_name=\"MODEL_5AABC4FE_FC3D_4121_9E11_52C83C9FECC9_FDC_RANDOMMULTICLASSMODELFORTESTING\", version_name=\"v2\", session=session)\n",
    "dataset_manager.upload_datasets(session=session, datasets={\"x_train\": x_train_df})"
   ]
  },
  {
   "cell_type": "code",
   "execution_count": null,
   "id": "c2e8af10",
   "metadata": {},
   "outputs": [],
   "source": []
  },
  {
   "cell_type": "code",
   "execution_count": null,
   "id": "13a1f8ed",
   "metadata": {},
   "outputs": [],
   "source": []
  },
  {
   "cell_type": "markdown",
   "id": "78d58122",
   "metadata": {},
   "source": [
    "#### Custom Model using score_func"
   ]
  },
  {
   "cell_type": "code",
   "execution_count": null,
   "id": "728baf22",
   "metadata": {},
   "outputs": [],
   "source": [
    "from snowflake.ml.model import custom_model\n",
    "import pandas as pd"
   ]
  },
  {
   "cell_type": "code",
   "execution_count": null,
   "id": "6465b31e",
   "metadata": {},
   "outputs": [],
   "source": [
    "class CustomTestModel(custom_model.CustomModel):\n",
    "    def __init__(self, context: custom_model.CustomModel) -> None:\n",
    "        super().__init__(context)\n",
    "\n",
    "    @custom_model.inference_api\n",
    "    def predict(self, input_data: pd.DataFrame) -> pd.DataFrame:\n",
    "        score_func = self.context.model_ref('feature_preproc')\n",
    "        model = self.context.model_ref('model')\n",
    "        return score_func(\n",
    "            model,\n",
    "            input_data\n",
    "        )"
   ]
  },
  {
   "cell_type": "code",
   "execution_count": null,
   "id": "e7ad6bde",
   "metadata": {},
   "outputs": [],
   "source": [
    "def feature_preproc(model,input_data):\n",
    "    return pd.DataFrame(model.predict(input_data),columns=[\"Predicted\"])\n",
    "\n",
    "mc = custom_model.ModelContext(\n",
    "    models={\n",
    "        'model': model,\n",
    "        'feature_preproc': feature_preproc\n",
    "    }\n",
    ")"
   ]
  },
  {
   "cell_type": "code",
   "execution_count": null,
   "id": "4e355ccd",
   "metadata": {},
   "outputs": [],
   "source": [
    "custom_test_model = CustomTestModel(mc)"
   ]
  },
  {
   "cell_type": "code",
   "execution_count": null,
   "id": "d11aedae",
   "metadata": {},
   "outputs": [],
   "source": [
    "custom_model_predicted = custom_test_model.predict(x_test)"
   ]
  },
  {
   "cell_type": "code",
   "execution_count": null,
   "id": "f14daf7f",
   "metadata": {},
   "outputs": [],
   "source": [
    "custom_model_predicted.head()"
   ]
  },
  {
   "cell_type": "code",
   "execution_count": null,
   "id": "7aa716e0",
   "metadata": {},
   "outputs": [],
   "source": [
    "# custom_model_predicted"
   ]
  },
  {
   "cell_type": "code",
   "execution_count": null,
   "id": "f131fa86",
   "metadata": {},
   "outputs": [],
   "source": [
    "from fosforml.model_manager import snowflakesession\n",
    "session_instance = snowflakesession()\n",
    "params = session_instance.connection_params"
   ]
  },
  {
   "cell_type": "code",
   "execution_count": null,
   "id": "c6c7ec6d",
   "metadata": {},
   "outputs": [],
   "source": [
    "params"
   ]
  },
  {
   "cell_type": "code",
   "execution_count": null,
   "id": "76652c60",
   "metadata": {},
   "outputs": [],
   "source": [
    "from snowflake.ml.registry import Registry"
   ]
  },
  {
   "cell_type": "code",
   "execution_count": null,
   "id": "3d3059b4",
   "metadata": {},
   "outputs": [],
   "source": [
    "model_reg = Registry(\n",
    "    session=session,\n",
    "    database_name=\"FDC_DEV_VISHWASMAHESHWARI\",\n",
    "    schema_name=\"FDC_DEV_SCHMEA\"\n",
    ")"
   ]
  },
  {
   "cell_type": "code",
   "execution_count": null,
   "id": "c0ee163d",
   "metadata": {},
   "outputs": [],
   "source": [
    "custom_test_model.context.model_refs.keys()"
   ]
  },
  {
   "cell_type": "code",
   "execution_count": null,
   "id": "695d9731",
   "metadata": {},
   "outputs": [],
   "source": [
    "!python -c \"import platform;print(platform.python_version())\""
   ]
  },
  {
   "cell_type": "code",
   "execution_count": null,
   "id": "04b83327",
   "metadata": {},
   "outputs": [],
   "source": [
    "model_reg.log_model(\n",
    "       model=custom_test_model,\n",
    "       model_name=\"custom_test_model_feature_pre\",\n",
    "       version_name=\"custom_test_model_v1\",\n",
    "       comment=\"Testing score function with custom_test_model\",\n",
    "       conda_dependencies=['scikit-learn==1.3.2'],\n",
    "       metrics={},\n",
    "       sample_input_data=m_df.drop('Target',axis=1),\n",
    "       python_version=\"3.10.13\"\n",
    ")"
   ]
  },
  {
   "cell_type": "code",
   "execution_count": null,
   "id": "09152e54",
   "metadata": {},
   "outputs": [],
   "source": []
  },
  {
   "cell_type": "code",
   "execution_count": null,
   "id": "a75521da",
   "metadata": {},
   "outputs": [],
   "source": [
    "from snowflake.ml.modeling.metrics import (confusion_matrix,\n",
    "                                        accuracy_score,\n",
    "                                        f1_score, recall_score,\n",
    "                                        precision_score,\n",
    "                                        log_loss ,\n",
    "                                        roc_auc_score ,\n",
    "                                        roc_curve)"
   ]
  },
  {
   "cell_type": "code",
   "execution_count": null,
   "id": "974782a5",
   "metadata": {},
   "outputs": [],
   "source": [
    "roc_auc_score(df=self.sf_df,y_true_col_names=self.true_cn, y_score_col_names=self.pred_cn)"
   ]
  },
  {
   "cell_type": "code",
   "execution_count": null,
   "id": "741a1120",
   "metadata": {},
   "outputs": [],
   "source": [
    "from fosforml import register_model\n",
    "register_model(\n",
    "  model_obj=custom_test_model,\n",
    "  session=session,\n",
    "  x_train=x_train,\n",
    "  y_train=y_train,\n",
    "  x_test=x_test,\n",
    "  y_test=y_test,\n",
    "  y_pred=y_pred,\n",
    "  dataset_name=\"Snowflake_dataset\",\n",
    "  dataset_source=\"Snowflake\",\n",
    "  name=\"SklearnMulitClassModel\",\n",
    "  description=\"This is a test sklearn model\",\n",
    "  flavour=\"sklearn\",\n",
    "  model_type=\"classification\",\n",
    "  conda_dependencies=[\"scikit-learn==1.3.2\"]\n",
    ")"
   ]
  },
  {
   "cell_type": "code",
   "execution_count": null,
   "id": "3a395843",
   "metadata": {},
   "outputs": [],
   "source": []
  },
  {
   "cell_type": "markdown",
   "id": "d7ba09b7",
   "metadata": {},
   "source": [
    "#### Binary Classfication"
   ]
  },
  {
   "cell_type": "code",
   "execution_count": null,
   "id": "607193c3",
   "metadata": {},
   "outputs": [],
   "source": [
    "from sklearn.ensemble._forest import RandomForestClassifier\n",
    "from sklearn.datasets import load_breast_cancer\n",
    "from sklearn.model_selection import train_test_split\n",
    "import pandas as pd\n",
    "\n",
    "m_dataset = load_breast_cancer() \n",
    "feature_names = m_dataset.feature_names\n",
    "u_features = [feature.replace(\" \",\"_\") for feature in feature_names]\n",
    "m_df = pd.DataFrame(m_dataset.data,columns=u_features)\n",
    "m_df[\"Target\"] = m_dataset.target\n",
    "\n",
    "\n",
    "x_train,x_test,y_train,y_test = train_test_split(m_df.iloc[:,:-1],m_df['Target'])\n",
    "model = RandomForestClassifier()\n",
    "model.fit(x_train,y_train)\n",
    "\n",
    "y_pred = pd.DataFrame(model.predict(x_test),columns=[\"Predicted\"])"
   ]
  },
  {
   "cell_type": "code",
   "execution_count": null,
   "id": "99a82f77",
   "metadata": {},
   "outputs": [],
   "source": [
    "session"
   ]
  },
  {
   "cell_type": "code",
   "execution_count": null,
   "id": "e905b3c2",
   "metadata": {},
   "outputs": [],
   "source": [
    "from fosforml import register_model\n",
    "register_model(\n",
    "  model_obj=model,\n",
    "  session=session,\n",
    "  x_train=x_train,\n",
    "  y_train=y_train,\n",
    "  x_test=x_test,\n",
    "  y_test=y_test,\n",
    "  y_pred=y_pred,\n",
    "  dataset_name=\"Binary_Model\",\n",
    "  dataset_source = \"SNOWFLAKE_STAGE\",\n",
    "  name=\"SklearnBinaryModel\",\n",
    "  description=\"This is a test sklearn model\",\n",
    "  flavour=\"sklearn\",\n",
    "  model_type=\"classification\",\n",
    "  conda_dependencies=[\"scikit-learn==1.3.2\"]\n",
    ")"
   ]
  },
  {
   "cell_type": "code",
   "execution_count": null,
   "id": "d7772309",
   "metadata": {},
   "outputs": [],
   "source": []
  },
  {
   "cell_type": "markdown",
   "id": "bbd5d726",
   "metadata": {},
   "source": [
    "#### Regression"
   ]
  },
  {
   "cell_type": "code",
   "execution_count": null,
   "id": "ff506979",
   "metadata": {},
   "outputs": [],
   "source": [
    "from sklearn.ensemble._forest import RandomForestRegressor\n",
    "from sklearn.datasets import load_diabetes\n",
    "from sklearn.model_selection import train_test_split\n",
    "import pandas as pd\n",
    "\n",
    "m_dataset = load_diabetes() \n",
    "feature_names = m_dataset.feature_names\n",
    "u_features = [feature.replace(\" \",\"_\") for feature in feature_names]\n",
    "\n",
    "m_df = pd.DataFrame(m_dataset.data,columns=u_features)\n",
    "m_df[\"Target\"] = m_dataset.target\n",
    "\n",
    "x_train,x_test,y_train,y_test = train_test_split(m_df.iloc[:,:-1],m_df['Target'])\n",
    "model = RandomForestRegressor()\n",
    "model.fit(x_train,y_train)\n",
    "\n",
    "y_pred = pd.DataFrame(model.predict(x_test),columns=[\"Predicted\"])"
   ]
  },
  {
   "cell_type": "code",
   "execution_count": null,
   "id": "3775cb1d",
   "metadata": {},
   "outputs": [],
   "source": [
    "from fosforml import register_model\n",
    "register_model(\n",
    "  name=\"SklearnReyhtyjhgressionModel\",\n",
    "  model_obj=model,\n",
    "  session=session,\n",
    "  x_train=x_train,\n",
    "  y_train=y_train,\n",
    "  x_test=x_test,\n",
    "  y_test=y_test,\n",
    "  y_pred=y_pred,\n",
    "  dataset_name=\"RegressionModel\",\n",
    "  dataset_source = \"SNOWFLAKE_STAGE\",\n",
    "  description=\"This is a test sklearn model\",\n",
    "  flavour=\"sklearn\",\n",
    "  model_type=\"regression\",\n",
    "  conda_dependencies=[\"scikit-learn==1.3.2\"]\n",
    ")"
   ]
  },
  {
   "cell_type": "code",
   "execution_count": null,
   "id": "fad79a57",
   "metadata": {},
   "outputs": [],
   "source": []
  },
  {
   "cell_type": "code",
   "execution_count": null,
   "id": "e1634b2e",
   "metadata": {},
   "outputs": [],
   "source": []
  },
  {
   "cell_type": "code",
   "execution_count": null,
   "id": "9300d98f",
   "metadata": {},
   "outputs": [],
   "source": []
  }
 ],
 "metadata": {
  "kernelspec": {
   "display_name": "Python 3 (ipykernel)",
   "language": "python",
   "name": "python3"
  },
  "language_info": {
   "codemirror_mode": {
    "name": "ipython",
    "version": 3
   },
   "file_extension": ".py",
   "mimetype": "text/x-python",
   "name": "python",
   "nbconvert_exporter": "python",
   "pygments_lexer": "ipython3",
   "version": "3.9.19"
  }
 },
 "nbformat": 4,
 "nbformat_minor": 5
}
