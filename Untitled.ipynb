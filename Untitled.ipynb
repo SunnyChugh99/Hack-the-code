{
 "cells": [
  {
   "cell_type": "code",
   "execution_count": 2,
   "id": "18a23e0f",
   "metadata": {},
   "outputs": [
    {
     "name": "stdout",
     "output_type": "stream",
     "text": [
      "ya29.d.c0AY_VpZjkiP5yUBscwYWMvu_Dq7Hu1sqE_9y_9ezghblGBFI7y5OSZd4TqAZRu9RJBSkSrKZcoTVm5h--NCGwTFzL_jyPkL3md99GtUt-QxnZtSUx_cHGsVM1jA3Ok_nE8zVEZQXBGKOvCSjkeOgVluMbrKePlsJND4mto5Oe59ozZWGJ5yDq358DBm1ALmGPRcwVwjfScgaBr9Qs7_RVzcKpRLMpEuERGR4SKabUnn9sEHrGUUk4XZFSUySJZilEx5TlCktDNgEc_Kuq-Ct8JkkkXC6OCrSqPrZ7Yl-gDINdQgAHAIvFC3w3lKZ5CyV7frOEL3gC6cL629VMWcZr2SyGa7ScYP9Wc73XKhpPtZgKvS3aZ-B6uz3YDp7-IkYFVObKtKKL7O1X0vwzXDSejblnNxPDe_9oiH_Wb5fyjJ_c9HyWr4ShA4Qe_tBUWqFekGs56albzJhXf8gZpJ34XmhHEa6-5UgVlfFw0bOfsHnGPGpK9zsS6o3KKmx8sYHoZNlKfFt-iC0YVoAZeZNlEj4G5V1AukDqmTi-B-AibFkAOxAAsuqjxnQy7aPKm8Fq1rDlE2oVc-pA7iW-G7SxM6oMuNUJBXii4aCXAhSfonHSarS3bC2l9wtYIGYMikWpfs1q6JvIREw-hWve5e6Jvbin1yla35ZSNlnk1nKyD_t8_UnE_oebfHEGr9fAwt-eXEB7YOg_iETeY1B7e4Yyx-ueNKZNvsYQNflscO0nslz1UvfuB30zmpnBHIz4o6Oeq9md-lzUww2XD8HsZ3GzhHoF8uOE6OAbT3B4iutXygdBqN-ZGrneyj2-tgeAKY0AOaXXEdqtMGyd5mddfRSLgKTdMu7hqF0HuXKJmXAEyuPPsQh5Q5D5FGj7How-OgrI-fNx64zlubrHWtJvG4xCk7cW6aPpXVzI_wlakT550s4moCHEKCY3Q1xrw7Ufx94DKg0b4dMcDkoqdt9HuKFLuT5yHzmV_MlIRjFXwJzEb2TUeg5PjTlN98_FcCHOq3_YvUU39JLKklsodFLJGaBZ7KFaKuEBreBYbIHuV9qY1Mfd5_uSuKfnRL0e4C4ce1kSWr2N0cNWRb-s0ZK2N8mpu1Z9Fpoa3dJr9ylvrUaVu_Zw7SGZYiufFuUO45xxNG1t42WhzkL9beX5k3lxvSBoA-HJCClPHy_L3FgcnN35x0NwAw91teSf5E8G3d18y0pN8FkGz328YSWNtzabPpfH0Q7ptH7B_tjtDXcKlvFAIeMWkuH9SPFlHdJB--r4VmCtDahaX1TLqx7rOqPmCbS3XLLFJSMbLI042EE_I6lRszxt9pY\n"
     ]
    }
   ],
   "source": [
    "import subprocess\n",
    "import json\n",
    "import requests\n",
    "from datetime import datetime, timedelta\n",
    "from urllib.parse import quote\n",
    "\n",
    "# Execute the curl command to retrieve the access token\n",
    "response = subprocess.run(['curl', '-H', 'Metadata-Flavor: Google', 'http://169.254.169.254/computeMetadata/v1/instance/service-accounts/default/token'], capture_output=True, text=True)\n",
    "\n",
    "# Check if the command was successful\n",
    "if response.returncode == 0:\n",
    "    # Extract the access token from the response\n",
    "    token = json.loads(response.stdout)['access_token']\n",
    "else:\n",
    "    # Print an error message if the command failed\n",
    "    print(\"Error:\", response.stderr)\n",
    "\n",
    "print(token)"
   ]
  },
  {
   "cell_type": "code",
   "execution_count": null,
   "id": "95c97a8a",
   "metadata": {},
   "outputs": [],
   "source": []
  }
 ],
 "metadata": {
  "kernelspec": {
   "display_name": "Python 3",
   "language": "python",
   "name": "python3"
  },
  "language_info": {
   "codemirror_mode": {
    "name": "ipython",
    "version": 3
   },
   "file_extension": ".py",
   "mimetype": "text/x-python",
   "name": "python",
   "nbconvert_exporter": "python",
   "pygments_lexer": "ipython3",
   "version": "3.9.18"
  }
 },
 "nbformat": 4,
 "nbformat_minor": 5
}
