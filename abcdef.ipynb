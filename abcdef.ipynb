{
 "cells": [
  {
   "cell_type": "code",
   "execution_count": 1,
   "id": "3a6afb5f-1739-4fba-9b44-590e2c65a80c",
   "metadata": {},
   "outputs": [],
   "source": [
    "# !pip install snowflake-connector-python"
   ]
  },
  {
   "cell_type": "code",
   "execution_count": 2,
   "id": "465105c0-9e02-4cb5-b5fd-2c4d42c5d85e",
   "metadata": {},
   "outputs": [
    {
     "ename": "ModuleNotFoundError",
     "evalue": "No module named 'snowflake.connector'; 'snowflake' is not a package",
     "output_type": "error",
     "traceback": [
      "\u001b[0;31m---------------------------------------------------------------------------\u001b[0m",
      "\u001b[0;31mModuleNotFoundError\u001b[0m                       Traceback (most recent call last)",
      "Cell \u001b[0;32mIn[2], line 1\u001b[0m\n\u001b[0;32m----> 1\u001b[0m \u001b[38;5;28;01mimport\u001b[39;00m \u001b[38;5;21;01msnowflake\u001b[39;00m\u001b[38;5;21;01m.\u001b[39;00m\u001b[38;5;21;01mconnector\u001b[39;00m\n\u001b[1;32m      2\u001b[0m \u001b[38;5;28;01mimport\u001b[39;00m \u001b[38;5;21;01mrequests\u001b[39;00m\n\u001b[1;32m      4\u001b[0m ctx \u001b[38;5;241m=\u001b[39m snowflake\u001b[38;5;241m.\u001b[39mconnector\u001b[38;5;241m.\u001b[39mconnect(\n\u001b[1;32m      5\u001b[0m     user\u001b[38;5;241m=\u001b[39m\u001b[38;5;124m\"\u001b[39m\u001b[38;5;124mSAURABHKULKARNI\u001b[39m\u001b[38;5;124m\"\u001b[39m,  \u001b[38;5;66;03m# username\u001b[39;00m\n\u001b[1;32m      6\u001b[0m     password\u001b[38;5;241m=\u001b[39m\u001b[38;5;124m\"\u001b[39m\u001b[38;5;124mEpsilon0*\u001b[39m\u001b[38;5;124m\"\u001b[39m,  \u001b[38;5;66;03m# insert password here\u001b[39;00m\n\u001b[0;32m   (...)\u001b[0m\n\u001b[1;32m      9\u001b[0m         \u001b[38;5;124m'\u001b[39m\u001b[38;5;124mPYTHON_CONNECTOR_QUERY_RESULT_FORMAT\u001b[39m\u001b[38;5;124m'\u001b[39m: \u001b[38;5;124m'\u001b[39m\u001b[38;5;124mjson\u001b[39m\u001b[38;5;124m'\u001b[39m,\n\u001b[1;32m     10\u001b[0m     })\n",
      "File \u001b[0;32m/notebooks/notebooks/snowflake.py:1\u001b[0m\n\u001b[0;32m----> 1\u001b[0m \u001b[38;5;28;01mimport\u001b[39;00m \u001b[38;5;21;01msnowflake\u001b[39;00m\u001b[38;5;21;01m.\u001b[39;00m\u001b[38;5;21;01mconnector\u001b[39;00m\n\u001b[1;32m      2\u001b[0m \u001b[38;5;28;01mimport\u001b[39;00m \u001b[38;5;21;01mrequests\u001b[39;00m\n\u001b[1;32m      4\u001b[0m \u001b[38;5;66;03m# Define Snowflake connection parameters\u001b[39;00m\n",
      "\u001b[0;31mModuleNotFoundError\u001b[0m: No module named 'snowflake.connector'; 'snowflake' is not a package"
     ]
    }
   ],
   "source": [
    "import snowflake.connector\n",
    "import requests\n",
    "\n",
    "ctx = snowflake.connector.connect(\n",
    "    user=\"SAURABHKULKARNI\",  # username\n",
    "    password=\"Epsilon0*\",  # insert password here\n",
    "    account=\"fya62509.us-east-1\",\n",
    "    session_parameters={\n",
    "        'PYTHON_CONNECTOR_QUERY_RESULT_FORMAT': 'json',\n",
    "    })\n",
    "\n",
    "# Obtain a session token with a custom expiration time (e.g., 86400 seconds for 24 hours).\n",
    "# token_data = ctx._rest._token_request('ISSUE', expiration_time=86400)\n",
    "token_data = ctx._rest._token_request('ISSUE')\n",
    "token_extract = token_data['data']['sessionToken']\n",
    "\n",
    "token = f'\\\"{token_extract}\\\"'\n",
    "headers = {'Authorization': f'Snowflake Token={token}'}\n",
    "print(headers)"
   ]
  },
  {
   "cell_type": "code",
   "execution_count": null,
   "id": "a79857f8-3a66-434a-9e9a-291eb854bb37",
   "metadata": {},
   "outputs": [],
   "source": []
  },
  {
   "cell_type": "code",
   "execution_count": null,
   "id": "31868fad-2cd4-4baf-9de6-abbeee6024ea",
   "metadata": {},
   "outputs": [],
   "source": []
  },
  {
   "cell_type": "code",
   "execution_count": null,
   "id": "b38572c7-b690-4a1d-b84d-0f713dd8df99",
   "metadata": {},
   "outputs": [],
   "source": []
  },
  {
   "cell_type": "code",
   "execution_count": null,
   "id": "263ccbc2-afa2-44e4-92dd-59e4152ca608",
   "metadata": {},
   "outputs": [],
   "source": []
  }
 ],
 "metadata": {
  "kernelspec": {
   "display_name": "Python 3 (ipykernel)",
   "language": "python",
   "name": "python3"
  },
  "language_info": {
   "codemirror_mode": {
    "name": "ipython",
    "version": 3
   },
   "file_extension": ".py",
   "mimetype": "text/x-python",
   "name": "python",
   "nbconvert_exporter": "python",
   "pygments_lexer": "ipython3",
   "version": "3.9.19"
  }
 },
 "nbformat": 4,
 "nbformat_minor": 5
}
