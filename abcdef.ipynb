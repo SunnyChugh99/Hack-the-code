{
 "cells": [
  {
   "cell_type": "code",
   "execution_count": 2,
   "id": "3a6afb5f-1739-4fba-9b44-590e2c65a80c",
   "metadata": {},
   "outputs": [
    {
     "name": "stdout",
     "output_type": "stream",
     "text": [
      "Collecting snowflake\n",
      "  Downloading https://files.pythonhosted.org/packages/ca/0e/2af9aed16a755e1d8019fba52427e0f2225c84fea03d3f6960faa1f76a57/snowflake-0.12.1-py3-none-any.whl\n",
      "Collecting snowflake-legacy\n",
      "  Downloading https://files.pythonhosted.org/packages/c9/3b/a6ead715f78ab4117c3ec2bb8890d37ba8d36a11de1de5ca97e6041f3d1c/snowflake_legacy-0.12.1-py3-none-any.whl\n",
      "Collecting snowflake-core==0.12.1\n",
      "\u001b[?25l  Downloading https://files.pythonhosted.org/packages/49/eb/7d4910072497952a6adefafb10edad640d8e642219648b0177f8d76e9cae/snowflake_core-0.12.1-py3-none-any.whl (665kB)\n",
      "\u001b[K     |████████████████████████████████| 665kB 12.3MB/s eta 0:00:01\n",
      "\u001b[?25hRequirement already satisfied: urllib3 in /opt/conda/lib/python3.9/site-packages (from snowflake-core==0.12.1->snowflake) (2.2.2)\n",
      "Collecting pydantic>=2\n",
      "\u001b[?25l  Downloading https://files.pythonhosted.org/packages/e4/28/fff23284071bc1ba419635c7e86561c8b9b8cf62a5bcb459b92d7625fd38/pydantic-2.9.1-py3-none-any.whl (434kB)\n",
      "\u001b[K     |████████████████████████████████| 440kB 54.7MB/s eta 0:00:01\n",
      "\u001b[?25hCollecting atpublic>=4\n",
      "  Downloading https://files.pythonhosted.org/packages/6b/03/2cb0e5326e19b7d877bc9c3a7ef436a30a06835b638580d1f5e21a0409ed/atpublic-5.0-py3-none-any.whl\n",
      "Collecting snowflake-snowpark-python<2.0.0,>=1.5.0\n",
      "\u001b[?25l  Downloading https://files.pythonhosted.org/packages/5d/6a/beee037232cfeee10f9e99e3f48346be2fd21d90dfde507d99d2f0146adf/snowflake_snowpark_python-1.21.1-py3-none-any.whl (1.3MB)\n",
      "\u001b[K     |████████████████████████████████| 1.3MB 78.3MB/s eta 0:00:01\n",
      "\u001b[?25hRequirement already satisfied: requests in /opt/conda/lib/python3.9/site-packages (from snowflake-core==0.12.1->snowflake) (2.32.3)\n",
      "Requirement already satisfied: python-dateutil>=2.8.2 in /opt/conda/lib/python3.9/site-packages (from snowflake-core==0.12.1->snowflake) (2.9.0.post0)\n",
      "Collecting annotated-types>=0.6.0\n",
      "  Downloading https://files.pythonhosted.org/packages/78/b6/6307fbef88d9b5ee7421e68d78a9f162e0da4900bc5f5793f6d3d0e34fb8/annotated_types-0.7.0-py3-none-any.whl\n",
      "Collecting pydantic-core==2.23.3\n",
      "\u001b[?25l  Downloading https://files.pythonhosted.org/packages/47/71/5aa475102a31edc15bb0df9a6627de64f62b11be99be49f2a4a0d2a19eea/pydantic_core-2.23.3-cp39-cp39-manylinux_2_17_x86_64.manylinux2014_x86_64.whl (2.1MB)\n",
      "\u001b[K     |████████████████████████████████| 2.1MB 75.3MB/s eta 0:00:01\n",
      "\u001b[?25hRequirement already satisfied: typing-extensions>=4.6.1; python_version < \"3.13\" in /opt/conda/lib/python3.9/site-packages (from pydantic>=2->snowflake-core==0.12.1->snowflake) (4.12.2)\n",
      "Requirement already satisfied: wheel in /opt/conda/lib/python3.9/site-packages (from snowflake-snowpark-python<2.0.0,>=1.5.0->snowflake-core==0.12.1->snowflake) (0.37.1)\n",
      "Requirement already satisfied: setuptools>=40.6.0 in /opt/conda/lib/python3.9/site-packages (from snowflake-snowpark-python<2.0.0,>=1.5.0->snowflake-core==0.12.1->snowflake) (65.6.3)\n",
      "Collecting snowflake-connector-python<4.0.0,>=3.10.0\n",
      "\u001b[?25l  Downloading https://files.pythonhosted.org/packages/55/f1/73efb911afb087020ef7cc36fceeb5b2975d8305ada07d2c808d1cb927fe/snowflake_connector_python-3.12.1-cp39-cp39-manylinux_2_17_x86_64.manylinux2014_x86_64.whl (2.5MB)\n",
      "\u001b[K     |████████████████████████████████| 2.5MB 84.4MB/s eta 0:00:01\n",
      "\u001b[?25hRequirement already satisfied: pyyaml in /opt/conda/lib/python3.9/site-packages (from snowflake-snowpark-python<2.0.0,>=1.5.0->snowflake-core==0.12.1->snowflake) (6.0.1)\n",
      "Collecting cloudpickle!=2.1.0,!=2.2.0,<=2.2.1,>=1.6.0; python_version < \"3.11\"\n",
      "  Downloading https://files.pythonhosted.org/packages/15/80/44286939ca215e88fa827b2aeb6fa3fd2b4a7af322485c7170d6f9fd96e0/cloudpickle-2.2.1-py3-none-any.whl\n",
      "Requirement already satisfied: charset-normalizer<4,>=2 in /opt/conda/lib/python3.9/site-packages (from requests->snowflake-core==0.12.1->snowflake) (3.3.2)\n",
      "Requirement already satisfied: idna<4,>=2.5 in /opt/conda/lib/python3.9/site-packages (from requests->snowflake-core==0.12.1->snowflake) (3.7)\n",
      "Requirement already satisfied: certifi>=2017.4.17 in /opt/conda/lib/python3.9/site-packages (from requests->snowflake-core==0.12.1->snowflake) (2024.7.4)\n",
      "Requirement already satisfied: six>=1.5 in /opt/conda/lib/python3.9/site-packages (from python-dateutil>=2.8.2->snowflake-core==0.12.1->snowflake) (1.16.0)\n",
      "Requirement already satisfied: packaging in /opt/conda/lib/python3.9/site-packages (from snowflake-connector-python<4.0.0,>=3.10.0->snowflake-snowpark-python<2.0.0,>=1.5.0->snowflake-core==0.12.1->snowflake) (24.1)\n",
      "Collecting tomlkit\n",
      "  Downloading https://files.pythonhosted.org/packages/f9/b6/a447b5e4ec71e13871be01ba81f5dfc9d0af7e473da256ff46bc0e24026f/tomlkit-0.13.2-py3-none-any.whl\n",
      "Requirement already satisfied: platformdirs<5.0.0,>=2.6.0 in /opt/conda/lib/python3.9/site-packages (from snowflake-connector-python<4.0.0,>=3.10.0->snowflake-snowpark-python<2.0.0,>=1.5.0->snowflake-core==0.12.1->snowflake) (4.2.2)\n",
      "Collecting sortedcontainers>=2.4.0\n",
      "  Downloading https://files.pythonhosted.org/packages/32/46/9cb0e58b2deb7f82b84065f37f3bffeb12413f947f9388e4cac22c4621ce/sortedcontainers-2.4.0-py2.py3-none-any.whl\n",
      "Requirement already satisfied: pyOpenSSL<25.0.0,>=16.2.0 in /opt/conda/lib/python3.9/site-packages (from snowflake-connector-python<4.0.0,>=3.10.0->snowflake-snowpark-python<2.0.0,>=1.5.0->snowflake-core==0.12.1->snowflake) (24.0.0)\n",
      "Requirement already satisfied: pytz in /opt/conda/lib/python3.9/site-packages (from snowflake-connector-python<4.0.0,>=3.10.0->snowflake-snowpark-python<2.0.0,>=1.5.0->snowflake-core==0.12.1->snowflake) (2024.1)\n",
      "Collecting pyjwt<3.0.0\n",
      "  Downloading https://files.pythonhosted.org/packages/79/84/0fdf9b18ba31d69877bd39c9cd6052b47f3761e9910c15de788e519f079f/PyJWT-2.9.0-py3-none-any.whl\n",
      "Collecting filelock<4,>=3.5\n",
      "  Downloading https://files.pythonhosted.org/packages/2f/95/f9310f35376024e1086c59cbb438d319fc9a4ef853289ce7c661539edbd4/filelock-3.16.0-py3-none-any.whl\n",
      "Requirement already satisfied: cffi<2.0.0,>=1.9 in /opt/conda/lib/python3.9/site-packages (from snowflake-connector-python<4.0.0,>=3.10.0->snowflake-snowpark-python<2.0.0,>=1.5.0->snowflake-core==0.12.1->snowflake) (1.16.0)\n",
      "Collecting asn1crypto<2.0.0,>0.24.0\n",
      "\u001b[?25l  Downloading https://files.pythonhosted.org/packages/c9/7f/09065fd9e27da0eda08b4d6897f1c13535066174cc023af248fc2a8d5e5a/asn1crypto-1.5.1-py2.py3-none-any.whl (105kB)\n",
      "\u001b[K     |████████████████████████████████| 112kB 107.3MB/s eta 0:00:01\n",
      "\u001b[?25hRequirement already satisfied: cryptography>=3.1.0 in /opt/conda/lib/python3.9/site-packages (from snowflake-connector-python<4.0.0,>=3.10.0->snowflake-snowpark-python<2.0.0,>=1.5.0->snowflake-core==0.12.1->snowflake) (42.0.5)\n",
      "Requirement already satisfied: pycparser in /opt/conda/lib/python3.9/site-packages (from cffi<2.0.0,>=1.9->snowflake-connector-python<4.0.0,>=3.10.0->snowflake-snowpark-python<2.0.0,>=1.5.0->snowflake-core==0.12.1->snowflake) (2.21)\n",
      "\u001b[31mERROR: snowflake-connector-python 3.12.1 has requirement urllib3<2.0.0,>=1.21.1; python_version < \"3.10\", but you'll have urllib3 2.2.2 which is incompatible.\u001b[0m\n",
      "Installing collected packages: snowflake-legacy, annotated-types, pydantic-core, pydantic, atpublic, tomlkit, sortedcontainers, pyjwt, filelock, asn1crypto, snowflake-connector-python, cloudpickle, snowflake-snowpark-python, snowflake-core, snowflake\n",
      "Successfully installed annotated-types-0.7.0 asn1crypto-1.5.1 atpublic-5.0 cloudpickle-2.2.1 filelock-3.16.0 pydantic-2.9.1 pydantic-core-2.23.3 pyjwt-2.9.0 snowflake-0.12.1 snowflake-connector-python-3.12.1 snowflake-core-0.12.1 snowflake-legacy-0.12.1 snowflake-snowpark-python-1.21.1 sortedcontainers-2.4.0 tomlkit-0.13.2\n",
      "\u001b[33mWARNING: You are using pip version 19.3.1; however, version 24.2 is available.\n",
      "You should consider upgrading via the 'pip install --upgrade pip' command.\u001b[0m\n",
      "Requirement already satisfied: pandas in /opt/conda/lib/python3.9/site-packages (2.2.0)\n",
      "Requirement already satisfied: python-dateutil>=2.8.2 in /opt/conda/lib/python3.9/site-packages (from pandas) (2.9.0.post0)\n",
      "Requirement already satisfied: pytz>=2020.1 in /opt/conda/lib/python3.9/site-packages (from pandas) (2024.1)\n",
      "Requirement already satisfied: tzdata>=2022.7 in /opt/conda/lib/python3.9/site-packages (from pandas) (2024.1)\n",
      "Requirement already satisfied: numpy<2,>=1.22.4; python_version < \"3.11\" in /opt/conda/lib/python3.9/site-packages (from pandas) (1.26.4)\n",
      "Requirement already satisfied: six>=1.5 in /opt/conda/lib/python3.9/site-packages (from python-dateutil>=2.8.2->pandas) (1.16.0)\n",
      "\u001b[33mWARNING: You are using pip version 19.3.1; however, version 24.2 is available.\n",
      "You should consider upgrading via the 'pip install --upgrade pip' command.\u001b[0m\n"
     ]
    }
   ],
   "source": [
    "!pip install snowflake\n",
    "!pip install pandas"
   ]
  },
  {
   "cell_type": "code",
   "execution_count": 1,
   "id": "73d87e22-9a5c-4a48-9b39-f5b34dbe7980",
   "metadata": {},
   "outputs": [],
   "source": [
    "from snowflake.snowpark.session import Session"
   ]
  },
  {
   "cell_type": "code",
   "execution_count": 2,
   "id": "c4ed73bc-7cbb-4c3c-b6ec-f95c6b8715e7",
   "metadata": {},
   "outputs": [],
   "source": [
    "import pandas as pd"
   ]
  },
  {
   "cell_type": "code",
   "execution_count": 8,
   "id": "465105c0-9e02-4cb5-b5fd-2c4d42c5d85e",
   "metadata": {},
   "outputs": [
    {
     "name": "stdout",
     "output_type": "stream",
     "text": [
      "Error while creating snowflake session: 250001 (08001): Failed to connect to DB: fya62509.us-east-1.snowflakecomputing.com:443. Error connecting to Snowflake via Snowpark Container Services. Please use OAuth when connecting to Snowflake. For more information please refer to https://docs.snowflake.com/en/developer-guide/snowpark-container-services/additional-considerations-services-jobs#connecting-to-snowflake-from-inside-a-container.\n"
     ]
    }
   ],
   "source": [
    "def get_connection_params():\n",
    "    # Connection parameters, ensure password is securely retrieved\n",
    "    return {\n",
    "        \"account\": 'fya62509.us-east-1',\n",
    "        \"user\": 'AISHWARYAASHTIKAR',\n",
    "        \"password\": 'Snowflake@2024',  # Replace with your password or a secure way of fetching it\n",
    "        \"role\": 'AISHWARYAASHTIKAR',\n",
    "        \"database\": 'FDC_QA_AISHWARYA',\n",
    "        \"warehouse\": 'FOSFOR_QA_WH',\n",
    "        \"schema\": 'INSIGHT_SPCS_SCHEMA'\n",
    "    }\n",
    "\n",
    "def get_session():\n",
    "    try:\n",
    "        connection_params = get_connection_params()\n",
    "        session = Session.builder.configs(connection_params).create()\n",
    "        return session\n",
    "    except Exception as ex:\n",
    "        print(\"Error while creating snowflake session:\", ex)\n",
    "        return None\n",
    "# Get the session\n",
    "session = get_session()\n",
    " \n",
    "# Read and process the data\n",
    "# my_data = pd.read_csv('HR_CHURN_LATEST.csv')\n",
    "# my_data.columns = map(lambda x: str(x).upper(), my_data.columns)\n",
    "# my_data.columns = my_data.columns.str.replace(' ', '_')\n",
    "# my_data = my_data.loc[:, ~my_data.columns.str.contains(\"^Unnamed\")]\n",
    "# # Write the DataFrame to Snowflake\n",
    "# if session:\n",
    "#     session.write_pandas(\n",
    "#         my_data,\n",
    "#         table_name=\"HR_CHURN_LATEST\",\n",
    "#         auto_create_table=True,\n",
    "#         overwrite=True\n",
    "#     )"
   ]
  },
  {
   "cell_type": "code",
   "execution_count": null,
   "id": "a79857f8-3a66-434a-9e9a-291eb854bb37",
   "metadata": {},
   "outputs": [],
   "source": []
  },
  {
   "cell_type": "code",
   "execution_count": null,
   "id": "31868fad-2cd4-4baf-9de6-abbeee6024ea",
   "metadata": {},
   "outputs": [],
   "source": []
  },
  {
   "cell_type": "code",
   "execution_count": null,
   "id": "b38572c7-b690-4a1d-b84d-0f713dd8df99",
   "metadata": {},
   "outputs": [],
   "source": []
  },
  {
   "cell_type": "code",
   "execution_count": null,
   "id": "263ccbc2-afa2-44e4-92dd-59e4152ca608",
   "metadata": {},
   "outputs": [],
   "source": []
  }
 ],
 "metadata": {
  "kernelspec": {
   "display_name": "Python 3 (ipykernel)",
   "language": "python",
   "name": "python3"
  },
  "language_info": {
   "codemirror_mode": {
    "name": "ipython",
    "version": 3
   },
   "file_extension": ".py",
   "mimetype": "text/x-python",
   "name": "python",
   "nbconvert_exporter": "python",
   "pygments_lexer": "ipython3",
   "version": "3.9.19"
  }
 },
 "nbformat": 4,
 "nbformat_minor": 5
}
