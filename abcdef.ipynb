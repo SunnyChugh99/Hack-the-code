{
 "cells": [
  {
   "cell_type": "code",
   "execution_count": 1,
   "id": "3a6afb5f-1739-4fba-9b44-590e2c65a80c",
   "metadata": {},
   "outputs": [
    {
     "name": "stdout",
     "output_type": "stream",
     "text": [
      "auto today\n"
     ]
    }
   ],
   "source": [
    "print('auto today')"
   ]
  },
  {
   "cell_type": "code",
   "execution_count": null,
   "id": "73d87e22-9a5c-4a48-9b39-f5b34dbe7980",
   "metadata": {},
   "outputs": [],
   "source": [
    "#test\n",
    "print('auto')\n",
    "print('aasas')\n",
    "print('test com')\n",
    "print('aassacsdc')"
   ]
  }
 ],
 "metadata": {
  "kernelspec": {
   "display_name": "Python 3 (ipykernel)",
   "language": "python",
   "name": "python3"
  },
  "language_info": {
   "codemirror_mode": {
    "name": "ipython",
    "version": 3
   },
   "file_extension": ".py",
   "mimetype": "text/x-python",
   "name": "python",
   "nbconvert_exporter": "python",
   "pygments_lexer": "ipython3",
   "version": "3.9.19"
  }
 },
 "nbformat": 4,
 "nbformat_minor": 5
}
