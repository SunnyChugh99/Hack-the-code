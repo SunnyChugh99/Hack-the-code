{
 "cells": [
  {
   "cell_type": "code",
   "execution_count": 1,
   "id": "5c71b243",
   "metadata": {},
   "outputs": [
    {
     "name": "stdout",
     "output_type": "stream",
     "text": [
      "1\n"
     ]
    }
   ],
   "source": [
    "print('1')"
   ]
  },
  {
   "cell_type": "code",
   "execution_count": 7,
   "id": "e454003a",
   "metadata": {},
   "outputs": [
    {
     "name": "stdout",
     "output_type": "stream",
     "text": [
      "curl: (6) Could not resolve host: prometheus-grafana.default.svc.cluster.local\r\n"
     ]
    }
   ],
   "source": [
    "!curl \"http://prometheus-grafana.default.svc.cluster.local:80\"\n"
   ]
  },
  {
   "cell_type": "code",
   "execution_count": 14,
   "id": "49879569",
   "metadata": {},
   "outputs": [
    {
     "name": "stdout",
     "output_type": "stream",
     "text": [
      "cpu url -  http://prometheus-grafana-kube-pr-prometheus.monitoring/api/v1/query\n",
      "params -  {'query': \"sum(rate(container_cpu_usage_seconds_total{container!='POD',namespace!='',pod='jy-d39533af-1ce1-4c11-93f7-a9469d18042a-fdcuserfosforcom-3e0e',container!='', container!='knights-watch'}[2m])) by (pod)\", 'start': '2024-05-31T06:14:46Z', 'end': '2024-05-31T06:19:46Z', 'step': '1m'}\n",
      "p mem cpu\n",
      "{'status': 'success', 'data': {'resultType': 'vector', 'result': [{'metric': {'pod': 'jy-d39533af-1ce1-4c11-93f7-a9469d18042a-fdcuserfosforcom-3e0e'}, 'value': [1717136386.926, '192.88064']}]}}\n",
      "{'status': 'success', 'data': {'resultType': 'vector', 'result': [{'metric': {'pod': 'jy-d39533af-1ce1-4c11-93f7-a9469d18042a-fdcuserfosforcom-3e0e'}, 'value': [1717136386.952, '0.00018303938154429875']}]}}\n",
      "{'pod': 'jy-d39533af-1ce1-4c11-93f7-a9469d18042a-fdcuserfosforcom-3e0e', 'cpu_utilization': {'time': 1717136386.952, 'cpu_percent': '0.00018303938154429875'}, 'mempry_utilization': {'time': 1717136386.926, 'memory': '192.88064'}}\n"
     ]
    }
   ],
   "source": [
    "import requests\n",
    "from datetime import datetime, timedelta\n",
    "\n",
    "def get_pod_metrics(pod_name, service_name):\n",
    "    try:\n",
    "        url = f\"{service_name}/api/v1/query\"\n",
    "        _pod_name = \"pod\"\n",
    "        cpu_usage_query_string, mem_usage_querystring = create_prometheus_payload(pod_name, {})\n",
    "\n",
    "\n",
    "        print('cpu url - ', url)\n",
    "        print('params - ', cpu_usage_query_string)\n",
    "        mem_response = requests.get(url, params=mem_usage_querystring)\n",
    "        cpu_response = requests.get(url, params=cpu_usage_query_string)\n",
    "        print('p mem cpu')\n",
    "        print(mem_response.json())\n",
    "        print(cpu_response.json())\n",
    "\n",
    "        mem_response.raise_for_status()\n",
    "        cpu_response.raise_for_status()\n",
    "        if (\n",
    "                cpu_response.json()[\"data\"][\"result\"] and mem_response.json()[\"data\"][\"result\"]\n",
    "        ):\n",
    "            pod_metrics = {\n",
    "                \"pod\": cpu_response.json()[\"data\"][\"result\"][0][\"metric\"][f\"{_pod_name}\"],\n",
    "                \"cpu_utilization\": {\n",
    "                    \"time\": cpu_response.json()[\"data\"][\"result\"][0][\"value\"][0],\n",
    "                    \"cpu_percent\": cpu_response.json()[\"data\"][\"result\"][0][\"value\"][1],\n",
    "                },\n",
    "                \"mempry_utilization\": {\n",
    "                    \"time\": mem_response.json()[\"data\"][\"result\"][0][\"value\"][0],\n",
    "                    \"memory\": mem_response.json()[\"data\"][\"result\"][0][\"value\"][1],\n",
    "                },\n",
    "            }\n",
    "        else:\n",
    "            pod_metrics = {}\n",
    "        return pod_metrics\n",
    "    except Exception as ex:\n",
    "        print(ex)\n",
    "        raise ValueError(\"unable to fetch pod metrics\")\n",
    "\n",
    "\n",
    "def create_prometheus_payload(pod_name, additional_params):\n",
    "    \"\"\"\n",
    "    Method returns common payload required for prometheus api\n",
    "    :param pod_name: K8s pod name\n",
    "    :param additional_params: optional keys - step, end, start\n",
    "    :return:\n",
    "    \"\"\"\n",
    "    _pod_name = \"pod\"\n",
    "    _container_name = \"container\"\n",
    "\n",
    "    # Specify the time range for the query\n",
    "    end_time = datetime.now()  # current time\n",
    "    start_time = end_time - timedelta(minutes=5)  # 5 minutes ago\n",
    "\n",
    "    cpu_usage_query_string = {\n",
    "        \"query\": \"sum(rate(container_cpu_usage_seconds_total{\"\n",
    "                 f\"{_container_name}!='POD',\"\n",
    "                 f\"namespace!='',{_pod_name}=\"\n",
    "                 f\"'{pod_name}'\"\n",
    "                 f\",{_container_name}!='', \"\n",
    "                 f\"{_container_name}!=\"\n",
    "                 \"'knights-watch'}[2m]))\"\n",
    "                 f\" by ({_pod_name})\",\n",
    "        \"start\": start_time.strftime(\"%Y-%m-%dT%H:%M:%SZ\"),\n",
    "        \"end\": end_time.strftime(\"%Y-%m-%dT%H:%M:%SZ\"),\n",
    "        \"step\": \"1m\"\n",
    "    }\n",
    "    mem_usage_querystring = {\n",
    "        \"query\": \"sum(container_memory_usage_bytes{\"\n",
    "                 f\"{_container_name}!='POD',namespace!='',\"\n",
    "                 f\"{_pod_name}=\"\n",
    "                 f\"'{pod_name}'\"\n",
    "                 f\",{_container_name}!='', \"\n",
    "                 f\"{_container_name}!=\"\n",
    "                 \"'knights-watch'})\"\n",
    "                 f\" by ({_pod_name}) / 1000000\",\n",
    "        \"start\": start_time.strftime(\"%Y-%m-%dT%H:%M:%SZ\"),\n",
    "        \"end\": end_time.strftime(\"%Y-%m-%dT%H:%M:%SZ\"),\n",
    "        \"step\": \"1m\"\n",
    "    }\n",
    "    cpu_usage_query_string.update(additional_params)\n",
    "    mem_usage_querystring.update(additional_params)\n",
    "    return cpu_usage_query_string, mem_usage_querystring\n",
    "\n",
    "\n",
    "service_name = \"http://prometheus-grafana-kube-pr-prometheus.monitoring\"\n",
    "\n",
    "pod_name = \"jy-d39533af-1ce1-4c11-93f7-a9469d18042a-fdcuserfosforcom-3e0e\"\n",
    "\n",
    "final_response = get_pod_metrics(pod_name, service_name)\n",
    "\n",
    "\n",
    "print(final_response)"
   ]
  },
  {
   "cell_type": "code",
   "execution_count": null,
   "id": "a96ae7fd",
   "metadata": {},
   "outputs": [],
   "source": []
  }
 ],
 "metadata": {
  "kernelspec": {
   "display_name": "Python 3",
   "language": "python",
   "name": "python3"
  },
  "language_info": {
   "codemirror_mode": {
    "name": "ipython",
    "version": 3
   },
   "file_extension": ".py",
   "mimetype": "text/x-python",
   "name": "python",
   "nbconvert_exporter": "python",
   "pygments_lexer": "ipython3",
   "version": "3.8.19"
  }
 },
 "nbformat": 4,
 "nbformat_minor": 5
}
