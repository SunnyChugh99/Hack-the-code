{
 "cells": [
  {
   "cell_type": "code",
   "execution_count": null,
   "id": "0afc2275",
   "metadata": {},
   "outputs": [],
   "source": [
    "# !pip install fosforml\n"
   ]
  },
  {
   "cell_type": "code",
   "execution_count": 2,
   "id": "aecf8f1c-83c3-48f6-bf07-dc14eb956bc4",
   "metadata": {},
   "outputs": [
    {
     "name": "stdout",
     "output_type": "stream",
     "text": [
      "Collecting fosforml\n",
      "  Downloading https://files.pythonhosted.org/packages/b1/74/11a7087f3f8b8771cc62da9eceb19190bdd0bcb7f661313ac445911cc71c/fosforml-1.1.4-py3-none-any.whl\n",
      "Collecting cloudpickle==2.2.1\n",
      "  Downloading https://files.pythonhosted.org/packages/15/80/44286939ca215e88fa827b2aeb6fa3fd2b4a7af322485c7170d6f9fd96e0/cloudpickle-2.2.1-py3-none-any.whl\n",
      "Collecting scikit-learn==1.3.2\n",
      "\u001b[?25l  Downloading https://files.pythonhosted.org/packages/25/89/dce01a35d354159dcc901e3c7e7eb3fe98de5cb3639c6cd39518d8830caa/scikit_learn-1.3.2-cp39-cp39-manylinux_2_17_x86_64.manylinux2014_x86_64.whl (10.9MB)\n",
      "\u001b[K     |████████████████████████████████| 10.9MB 14.1MB/s eta 0:00:01\n",
      "\u001b[?25hCollecting snowflake-ml-python==1.5.0; python_version <= \"3.9\"\n",
      "\u001b[?25l  Downloading https://files.pythonhosted.org/packages/80/72/c0fa5a9bc811a59a5a1c7113ff89676ed1629d7d6463db8c1a8c97a8b5f6/snowflake_ml_python-1.5.0-py3-none-any.whl (1.9MB)\n",
      "\u001b[K     |████████████████████████████████| 1.9MB 68.9MB/s eta 0:00:01\n",
      "\u001b[?25hCollecting threadpoolctl>=2.0.0\n",
      "  Downloading https://files.pythonhosted.org/packages/4b/2c/ffbf7a134b9ab11a67b0cf0726453cedd9c5043a4fe7a35d1cefa9a1bcfb/threadpoolctl-3.5.0-py3-none-any.whl\n",
      "Collecting joblib>=1.1.1\n",
      "\u001b[?25l  Downloading https://files.pythonhosted.org/packages/91/29/df4b9b42f2be0b623cbd5e2140cafcaa2bef0759a00b7b70104dcfe2fb51/joblib-1.4.2-py3-none-any.whl (301kB)\n",
      "\u001b[K     |████████████████████████████████| 307kB 93.3MB/s eta 0:00:01\n",
      "\u001b[?25hCollecting scipy>=1.5.0\n",
      "\u001b[?25l  Downloading https://files.pythonhosted.org/packages/35/f5/d0ad1a96f80962ba65e2ce1de6a1e59edecd1f0a7b55990ed208848012e0/scipy-1.13.1-cp39-cp39-manylinux_2_17_x86_64.manylinux2014_x86_64.whl (38.6MB)\n",
      "\u001b[K     |████████████████████████████████| 38.6MB 75.2MB/s eta 0:00:01\n",
      "\u001b[?25hCollecting numpy<2.0,>=1.17.3\n",
      "\u001b[?25l  Downloading https://files.pythonhosted.org/packages/54/30/c2a907b9443cf42b90c17ad10c1e8fa801975f01cb9764f3f8eb8aea638b/numpy-1.26.4-cp39-cp39-manylinux_2_17_x86_64.manylinux2014_x86_64.whl (18.2MB)\n",
      "\u001b[K     |████████████████████████████████| 18.3MB 74.7MB/s eta 0:00:01\n",
      "\u001b[?25hRequirement already satisfied: pyyaml<7,>=6.0 in /opt/conda/lib/python3.9/site-packages (from snowflake-ml-python==1.5.0; python_version <= \"3.9\"->fosforml) (6.0.1)\n",
      "Collecting importlib-resources<7,>=6.1.1\n",
      "  Downloading https://files.pythonhosted.org/packages/75/06/4df55e1b7b112d183f65db9503bff189e97179b256e1ea450a3c365241e0/importlib_resources-6.4.0-py3-none-any.whl\n",
      "Collecting absl-py<2,>=0.15\n",
      "\u001b[?25l  Downloading https://files.pythonhosted.org/packages/dd/87/de5c32fa1b1c6c3305d576e299801d8655c175ca9557019906247b994331/absl_py-1.4.0-py3-none-any.whl (126kB)\n",
      "\u001b[K     |████████████████████████████████| 133kB 91.6MB/s eta 0:00:01\n",
      "\u001b[?25hCollecting sqlparse<1,>=0.4\n",
      "\u001b[?25l  Downloading https://files.pythonhosted.org/packages/5d/a5/b2860373aa8de1e626b2bdfdd6df4355f0565b47e51f7d0c54fe70faf8fe/sqlparse-0.5.1-py3-none-any.whl (44kB)\n",
      "\u001b[K     |████████████████████████████████| 51kB 15.8MB/s eta 0:00:01\n",
      "\u001b[?25hCollecting pyarrow\n",
      "\u001b[?25l  Downloading https://files.pythonhosted.org/packages/af/61/bcd9b58e38ead6ad42b9ed00da33a3f862bc1d445e3d3164799c25550ac2/pyarrow-17.0.0-cp39-cp39-manylinux_2_17_x86_64.manylinux2014_x86_64.whl (39.9MB)\n",
      "\u001b[K     |████████████████████████████████| 39.9MB 82.7MB/s eta 0:00:01\n",
      "\u001b[?25hCollecting fsspec[http]<2024,>=2022.11\n",
      "\u001b[?25l  Downloading https://files.pythonhosted.org/packages/70/25/fab23259a52ece5670dcb8452e1af34b89e6135ecc17cd4b54b4b479eac6/fsspec-2023.12.2-py3-none-any.whl (168kB)\n",
      "\u001b[K     |████████████████████████████████| 174kB 17.9MB/s eta 0:00:01\n",
      "\u001b[?25hCollecting packaging<24,>=20.9\n",
      "\u001b[?25l  Downloading https://files.pythonhosted.org/packages/ec/1a/610693ac4ee14fcdf2d9bf3c493370e4f2ef7ae2e19217d7a237ff42367d/packaging-23.2-py3-none-any.whl (53kB)\n",
      "\u001b[K     |████████████████████████████████| 61kB 3.8MB/s  eta 0:00:01\n",
      "\u001b[?25hRequirement already satisfied: typing-extensions<5,>=4.1.0 in /opt/conda/lib/python3.9/site-packages (from snowflake-ml-python==1.5.0; python_version <= \"3.9\"->fosforml) (4.12.2)\n",
      "Collecting cachetools<6,>=3.1.1\n",
      "  Downloading https://files.pythonhosted.org/packages/04/e6/a1551acbaa06f3e48b311329828a34bc9c51a8cfaecdeb4d03c329a1ef85/cachetools-5.4.0-py3-none-any.whl\n",
      "Collecting xgboost<2,>=1.7.3\n",
      "\u001b[?25l  Downloading https://files.pythonhosted.org/packages/8c/3a/c9c5d4d5c49b132ef15ac7b5ccf56ef1c82efe36cd19414771762e97c00e/xgboost-1.7.6-py3-none-manylinux2014_x86_64.whl (200.3MB)\n",
      "\u001b[K     |████████████████████████████████| 200.3MB 106kB/s s eta 0:00:01 74.0MB/s eta 0:00:03                            | 13.4MB 74.0MB/s eta 0:00:03                     | 30.6MB 74.0MB/s eta 0:00:0302  | 112.9MB 100.8MB/s eta 0:00:01\n",
      "\u001b[?25hCollecting snowflake-snowpark-python!=1.12.0,<2,>=1.11.1\n",
      "\u001b[?25l  Downloading https://files.pythonhosted.org/packages/77/fd/f4cb374a50559c996f62a4367fa4919c7a52932326c086b9e7496cd786c6/snowflake_snowpark_python-1.20.0-py3-none-any.whl (1.2MB)\n",
      "\u001b[K     |████████████████████████████████| 1.2MB 82.6MB/s eta 0:00:01\n",
      "\u001b[?25hCollecting pandas<3,>=1.0.0\n",
      "\u001b[?25l  Downloading https://files.pythonhosted.org/packages/bb/30/f6f1f1ac36250f50c421b1b6af08c35e5a8b5a84385ef928625336b93e6f/pandas-2.2.2-cp39-cp39-manylinux_2_17_x86_64.manylinux2014_x86_64.whl (13.1MB)\n",
      "\u001b[K     |████████████████████████████████| 13.1MB 76.9MB/s eta 0:00:01\n",
      "\u001b[?25hCollecting s3fs<2024,>=2022.11\n",
      "  Downloading https://files.pythonhosted.org/packages/5b/d6/b8a748b7d3fc7b0fd2ede1cf26a80281d65cc24d5d56b66c3a4c87e256e2/s3fs-2023.12.2-py3-none-any.whl\n",
      "Collecting anyio<4,>=3.5.0\n",
      "\u001b[?25l  Downloading https://files.pythonhosted.org/packages/19/24/44299477fe7dcc9cb58d0a57d5a7588d6af2ff403fdd2d47a246c91a3246/anyio-3.7.1-py3-none-any.whl (80kB)\n",
      "\u001b[K     |████████████████████████████████| 81kB 20.7MB/s eta 0:00:01\n",
      "\u001b[?25hCollecting pytimeparse<2,>=1.1.8\n",
      "  Downloading https://files.pythonhosted.org/packages/1b/b4/afd75551a3b910abd1d922dbd45e49e5deeb4d47dc50209ce489ba9844dd/pytimeparse-1.1.8-py2.py3-none-any.whl\n",
      "Collecting retrying<2,>=1.3.3\n",
      "  Downloading https://files.pythonhosted.org/packages/8f/04/9e36f28be4c0532c0e9207ff9dc01fb13a2b0eb036476a213b0000837d0e/retrying-1.3.4-py3-none-any.whl\n",
      "Collecting catboost<1.3,>=1.2.0\n",
      "\u001b[?25l  Downloading https://files.pythonhosted.org/packages/62/05/b1e05aeccbe310be4f44d6c9065b13600c4d72bcfbe2676bfad7f563a680/catboost-1.2.5-cp39-cp39-manylinux2014_x86_64.whl (98.2MB)\n",
      "\u001b[K     |████████████████████████████████| 98.2MB 208kB/s  eta 0:00:01\n",
      "\u001b[?25hCollecting snowflake-connector-python[pandas]<4,>=3.5.0\n",
      "\u001b[?25l  Downloading https://files.pythonhosted.org/packages/f3/ab/a476fc0fddf4d3133d4a91c9b3ac0357b33ea49888ef0b55724fa79786d1/snowflake_connector_python-3.11.0-cp39-cp39-manylinux_2_17_x86_64.manylinux2014_x86_64.whl (2.5MB)\n",
      "\u001b[K     |████████████████████████████████| 2.5MB 37.5MB/s eta 0:00:01\n",
      "\u001b[?25hRequirement already satisfied: zipp>=3.1.0; python_version < \"3.10\" in /opt/conda/lib/python3.9/site-packages (from importlib-resources<7,>=6.1.1->snowflake-ml-python==1.5.0; python_version <= \"3.9\"->fosforml) (3.19.2)\n",
      "Requirement already satisfied: requests; extra == \"http\" in /opt/conda/lib/python3.9/site-packages (from fsspec[http]<2024,>=2022.11->snowflake-ml-python==1.5.0; python_version <= \"3.9\"->fosforml) (2.32.2)\n",
      "Collecting aiohttp!=4.0.0a0,!=4.0.0a1; extra == \"http\"\n",
      "\u001b[?25l  Downloading https://files.pythonhosted.org/packages/94/4f/3c99f1cdab4fb55e12a914c80828f0958f04d79ef6b6ce1e05d07c30c46b/aiohttp-3.9.5-cp39-cp39-manylinux_2_17_x86_64.manylinux2014_x86_64.whl (1.2MB)\n",
      "\u001b[K     |████████████████████████████████| 1.2MB 78.0MB/s eta 0:00:01\n",
      "\u001b[?25hRequirement already satisfied: wheel in /opt/conda/lib/python3.9/site-packages (from snowflake-snowpark-python!=1.12.0,<2,>=1.11.1->snowflake-ml-python==1.5.0; python_version <= \"3.9\"->fosforml) (0.37.1)\n",
      "Requirement already satisfied: setuptools>=40.6.0 in /opt/conda/lib/python3.9/site-packages (from snowflake-snowpark-python!=1.12.0,<2,>=1.11.1->snowflake-ml-python==1.5.0; python_version <= \"3.9\"->fosforml) (65.6.3)\n",
      "Requirement already satisfied: python-dateutil>=2.8.2 in /opt/conda/lib/python3.9/site-packages (from pandas<3,>=1.0.0->snowflake-ml-python==1.5.0; python_version <= \"3.9\"->fosforml) (2.9.0.post0)\n",
      "Collecting pytz>=2020.1\n",
      "\u001b[?25l  Downloading https://files.pythonhosted.org/packages/9c/3d/a121f284241f08268b21359bd425f7d4825cffc5ac5cd0e1b3d82ffd2b10/pytz-2024.1-py2.py3-none-any.whl (505kB)\n",
      "\u001b[K     |████████████████████████████████| 512kB 64.6MB/s eta 0:00:01\n",
      "\u001b[?25hCollecting tzdata>=2022.7\n",
      "\u001b[?25l  Downloading https://files.pythonhosted.org/packages/65/58/f9c9e6be752e9fcb8b6a0ee9fb87e6e7a1f6bcab2cdc73f02bb7ba91ada0/tzdata-2024.1-py2.py3-none-any.whl (345kB)\n",
      "\u001b[K     |████████████████████████████████| 348kB 67.1MB/s eta 0:00:01\n",
      "\u001b[?25hCollecting aiobotocore<3.0.0,>=2.5.4\n",
      "\u001b[?25l  Downloading https://files.pythonhosted.org/packages/30/07/42f884c1600169e4267575cdd261c75dea31782d8fd877bbea358d559416/aiobotocore-2.13.1-py3-none-any.whl (76kB)\n",
      "\u001b[K     |████████████████████████████████| 81kB 18.2MB/s eta 0:00:01\n",
      "\u001b[?25hRequirement already satisfied: sniffio>=1.1 in /opt/conda/lib/python3.9/site-packages (from anyio<4,>=3.5.0->snowflake-ml-python==1.5.0; python_version <= \"3.9\"->fosforml) (1.3.1)\n",
      "Requirement already satisfied: exceptiongroup; python_version < \"3.11\" in /opt/conda/lib/python3.9/site-packages (from anyio<4,>=3.5.0->snowflake-ml-python==1.5.0; python_version <= \"3.9\"->fosforml) (1.2.2)\n",
      "Requirement already satisfied: idna>=2.8 in /opt/conda/lib/python3.9/site-packages (from anyio<4,>=3.5.0->snowflake-ml-python==1.5.0; python_version <= \"3.9\"->fosforml) (3.7)\n",
      "Requirement already satisfied: six>=1.7.0 in /opt/conda/lib/python3.9/site-packages (from retrying<2,>=1.3.3->snowflake-ml-python==1.5.0; python_version <= \"3.9\"->fosforml) (1.16.0)\n",
      "Collecting plotly\n",
      "\u001b[?25l  Downloading https://files.pythonhosted.org/packages/0b/f8/b65cdd2be32e442c4efe7b672f73c90b05eab5a7f3f4115efe181d432c60/plotly-5.22.0-py3-none-any.whl (16.4MB)\n",
      "\u001b[K     |████████████████████████████████| 16.4MB 72.8MB/s eta 0:00:01\n",
      "\u001b[?25hCollecting matplotlib\n",
      "\u001b[?25l  Downloading https://files.pythonhosted.org/packages/8e/67/e75134cb83d2e533e46d72e2033a413772efdc18291beb981f5d574a829f/matplotlib-3.9.1-cp39-cp39-manylinux_2_17_x86_64.manylinux2014_x86_64.whl (8.3MB)\n",
      "\u001b[K     |████████████████████████████████| 8.3MB 78.9MB/s eta 0:00:01\n",
      "\u001b[?25hCollecting graphviz\n",
      "\u001b[?25l  Downloading https://files.pythonhosted.org/packages/00/be/d59db2d1d52697c6adc9eacaf50e8965b6345cc143f671e1ed068818d5cf/graphviz-0.20.3-py3-none-any.whl (47kB)\n",
      "\u001b[K     |████████████████████████████████| 51kB 5.4MB/s  eta 0:00:01\n",
      "\u001b[?25hCollecting urllib3<2.0.0,>=1.21.1; python_version < \"3.10\"\n",
      "\u001b[?25l  Downloading https://files.pythonhosted.org/packages/ae/6a/99eaaeae8becaa17a29aeb334a18e5d582d873b6f084c11f02581b8d7f7f/urllib3-1.26.19-py2.py3-none-any.whl (143kB)\n",
      "\u001b[K     |████████████████████████████████| 153kB 94.1MB/s eta 0:00:01\n",
      "\u001b[?25hRequirement already satisfied: pyOpenSSL<25.0.0,>=16.2.0 in /opt/conda/lib/python3.9/site-packages (from snowflake-connector-python[pandas]<4,>=3.5.0->snowflake-ml-python==1.5.0; python_version <= \"3.9\"->fosforml) (24.0.0)\n",
      "Requirement already satisfied: certifi>=2017.4.17 in /opt/conda/lib/python3.9/site-packages (from snowflake-connector-python[pandas]<4,>=3.5.0->snowflake-ml-python==1.5.0; python_version <= \"3.9\"->fosforml) (2024.6.2)\n",
      "Requirement already satisfied: cffi<2.0.0,>=1.9 in /opt/conda/lib/python3.9/site-packages (from snowflake-connector-python[pandas]<4,>=3.5.0->snowflake-ml-python==1.5.0; python_version <= \"3.9\"->fosforml) (1.16.0)\n",
      "Requirement already satisfied: charset-normalizer<4,>=2 in /opt/conda/lib/python3.9/site-packages (from snowflake-connector-python[pandas]<4,>=3.5.0->snowflake-ml-python==1.5.0; python_version <= \"3.9\"->fosforml) (2.0.4)\n",
      "Collecting filelock<4,>=3.5\n",
      "  Downloading https://files.pythonhosted.org/packages/ae/f0/48285f0262fe47103a4a45972ed2f9b93e4c80b8fd609fa98da78b2a5706/filelock-3.15.4-py3-none-any.whl\n",
      "Collecting pyjwt<3.0.0\n",
      "  Downloading https://files.pythonhosted.org/packages/2b/4f/e04a8067c7c96c364cef7ef73906504e2f40d690811c021e1a1901473a19/PyJWT-2.8.0-py3-none-any.whl\n",
      "Requirement already satisfied: platformdirs<5.0.0,>=2.6.0 in /opt/conda/lib/python3.9/site-packages (from snowflake-connector-python[pandas]<4,>=3.5.0->snowflake-ml-python==1.5.0; python_version <= \"3.9\"->fosforml) (4.2.2)\n",
      "Requirement already satisfied: cryptography<43.0.0,>=3.1.0 in /opt/conda/lib/python3.9/site-packages (from snowflake-connector-python[pandas]<4,>=3.5.0->snowflake-ml-python==1.5.0; python_version <= \"3.9\"->fosforml) (42.0.5)\n",
      "Collecting sortedcontainers>=2.4.0\n",
      "  Downloading https://files.pythonhosted.org/packages/32/46/9cb0e58b2deb7f82b84065f37f3bffeb12413f947f9388e4cac22c4621ce/sortedcontainers-2.4.0-py2.py3-none-any.whl\n",
      "Collecting asn1crypto<2.0.0,>0.24.0\n",
      "\u001b[?25l  Downloading https://files.pythonhosted.org/packages/c9/7f/09065fd9e27da0eda08b4d6897f1c13535066174cc023af248fc2a8d5e5a/asn1crypto-1.5.1-py2.py3-none-any.whl (105kB)\n",
      "\u001b[K     |████████████████████████████████| 112kB 94.5MB/s eta 0:00:01\n",
      "\u001b[?25hCollecting tomlkit\n",
      "  Downloading https://files.pythonhosted.org/packages/fd/7c/b753bf603852cab0a660da6e81f4ea5d2ca0f0b2b4870766d7aa9bceb7a2/tomlkit-0.13.0-py3-none-any.whl\n",
      "Collecting yarl<2.0,>=1.0\n",
      "\u001b[?25l  Downloading https://files.pythonhosted.org/packages/69/ea/d7e961ea9b1b818a43b155ee512117be6ab9ab67c1e94967b2e64126e8e4/yarl-1.9.4-cp39-cp39-manylinux_2_17_x86_64.manylinux2014_x86_64.whl (304kB)\n",
      "\u001b[K     |████████████████████████████████| 307kB 86.0MB/s eta 0:00:01\n",
      "\u001b[?25hCollecting async-timeout<5.0,>=4.0; python_version < \"3.11\"\n",
      "  Downloading https://files.pythonhosted.org/packages/a7/fa/e01228c2938de91d47b307831c62ab9e4001e747789d0b05baf779a6488c/async_timeout-4.0.3-py3-none-any.whl\n",
      "Collecting frozenlist>=1.1.1\n",
      "\u001b[?25l  Downloading https://files.pythonhosted.org/packages/70/b0/6f1ebdabfb604e39a0f84428986b89ab55f246b64cddaa495f2c953e1f6b/frozenlist-1.4.1-cp39-cp39-manylinux_2_5_x86_64.manylinux1_x86_64.manylinux_2_17_x86_64.manylinux2014_x86_64.whl (240kB)\n",
      "\u001b[K     |████████████████████████████████| 245kB 91.8MB/s eta 0:00:01\n",
      "\u001b[?25hRequirement already satisfied: attrs>=17.3.0 in /opt/conda/lib/python3.9/site-packages (from aiohttp!=4.0.0a0,!=4.0.0a1; extra == \"http\"->fsspec[http]<2024,>=2022.11->snowflake-ml-python==1.5.0; python_version <= \"3.9\"->fosforml) (23.2.0)\n",
      "Collecting aiosignal>=1.1.2\n",
      "  Downloading https://files.pythonhosted.org/packages/76/ac/a7305707cb852b7e16ff80eaf5692309bde30e2b1100a1fcacdc8f731d97/aiosignal-1.3.1-py3-none-any.whl\n",
      "Collecting multidict<7.0,>=4.5\n",
      "\u001b[?25l  Downloading https://files.pythonhosted.org/packages/39/a9/1f8d42c8103bcb1da6bb719f1bc018594b5acc8eae56b3fec4720ebee225/multidict-6.0.5-cp39-cp39-manylinux_2_17_x86_64.manylinux2014_x86_64.whl (123kB)\n",
      "\u001b[K     |████████████████████████████████| 133kB 82.4MB/s eta 0:00:01\n",
      "\u001b[?25hCollecting wrapt<2.0.0,>=1.10.10\n",
      "\u001b[?25l  Downloading https://files.pythonhosted.org/packages/b1/e7/459a8a4f40f2fa65eb73cb3f339e6d152957932516d18d0e996c7ae2d7ae/wrapt-1.16.0-cp39-cp39-manylinux_2_5_x86_64.manylinux1_x86_64.manylinux_2_17_x86_64.manylinux2014_x86_64.whl (80kB)\n",
      "\u001b[K     |████████████████████████████████| 81kB 20.5MB/s eta 0:00:01\n",
      "\u001b[?25hCollecting botocore<1.34.132,>=1.34.70\n",
      "\u001b[?25l  Downloading https://files.pythonhosted.org/packages/46/1a/01785fad12a9b1dbeffebd97cd226ea5923114057c64a610dd4eb8a28c7b/botocore-1.34.131-py3-none-any.whl (12.3MB)\n",
      "\u001b[K     |████████████████████████████████| 12.3MB 82.6MB/s eta 0:00:01\n",
      "\u001b[?25hCollecting aioitertools<1.0.0,>=0.5.1\n",
      "  Downloading https://files.pythonhosted.org/packages/45/66/d1a9fd8e6ff88f2157cb145dd054defb0fd7fe2507fe5a01347e7c690eab/aioitertools-0.11.0-py3-none-any.whl\n",
      "Collecting tenacity>=6.2.0\n",
      "  Downloading https://files.pythonhosted.org/packages/d2/3f/8ba87d9e287b9d385a02a7114ddcef61b26f86411e121c9003eb509a1773/tenacity-8.5.0-py3-none-any.whl\n",
      "Collecting pillow>=8\n",
      "\u001b[?25l  Downloading https://files.pythonhosted.org/packages/32/3f/c02268d0c6fb6b3958bdda673c17b315c821d97df29ae6969f20fb49388a/pillow-10.4.0-cp39-cp39-manylinux_2_17_x86_64.manylinux2014_x86_64.whl (4.4MB)\n",
      "\u001b[K     |████████████████████████████████| 4.4MB 71.3MB/s eta 0:00:01\n",
      "\u001b[?25hCollecting contourpy>=1.0.1\n",
      "\u001b[?25l  Downloading https://files.pythonhosted.org/packages/31/a2/2f12e3a6e45935ff694654b710961b03310b0e1ec997ee9f416d3c873f87/contourpy-1.2.1-cp39-cp39-manylinux_2_17_x86_64.manylinux2014_x86_64.whl (304kB)\n",
      "\u001b[K     |████████████████████████████████| 307kB 84.8MB/s eta 0:00:01\n",
      "\u001b[?25hCollecting kiwisolver>=1.3.1\n",
      "\u001b[?25l  Downloading https://files.pythonhosted.org/packages/c0/a8/841594f11d0b88d8aeb26991bc4dac38baa909dc58d0c4262a4f7893bcbf/kiwisolver-1.4.5-cp39-cp39-manylinux_2_12_x86_64.manylinux2010_x86_64.whl (1.6MB)\n",
      "\u001b[K     |████████████████████████████████| 1.6MB 70.3MB/s eta 0:00:01\n",
      "\u001b[?25hCollecting pyparsing>=2.3.1\n",
      "\u001b[?25l  Downloading https://files.pythonhosted.org/packages/9d/ea/6d76df31432a0e6fdf81681a895f009a4bb47b3c39036db3e1b528191d52/pyparsing-3.1.2-py3-none-any.whl (103kB)\n",
      "\u001b[K     |████████████████████████████████| 112kB 43.5MB/s eta 0:00:01\n",
      "\u001b[?25hCollecting fonttools>=4.22.0\n",
      "\u001b[?25l  Downloading https://files.pythonhosted.org/packages/7b/30/ad4483dfc5a1999f26b7bc5edc311576f433a3e00dd8aea01f2099c3a29f/fonttools-4.53.1-cp39-cp39-manylinux_2_17_x86_64.manylinux2014_x86_64.whl (4.6MB)\n",
      "\u001b[K     |████████████████████████████████| 4.6MB 72.3MB/s eta 0:00:01\n",
      "\u001b[?25hCollecting cycler>=0.10\n",
      "  Downloading https://files.pythonhosted.org/packages/e7/05/c19819d5e3d95294a6f5947fb9b9629efb316b96de511b418c53d245aae6/cycler-0.12.1-py3-none-any.whl\n",
      "Requirement already satisfied: pycparser in /opt/conda/lib/python3.9/site-packages (from cffi<2.0.0,>=1.9->snowflake-connector-python[pandas]<4,>=3.5.0->snowflake-ml-python==1.5.0; python_version <= \"3.9\"->fosforml) (2.21)\n",
      "Collecting jmespath<2.0.0,>=0.7.1\n",
      "  Downloading https://files.pythonhosted.org/packages/31/b4/b9b800c45527aadd64d5b442f9b932b00648617eb5d63d2c7a6587b7cafc/jmespath-1.0.1-py3-none-any.whl\n",
      "Installing collected packages: cloudpickle, threadpoolctl, joblib, numpy, scipy, scikit-learn, importlib-resources, absl-py, sqlparse, pyarrow, multidict, yarl, async-timeout, frozenlist, aiosignal, aiohttp, fsspec, packaging, cachetools, xgboost, urllib3, filelock, pyjwt, pytz, sortedcontainers, asn1crypto, tomlkit, tzdata, pandas, snowflake-connector-python, snowflake-snowpark-python, wrapt, jmespath, botocore, aioitertools, aiobotocore, s3fs, anyio, pytimeparse, retrying, tenacity, plotly, pillow, contourpy, kiwisolver, pyparsing, fonttools, cycler, matplotlib, graphviz, catboost, snowflake-ml-python, fosforml\n",
      "  Found existing installation: packaging 24.1\n",
      "    Uninstalling packaging-24.1:\n",
      "      Successfully uninstalled packaging-24.1\n",
      "  Found existing installation: urllib3 2.2.2\n",
      "    Uninstalling urllib3-2.2.2:\n",
      "      Successfully uninstalled urllib3-2.2.2\n",
      "  Found existing installation: anyio 4.4.0\n",
      "    Uninstalling anyio-4.4.0:\n",
      "      Successfully uninstalled anyio-4.4.0\n",
      "Successfully installed absl-py-1.4.0 aiobotocore-2.13.1 aiohttp-3.9.5 aioitertools-0.11.0 aiosignal-1.3.1 anyio-3.7.1 asn1crypto-1.5.1 async-timeout-4.0.3 botocore-1.34.131 cachetools-5.4.0 catboost-1.2.5 cloudpickle-2.2.1 contourpy-1.2.1 cycler-0.12.1 filelock-3.15.4 fonttools-4.53.1 fosforml-1.1.4 frozenlist-1.4.1 fsspec-2023.12.2 graphviz-0.20.3 importlib-resources-6.4.0 jmespath-1.0.1 joblib-1.4.2 kiwisolver-1.4.5 matplotlib-3.9.1 multidict-6.0.5 numpy-1.26.4 packaging-23.2 pandas-2.2.2 pillow-10.4.0 plotly-5.22.0 pyarrow-17.0.0 pyjwt-2.8.0 pyparsing-3.1.2 pytimeparse-1.1.8 pytz-2024.1 retrying-1.3.4 s3fs-2023.12.2 scikit-learn-1.3.2 scipy-1.13.1 snowflake-connector-python-3.11.0 snowflake-ml-python-1.5.0 snowflake-snowpark-python-1.20.0 sortedcontainers-2.4.0 sqlparse-0.5.1 tenacity-8.5.0 threadpoolctl-3.5.0 tomlkit-0.13.0 tzdata-2024.1 urllib3-1.26.19 wrapt-1.16.0 xgboost-1.7.6 yarl-1.9.4\n",
      "\u001b[33mWARNING: You are using pip version 19.3.1; however, version 24.1.2 is available.\n",
      "You should consider upgrading via the 'pip install --upgrade pip' command.\u001b[0m\n"
     ]
    }
   ],
   "source": [
    "!pip install fosforml"
   ]
  },
  {
   "cell_type": "code",
   "execution_count": 1,
   "id": "33b85bba-66f8-4b70-b70f-71a710254e1a",
   "metadata": {},
   "outputs": [
    {
     "name": "stdout",
     "output_type": "stream",
     "text": [
      "Name: fosforml\n",
      "Version: 1.1.3\n",
      "Summary: A Python package for registering machine learning models directly to the Snowflake Model Registry, leveraging Snowflake ML capabilities.\n",
      "Home-page: https://gitlab.fosfor.com/fosfor-decision-cloud/intelligence/refract-sdk.git\n",
      "Author: Mahesh Gadipea\n",
      "Author-email: mahesh.gadipea@fosfor.com\n",
      "License: None\n",
      "Location: /opt/conda/lib/python3.9/site-packages\n",
      "Requires: scikit-learn, snowflake-ml-python, cloudpickle\n",
      "Required-by: \n"
     ]
    }
   ],
   "source": [
    "!pip show fosforml"
   ]
  },
  {
   "cell_type": "code",
   "execution_count": 30,
   "id": "b32fc652-77e9-4264-aace-2eb513f2cba0",
   "metadata": {},
   "outputs": [
    {
     "name": "stdout",
     "output_type": "stream",
     "text": [
      "Collecting fosforml==1.1.3\n",
      "  Downloading https://files.pythonhosted.org/packages/4d/67/cd69d3e5244ef5fda677dc7d7682df29a0380e48be4eb6c289208340cd6d/fosforml-1.1.3-py3-none-any.whl\n",
      "Requirement already satisfied: cloudpickle==2.2.1 in /opt/conda/lib/python3.9/site-packages (from fosforml==1.1.3) (2.2.1)\n",
      "Requirement already satisfied: scikit-learn==1.3.2 in /opt/conda/lib/python3.9/site-packages (from fosforml==1.1.3) (1.3.2)\n",
      "Requirement already satisfied: snowflake-ml-python==1.5.0; python_version <= \"3.9\" in /opt/conda/lib/python3.9/site-packages (from fosforml==1.1.3) (1.5.0)\n",
      "Requirement already satisfied: threadpoolctl>=2.0.0 in /opt/conda/lib/python3.9/site-packages (from scikit-learn==1.3.2->fosforml==1.1.3) (3.5.0)\n",
      "Requirement already satisfied: scipy>=1.5.0 in /opt/conda/lib/python3.9/site-packages (from scikit-learn==1.3.2->fosforml==1.1.3) (1.13.1)\n",
      "Requirement already satisfied: numpy<2.0,>=1.17.3 in /opt/conda/lib/python3.9/site-packages (from scikit-learn==1.3.2->fosforml==1.1.3) (1.26.4)\n",
      "Requirement already satisfied: joblib>=1.1.1 in /opt/conda/lib/python3.9/site-packages (from scikit-learn==1.3.2->fosforml==1.1.3) (1.4.2)\n",
      "Requirement already satisfied: packaging<24,>=20.9 in /opt/conda/lib/python3.9/site-packages (from snowflake-ml-python==1.5.0; python_version <= \"3.9\"->fosforml==1.1.3) (23.2)\n",
      "Requirement already satisfied: retrying<2,>=1.3.3 in /opt/conda/lib/python3.9/site-packages (from snowflake-ml-python==1.5.0; python_version <= \"3.9\"->fosforml==1.1.3) (1.3.4)\n",
      "Requirement already satisfied: cachetools<6,>=3.1.1 in /opt/conda/lib/python3.9/site-packages (from snowflake-ml-python==1.5.0; python_version <= \"3.9\"->fosforml==1.1.3) (5.4.0)\n",
      "Requirement already satisfied: pyyaml<7,>=6.0 in /opt/conda/lib/python3.9/site-packages (from snowflake-ml-python==1.5.0; python_version <= \"3.9\"->fosforml==1.1.3) (6.0.1)\n",
      "Requirement already satisfied: snowflake-connector-python[pandas]<4,>=3.5.0 in /opt/conda/lib/python3.9/site-packages (from snowflake-ml-python==1.5.0; python_version <= \"3.9\"->fosforml==1.1.3) (3.11.0)\n",
      "Requirement already satisfied: sqlparse<1,>=0.4 in /opt/conda/lib/python3.9/site-packages (from snowflake-ml-python==1.5.0; python_version <= \"3.9\"->fosforml==1.1.3) (0.5.1)\n",
      "Requirement already satisfied: fsspec[http]<2024,>=2022.11 in /opt/conda/lib/python3.9/site-packages (from snowflake-ml-python==1.5.0; python_version <= \"3.9\"->fosforml==1.1.3) (2023.12.2)\n",
      "Requirement already satisfied: xgboost<2,>=1.7.3 in /opt/conda/lib/python3.9/site-packages (from snowflake-ml-python==1.5.0; python_version <= \"3.9\"->fosforml==1.1.3) (1.7.6)\n",
      "Requirement already satisfied: pytimeparse<2,>=1.1.8 in /opt/conda/lib/python3.9/site-packages (from snowflake-ml-python==1.5.0; python_version <= \"3.9\"->fosforml==1.1.3) (1.1.8)\n",
      "Requirement already satisfied: catboost<1.3,>=1.2.0 in /opt/conda/lib/python3.9/site-packages (from snowflake-ml-python==1.5.0; python_version <= \"3.9\"->fosforml==1.1.3) (1.2.5)\n",
      "Requirement already satisfied: absl-py<2,>=0.15 in /opt/conda/lib/python3.9/site-packages (from snowflake-ml-python==1.5.0; python_version <= \"3.9\"->fosforml==1.1.3) (1.4.0)\n",
      "Requirement already satisfied: anyio<4,>=3.5.0 in /opt/conda/lib/python3.9/site-packages (from snowflake-ml-python==1.5.0; python_version <= \"3.9\"->fosforml==1.1.3) (3.7.1)\n",
      "Requirement already satisfied: importlib-resources<7,>=6.1.1 in /opt/conda/lib/python3.9/site-packages (from snowflake-ml-python==1.5.0; python_version <= \"3.9\"->fosforml==1.1.3) (6.4.0)\n",
      "Requirement already satisfied: snowflake-snowpark-python!=1.12.0,<2,>=1.11.1 in /opt/conda/lib/python3.9/site-packages (from snowflake-ml-python==1.5.0; python_version <= \"3.9\"->fosforml==1.1.3) (1.20.0)\n",
      "Requirement already satisfied: pandas<3,>=1.0.0 in /opt/conda/lib/python3.9/site-packages (from snowflake-ml-python==1.5.0; python_version <= \"3.9\"->fosforml==1.1.3) (2.2.2)\n",
      "Requirement already satisfied: s3fs<2024,>=2022.11 in /opt/conda/lib/python3.9/site-packages (from snowflake-ml-python==1.5.0; python_version <= \"3.9\"->fosforml==1.1.3) (2023.12.2)\n",
      "Requirement already satisfied: typing-extensions<5,>=4.1.0 in /opt/conda/lib/python3.9/site-packages (from snowflake-ml-python==1.5.0; python_version <= \"3.9\"->fosforml==1.1.3) (4.12.2)\n",
      "Requirement already satisfied: pyarrow in /opt/conda/lib/python3.9/site-packages (from snowflake-ml-python==1.5.0; python_version <= \"3.9\"->fosforml==1.1.3) (17.0.0)\n",
      "Requirement already satisfied: six>=1.7.0 in /opt/conda/lib/python3.9/site-packages (from retrying<2,>=1.3.3->snowflake-ml-python==1.5.0; python_version <= \"3.9\"->fosforml==1.1.3) (1.16.0)\n",
      "Requirement already satisfied: urllib3<2.0.0,>=1.21.1; python_version < \"3.10\" in /opt/conda/lib/python3.9/site-packages (from snowflake-connector-python[pandas]<4,>=3.5.0->snowflake-ml-python==1.5.0; python_version <= \"3.9\"->fosforml==1.1.3) (1.26.19)\n",
      "Requirement already satisfied: pytz in /opt/conda/lib/python3.9/site-packages (from snowflake-connector-python[pandas]<4,>=3.5.0->snowflake-ml-python==1.5.0; python_version <= \"3.9\"->fosforml==1.1.3) (2024.1)\n",
      "Requirement already satisfied: filelock<4,>=3.5 in /opt/conda/lib/python3.9/site-packages (from snowflake-connector-python[pandas]<4,>=3.5.0->snowflake-ml-python==1.5.0; python_version <= \"3.9\"->fosforml==1.1.3) (3.15.4)\n",
      "Requirement already satisfied: asn1crypto<2.0.0,>0.24.0 in /opt/conda/lib/python3.9/site-packages (from snowflake-connector-python[pandas]<4,>=3.5.0->snowflake-ml-python==1.5.0; python_version <= \"3.9\"->fosforml==1.1.3) (1.5.1)\n",
      "Requirement already satisfied: cffi<2.0.0,>=1.9 in /opt/conda/lib/python3.9/site-packages (from snowflake-connector-python[pandas]<4,>=3.5.0->snowflake-ml-python==1.5.0; python_version <= \"3.9\"->fosforml==1.1.3) (1.16.0)\n",
      "Requirement already satisfied: pyOpenSSL<25.0.0,>=16.2.0 in /opt/conda/lib/python3.9/site-packages (from snowflake-connector-python[pandas]<4,>=3.5.0->snowflake-ml-python==1.5.0; python_version <= \"3.9\"->fosforml==1.1.3) (24.0.0)\n",
      "Requirement already satisfied: requests<3.0.0 in /opt/conda/lib/python3.9/site-packages (from snowflake-connector-python[pandas]<4,>=3.5.0->snowflake-ml-python==1.5.0; python_version <= \"3.9\"->fosforml==1.1.3) (2.32.2)\n",
      "Requirement already satisfied: certifi>=2017.4.17 in /opt/conda/lib/python3.9/site-packages (from snowflake-connector-python[pandas]<4,>=3.5.0->snowflake-ml-python==1.5.0; python_version <= \"3.9\"->fosforml==1.1.3) (2024.6.2)\n",
      "Requirement already satisfied: tomlkit in /opt/conda/lib/python3.9/site-packages (from snowflake-connector-python[pandas]<4,>=3.5.0->snowflake-ml-python==1.5.0; python_version <= \"3.9\"->fosforml==1.1.3) (0.13.0)\n",
      "Requirement already satisfied: charset-normalizer<4,>=2 in /opt/conda/lib/python3.9/site-packages (from snowflake-connector-python[pandas]<4,>=3.5.0->snowflake-ml-python==1.5.0; python_version <= \"3.9\"->fosforml==1.1.3) (2.0.4)\n",
      "Requirement already satisfied: idna<4,>=2.5 in /opt/conda/lib/python3.9/site-packages (from snowflake-connector-python[pandas]<4,>=3.5.0->snowflake-ml-python==1.5.0; python_version <= \"3.9\"->fosforml==1.1.3) (3.7)\n",
      "Requirement already satisfied: platformdirs<5.0.0,>=2.6.0 in /opt/conda/lib/python3.9/site-packages (from snowflake-connector-python[pandas]<4,>=3.5.0->snowflake-ml-python==1.5.0; python_version <= \"3.9\"->fosforml==1.1.3) (4.2.2)\n",
      "Requirement already satisfied: sortedcontainers>=2.4.0 in /opt/conda/lib/python3.9/site-packages (from snowflake-connector-python[pandas]<4,>=3.5.0->snowflake-ml-python==1.5.0; python_version <= \"3.9\"->fosforml==1.1.3) (2.4.0)\n",
      "Requirement already satisfied: pyjwt<3.0.0 in /opt/conda/lib/python3.9/site-packages (from snowflake-connector-python[pandas]<4,>=3.5.0->snowflake-ml-python==1.5.0; python_version <= \"3.9\"->fosforml==1.1.3) (2.8.0)\n",
      "Requirement already satisfied: cryptography<43.0.0,>=3.1.0 in /opt/conda/lib/python3.9/site-packages (from snowflake-connector-python[pandas]<4,>=3.5.0->snowflake-ml-python==1.5.0; python_version <= \"3.9\"->fosforml==1.1.3) (42.0.5)\n",
      "Requirement already satisfied: aiohttp!=4.0.0a0,!=4.0.0a1; extra == \"http\" in /opt/conda/lib/python3.9/site-packages (from fsspec[http]<2024,>=2022.11->snowflake-ml-python==1.5.0; python_version <= \"3.9\"->fosforml==1.1.3) (3.9.5)\n",
      "Requirement already satisfied: graphviz in /opt/conda/lib/python3.9/site-packages (from catboost<1.3,>=1.2.0->snowflake-ml-python==1.5.0; python_version <= \"3.9\"->fosforml==1.1.3) (0.20.3)\n",
      "Requirement already satisfied: plotly in /opt/conda/lib/python3.9/site-packages (from catboost<1.3,>=1.2.0->snowflake-ml-python==1.5.0; python_version <= \"3.9\"->fosforml==1.1.3) (5.22.0)\n",
      "Requirement already satisfied: matplotlib in /opt/conda/lib/python3.9/site-packages (from catboost<1.3,>=1.2.0->snowflake-ml-python==1.5.0; python_version <= \"3.9\"->fosforml==1.1.3) (3.9.1)\n",
      "Requirement already satisfied: sniffio>=1.1 in /opt/conda/lib/python3.9/site-packages (from anyio<4,>=3.5.0->snowflake-ml-python==1.5.0; python_version <= \"3.9\"->fosforml==1.1.3) (1.3.1)\n",
      "Requirement already satisfied: exceptiongroup; python_version < \"3.11\" in /opt/conda/lib/python3.9/site-packages (from anyio<4,>=3.5.0->snowflake-ml-python==1.5.0; python_version <= \"3.9\"->fosforml==1.1.3) (1.2.2)\n",
      "Requirement already satisfied: zipp>=3.1.0; python_version < \"3.10\" in /opt/conda/lib/python3.9/site-packages (from importlib-resources<7,>=6.1.1->snowflake-ml-python==1.5.0; python_version <= \"3.9\"->fosforml==1.1.3) (3.19.2)\n",
      "Requirement already satisfied: setuptools>=40.6.0 in /opt/conda/lib/python3.9/site-packages (from snowflake-snowpark-python!=1.12.0,<2,>=1.11.1->snowflake-ml-python==1.5.0; python_version <= \"3.9\"->fosforml==1.1.3) (65.6.3)\n",
      "Requirement already satisfied: wheel in /opt/conda/lib/python3.9/site-packages (from snowflake-snowpark-python!=1.12.0,<2,>=1.11.1->snowflake-ml-python==1.5.0; python_version <= \"3.9\"->fosforml==1.1.3) (0.37.1)\n",
      "Requirement already satisfied: python-dateutil>=2.8.2 in /opt/conda/lib/python3.9/site-packages (from pandas<3,>=1.0.0->snowflake-ml-python==1.5.0; python_version <= \"3.9\"->fosforml==1.1.3) (2.9.0.post0)\n",
      "Requirement already satisfied: tzdata>=2022.7 in /opt/conda/lib/python3.9/site-packages (from pandas<3,>=1.0.0->snowflake-ml-python==1.5.0; python_version <= \"3.9\"->fosforml==1.1.3) (2024.1)\n",
      "Requirement already satisfied: aiobotocore<3.0.0,>=2.5.4 in /opt/conda/lib/python3.9/site-packages (from s3fs<2024,>=2022.11->snowflake-ml-python==1.5.0; python_version <= \"3.9\"->fosforml==1.1.3) (2.13.1)\n",
      "Requirement already satisfied: pycparser in /opt/conda/lib/python3.9/site-packages (from cffi<2.0.0,>=1.9->snowflake-connector-python[pandas]<4,>=3.5.0->snowflake-ml-python==1.5.0; python_version <= \"3.9\"->fosforml==1.1.3) (2.21)\n",
      "Requirement already satisfied: frozenlist>=1.1.1 in /opt/conda/lib/python3.9/site-packages (from aiohttp!=4.0.0a0,!=4.0.0a1; extra == \"http\"->fsspec[http]<2024,>=2022.11->snowflake-ml-python==1.5.0; python_version <= \"3.9\"->fosforml==1.1.3) (1.4.1)\n",
      "Requirement already satisfied: yarl<2.0,>=1.0 in /opt/conda/lib/python3.9/site-packages (from aiohttp!=4.0.0a0,!=4.0.0a1; extra == \"http\"->fsspec[http]<2024,>=2022.11->snowflake-ml-python==1.5.0; python_version <= \"3.9\"->fosforml==1.1.3) (1.9.4)\n",
      "Requirement already satisfied: aiosignal>=1.1.2 in /opt/conda/lib/python3.9/site-packages (from aiohttp!=4.0.0a0,!=4.0.0a1; extra == \"http\"->fsspec[http]<2024,>=2022.11->snowflake-ml-python==1.5.0; python_version <= \"3.9\"->fosforml==1.1.3) (1.3.1)\n",
      "Requirement already satisfied: attrs>=17.3.0 in /opt/conda/lib/python3.9/site-packages (from aiohttp!=4.0.0a0,!=4.0.0a1; extra == \"http\"->fsspec[http]<2024,>=2022.11->snowflake-ml-python==1.5.0; python_version <= \"3.9\"->fosforml==1.1.3) (23.2.0)\n",
      "Requirement already satisfied: multidict<7.0,>=4.5 in /opt/conda/lib/python3.9/site-packages (from aiohttp!=4.0.0a0,!=4.0.0a1; extra == \"http\"->fsspec[http]<2024,>=2022.11->snowflake-ml-python==1.5.0; python_version <= \"3.9\"->fosforml==1.1.3) (6.0.5)\n",
      "Requirement already satisfied: async-timeout<5.0,>=4.0; python_version < \"3.11\" in /opt/conda/lib/python3.9/site-packages (from aiohttp!=4.0.0a0,!=4.0.0a1; extra == \"http\"->fsspec[http]<2024,>=2022.11->snowflake-ml-python==1.5.0; python_version <= \"3.9\"->fosforml==1.1.3) (4.0.3)\n",
      "Requirement already satisfied: tenacity>=6.2.0 in /opt/conda/lib/python3.9/site-packages (from plotly->catboost<1.3,>=1.2.0->snowflake-ml-python==1.5.0; python_version <= \"3.9\"->fosforml==1.1.3) (8.5.0)\n",
      "Requirement already satisfied: cycler>=0.10 in /opt/conda/lib/python3.9/site-packages (from matplotlib->catboost<1.3,>=1.2.0->snowflake-ml-python==1.5.0; python_version <= \"3.9\"->fosforml==1.1.3) (0.12.1)\n",
      "Requirement already satisfied: contourpy>=1.0.1 in /opt/conda/lib/python3.9/site-packages (from matplotlib->catboost<1.3,>=1.2.0->snowflake-ml-python==1.5.0; python_version <= \"3.9\"->fosforml==1.1.3) (1.2.1)\n",
      "Requirement already satisfied: fonttools>=4.22.0 in /opt/conda/lib/python3.9/site-packages (from matplotlib->catboost<1.3,>=1.2.0->snowflake-ml-python==1.5.0; python_version <= \"3.9\"->fosforml==1.1.3) (4.53.1)\n",
      "Requirement already satisfied: pyparsing>=2.3.1 in /opt/conda/lib/python3.9/site-packages (from matplotlib->catboost<1.3,>=1.2.0->snowflake-ml-python==1.5.0; python_version <= \"3.9\"->fosforml==1.1.3) (3.1.2)\n",
      "Requirement already satisfied: pillow>=8 in /opt/conda/lib/python3.9/site-packages (from matplotlib->catboost<1.3,>=1.2.0->snowflake-ml-python==1.5.0; python_version <= \"3.9\"->fosforml==1.1.3) (10.4.0)\n",
      "Requirement already satisfied: kiwisolver>=1.3.1 in /opt/conda/lib/python3.9/site-packages (from matplotlib->catboost<1.3,>=1.2.0->snowflake-ml-python==1.5.0; python_version <= \"3.9\"->fosforml==1.1.3) (1.4.5)\n",
      "Requirement already satisfied: aioitertools<1.0.0,>=0.5.1 in /opt/conda/lib/python3.9/site-packages (from aiobotocore<3.0.0,>=2.5.4->s3fs<2024,>=2022.11->snowflake-ml-python==1.5.0; python_version <= \"3.9\"->fosforml==1.1.3) (0.11.0)\n",
      "Requirement already satisfied: wrapt<2.0.0,>=1.10.10 in /opt/conda/lib/python3.9/site-packages (from aiobotocore<3.0.0,>=2.5.4->s3fs<2024,>=2022.11->snowflake-ml-python==1.5.0; python_version <= \"3.9\"->fosforml==1.1.3) (1.16.0)\n",
      "Requirement already satisfied: botocore<1.34.132,>=1.34.70 in /opt/conda/lib/python3.9/site-packages (from aiobotocore<3.0.0,>=2.5.4->s3fs<2024,>=2022.11->snowflake-ml-python==1.5.0; python_version <= \"3.9\"->fosforml==1.1.3) (1.34.131)\n",
      "Requirement already satisfied: jmespath<2.0.0,>=0.7.1 in /opt/conda/lib/python3.9/site-packages (from botocore<1.34.132,>=1.34.70->aiobotocore<3.0.0,>=2.5.4->s3fs<2024,>=2022.11->snowflake-ml-python==1.5.0; python_version <= \"3.9\"->fosforml==1.1.3) (1.0.1)\n",
      "Installing collected packages: fosforml\n",
      "  Found existing installation: fosforml 1.1.4\n",
      "    Uninstalling fosforml-1.1.4:\n",
      "      Successfully uninstalled fosforml-1.1.4\n",
      "Successfully installed fosforml-1.1.3\n",
      "\u001b[33mWARNING: You are using pip version 19.3.1; however, version 24.1.2 is available.\n",
      "You should consider upgrading via the 'pip install --upgrade pip' command.\u001b[0m\n"
     ]
    }
   ],
   "source": [
    "!pip install fosforml==1.1.3"
   ]
  },
  {
   "cell_type": "code",
   "execution_count": 17,
   "id": "7210557a",
   "metadata": {},
   "outputs": [
    {
     "name": "stdout",
     "output_type": "stream",
     "text": [
      "Failed to create snowflake session. Failed to create snowflake session. 250001 (08001): Failed to connect to DB: fya62509.us-east-1.snowflakecomputing.com:443. Error connecting to Snowflake via Snowpark Container Services. Please use OAuth when connecting to Snowflake. For more information please refer to https://docs.snowflake.com/en/developer-guide/snowpark-container-services/additional-considerations-services-jobs#connecting-to-snowflake-from-inside-a-container.\n"
     ]
    }
   ],
   "source": [
    "from fosforml.model_manager.snowflakesession import get_session\n",
    "session = get_session()\n",
    "print(session)"
   ]
  },
  {
   "cell_type": "code",
   "execution_count": 27,
   "id": "9e157c02-88a1-4359-b425-4c5e8602a517",
   "metadata": {},
   "outputs": [
    {
     "name": "stdout",
     "output_type": "stream",
     "text": [
      "HTTP/1.1 200 OK\n",
      "\u001b[1mCache-Control\u001b[0m: no-cache, no-store, no-transform\n",
      "\u001b[1mContent-Security-Policy\u001b[0m: default-src 'none';img-src 'self' data: https://*.duosecurity.com ;style-src 'self' 'unsafe-inline' ;script-src 'self' 'unsafe-eval' ;script-src-elem 'self'   'sha256-1fXtdRuqVJ8TV8v8F5fnAYchArxDC6+x5XcQr+0C4Dw=' https://*.blob.core.usgovcloudapi.net;frame-src 'self' https://*.duosecurity.com https://snowflake-appservice-prod.com;child-src 'self';report-uri /console/csp-report;connect-src 'self' *.snowflake.com *.snowflakecomputing.com https://*.amazonaws.com  https://*.storage.googleapis.com https://storage.googleapis.com https://*.blob.core.windows.net https://*.blob.core.usgovcloudapi.net https://*.amazonaws.com.cn;font-src 'self' ;frame-ancestors 'none';form-action 'self';upgrade-insecure-requests;block-all-mixed-content;\n",
      "\u001b[1mContent-Security-Policy-Report-Only\u001b[0m: default-src 'none';img-src 'self' data: https://*.duosecurity.com ;style-src 'self' 'unsafe-inline' ;script-src 'self' 'unsafe-eval' ;script-src-elem 'self'   'sha256-1fXtdRuqVJ8TV8v8F5fnAYchArxDC6+x5XcQr+0C4Dw=' https://*.blob.core.usgovcloudapi.net;frame-src 'self' https://*.duosecurity.com https://snowflake-appservice-prod.com;child-src 'self';report-uri /console/csp-report;connect-src 'self' *.snowflake.com *.snowflakecomputing.com https://*.amazonaws.com  https://*.storage.googleapis.com https://storage.googleapis.com https://*.blob.core.windows.net https://*.blob.core.usgovcloudapi.net;font-src 'self' ;frame-ancestors 'none';form-action 'self';block-all-mixed-content;\n",
      "\u001b[1mContent-Type\u001b[0m: text/html\n",
      "\u001b[1mDate\u001b[0m: Mon, 22 Jul 2024 12:35:47 GMT\n",
      "\u001b[1mExpect-CT\u001b[0m: enforce, max-age=3600\n",
      "\u001b[1mStrict-Transport-Security\u001b[0m: max-age=31536000\n",
      "\u001b[1mVary\u001b[0m: Accept-Encoding, User-Agent\n",
      "\u001b[1mX-Content-Type-Options\u001b[0m: nosniff\n",
      "\u001b[1mX-Frame-Options\u001b[0m: deny\n",
      "\u001b[1mX-XSS-Protection\u001b[0m: 1; mode=block\n",
      "\u001b[1mContent-Length\u001b[0m: 17878\n",
      "\u001b[1mConnection\u001b[0m: keep-alive\n",
      "\n",
      "<!DOCTYPE html>\n",
      "<html>\n",
      "  <head>\n",
      "    <meta http-equiv=\"X-UA-Compatible\" content=\"IE=edge\" />\n",
      "    <meta charset=\"UTF-8\" />\n",
      "    <meta\n",
      "      name=\"viewport\"\n",
      "      content=\"width=device-width, initial-scale=1, maximum-scale=1, user-scalable=no\"\n",
      "    />\n",
      "\n",
      "    <!-- set the base path for all urls -->\n",
      "    <base href=\"../../../assets/ui/Main/\" />\n",
      "\n",
      "    <link rel=\"icon\" href=\"../../../favicon.ico\" />\n",
      "\n",
      "    <!-- The following script was added to keep track of when UI started to load -->\n",
      "    <script>\n",
      "      if (performance && typeof performance.mark === \"function\") {\n",
      "        performance.mark(\"loadUiScript\");\n",
      "      }\n",
      "    </script>\n",
      "    <!-- The line below must be kept intact for Sencha Cmd to build your application -->\n",
      "    <!-- prettier-ignore -->\n",
      "    <script  id=\"microloader\" data-app=\"688eaf6f-820f-47aa-ba93-e298d28e3bb9\" src=\"microloader.js\"></script>\n",
      "    <style>\n",
      "      body {\n",
      "          background: #FAFAFA;\n",
      "      }\n",
      "        @keyframes growShrink {\n",
      "        0% {\n",
      "            transform: scale(0.6);\n",
      "        }\n",
      "        50% {\n",
      "            transform: scale(0.9);\n",
      "        }\n",
      "        100% {\n",
      "            transform: scale(0.6);\n",
      "        }\n",
      "      }\n",
      "  </style>\n",
      "  </head>\n",
      "  <body data-bind=\"{&quot;LOCALE&quot;:&quot;en&quot;,&quot;APP_PREFIX_LOGIN&quot;:&quot;console&quot;,&quot;APP_PREFIX_HOME&quot;:&quot;console&quot;,&quot;ACCOUNT_NAME&quot;:&quot;FYA62509&quot;,&quot;AUTH_METHODS&quot;:&quot;[\\&quot;USERNAME_PASSWORD\\&quot;]&quot;,&quot;FED_LABEL&quot;:&quot;&quot;,&quot;ENABLE_FORGOTTEN_PASSWORD&quot;:false,&quot;PROVIDED_LOCALES&quot;:[&quot;ja&quot;,&quot;en&quot;,&quot;fr-FR&quot;],&quot;LOCALIZE_UI&quot;:false,&quot;UI_ENABLE_BUGFIX_279239_REGIONLESS_SSO_REDIRECT&quot;:true,&quot;UI_LANDING_PAGE&quot;:&quot;CLASSIC_CONSOLE&quot;,&quot;UI_LANDING_PAGE_OVERRIDE&quot;:&quot;NONE&quot;,&quot;ORG_NAME&quot;:&quot;ZQISEAM&quot;,&quot;REGION&quot;:&quot;us-east-1&quot;,&quot;DEPLOYMENT_LOCATION&quot;:&quot;PUBLIC.AWS_US_EAST_1&quot;,&quot;AVAILABLE_REGIONS&quot;:{&quot;PUBLIC.AWS_EU_WEST_1&quot;:{&quot;snowflakeRegion&quot;:&quot;AWS_EU_WEST_1&quot;,&quot;regionGroup&quot;:&quot;PUBLIC&quot;,&quot;cloud&quot;:&quot;aws&quot;,&quot;cloudRegion&quot;:&quot;eu-west-1&quot;,&quot;cloudRegionName&quot;:&quot;EU (Ireland)&quot;,&quot;regionGroupType&quot;:&quot;PUBLIC&quot;},&quot;PUBLIC.GCP_US_CENTRAL1&quot;:{&quot;snowflakeRegion&quot;:&quot;GCP_US_CENTRAL1&quot;,&quot;regionGroup&quot;:&quot;PUBLIC&quot;,&quot;cloud&quot;:&quot;gcp&quot;,&quot;cloudRegion&quot;:&quot;us-central1&quot;,&quot;cloudRegionName&quot;:&quot;US Central 1 (Iowa)&quot;,&quot;regionGroupType&quot;:&quot;PUBLIC&quot;},&quot;PUBLIC.AWS_EU_WEST_2&quot;:{&quot;snowflakeRegion&quot;:&quot;AWS_EU_WEST_2&quot;,&quot;regionGroup&quot;:&quot;PUBLIC&quot;,&quot;cloud&quot;:&quot;aws&quot;,&quot;cloudRegion&quot;:&quot;eu-west-2&quot;,&quot;cloudRegionName&quot;:&quot;EU (London)&quot;,&quot;regionGroupType&quot;:&quot;PUBLIC&quot;},&quot;PUBLIC.AZURE_CENTRALUS&quot;:{&quot;snowflakeRegion&quot;:&quot;AZURE_CENTRALUS&quot;,&quot;regionGroup&quot;:&quot;PUBLIC&quot;,&quot;cloud&quot;:&quot;azure&quot;,&quot;cloudRegion&quot;:&quot;centralus&quot;,&quot;cloudRegionName&quot;:&quot;Central US (Iowa)&quot;,&quot;regionGroupType&quot;:&quot;PUBLIC&quot;},&quot;PUBLIC.AWS_EU_WEST_3&quot;:{&quot;snowflakeRegion&quot;:&quot;AWS_EU_WEST_3&quot;,&quot;regionGroup&quot;:&quot;PUBLIC&quot;,&quot;cloud&quot;:&quot;aws&quot;,&quot;cloudRegion&quot;:&quot;eu-west-3&quot;,&quot;cloudRegionName&quot;:&quot;EU (Paris)&quot;,&quot;regionGroupType&quot;:&quot;PUBLIC&quot;},&quot;PUBLIC.AZURE_CANADACENTRAL&quot;:{&quot;snowflakeRegion&quot;:&quot;AZURE_CANADACENTRAL&quot;,&quot;regionGroup&quot;:&quot;PUBLIC&quot;,&quot;cloud&quot;:&quot;azure&quot;,&quot;cloudRegion&quot;:&quot;canadacentral&quot;,&quot;cloudRegionName&quot;:&quot;Canada Central (Toronto)&quot;,&quot;regionGroupType&quot;:&quot;PUBLIC&quot;},&quot;PUBLIC.AZURE_WESTUS2&quot;:{&quot;snowflakeRegion&quot;:&quot;AZURE_WESTUS2&quot;,&quot;regionGroup&quot;:&quot;PUBLIC&quot;,&quot;cloud&quot;:&quot;azure&quot;,&quot;cloudRegion&quot;:&quot;westus2&quot;,&quot;cloudRegionName&quot;:&quot;West US 2 (Washington)&quot;,&quot;regionGroupType&quot;:&quot;PUBLIC&quot;},&quot;PUBLIC.AZURE_UAENORTH&quot;:{&quot;snowflakeRegion&quot;:&quot;AZURE_UAENORTH&quot;,&quot;regionGroup&quot;:&quot;PUBLIC&quot;,&quot;cloud&quot;:&quot;azure&quot;,&quot;cloudRegion&quot;:&quot;uaenorth&quot;,&quot;cloudRegionName&quot;:&quot;UAE North (Dubai)&quot;,&quot;regionGroupType&quot;:&quot;PUBLIC&quot;},&quot;PUBLIC.AWS_SA_EAST_1&quot;:{&quot;snowflakeRegion&quot;:&quot;AWS_SA_EAST_1&quot;,&quot;regionGroup&quot;:&quot;PUBLIC&quot;,&quot;cloud&quot;:&quot;aws&quot;,&quot;cloudRegion&quot;:&quot;sa-east-1&quot;,&quot;cloudRegionName&quot;:&quot;South America (Sao Paulo)&quot;,&quot;regionGroupType&quot;:&quot;PUBLIC&quot;},&quot;PUBLIC.AZURE_SOUTHCENTRALUS&quot;:{&quot;snowflakeRegion&quot;:&quot;AZURE_SOUTHCENTRALUS&quot;,&quot;regionGroup&quot;:&quot;PUBLIC&quot;,&quot;cloud&quot;:&quot;azure&quot;,&quot;cloudRegion&quot;:&quot;southcentralus&quot;,&quot;cloudRegionName&quot;:&quot;South Central US (Texas)&quot;,&quot;regionGroupType&quot;:&quot;PUBLIC&quot;},&quot;PUBLIC.AWS_US_WEST_2&quot;:{&quot;snowflakeRegion&quot;:&quot;AWS_US_WEST_2&quot;,&quot;regionGroup&quot;:&quot;PUBLIC&quot;,&quot;cloud&quot;:&quot;aws&quot;,&quot;cloudRegion&quot;:&quot;us-west-2&quot;,&quot;cloudRegionName&quot;:&quot;US West (Oregon)&quot;,&quot;regionGroupType&quot;:&quot;PUBLIC&quot;},&quot;PUBLIC.AZURE_EASTUS2&quot;:{&quot;snowflakeRegion&quot;:&quot;AZURE_EASTUS2&quot;,&quot;regionGroup&quot;:&quot;PUBLIC&quot;,&quot;cloud&quot;:&quot;azure&quot;,&quot;cloudRegion&quot;:&quot;eastus2&quot;,&quot;cloudRegionName&quot;:&quot;East US 2 (Virginia)&quot;,&quot;regionGroupType&quot;:&quot;PUBLIC&quot;},&quot;PUBLIC.AWS_AP_SOUTHEAST_1&quot;:{&quot;snowflakeRegion&quot;:&quot;AWS_AP_SOUTHEAST_1&quot;,&quot;regionGroup&quot;:&quot;PUBLIC&quot;,&quot;cloud&quot;:&quot;aws&quot;,&quot;cloudRegion&quot;:&quot;ap-southeast-1&quot;,&quot;cloudRegionName&quot;:&quot;Asia Pacific (Singapore)&quot;,&quot;regionGroupType&quot;:&quot;PUBLIC&quot;},&quot;PUBLIC.AZURE_SOUTHEASTASIA&quot;:{&quot;snowflakeRegion&quot;:&quot;AZURE_SOUTHEASTASIA&quot;,&quot;regionGroup&quot;:&quot;PUBLIC&quot;,&quot;cloud&quot;:&quot;azure&quot;,&quot;cloudRegion&quot;:&quot;southeastasia&quot;,&quot;cloudRegionName&quot;:&quot;Southeast Asia (Singapore)&quot;,&quot;regionGroupType&quot;:&quot;PUBLIC&quot;},&quot;PUBLIC.AWS_AP_SOUTHEAST_2&quot;:{&quot;snowflakeRegion&quot;:&quot;AWS_AP_SOUTHEAST_2&quot;,&quot;regionGroup&quot;:&quot;PUBLIC&quot;,&quot;cloud&quot;:&quot;aws&quot;,&quot;cloudRegion&quot;:&quot;ap-southeast-2&quot;,&quot;cloudRegionName&quot;:&quot;Asia Pacific (Sydney)&quot;,&quot;regionGroupType&quot;:&quot;PUBLIC&quot;},&quot;PUBLIC.AWS_AP_SOUTHEAST_3&quot;:{&quot;snowflakeRegion&quot;:&quot;AWS_AP_SOUTHEAST_3&quot;,&quot;regionGroup&quot;:&quot;PUBLIC&quot;,&quot;cloud&quot;:&quot;aws&quot;,&quot;cloudRegion&quot;:&quot;ap-southeast-3&quot;,&quot;cloudRegionName&quot;:&quot;Asia Pacific (Jakarta)&quot;,&quot;regionGroupType&quot;:&quot;PUBLIC&quot;},&quot;PUBLIC.AWS_EU_CENTRAL_2&quot;:{&quot;snowflakeRegion&quot;:&quot;AWS_EU_CENTRAL_2&quot;,&quot;regionGroup&quot;:&quot;PUBLIC&quot;,&quot;cloud&quot;:&quot;aws&quot;,&quot;cloudRegion&quot;:&quot;eu-central-2&quot;,&quot;cloudRegionName&quot;:&quot;EU (Zurich)&quot;,&quot;regionGroupType&quot;:&quot;PUBLIC&quot;},&quot;PUBLIC.AZURE_SWITZERLANDN&quot;:{&quot;snowflakeRegion&quot;:&quot;AZURE_SWITZERLANDN&quot;,&quot;regionGroup&quot;:&quot;PUBLIC&quot;,&quot;cloud&quot;:&quot;azure&quot;,&quot;cloudRegion&quot;:&quot;switzerlandn&quot;,&quot;cloudRegionName&quot;:&quot;Switzerland North (Zurich)&quot;,&quot;regionGroupType&quot;:&quot;PUBLIC&quot;},&quot;PUBLIC.AWS_EU_NORTH_1&quot;:{&quot;snowflakeRegion&quot;:&quot;AWS_EU_NORTH_1&quot;,&quot;regionGroup&quot;:&quot;PUBLIC&quot;,&quot;cloud&quot;:&quot;aws&quot;,&quot;cloudRegion&quot;:&quot;eu-north-1&quot;,&quot;cloudRegionName&quot;:&quot;EU (Stockholm)&quot;,&quot;regionGroupType&quot;:&quot;PUBLIC&quot;},&quot;PUBLIC.GCP_US_EAST4&quot;:{&quot;snowflakeRegion&quot;:&quot;GCP_US_EAST4&quot;,&quot;regionGroup&quot;:&quot;PUBLIC&quot;,&quot;cloud&quot;:&quot;gcp&quot;,&quot;cloudRegion&quot;:&quot;us-east4&quot;,&quot;cloudRegionName&quot;:&quot;US East 4 (N. Virginia)&quot;,&quot;regionGroupType&quot;:&quot;PUBLIC&quot;},&quot;PUBLIC.AZURE_UKSOUTH&quot;:{&quot;snowflakeRegion&quot;:&quot;AZURE_UKSOUTH&quot;,&quot;regionGroup&quot;:&quot;PUBLIC&quot;,&quot;cloud&quot;:&quot;azure&quot;,&quot;cloudRegion&quot;:&quot;uksouth&quot;,&quot;cloudRegionName&quot;:&quot;UK South (London)&quot;,&quot;regionGroupType&quot;:&quot;PUBLIC&quot;},&quot;PUBLIC.AZURE_CENTRALINDIA&quot;:{&quot;snowflakeRegion&quot;:&quot;AZURE_CENTRALINDIA&quot;,&quot;regionGroup&quot;:&quot;PUBLIC&quot;,&quot;cloud&quot;:&quot;azure&quot;,&quot;cloudRegion&quot;:&quot;centralindia&quot;,&quot;cloudRegionName&quot;:&quot;Central India (Pune)&quot;,&quot;regionGroupType&quot;:&quot;PUBLIC&quot;},&quot;PUBLIC.AZURE_NORTHEUROPE&quot;:{&quot;snowflakeRegion&quot;:&quot;AZURE_NORTHEUROPE&quot;,&quot;regionGroup&quot;:&quot;PUBLIC&quot;,&quot;cloud&quot;:&quot;azure&quot;,&quot;cloudRegion&quot;:&quot;northeurope&quot;,&quot;cloudRegionName&quot;:&quot;North Europe (Ireland)&quot;,&quot;regionGroupType&quot;:&quot;PUBLIC&quot;},&quot;PUBLIC.AWS_EU_CENTRAL_1&quot;:{&quot;snowflakeRegion&quot;:&quot;AWS_EU_CENTRAL_1&quot;,&quot;regionGroup&quot;:&quot;PUBLIC&quot;,&quot;cloud&quot;:&quot;aws&quot;,&quot;cloudRegion&quot;:&quot;eu-central-1&quot;,&quot;cloudRegionName&quot;:&quot;EU (Frankfurt)&quot;,&quot;regionGroupType&quot;:&quot;PUBLIC&quot;},&quot;PUBLIC.AWS_AP_SOUTH_1&quot;:{&quot;snowflakeRegion&quot;:&quot;AWS_AP_SOUTH_1&quot;,&quot;regionGroup&quot;:&quot;PUBLIC&quot;,&quot;cloud&quot;:&quot;aws&quot;,&quot;cloudRegion&quot;:&quot;ap-south-1&quot;,&quot;cloudRegionName&quot;:&quot;Asia Pacific (Mumbai)&quot;,&quot;regionGroupType&quot;:&quot;PUBLIC&quot;},&quot;PUBLIC.AZURE_JAPANEAST&quot;:{&quot;snowflakeRegion&quot;:&quot;AZURE_JAPANEAST&quot;,&quot;regionGroup&quot;:&quot;PUBLIC&quot;,&quot;cloud&quot;:&quot;azure&quot;,&quot;cloudRegion&quot;:&quot;japaneast&quot;,&quot;cloudRegionName&quot;:&quot;Japan East (Tokyo, Saitama)&quot;,&quot;regionGroupType&quot;:&quot;PUBLIC&quot;},&quot;PUBLIC.AZURE_AUSTRALIAEAST&quot;:{&quot;snowflakeRegion&quot;:&quot;AZURE_AUSTRALIAEAST&quot;,&quot;regionGroup&quot;:&quot;PUBLIC&quot;,&quot;cloud&quot;:&quot;azure&quot;,&quot;cloudRegion&quot;:&quot;australiaeast&quot;,&quot;cloudRegionName&quot;:&quot;Australia East (New South Wales)&quot;,&quot;regionGroupType&quot;:&quot;PUBLIC&quot;},&quot;PUBLIC.AWS_AP_NORTHEAST_1&quot;:{&quot;snowflakeRegion&quot;:&quot;AWS_AP_NORTHEAST_1&quot;,&quot;regionGroup&quot;:&quot;PUBLIC&quot;,&quot;cloud&quot;:&quot;aws&quot;,&quot;cloudRegion&quot;:&quot;ap-northeast-1&quot;,&quot;cloudRegionName&quot;:&quot;Asia Pacific (Tokyo)&quot;,&quot;regionGroupType&quot;:&quot;PUBLIC&quot;},&quot;PUBLIC.AWS_US_EAST_1&quot;:{&quot;snowflakeRegion&quot;:&quot;AWS_US_EAST_1&quot;,&quot;regionGroup&quot;:&quot;PUBLIC&quot;,&quot;cloud&quot;:&quot;aws&quot;,&quot;cloudRegion&quot;:&quot;us-east-1&quot;,&quot;cloudRegionName&quot;:&quot;US East (N. Virginia)&quot;,&quot;regionGroupType&quot;:&quot;PUBLIC&quot;},&quot;PUBLIC.AWS_CA_CENTRAL_1&quot;:{&quot;snowflakeRegion&quot;:&quot;AWS_CA_CENTRAL_1&quot;,&quot;regionGroup&quot;:&quot;PUBLIC&quot;,&quot;cloud&quot;:&quot;aws&quot;,&quot;cloudRegion&quot;:&quot;ca-central-1&quot;,&quot;cloudRegionName&quot;:&quot;Canada (Central)&quot;,&quot;regionGroupType&quot;:&quot;PUBLIC&quot;},&quot;PUBLIC.GCP_EUROPE_WEST2&quot;:{&quot;snowflakeRegion&quot;:&quot;GCP_EUROPE_WEST2&quot;,&quot;regionGroup&quot;:&quot;PUBLIC&quot;,&quot;cloud&quot;:&quot;gcp&quot;,&quot;cloudRegion&quot;:&quot;europe-west2&quot;,&quot;cloudRegionName&quot;:&quot;Europe West 2 (London)&quot;,&quot;regionGroupType&quot;:&quot;PUBLIC&quot;},&quot;PUBLIC.AWS_AP_NORTHEAST_3&quot;:{&quot;snowflakeRegion&quot;:&quot;AWS_AP_NORTHEAST_3&quot;,&quot;regionGroup&quot;:&quot;PUBLIC&quot;,&quot;cloud&quot;:&quot;aws&quot;,&quot;cloudRegion&quot;:&quot;ap-northeast-3&quot;,&quot;cloudRegionName&quot;:&quot;Asia Pacific (Osaka)&quot;,&quot;regionGroupType&quot;:&quot;PUBLIC&quot;},&quot;PUBLIC.AWS_US_EAST_2&quot;:{&quot;snowflakeRegion&quot;:&quot;AWS_US_EAST_2&quot;,&quot;regionGroup&quot;:&quot;PUBLIC&quot;,&quot;cloud&quot;:&quot;aws&quot;,&quot;cloudRegion&quot;:&quot;us-east-2&quot;,&quot;cloudRegionName&quot;:&quot;US East (Ohio)&quot;,&quot;regionGroupType&quot;:&quot;PUBLIC&quot;},&quot;PUBLIC.AWS_AP_NORTHEAST_2&quot;:{&quot;snowflakeRegion&quot;:&quot;AWS_AP_NORTHEAST_2&quot;,&quot;regionGroup&quot;:&quot;PUBLIC&quot;,&quot;cloud&quot;:&quot;aws&quot;,&quot;cloudRegion&quot;:&quot;ap-northeast-2&quot;,&quot;cloudRegionName&quot;:&quot;Asia Pacific (Seoul)&quot;,&quot;regionGroupType&quot;:&quot;PUBLIC&quot;},&quot;PUBLIC.GCP_EUROPE_WEST4&quot;:{&quot;snowflakeRegion&quot;:&quot;GCP_EUROPE_WEST4&quot;,&quot;regionGroup&quot;:&quot;PUBLIC&quot;,&quot;cloud&quot;:&quot;gcp&quot;,&quot;cloudRegion&quot;:&quot;europe-west4&quot;,&quot;cloudRegionName&quot;:&quot;Europe West 4 (Netherlands)&quot;,&quot;regionGroupType&quot;:&quot;PUBLIC&quot;},&quot;PUBLIC.AZURE_WESTEUROPE&quot;:{&quot;snowflakeRegion&quot;:&quot;AZURE_WESTEUROPE&quot;,&quot;regionGroup&quot;:&quot;PUBLIC&quot;,&quot;cloud&quot;:&quot;azure&quot;,&quot;cloudRegion&quot;:&quot;westeurope&quot;,&quot;cloudRegionName&quot;:&quot;West Europe (Netherlands)&quot;,&quot;regionGroupType&quot;:&quot;PUBLIC&quot;}},&quot;UI_ENABLE_LOGIN_PAGE_SUMMIT_BUTTON&quot;:false,&quot;UI_SNOWSIGHT_PRIVATELINK_REDIRECT_BASE_URL&quot;:&quot;https://app.us-east-1.privatelink.snowflakecomputing.com&quot;,&quot;LOGIN_TIMEOUT_ERROR_MESSAGE&quot;:&quot;It looks like we are having technical difficulty in logging you into our system. Please try again or please create a case with Snowflake Support or reach us on our support line: \\n USA: +1 855 877 7505 \\n Netherlands: +31 20 899 0033 \\n Germany: +49 30 7675 8326 \\n UK: +44 1207 710140 \\n France: +33 18 652 9998 \\n Australia +61 38 594 0550 \\n Japan +81 006633814554&quot;,&quot;UI_ENABLE_S8_CLASSIC_CONSOLE_ACCESS&quot;:true,&quot;IS_ACCOUNT_ON_DEMAND&quot;:true,&quot;WILL_ACCOUNT_ORG_BE_DEFAULTED_TO_SNOWSIGHT&quot;:false,&quot;ENABLE_FIX_710695&quot;:true,&quot;UI_ENABLE_LOGIN_SCREENS_RESPONSIVENESS&quot;:true,&quot;ENABLE_IDENTIFIER_FIRST_LOGIN&quot;:false,&quot;ACCOUNT_ALIAS&quot;:&quot;LTIMOSAIC&quot;,&quot;GLOBAL_ACCOUNT_SNOWSIGHT_PL_HOST&quot;:null,&quot;UI_MIGRATION_PRIVATE_LINK_LOCKOUT_TELEMETRY_ENABLED&quot;:true,&quot;UI_ENABLE_USER_IDENTIFIER_FIRST_LOGIN_FIX_MISSING_IDP_NAME&quot;:true}\">\n",
      "    <div id=\"__snowflakeAppLoadingImg\" style=\"position: absolute; left: calc(50% - 50px); top: calc(50% - 50px); width: 100px; height: 100px;\">\n",
      "        <svg width=\"100\" height=\"100\" style=\"position: absolute; top: 0px; left: 0px; animation: 2000ms cubic-bezier(0.745, -0.51, 0.065, 1.34) 0s infinite normal none running growShrink;\">\n",
      "            <circle cx=\"50\" cy=\"50\" r=\"33.333333333333336\" fill=\"none\" stroke=\"rgb(255,104,159)\" stroke-width=\"1\"></circle>\n",
      "        </svg>\n",
      "        <svg width=\"100\" height=\"100\" style=\"position: absolute; top: 0px; left: 0px; animation: 2000ms cubic-bezier(0.780714, -0.481429, 0.100714, 1.36857) 0s infinite normal none running growShrink;\">\n",
      "            <circle cx=\"50\" cy=\"50\" r=\"33.333333333333336\" fill=\"none\" stroke=\"rgb(247,99,174)\" stroke-width=\"1.5714285714285714\"></circle>\n",
      "        </svg>\n",
      "        <svg width=\"100\" height=\"100\" style=\"position: absolute; top: 0px; left: 0px; animation: 2000ms cubic-bezier(0.816429, -0.452857, 0.136429, 1.39714) 0s infinite normal none running growShrink;\">\n",
      "            <circle cx=\"50\" cy=\"50\" r=\"33.333333333333336\" fill=\"none\" stroke=\"rgb(234,97,190)\" stroke-width=\"2.142857142857143\"></circle>\n",
      "        </svg>\n",
      "        <svg width=\"100\" height=\"100\" style=\"position: absolute; top: 0px; left: 0px; animation: 2000ms cubic-bezier(0.852143, -0.424286, 0.172143, 1.42571) 0s infinite normal none running growShrink;\">\n",
      "            <circle cx=\"50\" cy=\"50\" r=\"33.333333333333336\" fill=\"none\" stroke=\"rgb(217,98,205)\" stroke-width=\"2.7142857142857144\"></circle>\n",
      "        </svg>\n",
      "        <svg width=\"100\" height=\"100\" style=\"position: absolute; top: 0px; left: 0px; animation: 2000ms cubic-bezier(0.887857, -0.395714, 0.207857, 1.45429) 0s infinite normal none running growShrink;\">\n",
      "            <circle cx=\"50\" cy=\"50\" r=\"33.333333333333336\" fill=\"none\" stroke=\"rgb(195,102,220)\" stroke-width=\"3.2857142857142856\"></circle>\n",
      "        </svg>\n",
      "        <svg width=\"100\" height=\"100\" style=\"position: absolute; top: 0px; left: 0px; animation: 2000ms cubic-bezier(0.923571, -0.367143, 0.243571, 1.48286) 0s infinite normal none running growShrink;\">\n",
      "            <circle cx=\"50\" cy=\"50\" r=\"33.333333333333336\" fill=\"none\" stroke=\"rgb(166,107,234)\" stroke-width=\"3.857142857142857\"></circle>\n",
      "        </svg>\n",
      "        <svg width=\"100\" height=\"100\" style=\"position: absolute; top: 0px; left: 0px; animation: 2000ms cubic-bezier(0.959286, -0.338571, 0.279286, 1.51143) 0s infinite normal none running growShrink;\">\n",
      "            <circle cx=\"50\" cy=\"50\" r=\"33.333333333333336\" fill=\"none\" stroke=\"rgb(127,113,246)\" stroke-width=\"4.428571428571429\"></circle>\n",
      "        </svg>\n",
      "        <svg width=\"100\" height=\"100\" style=\"position: absolute; top: 0px; left: 0px; animation: 2000ms cubic-bezier(0.995, -0.31, 0.315, 1.54) 0s infinite normal none running growShrink;\">\n",
      "            <circle cx=\"50\" cy=\"50\" r=\"33.333333333333336\" fill=\"none\" stroke=\"rgb(63,119,255)\" stroke-width=\"5\"></circle>\n",
      "        </svg>\n",
      "    </div>\n",
      "  </body>\n",
      "</html>\n"
     ]
    }
   ],
   "source": [
    "!curl -i https://fya62509.us-east-1.snowflakecomputing.com/console"
   ]
  },
  {
   "cell_type": "code",
   "execution_count": 9,
   "id": "5280c9e3",
   "metadata": {},
   "outputs": [
    {
     "name": "stdout",
     "output_type": "stream",
     "text": [
      "{'user': 'SAURABHKULKARNI', 'password': 'Epsilon0*', 'account': 'fya62509.us-east-1', 'role': 'SAURABHKULKARNI', 'warehouse': 'FOSFOR_INSIGHT_WH', 'database': 'INSIGHT_DESIGNER_SPCS', 'schema': 'INSIGHT_SPCS_SCHEMA'}\n"
     ]
    }
   ],
   "source": [
    "from fosforml.model_manager import snowflakesession\n",
    "session_instance = snowflakesession()\n",
    "params = session_instance.connection_params\n",
    "print(params)"
   ]
  },
  {
   "cell_type": "markdown",
   "id": "c721c386",
   "metadata": {},
   "source": [
    "#### Snowflake Modeling"
   ]
  },
  {
   "cell_type": "code",
   "execution_count": 10,
   "id": "916edb20",
   "metadata": {},
   "outputs": [],
   "source": [
    "from snowflake.snowpark.session import Session,col\n",
    "import snowflake.snowpark.functions\n",
    "from snowflake.ml.modeling.metrics import confusion_matrix, accuracy_score, f1_score, recall_score,precision_score\n",
    "from snowflake.ml.modeling.preprocessing import LabelEncoder, StandardScaler\n",
    "from snowflake.ml.modeling.impute import SimpleImputer\n",
    "from snowflake.ml.modeling.ensemble import GradientBoostingClassifier\n",
    "from snowflake.ml.modeling.pipeline import Pipeline\n",
    "import snowflake"
   ]
  },
  {
   "cell_type": "code",
   "execution_count": 11,
   "id": "22b68ee6",
   "metadata": {},
   "outputs": [],
   "source": [
    "def apply_label_encoding(input_data_frame):\n",
    "    for i in input_data_frame.dtypes:\n",
    "        if i[1].find('string') >= 0:\n",
    "            label_encoder = LabelEncoder(input_cols=i[0],output_cols=i[0],drop_input_cols=True)\n",
    "            input_data_frame = label_encoder.fit(input_data_frame).transform(input_data_frame)\n",
    "    return input_data_frame"
   ]
  },
  {
   "cell_type": "code",
   "execution_count": 12,
   "id": "eb482cda",
   "metadata": {},
   "outputs": [
    {
     "ename": "AttributeError",
     "evalue": "'str' object has no attribute 'create_dataframe'",
     "output_type": "error",
     "traceback": [
      "\u001b[0;31m---------------------------------------------------------------------------\u001b[0m",
      "\u001b[0;31mAttributeError\u001b[0m                            Traceback (most recent call last)",
      "Cell \u001b[0;32mIn[12], line 6\u001b[0m\n\u001b[1;32m      4\u001b[0m \u001b[38;5;28;01mimport\u001b[39;00m \u001b[38;5;21;01mpandas\u001b[39;00m \u001b[38;5;28;01mas\u001b[39;00m \u001b[38;5;21;01mpd\u001b[39;00m\n\u001b[1;32m      5\u001b[0m df \u001b[38;5;241m=\u001b[39mpd\u001b[38;5;241m.\u001b[39mread_csv(\u001b[38;5;124m\"\u001b[39m\u001b[38;5;124mHR_CHURN.csv\u001b[39m\u001b[38;5;124m\"\u001b[39m)\n\u001b[0;32m----> 6\u001b[0m snow_df \u001b[38;5;241m=\u001b[39m \u001b[43msession\u001b[49m\u001b[38;5;241;43m.\u001b[39;49m\u001b[43mcreate_dataframe\u001b[49m(df)\n\u001b[1;32m      7\u001b[0m input_data_frame, test_df \u001b[38;5;241m=\u001b[39m snow_df\u001b[38;5;241m.\u001b[39mrandomSplit([\u001b[38;5;241m0.75\u001b[39m, \u001b[38;5;241m0.25\u001b[39m])\n",
      "\u001b[0;31mAttributeError\u001b[0m: 'str' object has no attribute 'create_dataframe'"
     ]
    }
   ],
   "source": [
    "# snow_df = session.table(\"HR_CHURN\")\n",
    "from fosforml.model_manager.snowflakesession import get_session\n",
    "session = get_session()\n",
    "import pandas as pd\n",
    "df =pd.read_csv(\"HR_CHURN.csv\")\n",
    "snow_df = session.create_dataframe(df)\n",
    "input_data_frame, test_df = snow_df.randomSplit([0.75, 0.25])"
   ]
  },
  {
   "cell_type": "code",
   "execution_count": 15,
   "id": "666efab7",
   "metadata": {},
   "outputs": [
    {
     "ename": "NameError",
     "evalue": "name 'input_data_frame' is not defined",
     "output_type": "error",
     "traceback": [
      "\u001b[0;31m---------------------------------------------------------------------------\u001b[0m",
      "\u001b[0;31mNameError\u001b[0m                                 Traceback (most recent call last)",
      "Cell \u001b[0;32mIn[15], line 1\u001b[0m\n\u001b[0;32m----> 1\u001b[0m input_data_frame \u001b[38;5;241m=\u001b[39m \u001b[43minput_data_frame\u001b[49m\u001b[38;5;241m.\u001b[39mdrop(\u001b[38;5;124m\"\u001b[39m\u001b[38;5;124mUnnamed: 0\u001b[39m\u001b[38;5;124m\"\u001b[39m)\n\u001b[1;32m      2\u001b[0m test_df \u001b[38;5;241m=\u001b[39m test_df\u001b[38;5;241m.\u001b[39mdrop(\u001b[38;5;124m\"\u001b[39m\u001b[38;5;124mUnnamed: 0\u001b[39m\u001b[38;5;124m\"\u001b[39m)\n",
      "\u001b[0;31mNameError\u001b[0m: name 'input_data_frame' is not defined"
     ]
    }
   ],
   "source": [
    "input_data_frame = input_data_frame.drop(\"Unnamed: 0\")\n",
    "test_df = test_df.drop(\"Unnamed: 0\")"
   ]
  },
  {
   "cell_type": "code",
   "execution_count": 7,
   "id": "7f902d8a",
   "metadata": {},
   "outputs": [],
   "source": [
    "label_encoder_column = []     \n",
    "input_data_frame = apply_label_encoding(input_data_frame)\n",
    "feature_cols = input_data_frame.columns\n",
    "target_col = \"SALARY\"\n",
    "feature_cols.remove(target_col)\n",
    "OUTPUT_COLS = [target_col + '_PREDICTION']"
   ]
  },
  {
   "cell_type": "code",
   "execution_count": 8,
   "id": "cad75394",
   "metadata": {},
   "outputs": [
    {
     "name": "stdout",
     "output_type": "stream",
     "text": [
      "----------------------------------------------------------------------------------------------------------------------------------------------------------------------------------------------\n",
      "|\"SALARY\"  |\"DEPARTMENT\"  |\"SATISFACTION_LEVEL\"  |\"LAST_EVALUATION\"  |\"NUMBER_PROJECT\"  |\"AVERAGE_MONTLY_HOURS\"  |\"TIME_SPEND_COMPANY\"  |\"WORK_ACCIDENT\"  |\"LEFT\"  |\"PROMOTION_LAST_5YEARS\"  |\n",
      "----------------------------------------------------------------------------------------------------------------------------------------------------------------------------------------------\n",
      "|1.0       |7.0           |0.38                  |0.53               |2                 |157                     |3                     |0                |1       |0                        |\n",
      "|2.0       |7.0           |0.11                  |0.88               |7                 |272                     |4                     |0                |1       |0                        |\n",
      "|1.0       |7.0           |0.37                  |0.52               |2                 |159                     |3                     |0                |1       |0                        |\n",
      "|1.0       |7.0           |0.41                  |0.5                |2                 |153                     |3                     |0                |1       |0                        |\n",
      "|1.0       |7.0           |0.1                   |0.77               |6                 |247                     |4                     |0                |1       |0                        |\n",
      "|1.0       |7.0           |0.92                  |0.85               |5                 |259                     |5                     |0                |1       |0                        |\n",
      "|1.0       |7.0           |0.89                  |1.0                |5                 |224                     |5                     |0                |1       |0                        |\n",
      "|1.0       |7.0           |0.42                  |0.53               |2                 |142                     |3                     |0                |1       |0                        |\n",
      "|1.0       |7.0           |0.11                  |0.81               |6                 |305                     |4                     |0                |1       |0                        |\n",
      "|1.0       |7.0           |0.84                  |0.92               |4                 |234                     |5                     |0                |1       |0                        |\n",
      "----------------------------------------------------------------------------------------------------------------------------------------------------------------------------------------------\n",
      "\n"
     ]
    }
   ],
   "source": [
    "input_data_frame.show()"
   ]
  },
  {
   "cell_type": "code",
   "execution_count": 9,
   "id": "98b3c359",
   "metadata": {
    "scrolled": true
   },
   "outputs": [
    {
     "name": "stderr",
     "output_type": "stream",
     "text": [
      "The version of package 'snowflake-snowpark-python' in the local environment is 1.20.0, which does not fit the criteria for the requirement 'snowflake-snowpark-python'. Your UDF might not work when the package version is different between the server and your local environment.\n",
      "The version of package 'scikit-learn' in the local environment is 1.3.2, which does not fit the criteria for the requirement 'scikit-learn==1.3.0'. Your UDF might not work when the package version is different between the server and your local environment.\n"
     ]
    },
    {
     "data": {
      "text/plain": [
       "<snowflake.ml.modeling.ensemble.gradient_boosting_classifier.GradientBoostingClassifier at 0x7f1c74447730>"
      ]
     },
     "execution_count": 9,
     "metadata": {},
     "output_type": "execute_result"
    }
   ],
   "source": [
    "pipeline = GradientBoostingClassifier(input_cols=feature_cols, label_cols=target_col)\n",
    "pipeline.fit(input_data_frame)"
   ]
  },
  {
   "cell_type": "code",
   "execution_count": 10,
   "id": "5f755f59",
   "metadata": {},
   "outputs": [
    {
     "data": {
      "text/plain": [
       "['SALARY']"
      ]
     },
     "execution_count": 10,
     "metadata": {},
     "output_type": "execute_result"
    }
   ],
   "source": [
    "pipeline.label_cols"
   ]
  },
  {
   "cell_type": "code",
   "execution_count": null,
   "id": "0bd9a983",
   "metadata": {},
   "outputs": [],
   "source": []
  },
  {
   "cell_type": "code",
   "execution_count": null,
   "id": "e3e7e53c",
   "metadata": {},
   "outputs": [],
   "source": []
  },
  {
   "cell_type": "code",
   "execution_count": null,
   "id": "2bc52f29",
   "metadata": {},
   "outputs": [],
   "source": []
  },
  {
   "cell_type": "code",
   "execution_count": null,
   "id": "027e41ad",
   "metadata": {},
   "outputs": [],
   "source": []
  },
  {
   "cell_type": "code",
   "execution_count": null,
   "id": "e6143a26",
   "metadata": {},
   "outputs": [],
   "source": [
    "!pip freeze | grep -i sci"
   ]
  },
  {
   "cell_type": "code",
   "execution_count": 12,
   "id": "888ee0a1",
   "metadata": {},
   "outputs": [],
   "source": [
    "test_df = apply_label_encoding(test_df)"
   ]
  },
  {
   "cell_type": "code",
   "execution_count": 13,
   "id": "00a0138f",
   "metadata": {},
   "outputs": [
    {
     "name": "stderr",
     "output_type": "stream",
     "text": [
      "The version of package 'scikit-learn' in the local environment is 1.3.2, which does not fit the criteria for the requirement 'scikit-learn==1.3.0'. Your UDF might not work when the package version is different between the server and your local environment.\n"
     ]
    }
   ],
   "source": [
    "pred_df = pipeline.predict(test_df)"
   ]
  },
  {
   "cell_type": "code",
   "execution_count": 14,
   "id": "e423babd",
   "metadata": {
    "scrolled": true
   },
   "outputs": [
    {
     "name": "stdout",
     "output_type": "stream",
     "text": [
      "----------------------------------------------------------------------------------------------------------------------------------------------------------------------------------------------------------------\n",
      "|\"SALARY\"  |\"DEPARTMENT\"  |\"SATISFACTION_LEVEL\"  |\"LAST_EVALUATION\"  |\"NUMBER_PROJECT\"  |\"AVERAGE_MONTLY_HOURS\"  |\"TIME_SPEND_COMPANY\"  |\"WORK_ACCIDENT\"  |\"LEFT\"  |\"PROMOTION_LAST_5YEARS\"  |\"OUTPUT_SALARY\"  |\n",
      "----------------------------------------------------------------------------------------------------------------------------------------------------------------------------------------------------------------\n",
      "|2.0       |7.0           |0.8                   |0.86               |5                 |262                     |6                     |0                |1       |0                        |1.0              |\n",
      "|1.0       |7.0           |0.72                  |0.87               |5                 |223                     |5                     |0                |1       |0                        |1.0              |\n",
      "|1.0       |7.0           |0.45                  |0.54               |2                 |135                     |3                     |0                |1       |0                        |1.0              |\n",
      "|1.0       |7.0           |0.45                  |0.51               |2                 |160                     |3                     |1                |1       |1                        |1.0              |\n",
      "|1.0       |7.0           |0.76                  |0.89               |5                 |262                     |5                     |0                |1       |0                        |1.0              |\n",
      "|1.0       |7.0           |0.38                  |0.55               |2                 |147                     |3                     |0                |1       |0                        |1.0              |\n",
      "|1.0       |7.0           |0.46                  |0.57               |2                 |139                     |3                     |0                |1       |0                        |1.0              |\n",
      "|1.0       |7.0           |0.4                   |0.49               |2                 |135                     |3                     |0                |1       |0                        |1.0              |\n",
      "|1.0       |2.0           |0.09                  |0.62               |6                 |294                     |4                     |0                |1       |0                        |2.0              |\n",
      "|1.0       |3.0           |0.84                  |0.87               |4                 |246                     |6                     |0                |1       |0                        |1.0              |\n",
      "----------------------------------------------------------------------------------------------------------------------------------------------------------------------------------------------------------------\n",
      "\n"
     ]
    }
   ],
   "source": [
    "pred_df.show()"
   ]
  },
  {
   "cell_type": "markdown",
   "id": "ab53c5b7",
   "metadata": {},
   "source": [
    "#### Model Registration,"
   ]
  },
  {
   "cell_type": "code",
   "execution_count": 11,
   "id": "37401e62",
   "metadata": {},
   "outputs": [],
   "source": [
    "from fosforml import register_model"
   ]
  },
  {
   "cell_type": "code",
   "execution_count": 15,
   "id": "32b7c319",
   "metadata": {},
   "outputs": [
    {
     "name": "stdout",
     "output_type": "stream",
     "text": [
      "Calculating build time metrics\n",
      "\n",
      "Progress: ██████████████                                                         20.0%\n",
      "Calculating build time metrics\n",
      "\n",
      "Progress: ████████████████████████████                                           40.0%\n"
     ]
    },
    {
     "name": "stderr",
     "output_type": "stream",
     "text": [
      "The version of package 'scikit-learn' in the local environment is 1.3.2, which does not fit the criteria for the requirement 'scikit-learn<1.4'. Your UDF might not work when the package version is different between the server and your local environment.\n",
      "DataFrame.flatten() is deprecated since 0.7.0. Use `DataFrame.join_table_function()` instead.\n",
      "The version of package 'scikit-learn' in the local environment is 1.3.2, which does not fit the criteria for the requirement 'scikit-learn<1.4'. Your UDF might not work when the package version is different between the server and your local environment.\n",
      "The version of package 'scikit-learn' in the local environment is 1.3.2, which does not fit the criteria for the requirement 'scikit-learn<1.4'. Your UDF might not work when the package version is different between the server and your local environment.\n"
     ]
    },
    {
     "name": "stdout",
     "output_type": "stream",
     "text": [
      "Calculating build time metrics\n",
      "\n",
      "Progress: ██████████████████████████████████████████                             60.0%\n",
      "Calculating build time metrics\n",
      "\n",
      "Progress: ████████████████████████████████████████████████████████               80.0%\n",
      "Calculating build time metrics\n",
      "\n",
      "Progress: ██████████████████████████████████████████████████████████████████████ 100.0%\n",
      "Failed to set tags for model MODEL_216F1A62_8359_453E_AB91_1D36E047B5A9_FDC_PRAKHAR_HR_CHURN_22JULY.\n",
      "(1304): 01b5d5a7-0002-a40c-0033-ac8700aced9e: 000002 (0A000): Unsupported feature 'TAG'.\n"
     ]
    },
    {
     "data": {
      "text/plain": [
       "\"Model 'MODEL_216F1A62_8359_453E_AB91_1D36E047B5A9_FDC_PRAKHAR_HR_CHURN_22JULY' registered successfully.\""
      ]
     },
     "execution_count": 15,
     "metadata": {},
     "output_type": "execute_result"
    }
   ],
   "source": [
    "register_model(\n",
    "  model_obj=pipeline,\n",
    "  session=session,\n",
    "  name=\"PRAKHAR_HR_CHURN_22July\",\n",
    "  snowflake_df=pred_df,\n",
    "  dataset_name=\"HR_CHURN\",\n",
    "  dataset_source=\"SnowflakeDataset\",\n",
    "  description=\"This is a test model\",\n",
    "  flavour=\"snowflake\",\n",
    "  model_type=\"classification\",\n",
    "  conda_dependencies=[\"scikit-learn==1.3.2\"]\n",
    ")"
   ]
  },
  {
   "cell_type": "code",
   "execution_count": null,
   "id": "089a320e",
   "metadata": {},
   "outputs": [],
   "source": [
    "session.sql(\"SELECT TO_CHAR(CURRENT_TIMESTAMP,'YYYY-MM-DD HH12:MI:SS PM')\").to_pandas().squeeze()"
   ]
  },
  {
   "cell_type": "code",
   "execution_count": null,
   "id": "5780264c",
   "metadata": {},
   "outputs": [],
   "source": []
  },
  {
   "cell_type": "code",
   "execution_count": null,
   "id": "c17a754e",
   "metadata": {},
   "outputs": [],
   "source": []
  },
  {
   "cell_type": "code",
   "execution_count": null,
   "id": "73723c99",
   "metadata": {},
   "outputs": [],
   "source": [
    "current_data = pipeline.predict_proba(test_df)\n",
    "predict_col = list(pipeline.predict(test_df).to_pandas()['OUTPUT_SALARY'].to_numpy())\n",
    "from snowflake.snowpark.functions import lit\n",
    "current = None\n",
    "for i in range(len(predict_col)):\n",
    "    current = current_data.with_column('OUTPUT_SALARY',lit(predict_col[i]))"
   ]
  },
  {
   "cell_type": "code",
   "execution_count": null,
   "id": "19ec66b1",
   "metadata": {},
   "outputs": [],
   "source": [
    "current_pandas = current.to_pandas()\n",
    "current_pandas.head()"
   ]
  },
  {
   "cell_type": "code",
   "execution_count": null,
   "id": "433fa1ac",
   "metadata": {},
   "outputs": [],
   "source": [
    "reference_data = pipeline.predict_proba(input_data_frame)\n",
    "predict_col = list(pipeline.predict(input_data_frame).to_pandas()['OUTPUT_SALARY'].to_numpy())\n",
    "from snowflake.snowpark.functions import lit\n",
    "reference = None\n",
    "for i in range(len(predict_col)):\n",
    "    reference = reference_data.with_column('OUTPUT_SALARY',lit(predict_col[i]))"
   ]
  },
  {
   "cell_type": "code",
   "execution_count": null,
   "id": "56861256",
   "metadata": {},
   "outputs": [],
   "source": [
    "reference_pandas = reference.to_pandas()\n",
    "reference_pandas.head()"
   ]
  },
  {
   "cell_type": "code",
   "execution_count": null,
   "id": "2a1ef154",
   "metadata": {},
   "outputs": [],
   "source": [
    "inference_pandas_data = test_df.to_pandas()"
   ]
  },
  {
   "cell_type": "code",
   "execution_count": null,
   "id": "f289c026",
   "metadata": {},
   "outputs": [],
   "source": [
    "session.write_pandas(reference_pandas,table_name=\"HR_REFERENCE_DATA\",overwrite=True).show()"
   ]
  },
  {
   "cell_type": "code",
   "execution_count": null,
   "id": "3b8bba5c",
   "metadata": {},
   "outputs": [],
   "source": [
    "session.write_pandas(current_pandas,table_name=\"HR_CURRENT_DATA\",overwrite=True).show()"
   ]
  },
  {
   "cell_type": "code",
   "execution_count": null,
   "id": "89359823",
   "metadata": {},
   "outputs": [],
   "source": [
    "session.write_pandas(inference_pandas_data,table_name=\"HR_INFERENCE_DATA\",overwrite=True).show()"
   ]
  },
  {
   "cell_type": "code",
   "execution_count": null,
   "id": "22a0fc54",
   "metadata": {},
   "outputs": [],
   "source": []
  }
 ],
 "metadata": {
  "kernelspec": {
   "display_name": "Python 3 (ipykernel)",
   "language": "python",
   "name": "python3"
  },
  "language_info": {
   "codemirror_mode": {
    "name": "ipython",
    "version": 3
   },
   "file_extension": ".py",
   "mimetype": "text/x-python",
   "name": "python",
   "nbconvert_exporter": "python",
   "pygments_lexer": "ipython3",
   "version": "3.9.19"
  }
 },
 "nbformat": 4,
 "nbformat_minor": 5
}
