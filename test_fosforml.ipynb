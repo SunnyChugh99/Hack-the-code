{
 "cells": [
  {
   "cell_type": "code",
   "execution_count": null,
   "id": "0afc2275",
   "metadata": {},
   "outputs": [],
   "source": [
    "# !pip install fosforml"
   ]
  },
  {
   "cell_type": "code",
   "execution_count": 21,
   "id": "aecf8f1c-83c3-48f6-bf07-dc14eb956bc4",
   "metadata": {},
   "outputs": [
    {
     "name": "stdout",
     "output_type": "stream",
     "text": [
      "Name: fosforml\n",
      "Version: 1.1.4\n",
      "Summary: A Python package for registering machine learning models directly to the Snowflake Model Registry, leveraging Snowflake ML capabilities.\n",
      "Home-page: https://gitlab.fosfor.com/fosfor-decision-cloud/intelligence/refract-sdk.git\n",
      "Author: Mahesh Gadipea\n",
      "Author-email: mahesh.gadipea@fosfor.com\n",
      "License: None\n",
      "Location: /opt/conda/lib/python3.9/site-packages\n",
      "Requires: snowflake-ml-python, scikit-learn, cloudpickle\n",
      "Required-by: \n"
     ]
    }
   ],
   "source": [
    "!pip show fosforml"
   ]
  },
  {
   "cell_type": "code",
   "execution_count": 16,
   "id": "7210557a",
   "metadata": {},
   "outputs": [],
   "source": [
    "from fosforml.model_manager.snowflakesession import get_session\n",
    "session = get_session()"
   ]
  },
  {
   "cell_type": "code",
   "execution_count": 17,
   "id": "5280c9e3",
   "metadata": {},
   "outputs": [
    {
     "name": "stdout",
     "output_type": "stream",
     "text": [
      "{'user': 'SAURABHKULKARNI', 'password': 'Epsilon0*', 'account': 'fya62509.us-east-1', 'role': 'SAURABHKULKARNI', 'warehouse': 'FOSFOR_INSIGHT_WH', 'database': 'INSIGHT_DESIGNER_SPCS', 'schema': 'INSIGHT_SPCS_SCHEMA'}\n"
     ]
    }
   ],
   "source": [
    "from fosforml.model_manager import snowflakesession\n",
    "session_instance = snowflakesession()\n",
    "params = session_instance.connection_params\n",
    "print(params)"
   ]
  },
  {
   "cell_type": "markdown",
   "id": "c721c386",
   "metadata": {},
   "source": [
    "#### Snowflake Modeling"
   ]
  },
  {
   "cell_type": "code",
   "execution_count": 18,
   "id": "916edb20",
   "metadata": {},
   "outputs": [],
   "source": [
    "from snowflake.snowpark.session import Session,col\n",
    "import snowflake.snowpark.functions\n",
    "from snowflake.ml.modeling.metrics import confusion_matrix, accuracy_score, f1_score, recall_score,precision_score\n",
    "from snowflake.ml.modeling.preprocessing import LabelEncoder, StandardScaler\n",
    "from snowflake.ml.modeling.impute import SimpleImputer\n",
    "from snowflake.ml.modeling.ensemble import GradientBoostingClassifier\n",
    "from snowflake.ml.modeling.pipeline import Pipeline\n",
    "import snowflake"
   ]
  },
  {
   "cell_type": "code",
   "execution_count": 19,
   "id": "22b68ee6",
   "metadata": {},
   "outputs": [],
   "source": [
    "def apply_label_encoding(input_data_frame):\n",
    "    for i in input_data_frame.dtypes:\n",
    "        if i[1].find('string') >= 0:\n",
    "            label_encoder = LabelEncoder(input_cols=i[0],output_cols=i[0],drop_input_cols=True)\n",
    "            input_data_frame = label_encoder.fit(input_data_frame).transform(input_data_frame)\n",
    "    return input_data_frame"
   ]
  },
  {
   "cell_type": "code",
   "execution_count": 22,
   "id": "eb482cda",
   "metadata": {},
   "outputs": [
    {
     "ename": "AttributeError",
     "evalue": "'str' object has no attribute 'create_dataframe'",
     "output_type": "error",
     "traceback": [
      "\u001b[0;31m---------------------------------------------------------------------------\u001b[0m",
      "\u001b[0;31mAttributeError\u001b[0m                            Traceback (most recent call last)",
      "Cell \u001b[0;32mIn[22], line 4\u001b[0m\n\u001b[1;32m      2\u001b[0m \u001b[38;5;28;01mimport\u001b[39;00m \u001b[38;5;21;01mpandas\u001b[39;00m \u001b[38;5;28;01mas\u001b[39;00m \u001b[38;5;21;01mpd\u001b[39;00m\n\u001b[1;32m      3\u001b[0m df \u001b[38;5;241m=\u001b[39mpd\u001b[38;5;241m.\u001b[39mread_csv(\u001b[38;5;124m\"\u001b[39m\u001b[38;5;124mHR_CHURN.csv\u001b[39m\u001b[38;5;124m\"\u001b[39m)\n\u001b[0;32m----> 4\u001b[0m snow_df \u001b[38;5;241m=\u001b[39m \u001b[43msession\u001b[49m\u001b[38;5;241;43m.\u001b[39;49m\u001b[43mcreate_dataframe\u001b[49m(df)\n\u001b[1;32m      5\u001b[0m input_data_frame, test_df \u001b[38;5;241m=\u001b[39m snow_df\u001b[38;5;241m.\u001b[39mrandomSplit([\u001b[38;5;241m0.75\u001b[39m, \u001b[38;5;241m0.25\u001b[39m])\n",
      "\u001b[0;31mAttributeError\u001b[0m: 'str' object has no attribute 'create_dataframe'"
     ]
    }
   ],
   "source": [
    "# snow_df = session.table(\"HR_CHURN\")\n",
    "import pandas as pd\n",
    "df =pd.read_csv(\"HR_CHURN.csv\")\n",
    "snow_df = session.create_dataframe(df)\n",
    "input_data_frame, test_df = snow_df.randomSplit([0.75, 0.25])"
   ]
  },
  {
   "cell_type": "code",
   "execution_count": 15,
   "id": "666efab7",
   "metadata": {},
   "outputs": [
    {
     "ename": "NameError",
     "evalue": "name 'input_data_frame' is not defined",
     "output_type": "error",
     "traceback": [
      "\u001b[0;31m---------------------------------------------------------------------------\u001b[0m",
      "\u001b[0;31mNameError\u001b[0m                                 Traceback (most recent call last)",
      "Cell \u001b[0;32mIn[15], line 1\u001b[0m\n\u001b[0;32m----> 1\u001b[0m input_data_frame \u001b[38;5;241m=\u001b[39m \u001b[43minput_data_frame\u001b[49m\u001b[38;5;241m.\u001b[39mdrop(\u001b[38;5;124m\"\u001b[39m\u001b[38;5;124mUnnamed: 0\u001b[39m\u001b[38;5;124m\"\u001b[39m)\n\u001b[1;32m      2\u001b[0m test_df \u001b[38;5;241m=\u001b[39m test_df\u001b[38;5;241m.\u001b[39mdrop(\u001b[38;5;124m\"\u001b[39m\u001b[38;5;124mUnnamed: 0\u001b[39m\u001b[38;5;124m\"\u001b[39m)\n",
      "\u001b[0;31mNameError\u001b[0m: name 'input_data_frame' is not defined"
     ]
    }
   ],
   "source": [
    "input_data_frame = input_data_frame.drop(\"Unnamed: 0\")\n",
    "test_df = test_df.drop(\"Unnamed: 0\")"
   ]
  },
  {
   "cell_type": "code",
   "execution_count": 7,
   "id": "7f902d8a",
   "metadata": {},
   "outputs": [],
   "source": [
    "label_encoder_column = []     \n",
    "input_data_frame = apply_label_encoding(input_data_frame)\n",
    "feature_cols = input_data_frame.columns\n",
    "target_col = \"SALARY\"\n",
    "feature_cols.remove(target_col)\n",
    "OUTPUT_COLS = [target_col + '_PREDICTION']"
   ]
  },
  {
   "cell_type": "code",
   "execution_count": 8,
   "id": "cad75394",
   "metadata": {},
   "outputs": [
    {
     "name": "stdout",
     "output_type": "stream",
     "text": [
      "----------------------------------------------------------------------------------------------------------------------------------------------------------------------------------------------\n",
      "|\"SALARY\"  |\"DEPARTMENT\"  |\"SATISFACTION_LEVEL\"  |\"LAST_EVALUATION\"  |\"NUMBER_PROJECT\"  |\"AVERAGE_MONTLY_HOURS\"  |\"TIME_SPEND_COMPANY\"  |\"WORK_ACCIDENT\"  |\"LEFT\"  |\"PROMOTION_LAST_5YEARS\"  |\n",
      "----------------------------------------------------------------------------------------------------------------------------------------------------------------------------------------------\n",
      "|1.0       |7.0           |0.38                  |0.53               |2                 |157                     |3                     |0                |1       |0                        |\n",
      "|2.0       |7.0           |0.11                  |0.88               |7                 |272                     |4                     |0                |1       |0                        |\n",
      "|1.0       |7.0           |0.37                  |0.52               |2                 |159                     |3                     |0                |1       |0                        |\n",
      "|1.0       |7.0           |0.41                  |0.5                |2                 |153                     |3                     |0                |1       |0                        |\n",
      "|1.0       |7.0           |0.1                   |0.77               |6                 |247                     |4                     |0                |1       |0                        |\n",
      "|1.0       |7.0           |0.92                  |0.85               |5                 |259                     |5                     |0                |1       |0                        |\n",
      "|1.0       |7.0           |0.89                  |1.0                |5                 |224                     |5                     |0                |1       |0                        |\n",
      "|1.0       |7.0           |0.42                  |0.53               |2                 |142                     |3                     |0                |1       |0                        |\n",
      "|1.0       |7.0           |0.11                  |0.81               |6                 |305                     |4                     |0                |1       |0                        |\n",
      "|1.0       |7.0           |0.84                  |0.92               |4                 |234                     |5                     |0                |1       |0                        |\n",
      "----------------------------------------------------------------------------------------------------------------------------------------------------------------------------------------------\n",
      "\n"
     ]
    }
   ],
   "source": [
    "input_data_frame.show()"
   ]
  },
  {
   "cell_type": "code",
   "execution_count": 9,
   "id": "98b3c359",
   "metadata": {
    "scrolled": true
   },
   "outputs": [
    {
     "name": "stderr",
     "output_type": "stream",
     "text": [
      "The version of package 'snowflake-snowpark-python' in the local environment is 1.20.0, which does not fit the criteria for the requirement 'snowflake-snowpark-python'. Your UDF might not work when the package version is different between the server and your local environment.\n",
      "The version of package 'scikit-learn' in the local environment is 1.3.2, which does not fit the criteria for the requirement 'scikit-learn==1.3.0'. Your UDF might not work when the package version is different between the server and your local environment.\n"
     ]
    },
    {
     "data": {
      "text/plain": [
       "<snowflake.ml.modeling.ensemble.gradient_boosting_classifier.GradientBoostingClassifier at 0x7f1c74447730>"
      ]
     },
     "execution_count": 9,
     "metadata": {},
     "output_type": "execute_result"
    }
   ],
   "source": [
    "pipeline = GradientBoostingClassifier(input_cols=feature_cols, label_cols=target_col)\n",
    "pipeline.fit(input_data_frame)"
   ]
  },
  {
   "cell_type": "code",
   "execution_count": 10,
   "id": "5f755f59",
   "metadata": {},
   "outputs": [
    {
     "data": {
      "text/plain": [
       "['SALARY']"
      ]
     },
     "execution_count": 10,
     "metadata": {},
     "output_type": "execute_result"
    }
   ],
   "source": [
    "pipeline.label_cols"
   ]
  },
  {
   "cell_type": "code",
   "execution_count": null,
   "id": "0bd9a983",
   "metadata": {},
   "outputs": [],
   "source": []
  },
  {
   "cell_type": "code",
   "execution_count": null,
   "id": "e3e7e53c",
   "metadata": {},
   "outputs": [],
   "source": []
  },
  {
   "cell_type": "code",
   "execution_count": null,
   "id": "2bc52f29",
   "metadata": {},
   "outputs": [],
   "source": []
  },
  {
   "cell_type": "code",
   "execution_count": null,
   "id": "027e41ad",
   "metadata": {},
   "outputs": [],
   "source": []
  },
  {
   "cell_type": "code",
   "execution_count": null,
   "id": "e6143a26",
   "metadata": {},
   "outputs": [],
   "source": [
    "!pip freeze | grep -i sci"
   ]
  },
  {
   "cell_type": "code",
   "execution_count": 12,
   "id": "888ee0a1",
   "metadata": {},
   "outputs": [],
   "source": [
    "test_df = apply_label_encoding(test_df)"
   ]
  },
  {
   "cell_type": "code",
   "execution_count": 13,
   "id": "00a0138f",
   "metadata": {},
   "outputs": [
    {
     "name": "stderr",
     "output_type": "stream",
     "text": [
      "The version of package 'scikit-learn' in the local environment is 1.3.2, which does not fit the criteria for the requirement 'scikit-learn==1.3.0'. Your UDF might not work when the package version is different between the server and your local environment.\n"
     ]
    }
   ],
   "source": [
    "pred_df = pipeline.predict(test_df)"
   ]
  },
  {
   "cell_type": "code",
   "execution_count": 14,
   "id": "e423babd",
   "metadata": {
    "scrolled": true
   },
   "outputs": [
    {
     "name": "stdout",
     "output_type": "stream",
     "text": [
      "----------------------------------------------------------------------------------------------------------------------------------------------------------------------------------------------------------------\n",
      "|\"SALARY\"  |\"DEPARTMENT\"  |\"SATISFACTION_LEVEL\"  |\"LAST_EVALUATION\"  |\"NUMBER_PROJECT\"  |\"AVERAGE_MONTLY_HOURS\"  |\"TIME_SPEND_COMPANY\"  |\"WORK_ACCIDENT\"  |\"LEFT\"  |\"PROMOTION_LAST_5YEARS\"  |\"OUTPUT_SALARY\"  |\n",
      "----------------------------------------------------------------------------------------------------------------------------------------------------------------------------------------------------------------\n",
      "|2.0       |7.0           |0.8                   |0.86               |5                 |262                     |6                     |0                |1       |0                        |1.0              |\n",
      "|1.0       |7.0           |0.72                  |0.87               |5                 |223                     |5                     |0                |1       |0                        |1.0              |\n",
      "|1.0       |7.0           |0.45                  |0.54               |2                 |135                     |3                     |0                |1       |0                        |1.0              |\n",
      "|1.0       |7.0           |0.45                  |0.51               |2                 |160                     |3                     |1                |1       |1                        |1.0              |\n",
      "|1.0       |7.0           |0.76                  |0.89               |5                 |262                     |5                     |0                |1       |0                        |1.0              |\n",
      "|1.0       |7.0           |0.38                  |0.55               |2                 |147                     |3                     |0                |1       |0                        |1.0              |\n",
      "|1.0       |7.0           |0.46                  |0.57               |2                 |139                     |3                     |0                |1       |0                        |1.0              |\n",
      "|1.0       |7.0           |0.4                   |0.49               |2                 |135                     |3                     |0                |1       |0                        |1.0              |\n",
      "|1.0       |2.0           |0.09                  |0.62               |6                 |294                     |4                     |0                |1       |0                        |2.0              |\n",
      "|1.0       |3.0           |0.84                  |0.87               |4                 |246                     |6                     |0                |1       |0                        |1.0              |\n",
      "----------------------------------------------------------------------------------------------------------------------------------------------------------------------------------------------------------------\n",
      "\n"
     ]
    }
   ],
   "source": [
    "pred_df.show()"
   ]
  },
  {
   "cell_type": "markdown",
   "id": "ab53c5b7",
   "metadata": {},
   "source": [
    "#### Model Registration,"
   ]
  },
  {
   "cell_type": "code",
   "execution_count": 11,
   "id": "37401e62",
   "metadata": {},
   "outputs": [],
   "source": [
    "from fosforml import register_model"
   ]
  },
  {
   "cell_type": "code",
   "execution_count": 15,
   "id": "32b7c319",
   "metadata": {},
   "outputs": [
    {
     "name": "stdout",
     "output_type": "stream",
     "text": [
      "Calculating build time metrics\n",
      "\n",
      "Progress: ██████████████                                                         20.0%\n",
      "Calculating build time metrics\n",
      "\n",
      "Progress: ████████████████████████████                                           40.0%\n"
     ]
    },
    {
     "name": "stderr",
     "output_type": "stream",
     "text": [
      "The version of package 'scikit-learn' in the local environment is 1.3.2, which does not fit the criteria for the requirement 'scikit-learn<1.4'. Your UDF might not work when the package version is different between the server and your local environment.\n",
      "DataFrame.flatten() is deprecated since 0.7.0. Use `DataFrame.join_table_function()` instead.\n",
      "The version of package 'scikit-learn' in the local environment is 1.3.2, which does not fit the criteria for the requirement 'scikit-learn<1.4'. Your UDF might not work when the package version is different between the server and your local environment.\n",
      "The version of package 'scikit-learn' in the local environment is 1.3.2, which does not fit the criteria for the requirement 'scikit-learn<1.4'. Your UDF might not work when the package version is different between the server and your local environment.\n"
     ]
    },
    {
     "name": "stdout",
     "output_type": "stream",
     "text": [
      "Calculating build time metrics\n",
      "\n",
      "Progress: ██████████████████████████████████████████                             60.0%\n",
      "Calculating build time metrics\n",
      "\n",
      "Progress: ████████████████████████████████████████████████████████               80.0%\n",
      "Calculating build time metrics\n",
      "\n",
      "Progress: ██████████████████████████████████████████████████████████████████████ 100.0%\n",
      "Failed to set tags for model MODEL_216F1A62_8359_453E_AB91_1D36E047B5A9_FDC_PRAKHAR_HR_CHURN_22JULY.\n",
      "(1304): 01b5d5a7-0002-a40c-0033-ac8700aced9e: 000002 (0A000): Unsupported feature 'TAG'.\n"
     ]
    },
    {
     "data": {
      "text/plain": [
       "\"Model 'MODEL_216F1A62_8359_453E_AB91_1D36E047B5A9_FDC_PRAKHAR_HR_CHURN_22JULY' registered successfully.\""
      ]
     },
     "execution_count": 15,
     "metadata": {},
     "output_type": "execute_result"
    }
   ],
   "source": [
    "register_model(\n",
    "  model_obj=pipeline,\n",
    "  session=session,\n",
    "  name=\"PRAKHAR_HR_CHURN_22July\",\n",
    "  snowflake_df=pred_df,\n",
    "  dataset_name=\"HR_CHURN\",\n",
    "  dataset_source=\"SnowflakeDataset\",\n",
    "  description=\"This is a test model\",\n",
    "  flavour=\"snowflake\",\n",
    "  model_type=\"classification\",\n",
    "  conda_dependencies=[\"scikit-learn==1.3.2\"]\n",
    ")"
   ]
  },
  {
   "cell_type": "code",
   "execution_count": null,
   "id": "089a320e",
   "metadata": {},
   "outputs": [],
   "source": [
    "session.sql(\"SELECT TO_CHAR(CURRENT_TIMESTAMP,'YYYY-MM-DD HH12:MI:SS PM')\").to_pandas().squeeze()"
   ]
  },
  {
   "cell_type": "code",
   "execution_count": null,
   "id": "5780264c",
   "metadata": {},
   "outputs": [],
   "source": []
  },
  {
   "cell_type": "code",
   "execution_count": null,
   "id": "c17a754e",
   "metadata": {},
   "outputs": [],
   "source": []
  },
  {
   "cell_type": "code",
   "execution_count": null,
   "id": "73723c99",
   "metadata": {},
   "outputs": [],
   "source": [
    "current_data = pipeline.predict_proba(test_df)\n",
    "predict_col = list(pipeline.predict(test_df).to_pandas()['OUTPUT_SALARY'].to_numpy())\n",
    "from snowflake.snowpark.functions import lit\n",
    "current = None\n",
    "for i in range(len(predict_col)):\n",
    "    current = current_data.with_column('OUTPUT_SALARY',lit(predict_col[i]))"
   ]
  },
  {
   "cell_type": "code",
   "execution_count": null,
   "id": "19ec66b1",
   "metadata": {},
   "outputs": [],
   "source": [
    "current_pandas = current.to_pandas()\n",
    "current_pandas.head()"
   ]
  },
  {
   "cell_type": "code",
   "execution_count": null,
   "id": "433fa1ac",
   "metadata": {},
   "outputs": [],
   "source": [
    "reference_data = pipeline.predict_proba(input_data_frame)\n",
    "predict_col = list(pipeline.predict(input_data_frame).to_pandas()['OUTPUT_SALARY'].to_numpy())\n",
    "from snowflake.snowpark.functions import lit\n",
    "reference = None\n",
    "for i in range(len(predict_col)):\n",
    "    reference = reference_data.with_column('OUTPUT_SALARY',lit(predict_col[i]))"
   ]
  },
  {
   "cell_type": "code",
   "execution_count": null,
   "id": "56861256",
   "metadata": {},
   "outputs": [],
   "source": [
    "reference_pandas = reference.to_pandas()\n",
    "reference_pandas.head()"
   ]
  },
  {
   "cell_type": "code",
   "execution_count": null,
   "id": "2a1ef154",
   "metadata": {},
   "outputs": [],
   "source": [
    "inference_pandas_data = test_df.to_pandas()"
   ]
  },
  {
   "cell_type": "code",
   "execution_count": null,
   "id": "f289c026",
   "metadata": {},
   "outputs": [],
   "source": [
    "session.write_pandas(reference_pandas,table_name=\"HR_REFERENCE_DATA\",overwrite=True).show()"
   ]
  },
  {
   "cell_type": "code",
   "execution_count": null,
   "id": "3b8bba5c",
   "metadata": {},
   "outputs": [],
   "source": [
    "session.write_pandas(current_pandas,table_name=\"HR_CURRENT_DATA\",overwrite=True).show()"
   ]
  },
  {
   "cell_type": "code",
   "execution_count": null,
   "id": "89359823",
   "metadata": {},
   "outputs": [],
   "source": [
    "session.write_pandas(inference_pandas_data,table_name=\"HR_INFERENCE_DATA\",overwrite=True).show()"
   ]
  },
  {
   "cell_type": "code",
   "execution_count": null,
   "id": "22a0fc54",
   "metadata": {},
   "outputs": [],
   "source": []
  }
 ],
 "metadata": {
  "kernelspec": {
   "display_name": "Python 3 (ipykernel)",
   "language": "python",
   "name": "python3"
  },
  "language_info": {
   "codemirror_mode": {
    "name": "ipython",
    "version": 3
   },
   "file_extension": ".py",
   "mimetype": "text/x-python",
   "name": "python",
   "nbconvert_exporter": "python",
   "pygments_lexer": "ipython3",
   "version": "3.9.19"
  }
 },
 "nbformat": 4,
 "nbformat_minor": 5
}
