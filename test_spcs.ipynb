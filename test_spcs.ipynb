{
 "cells": [
  {
   "cell_type": "code",
   "execution_count": 2,
   "id": "b6d292d1-35ad-4ec4-9ba6-256b571456fd",
   "metadata": {},
   "outputs": [
    {
     "name": "stdout",
     "output_type": "stream",
     "text": [
      "Collecting snowflake-connector-python\n",
      "\u001b[?25l  Downloading https://files.pythonhosted.org/packages/55/f1/73efb911afb087020ef7cc36fceeb5b2975d8305ada07d2c808d1cb927fe/snowflake_connector_python-3.12.1-cp39-cp39-manylinux_2_17_x86_64.manylinux2014_x86_64.whl (2.5MB)\n",
      "\u001b[K     |████████████████████████████████| 2.5MB 9.0MB/s eta 0:00:01\n",
      "\u001b[?25hRequirement already satisfied: requests<3.0.0 in /opt/conda/lib/python3.9/site-packages (from snowflake-connector-python) (2.32.3)\n",
      "Requirement already satisfied: pytz in /opt/conda/lib/python3.9/site-packages (from snowflake-connector-python) (2024.1)\n",
      "Collecting sortedcontainers>=2.4.0\n",
      "  Downloading https://files.pythonhosted.org/packages/32/46/9cb0e58b2deb7f82b84065f37f3bffeb12413f947f9388e4cac22c4621ce/sortedcontainers-2.4.0-py2.py3-none-any.whl\n",
      "Requirement already satisfied: certifi>=2017.4.17 in /opt/conda/lib/python3.9/site-packages (from snowflake-connector-python) (2024.7.4)\n",
      "Requirement already satisfied: typing-extensions<5,>=4.3 in /opt/conda/lib/python3.9/site-packages (from snowflake-connector-python) (4.12.2)\n",
      "Requirement already satisfied: cryptography>=3.1.0 in /opt/conda/lib/python3.9/site-packages (from snowflake-connector-python) (42.0.5)\n",
      "Requirement already satisfied: pyOpenSSL<25.0.0,>=16.2.0 in /opt/conda/lib/python3.9/site-packages (from snowflake-connector-python) (24.0.0)\n",
      "Collecting asn1crypto<2.0.0,>0.24.0\n",
      "\u001b[?25l  Downloading https://files.pythonhosted.org/packages/c9/7f/09065fd9e27da0eda08b4d6897f1c13535066174cc023af248fc2a8d5e5a/asn1crypto-1.5.1-py2.py3-none-any.whl (105kB)\n",
      "\u001b[K     |████████████████████████████████| 112kB 94.0MB/s eta 0:00:01\n",
      "\u001b[?25hRequirement already satisfied: idna<4,>=2.5 in /opt/conda/lib/python3.9/site-packages (from snowflake-connector-python) (3.7)\n",
      "Collecting filelock<4,>=3.5\n",
      "  Downloading https://files.pythonhosted.org/packages/ae/f0/48285f0262fe47103a4a45972ed2f9b93e4c80b8fd609fa98da78b2a5706/filelock-3.15.4-py3-none-any.whl\n",
      "Requirement already satisfied: platformdirs<5.0.0,>=2.6.0 in /opt/conda/lib/python3.9/site-packages (from snowflake-connector-python) (4.2.2)\n",
      "Collecting tomlkit\n",
      "  Downloading https://files.pythonhosted.org/packages/f9/b6/a447b5e4ec71e13871be01ba81f5dfc9d0af7e473da256ff46bc0e24026f/tomlkit-0.13.2-py3-none-any.whl\n",
      "Requirement already satisfied: packaging in /opt/conda/lib/python3.9/site-packages (from snowflake-connector-python) (24.1)\n",
      "Collecting urllib3<2.0.0,>=1.21.1; python_version < \"3.10\"\n",
      "\u001b[?25l  Downloading https://files.pythonhosted.org/packages/33/cf/8435d5a7159e2a9c83a95896ed596f68cf798005fe107cc655b5c5c14704/urllib3-1.26.20-py2.py3-none-any.whl (144kB)\n",
      "\u001b[K     |████████████████████████████████| 153kB 106.4MB/s eta 0:00:01\n",
      "\u001b[?25hRequirement already satisfied: charset-normalizer<4,>=2 in /opt/conda/lib/python3.9/site-packages (from snowflake-connector-python) (3.3.2)\n",
      "Requirement already satisfied: cffi<2.0.0,>=1.9 in /opt/conda/lib/python3.9/site-packages (from snowflake-connector-python) (1.16.0)\n",
      "Collecting pyjwt<3.0.0\n",
      "  Downloading https://files.pythonhosted.org/packages/79/84/0fdf9b18ba31d69877bd39c9cd6052b47f3761e9910c15de788e519f079f/PyJWT-2.9.0-py3-none-any.whl\n",
      "Requirement already satisfied: pycparser in /opt/conda/lib/python3.9/site-packages (from cffi<2.0.0,>=1.9->snowflake-connector-python) (2.21)\n",
      "Installing collected packages: sortedcontainers, asn1crypto, filelock, tomlkit, urllib3, pyjwt, snowflake-connector-python\n",
      "  Found existing installation: urllib3 2.2.2\n",
      "    Uninstalling urllib3-2.2.2:\n",
      "      Successfully uninstalled urllib3-2.2.2\n",
      "Successfully installed asn1crypto-1.5.1 filelock-3.15.4 pyjwt-2.9.0 snowflake-connector-python-3.12.1 sortedcontainers-2.4.0 tomlkit-0.13.2 urllib3-1.26.20\n",
      "\u001b[33mWARNING: You are using pip version 19.3.1; however, version 24.2 is available.\n",
      "You should consider upgrading via the 'pip install --upgrade pip' command.\u001b[0m\n"
     ]
    }
   ],
   "source": [
    "!pip install snowflake-connector-python"
   ]
  },
  {
   "cell_type": "code",
   "execution_count": null,
   "id": "9aaebc73-67e9-4461-bc65-573e17d61f5a",
   "metadata": {},
   "outputs": [],
   "source": [
    "import snowflake.connector\n",
    "import requests\n",
    "\n",
    "# Define Snowflake connection parameters\n",
    "user = 'SAURABHKULKARNI'\n",
    "password = 'Epsilon0*'\n",
    "account = 'FYA62509.us-east-1'\n",
    "role = 'SAURABHKULKARNI'\n",
    "warehouse = 'FOSFOR_INSIGHT_WH'\n",
    "database = 'INSIGHT_DESIGNER_SPCS'\n",
    "schema = 'INSIGHT_SPCS_SCHEMA'\n",
    "\n",
    "# Establish a connection to Snowflake\n",
    "conn = snowflake.connector.connect(\n",
    "    user=user,\n",
    "    password=password,\n",
    "    account=account,\n",
    "    role=role,\n",
    "    warehouse=warehouse,\n",
    "    database=database,\n",
    "    schema=schema\n",
    ")\n",
    "import base64\n",
    "\n",
    "# # Generate an authentication token<your_warehouse>\n",
    "auth_token = conn._rest._token\n",
    "print(auth_token)\n",
    "# Encode the token in Base64 format\n",
    "base64_token = base64.b64encode(auth_token.encode('utf-8')).decode('utf-8')\n",
    "print(\"base64_token: \", base64_token)\n",
    "#\n",
    "# Print the generated token\n",
    "print(\"Generated Snowflake Auth Token: \")\n",
    "print(auth_token)\n",
    "#\n",
    "# # Close the connection\n",
    "# conn.close()\n",
    "\n",
    "\n",
    "# Get the access token\n",
    "# cursor = conn.cursor()\n",
    "# cursor.execute(\"CALL GET_ACCESS_TOKEN()\")\n",
    "# access_token = cursor.fetchone()[0]\n",
    "#\n",
    "# # Encode the access token as Base64\n",
    "# base64_token = access_token.encode('utf-8').decode('base64')\n",
    "#\n",
    "# print(\"Base64-encoded token:\", base64_token)\n",
    "\n",
    "\n",
    "# Get the session ID\n",
    "session_id = conn.session_id\n",
    "#\n",
    "print(\"Session ID:\", session_id)\n",
    "\n",
    "\n",
    "#\n",
    "# # Encode the session ID as Base64\n",
    "# base64_token = session_id.encode('utf-8').decode('base64')\n",
    "# print(\"Base64-encoded session ID:\", base64_token)\n",
    "\n",
    "\n",
    "# Function to make a request to the Snowflake endpoint with the token\n",
    "def access_snowflake_with_token():\n",
    "    token = base64_token\n",
    "    headers = {\n",
    "        \"Authorization\": f\"Bearer {token}\"\n",
    "    }\n",
    "    # url = \"https://zqiseam-ltimosaic.snowflakecomputing.com/oauth/authorize\"\n",
    "    url = \"https://olzqgbof-zqiseam-ltimosaic.snowflakecomputing.app\"\n",
    "\n",
    "    # Skip the oauth/authorize step\n",
    "    response = requests.get(url, headers=headers, allow_redirects=False, ssl_verify=False)\n",
    "\n",
    "    print(response.content)\n",
    "\n",
    "    if response.status_code == 200:\n",
    "        print(\"Access granted\")\n",
    "        # Handle the response as needed\n",
    "    else:\n",
    "        print(f\"Failed to access Snowflake: {response.status_code}\")\n",
    "        # Handle the error as needed\n",
    "\n",
    "\n",
    "# Call the function to access Snowflake\n",
    "access_snowflake_with_token()\n"
   ]
  },
  {
   "cell_type": "code",
   "execution_count": 1,
   "id": "521b571e-288a-4967-96cd-9f7dc3e9b88e",
   "metadata": {},
   "outputs": [
    {
     "name": "stdout",
     "output_type": "stream",
     "text": [
      "Hi\n"
     ]
    }
   ],
   "source": [
    "print(\"Hi\")"
   ]
  },
  {
   "cell_type": "code",
   "execution_count": null,
   "id": "dd00d1fa-3640-4c32-932b-a975cebd7361",
   "metadata": {},
   "outputs": [],
   "source": []
  }
 ],
 "metadata": {
  "kernelspec": {
   "display_name": "Python 3 (ipykernel)",
   "language": "python",
   "name": "python3"
  },
  "language_info": {
   "codemirror_mode": {
    "name": "ipython",
    "version": 3
   },
   "file_extension": ".py",
   "mimetype": "text/x-python",
   "name": "python",
   "nbconvert_exporter": "python",
   "pygments_lexer": "ipython3",
   "version": "3.9.19"
  }
 },
 "nbformat": 4,
 "nbformat_minor": 5
}
