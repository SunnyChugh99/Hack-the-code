{
 "cells": [
  {
   "cell_type": "code",
   "execution_count": null,
   "id": "064ac326-5283-4c6e-8408-24b61b2d86d8",
   "metadata": {},
   "outputs": [],
   "source": []
  }
 ],
 "metadata": {
  "kernelspec": {
   "display_name": "",
   "name": ""
  },
  "language_info": {
   "name": ""
  }
 },
 "nbformat": 4,
 "nbformat_minor": 5
}
