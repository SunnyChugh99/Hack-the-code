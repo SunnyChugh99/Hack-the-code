{
 "cells": [
  {
   "cell_type": "code",
   "execution_count": 1,
   "id": "ca90e0d8",
   "metadata": {},
   "outputs": [],
   "source": [
    " # !pip install fosforml"
   ]
  },
  {
   "cell_type": "markdown",
   "id": "91b28d33",
   "metadata": {},
   "source": [
    "## Sklearn Models Registration"
   ]
  },
  {
   "cell_type": "markdown",
   "id": "7125ad54",
   "metadata": {},
   "source": [
    "### session creation"
   ]
  },
  {
   "cell_type": "code",
   "execution_count": 3,
   "id": "c28aa44f",
   "metadata": {},
   "outputs": [],
   "source": [
    "from fosforml.model_manager.snowflakesession import get_session\n",
    "session = get_session()"
   ]
  },
  {
   "cell_type": "markdown",
   "id": "36527182",
   "metadata": {},
   "source": [
    "### modeling"
   ]
  },
  {
   "cell_type": "markdown",
   "id": "a23f9d65",
   "metadata": {},
   "source": [
    "#### Multiclass classification"
   ]
  },
  {
   "cell_type": "code",
   "execution_count": 4,
   "id": "a656ed51",
   "metadata": {},
   "outputs": [],
   "source": [
    "from sklearn.ensemble._forest import RandomForestClassifier\n",
    "from sklearn.datasets import load_iris\n",
    "from sklearn.model_selection import train_test_split\n",
    "import pandas as pd\n",
    "\n",
    "m_dataset = load_iris() \n",
    "feature_names = m_dataset.feature_names\n",
    "u_features = [col.replace(\" \",\"_\").replace(\"(\",\"\").replace(\")\",\"\") for col in feature_names]\n",
    "m_df = pd.DataFrame(m_dataset.data,columns=u_features)\n",
    "m_df[\"Target\"] = m_dataset.target\n",
    "\n",
    "\n",
    "x_train,x_test,y_train,y_test = train_test_split(m_df.iloc[:,:-1],m_df['Target'])\n",
    "model = RandomForestClassifier()\n",
    "model.fit(x_train,y_train)\n",
    "\n",
    "y_pred = pd.DataFrame(model.predict(x_test),columns=[\"Predicted\"])"
   ]
  },
  {
   "cell_type": "code",
   "execution_count": null,
   "id": "6227d7f2",
   "metadata": {},
   "outputs": [
    {
     "name": "stdout",
     "output_type": "stream",
     "text": [
      "Calculating build time metrics\n",
      "\n",
      "Progress: ███████████████████████                                                33.3%\n"
     ]
    },
    {
     "name": "stderr",
     "output_type": "stream",
     "text": [
      "The version of package 'scikit-learn' in the local environment is 1.3.2, which does not fit the criteria for the requirement 'scikit-learn<1.4'. Your UDF might not work when the package version is different between the server and your local environment.\n",
      "DataFrame.flatten() is deprecated since 0.7.0. Use `DataFrame.join_table_function()` instead.\n"
     ]
    }
   ],
   "source": [
    "from fosforml import register_model\n",
    "register_model(\n",
    "  model_obj=model,\n",
    "  session=session,\n",
    "  x_train=x_train,\n",
    "  y_train=y_train,\n",
    "  x_test=x_test,\n",
    "  y_test=y_test,\n",
    "  y_pred=y_pred,\n",
    "  dataset_name=\"RandomMulticlassMOdelForTesting\",\n",
    "  dataset_source=\"Snowflake\",\n",
    "  name=\"RandomMultieefefefclassMOdelForTesting\",\n",
    "  description=\"This is a test sklearn model\",\n",
    "  flavour=\"sklearn\",\n",
    "  model_type=\"classification\",\n",
    "  conda_dependencies=[\"scikit-learn==1.3.2\"]\n",
    ")"
   ]
  },
  {
   "cell_type": "code",
   "execution_count": 6,
   "id": "f40e0edb",
   "metadata": {},
   "outputs": [],
   "source": [
    "x_train_df = session.create_dataframe(x_train)"
   ]
  },
  {
   "cell_type": "code",
   "execution_count": 7,
   "id": "bdfafb5c",
   "metadata": {},
   "outputs": [
    {
     "data": {
      "text/plain": [
       "(True,\n",
       " 'Successfully uploaded MODEL_5AABC4FE_FC3D_4121_9E11_52C83C9FECC9_FDC_RANDOMMULTICLASSMODELFORTESTING datasets.')"
      ]
     },
     "execution_count": 7,
     "metadata": {},
     "output_type": "execute_result"
    }
   ],
   "source": [
    "from fosforml.model_manager import DatasetManager\n",
    "\n",
    "dataset_manager = DatasetManager(model_name=\"MODEL_5AABC4FE_FC3D_4121_9E11_52C83C9FECC9_FDC_RANDOMMULTICLASSMODELFORTESTING\", version_name=\"v2\", session=session)\n",
    "dataset_manager.upload_datasets(session=session, datasets={\"x_train\": x_train_df})"
   ]
  },
  {
   "cell_type": "code",
   "execution_count": 7,
   "id": "728baf22",
   "metadata": {},
   "outputs": [],
   "source": [
    "from snowflake.ml.model import custom_model\n",
    "import pandas as pd"
   ]
  },
  {
   "cell_type": "code",
   "execution_count": null,
   "id": "69b9c5ad",
   "metadata": {},
   "outputs": [],
   "source": []
  },
  {
   "cell_type": "code",
   "execution_count": 162,
   "id": "6465b31e",
   "metadata": {},
   "outputs": [],
   "source": [
    "class CustomTestModel(custom_model.CustomModel):\n",
    "    def __init__(self, context: custom_model.CustomModel) -> None:\n",
    "        super().__init__(context)\n",
    "\n",
    "    @custom_model.inference_api\n",
    "    def predict(self, input_data: pd.DataFrame) -> pd.DataFrame:\n",
    "        score_func = self.context.model_ref('feature_preproc')\n",
    "        model = self.context.model_ref('model')\n",
    "        return score_func(\n",
    "            model,\n",
    "            input_data\n",
    "        )"
   ]
  },
  {
   "cell_type": "code",
   "execution_count": 163,
   "id": "e7ad6bde",
   "metadata": {},
   "outputs": [],
   "source": [
    "def feature_preproc(model,input_data):\n",
    "    return pd.DataFrame(model.predict(input_data),columns=[\"Predicted\"])\n",
    "\n",
    "mc = custom_model.ModelContext(\n",
    "    models={\n",
    "        'model': model,\n",
    "        'feature_preproc': feature_preproc\n",
    "    }\n",
    ")"
   ]
  },
  {
   "cell_type": "code",
   "execution_count": 164,
   "id": "4e355ccd",
   "metadata": {},
   "outputs": [],
   "source": [
    "custom_test_model = CustomTestModel(mc)"
   ]
  },
  {
   "cell_type": "code",
   "execution_count": 165,
   "id": "d11aedae",
   "metadata": {},
   "outputs": [],
   "source": [
    "custom_model_predicted = custom_test_model.predict(x_test)"
   ]
  },
  {
   "cell_type": "code",
   "execution_count": 166,
   "id": "f14daf7f",
   "metadata": {},
   "outputs": [
    {
     "data": {
      "text/html": [
       "<div>\n",
       "<style scoped>\n",
       "    .dataframe tbody tr th:only-of-type {\n",
       "        vertical-align: middle;\n",
       "    }\n",
       "\n",
       "    .dataframe tbody tr th {\n",
       "        vertical-align: top;\n",
       "    }\n",
       "\n",
       "    .dataframe thead th {\n",
       "        text-align: right;\n",
       "    }\n",
       "</style>\n",
       "<table border=\"1\" class=\"dataframe\">\n",
       "  <thead>\n",
       "    <tr style=\"text-align: right;\">\n",
       "      <th></th>\n",
       "      <th>Predicted</th>\n",
       "    </tr>\n",
       "  </thead>\n",
       "  <tbody>\n",
       "    <tr>\n",
       "      <th>0</th>\n",
       "      <td>1</td>\n",
       "    </tr>\n",
       "    <tr>\n",
       "      <th>1</th>\n",
       "      <td>1</td>\n",
       "    </tr>\n",
       "    <tr>\n",
       "      <th>2</th>\n",
       "      <td>2</td>\n",
       "    </tr>\n",
       "    <tr>\n",
       "      <th>3</th>\n",
       "      <td>0</td>\n",
       "    </tr>\n",
       "    <tr>\n",
       "      <th>4</th>\n",
       "      <td>0</td>\n",
       "    </tr>\n",
       "  </tbody>\n",
       "</table>\n",
       "</div>"
      ],
      "text/plain": [
       "   Predicted\n",
       "0          1\n",
       "1          1\n",
       "2          2\n",
       "3          0\n",
       "4          0"
      ]
     },
     "execution_count": 166,
     "metadata": {},
     "output_type": "execute_result"
    }
   ],
   "source": [
    "custom_model_predicted.head()"
   ]
  },
  {
   "cell_type": "code",
   "execution_count": 167,
   "id": "7aa716e0",
   "metadata": {},
   "outputs": [],
   "source": [
    "# custom_model_predicted"
   ]
  },
  {
   "cell_type": "code",
   "execution_count": null,
   "id": "b019f6e0",
   "metadata": {},
   "outputs": [],
   "source": []
  },
  {
   "cell_type": "code",
   "execution_count": null,
   "id": "60a6d6f8",
   "metadata": {},
   "outputs": [],
   "source": []
  },
  {
   "cell_type": "code",
   "execution_count": null,
   "id": "65c7e488",
   "metadata": {},
   "outputs": [],
   "source": []
  },
  {
   "cell_type": "code",
   "execution_count": 70,
   "id": "f131fa86",
   "metadata": {},
   "outputs": [],
   "source": [
    "from fosforml.model_manager import snowflakesession\n",
    "session_instance = snowflakesession()\n",
    "params = session_instance.connection_params"
   ]
  },
  {
   "cell_type": "code",
   "execution_count": 71,
   "id": "c6c7ec6d",
   "metadata": {},
   "outputs": [
    {
     "data": {
      "text/plain": [
       "{'account': 'ug94937.us-east4.gcp',\n",
       " 'user': 'VISHWASMAHESHWARI',\n",
       " 'password': 'VishMahe@6',\n",
       " 'database': 'FDC_DEV_VISHWASMAHESHWARI',\n",
       " 'schema': 'FDC_DEV_SCHMEA',\n",
       " 'warehouse': 'FOSFOR_INSIGHT_WH',\n",
       " 'role': 'VISHWASMAHESHWARI'}"
      ]
     },
     "execution_count": 71,
     "metadata": {},
     "output_type": "execute_result"
    }
   ],
   "source": [
    "params"
   ]
  },
  {
   "cell_type": "code",
   "execution_count": 168,
   "id": "76652c60",
   "metadata": {},
   "outputs": [],
   "source": [
    "from snowflake.ml.registry import Registry"
   ]
  },
  {
   "cell_type": "code",
   "execution_count": 169,
   "id": "3d3059b4",
   "metadata": {},
   "outputs": [],
   "source": [
    "model_reg = Registry(\n",
    "    session=session,\n",
    "    database_name=\"FDC_DEV_VISHWASMAHESHWARI\",\n",
    "    schema_name=\"FDC_DEV_SCHMEA\"\n",
    ")"
   ]
  },
  {
   "cell_type": "code",
   "execution_count": 170,
   "id": "c0ee163d",
   "metadata": {},
   "outputs": [
    {
     "data": {
      "text/plain": [
       "dict_keys(['model', 'feature_preproc'])"
      ]
     },
     "execution_count": 170,
     "metadata": {},
     "output_type": "execute_result"
    }
   ],
   "source": [
    "custom_test_model.context.model_refs.keys()"
   ]
  },
  {
   "cell_type": "code",
   "execution_count": 171,
   "id": "695d9731",
   "metadata": {},
   "outputs": [
    {
     "name": "stdout",
     "output_type": "stream",
     "text": [
      "3.10.13\r\n"
     ]
    }
   ],
   "source": [
    "!python -c \"import platform;print(platform.python_version())\""
   ]
  },
  {
   "cell_type": "code",
   "execution_count": 172,
   "id": "04b83327",
   "metadata": {},
   "outputs": [
    {
     "name": "stderr",
     "output_type": "stream",
     "text": [
      "/opt/conda/lib/python3.10/contextlib.py:135: UserWarning: `relax_version` is not set and therefore defaulted to True. Dependency version constraints relaxed from ==x.y.z to >=x.y, <(x+1). To use specific dependency versions for compatibility, reproducibility, etc., set `options={'relax_version': False}` when logging the model.\n",
      "  return next(self.gen)\n",
      "/tmp/pip_packages/snowflake/ml/model/model_signature.py:69: UserWarning: The sample input has 150 rows, thus a truncation happened before inferring signature. This might cause inaccurate signature inference. If that happens, consider specifying signature manually.\n",
      "  warnings.warn(\n"
     ]
    },
    {
     "ename": "AssertionError",
     "evalue": "(0000) ",
     "output_type": "error",
     "traceback": [
      "\u001b[0;31m---------------------------------------------------------------------------\u001b[0m",
      "\u001b[0;31mAssertionError\u001b[0m                            Traceback (most recent call last)",
      "File \u001b[0;32m/tmp/pip_packages/snowflake/ml/_internal/telemetry.py:368\u001b[0m, in \u001b[0;36msend_api_usage_telemetry.<locals>.decorator.<locals>.wrap\u001b[0;34m(*args, **kwargs)\u001b[0m\n\u001b[1;32m    367\u001b[0m \u001b[38;5;28;01mtry\u001b[39;00m:\n\u001b[0;32m--> 368\u001b[0m     res \u001b[38;5;241m=\u001b[39m \u001b[43mfunc\u001b[49m\u001b[43m(\u001b[49m\u001b[38;5;241;43m*\u001b[39;49m\u001b[43margs\u001b[49m\u001b[43m,\u001b[49m\u001b[43m \u001b[49m\u001b[38;5;241;43m*\u001b[39;49m\u001b[38;5;241;43m*\u001b[39;49m\u001b[43mkwargs\u001b[49m\u001b[43m)\u001b[49m\n\u001b[1;32m    369\u001b[0m \u001b[38;5;28;01mexcept\u001b[39;00m \u001b[38;5;167;01mException\u001b[39;00m \u001b[38;5;28;01mas\u001b[39;00m e:\n",
      "File \u001b[0;32m/tmp/pip_packages/snowflake/ml/registry/registry.py:156\u001b[0m, in \u001b[0;36mRegistry.log_model\u001b[0;34m(self, model, model_name, version_name, comment, metrics, conda_dependencies, pip_requirements, python_version, signatures, sample_input_data, code_paths, ext_modules, options)\u001b[0m\n\u001b[1;32m    151\u001b[0m     \u001b[38;5;28;01mraise\u001b[39;00m \u001b[38;5;167;01mNotImplementedError\u001b[39;00m(\n\u001b[1;32m    152\u001b[0m         \u001b[38;5;124m\"\u001b[39m\u001b[38;5;124mCurrently `pip_requirements` is not supported since Model can only executed \u001b[39m\u001b[38;5;124m\"\u001b[39m\n\u001b[1;32m    153\u001b[0m         \u001b[38;5;124m\"\u001b[39m\u001b[38;5;124min Snowflake Warehouse where all dependencies are required to be retrieved \u001b[39m\u001b[38;5;124m\"\u001b[39m\n\u001b[1;32m    154\u001b[0m         \u001b[38;5;124m\"\u001b[39m\u001b[38;5;124mfrom Snowflake Anaconda Channel.\u001b[39m\u001b[38;5;124m\"\u001b[39m\n\u001b[1;32m    155\u001b[0m     )\n\u001b[0;32m--> 156\u001b[0m \u001b[38;5;28;01mreturn\u001b[39;00m \u001b[38;5;28;43mself\u001b[39;49m\u001b[38;5;241;43m.\u001b[39;49m\u001b[43m_model_manager\u001b[49m\u001b[38;5;241;43m.\u001b[39;49m\u001b[43mlog_model\u001b[49m\u001b[43m(\u001b[49m\n\u001b[1;32m    157\u001b[0m \u001b[43m    \u001b[49m\u001b[43mmodel\u001b[49m\u001b[38;5;241;43m=\u001b[39;49m\u001b[43mmodel\u001b[49m\u001b[43m,\u001b[49m\n\u001b[1;32m    158\u001b[0m \u001b[43m    \u001b[49m\u001b[43mmodel_name\u001b[49m\u001b[38;5;241;43m=\u001b[39;49m\u001b[43mmodel_name\u001b[49m\u001b[43m,\u001b[49m\n\u001b[1;32m    159\u001b[0m \u001b[43m    \u001b[49m\u001b[43mversion_name\u001b[49m\u001b[38;5;241;43m=\u001b[39;49m\u001b[43mversion_name\u001b[49m\u001b[43m,\u001b[49m\n\u001b[1;32m    160\u001b[0m \u001b[43m    \u001b[49m\u001b[43mcomment\u001b[49m\u001b[38;5;241;43m=\u001b[39;49m\u001b[43mcomment\u001b[49m\u001b[43m,\u001b[49m\n\u001b[1;32m    161\u001b[0m \u001b[43m    \u001b[49m\u001b[43mmetrics\u001b[49m\u001b[38;5;241;43m=\u001b[39;49m\u001b[43mmetrics\u001b[49m\u001b[43m,\u001b[49m\n\u001b[1;32m    162\u001b[0m \u001b[43m    \u001b[49m\u001b[43mconda_dependencies\u001b[49m\u001b[38;5;241;43m=\u001b[39;49m\u001b[43mconda_dependencies\u001b[49m\u001b[43m,\u001b[49m\n\u001b[1;32m    163\u001b[0m \u001b[43m    \u001b[49m\u001b[43mpip_requirements\u001b[49m\u001b[38;5;241;43m=\u001b[39;49m\u001b[38;5;28;43;01mNone\u001b[39;49;00m\u001b[43m,\u001b[49m\n\u001b[1;32m    164\u001b[0m \u001b[43m    \u001b[49m\u001b[43mpython_version\u001b[49m\u001b[38;5;241;43m=\u001b[39;49m\u001b[43mpython_version\u001b[49m\u001b[43m,\u001b[49m\n\u001b[1;32m    165\u001b[0m \u001b[43m    \u001b[49m\u001b[43msignatures\u001b[49m\u001b[38;5;241;43m=\u001b[39;49m\u001b[43msignatures\u001b[49m\u001b[43m,\u001b[49m\n\u001b[1;32m    166\u001b[0m \u001b[43m    \u001b[49m\u001b[43msample_input_data\u001b[49m\u001b[38;5;241;43m=\u001b[39;49m\u001b[43msample_input_data\u001b[49m\u001b[43m,\u001b[49m\n\u001b[1;32m    167\u001b[0m \u001b[43m    \u001b[49m\u001b[43mcode_paths\u001b[49m\u001b[38;5;241;43m=\u001b[39;49m\u001b[43mcode_paths\u001b[49m\u001b[43m,\u001b[49m\n\u001b[1;32m    168\u001b[0m \u001b[43m    \u001b[49m\u001b[43mext_modules\u001b[49m\u001b[38;5;241;43m=\u001b[39;49m\u001b[43mext_modules\u001b[49m\u001b[43m,\u001b[49m\n\u001b[1;32m    169\u001b[0m \u001b[43m    \u001b[49m\u001b[43moptions\u001b[49m\u001b[38;5;241;43m=\u001b[39;49m\u001b[43moptions\u001b[49m\u001b[43m,\u001b[49m\n\u001b[1;32m    170\u001b[0m \u001b[43m    \u001b[49m\u001b[43mstatement_params\u001b[49m\u001b[38;5;241;43m=\u001b[39;49m\u001b[43mstatement_params\u001b[49m\u001b[43m,\u001b[49m\n\u001b[1;32m    171\u001b[0m \u001b[43m\u001b[49m\u001b[43m)\u001b[49m\n",
      "File \u001b[0;32m/tmp/pip_packages/snowflake/ml/registry/_manager/model_manager.py:80\u001b[0m, in \u001b[0;36mModelManager.log_model\u001b[0;34m(self, model, model_name, version_name, comment, metrics, conda_dependencies, pip_requirements, python_version, signatures, sample_input_data, code_paths, ext_modules, options, statement_params)\u001b[0m\n\u001b[1;32m     79\u001b[0m mc \u001b[38;5;241m=\u001b[39m model_composer\u001b[38;5;241m.\u001b[39mModelComposer(\u001b[38;5;28mself\u001b[39m\u001b[38;5;241m.\u001b[39m_model_ops\u001b[38;5;241m.\u001b[39m_session, stage_path\u001b[38;5;241m=\u001b[39mstage_path)\n\u001b[0;32m---> 80\u001b[0m \u001b[43mmc\u001b[49m\u001b[38;5;241;43m.\u001b[39;49m\u001b[43msave\u001b[49m\u001b[43m(\u001b[49m\n\u001b[1;32m     81\u001b[0m \u001b[43m    \u001b[49m\u001b[43mname\u001b[49m\u001b[38;5;241;43m=\u001b[39;49m\u001b[43mmodel_name_id\u001b[49m\u001b[38;5;241;43m.\u001b[39;49m\u001b[43mresolved\u001b[49m\u001b[43m(\u001b[49m\u001b[43m)\u001b[49m\u001b[43m,\u001b[49m\n\u001b[1;32m     82\u001b[0m \u001b[43m    \u001b[49m\u001b[43mmodel\u001b[49m\u001b[38;5;241;43m=\u001b[39;49m\u001b[43mmodel\u001b[49m\u001b[43m,\u001b[49m\n\u001b[1;32m     83\u001b[0m \u001b[43m    \u001b[49m\u001b[43msignatures\u001b[49m\u001b[38;5;241;43m=\u001b[39;49m\u001b[43msignatures\u001b[49m\u001b[43m,\u001b[49m\n\u001b[1;32m     84\u001b[0m \u001b[43m    \u001b[49m\u001b[43msample_input_data\u001b[49m\u001b[38;5;241;43m=\u001b[39;49m\u001b[43msample_input_data\u001b[49m\u001b[43m,\u001b[49m\n\u001b[1;32m     85\u001b[0m \u001b[43m    \u001b[49m\u001b[43mconda_dependencies\u001b[49m\u001b[38;5;241;43m=\u001b[39;49m\u001b[43mconda_dependencies\u001b[49m\u001b[43m,\u001b[49m\n\u001b[1;32m     86\u001b[0m \u001b[43m    \u001b[49m\u001b[43mpip_requirements\u001b[49m\u001b[38;5;241;43m=\u001b[39;49m\u001b[43mpip_requirements\u001b[49m\u001b[43m,\u001b[49m\n\u001b[1;32m     87\u001b[0m \u001b[43m    \u001b[49m\u001b[43mpython_version\u001b[49m\u001b[38;5;241;43m=\u001b[39;49m\u001b[43mpython_version\u001b[49m\u001b[43m,\u001b[49m\n\u001b[1;32m     88\u001b[0m \u001b[43m    \u001b[49m\u001b[43mcode_paths\u001b[49m\u001b[38;5;241;43m=\u001b[39;49m\u001b[43mcode_paths\u001b[49m\u001b[43m,\u001b[49m\n\u001b[1;32m     89\u001b[0m \u001b[43m    \u001b[49m\u001b[43mext_modules\u001b[49m\u001b[38;5;241;43m=\u001b[39;49m\u001b[43mext_modules\u001b[49m\u001b[43m,\u001b[49m\n\u001b[1;32m     90\u001b[0m \u001b[43m    \u001b[49m\u001b[43moptions\u001b[49m\u001b[38;5;241;43m=\u001b[39;49m\u001b[43moptions\u001b[49m\u001b[43m,\u001b[49m\n\u001b[1;32m     91\u001b[0m \u001b[43m\u001b[49m\u001b[43m)\u001b[49m\n\u001b[1;32m     93\u001b[0m logger\u001b[38;5;241m.\u001b[39minfo(\u001b[38;5;124m\"\u001b[39m\u001b[38;5;124mStart creating MODEL object for you in the Snowflake.\u001b[39m\u001b[38;5;124m\"\u001b[39m)\n",
      "File \u001b[0;32m/tmp/pip_packages/snowflake/ml/model/_model_composer/model_composer.py:109\u001b[0m, in \u001b[0;36mModelComposer.save\u001b[0;34m(self, name, model, signatures, sample_input_data, metadata, conda_dependencies, pip_requirements, python_version, ext_modules, code_paths, options)\u001b[0m\n\u001b[1;32m    107\u001b[0m         options[\u001b[38;5;124m\"\u001b[39m\u001b[38;5;124membed_local_ml_library\u001b[39m\u001b[38;5;124m\"\u001b[39m] \u001b[38;5;241m=\u001b[39m \u001b[38;5;28;01mTrue\u001b[39;00m\n\u001b[0;32m--> 109\u001b[0m \u001b[38;5;28;43mself\u001b[39;49m\u001b[38;5;241;43m.\u001b[39;49m\u001b[43mpackager\u001b[49m\u001b[38;5;241;43m.\u001b[39;49m\u001b[43msave\u001b[49m\u001b[43m(\u001b[49m\n\u001b[1;32m    110\u001b[0m \u001b[43m    \u001b[49m\u001b[43mname\u001b[49m\u001b[38;5;241;43m=\u001b[39;49m\u001b[43mname\u001b[49m\u001b[43m,\u001b[49m\n\u001b[1;32m    111\u001b[0m \u001b[43m    \u001b[49m\u001b[43mmodel\u001b[49m\u001b[38;5;241;43m=\u001b[39;49m\u001b[43mmodel\u001b[49m\u001b[43m,\u001b[49m\n\u001b[1;32m    112\u001b[0m \u001b[43m    \u001b[49m\u001b[43msignatures\u001b[49m\u001b[38;5;241;43m=\u001b[39;49m\u001b[43msignatures\u001b[49m\u001b[43m,\u001b[49m\n\u001b[1;32m    113\u001b[0m \u001b[43m    \u001b[49m\u001b[43msample_input_data\u001b[49m\u001b[38;5;241;43m=\u001b[39;49m\u001b[43msample_input_data\u001b[49m\u001b[43m,\u001b[49m\n\u001b[1;32m    114\u001b[0m \u001b[43m    \u001b[49m\u001b[43mmetadata\u001b[49m\u001b[38;5;241;43m=\u001b[39;49m\u001b[43mmetadata\u001b[49m\u001b[43m,\u001b[49m\n\u001b[1;32m    115\u001b[0m \u001b[43m    \u001b[49m\u001b[43mconda_dependencies\u001b[49m\u001b[38;5;241;43m=\u001b[39;49m\u001b[43mconda_dependencies\u001b[49m\u001b[43m,\u001b[49m\n\u001b[1;32m    116\u001b[0m \u001b[43m    \u001b[49m\u001b[43mpip_requirements\u001b[49m\u001b[38;5;241;43m=\u001b[39;49m\u001b[43mpip_requirements\u001b[49m\u001b[43m,\u001b[49m\n\u001b[1;32m    117\u001b[0m \u001b[43m    \u001b[49m\u001b[43mpython_version\u001b[49m\u001b[38;5;241;43m=\u001b[39;49m\u001b[43mpython_version\u001b[49m\u001b[43m,\u001b[49m\n\u001b[1;32m    118\u001b[0m \u001b[43m    \u001b[49m\u001b[43mext_modules\u001b[49m\u001b[38;5;241;43m=\u001b[39;49m\u001b[43mext_modules\u001b[49m\u001b[43m,\u001b[49m\n\u001b[1;32m    119\u001b[0m \u001b[43m    \u001b[49m\u001b[43mcode_paths\u001b[49m\u001b[38;5;241;43m=\u001b[39;49m\u001b[43mcode_paths\u001b[49m\u001b[43m,\u001b[49m\n\u001b[1;32m    120\u001b[0m \u001b[43m    \u001b[49m\u001b[43moptions\u001b[49m\u001b[38;5;241;43m=\u001b[39;49m\u001b[43moptions\u001b[49m\u001b[43m,\u001b[49m\n\u001b[1;32m    121\u001b[0m \u001b[43m\u001b[49m\u001b[43m)\u001b[49m\n\u001b[1;32m    123\u001b[0m \u001b[38;5;28;01massert\u001b[39;00m \u001b[38;5;28mself\u001b[39m\u001b[38;5;241m.\u001b[39mpackager\u001b[38;5;241m.\u001b[39mmeta \u001b[38;5;129;01mis\u001b[39;00m \u001b[38;5;129;01mnot\u001b[39;00m \u001b[38;5;28;01mNone\u001b[39;00m\n",
      "File \u001b[0;32m/tmp/pip_packages/snowflake/ml/model/_packager/model_packager.py:92\u001b[0m, in \u001b[0;36mModelPackager.save\u001b[0;34m(self, name, model, signatures, sample_input_data, metadata, conda_dependencies, pip_requirements, python_version, ext_modules, code_paths, options)\u001b[0m\n\u001b[1;32m     91\u001b[0m model \u001b[38;5;241m=\u001b[39m handler\u001b[38;5;241m.\u001b[39mcast_model(model)\n\u001b[0;32m---> 92\u001b[0m \u001b[43mhandler\u001b[49m\u001b[38;5;241;43m.\u001b[39;49m\u001b[43msave_model\u001b[49m\u001b[43m(\u001b[49m\n\u001b[1;32m     93\u001b[0m \u001b[43m    \u001b[49m\u001b[43mname\u001b[49m\u001b[38;5;241;43m=\u001b[39;49m\u001b[43mname\u001b[49m\u001b[43m,\u001b[49m\n\u001b[1;32m     94\u001b[0m \u001b[43m    \u001b[49m\u001b[43mmodel\u001b[49m\u001b[38;5;241;43m=\u001b[39;49m\u001b[43mmodel\u001b[49m\u001b[43m,\u001b[49m\n\u001b[1;32m     95\u001b[0m \u001b[43m    \u001b[49m\u001b[43mmodel_meta\u001b[49m\u001b[38;5;241;43m=\u001b[39;49m\u001b[43mmeta\u001b[49m\u001b[43m,\u001b[49m\n\u001b[1;32m     96\u001b[0m \u001b[43m    \u001b[49m\u001b[43mmodel_blobs_dir_path\u001b[49m\u001b[38;5;241;43m=\u001b[39;49m\u001b[43mmodel_blobs_path\u001b[49m\u001b[43m,\u001b[49m\n\u001b[1;32m     97\u001b[0m \u001b[43m    \u001b[49m\u001b[43msample_input_data\u001b[49m\u001b[38;5;241;43m=\u001b[39;49m\u001b[43msample_input_data\u001b[49m\u001b[43m,\u001b[49m\n\u001b[1;32m     98\u001b[0m \u001b[43m    \u001b[49m\u001b[43mis_sub_model\u001b[49m\u001b[38;5;241;43m=\u001b[39;49m\u001b[38;5;28;43;01mFalse\u001b[39;49;00m\u001b[43m,\u001b[49m\n\u001b[1;32m     99\u001b[0m \u001b[43m    \u001b[49m\u001b[38;5;241;43m*\u001b[39;49m\u001b[38;5;241;43m*\u001b[39;49m\u001b[43moptions\u001b[49m\u001b[43m,\u001b[49m\n\u001b[1;32m    100\u001b[0m \u001b[43m\u001b[49m\u001b[43m)\u001b[49m\n\u001b[1;32m    101\u001b[0m \u001b[38;5;28;01mif\u001b[39;00m signatures \u001b[38;5;129;01mis\u001b[39;00m \u001b[38;5;28;01mNone\u001b[39;00m:\n",
      "File \u001b[0;32m/tmp/pip_packages/snowflake/ml/model/_packager/model_handlers/custom.py:92\u001b[0m, in \u001b[0;36mCustomModelHandler.save_model\u001b[0;34m(cls, name, model, model_meta, model_blobs_dir_path, sample_input_data, is_sub_model, **kwargs)\u001b[0m\n\u001b[1;32m     91\u001b[0m handler \u001b[38;5;241m=\u001b[39m model_handler\u001b[38;5;241m.\u001b[39mfind_handler(model_ref\u001b[38;5;241m.\u001b[39mmodel)\n\u001b[0;32m---> 92\u001b[0m \u001b[38;5;28;01massert\u001b[39;00m handler \u001b[38;5;129;01mis\u001b[39;00m \u001b[38;5;129;01mnot\u001b[39;00m \u001b[38;5;28;01mNone\u001b[39;00m\n\u001b[1;32m     93\u001b[0m sub_model \u001b[38;5;241m=\u001b[39m handler\u001b[38;5;241m.\u001b[39mcast_model(model_ref\u001b[38;5;241m.\u001b[39mmodel)\n",
      "\u001b[0;31mAssertionError\u001b[0m: ",
      "\nThe above exception was the direct cause of the following exception:\n",
      "\u001b[0;31mAssertionError\u001b[0m                            Traceback (most recent call last)",
      "Cell \u001b[0;32mIn[172], line 1\u001b[0m\n\u001b[0;32m----> 1\u001b[0m \u001b[43mmodel_reg\u001b[49m\u001b[38;5;241;43m.\u001b[39;49m\u001b[43mlog_model\u001b[49m\u001b[43m(\u001b[49m\n\u001b[1;32m      2\u001b[0m \u001b[43m       \u001b[49m\u001b[43mmodel\u001b[49m\u001b[38;5;241;43m=\u001b[39;49m\u001b[43mcustom_test_model\u001b[49m\u001b[43m,\u001b[49m\n\u001b[1;32m      3\u001b[0m \u001b[43m       \u001b[49m\u001b[43mmodel_name\u001b[49m\u001b[38;5;241;43m=\u001b[39;49m\u001b[38;5;124;43m\"\u001b[39;49m\u001b[38;5;124;43mcustom_test_model_feature_pre\u001b[39;49m\u001b[38;5;124;43m\"\u001b[39;49m\u001b[43m,\u001b[49m\n\u001b[1;32m      4\u001b[0m \u001b[43m       \u001b[49m\u001b[43mversion_name\u001b[49m\u001b[38;5;241;43m=\u001b[39;49m\u001b[38;5;124;43m\"\u001b[39;49m\u001b[38;5;124;43mcustom_test_model_v1\u001b[39;49m\u001b[38;5;124;43m\"\u001b[39;49m\u001b[43m,\u001b[49m\n\u001b[1;32m      5\u001b[0m \u001b[43m       \u001b[49m\u001b[43mcomment\u001b[49m\u001b[38;5;241;43m=\u001b[39;49m\u001b[38;5;124;43m\"\u001b[39;49m\u001b[38;5;124;43mTesting score function with custom_test_model\u001b[39;49m\u001b[38;5;124;43m\"\u001b[39;49m\u001b[43m,\u001b[49m\n\u001b[1;32m      6\u001b[0m \u001b[43m       \u001b[49m\u001b[43mconda_dependencies\u001b[49m\u001b[38;5;241;43m=\u001b[39;49m\u001b[43m[\u001b[49m\u001b[38;5;124;43m'\u001b[39;49m\u001b[38;5;124;43mscikit-learn==1.3.2\u001b[39;49m\u001b[38;5;124;43m'\u001b[39;49m\u001b[43m]\u001b[49m\u001b[43m,\u001b[49m\n\u001b[1;32m      7\u001b[0m \u001b[43m       \u001b[49m\u001b[43mmetrics\u001b[49m\u001b[38;5;241;43m=\u001b[39;49m\u001b[43m{\u001b[49m\u001b[43m}\u001b[49m\u001b[43m,\u001b[49m\n\u001b[1;32m      8\u001b[0m \u001b[43m       \u001b[49m\u001b[43msample_input_data\u001b[49m\u001b[38;5;241;43m=\u001b[39;49m\u001b[43mm_df\u001b[49m\u001b[38;5;241;43m.\u001b[39;49m\u001b[43mdrop\u001b[49m\u001b[43m(\u001b[49m\u001b[38;5;124;43m'\u001b[39;49m\u001b[38;5;124;43mTarget\u001b[39;49m\u001b[38;5;124;43m'\u001b[39;49m\u001b[43m,\u001b[49m\u001b[43maxis\u001b[49m\u001b[38;5;241;43m=\u001b[39;49m\u001b[38;5;241;43m1\u001b[39;49m\u001b[43m)\u001b[49m\u001b[43m,\u001b[49m\n\u001b[1;32m      9\u001b[0m \u001b[43m       \u001b[49m\u001b[43mpython_version\u001b[49m\u001b[38;5;241;43m=\u001b[39;49m\u001b[38;5;124;43m\"\u001b[39;49m\u001b[38;5;124;43m3.10.13\u001b[39;49m\u001b[38;5;124;43m\"\u001b[39;49m\n\u001b[1;32m     10\u001b[0m \u001b[43m)\u001b[49m\n",
      "File \u001b[0;32m/tmp/pip_packages/snowflake/ml/_internal/telemetry.py:390\u001b[0m, in \u001b[0;36msend_api_usage_telemetry.<locals>.decorator.<locals>.wrap\u001b[0;34m(*args, **kwargs)\u001b[0m\n\u001b[1;32m    388\u001b[0m         \u001b[38;5;28;01mraise\u001b[39;00m me\u001b[38;5;241m.\u001b[39moriginal_exception \u001b[38;5;28;01mfrom\u001b[39;00m \u001b[38;5;28;01mNone\u001b[39;00m\n\u001b[1;32m    389\u001b[0m     \u001b[38;5;28;01melse\u001b[39;00m:\n\u001b[0;32m--> 390\u001b[0m         \u001b[38;5;28;01mraise\u001b[39;00m me\u001b[38;5;241m.\u001b[39moriginal_exception \u001b[38;5;28;01mfrom\u001b[39;00m \u001b[38;5;21;01me\u001b[39;00m\n\u001b[1;32m    391\u001b[0m \u001b[38;5;28;01melse\u001b[39;00m:\n\u001b[1;32m    392\u001b[0m     \u001b[38;5;28;01mreturn\u001b[39;00m update_stmt_params_if_snowpark_df(res, statement_params)\n",
      "\u001b[0;31mAssertionError\u001b[0m: (0000) "
     ]
    }
   ],
   "source": [
    "model_reg.log_model(\n",
    "       model=custom_test_model,\n",
    "       model_name=\"custom_test_model_feature_pre\",\n",
    "       version_name=\"custom_test_model_v1\",\n",
    "       comment=\"Testing score function with custom_test_model\",\n",
    "       conda_dependencies=['scikit-learn==1.3.2'],\n",
    "       metrics={},\n",
    "       sample_input_data=m_df.drop('Target',axis=1),\n",
    "       python_version=\"3.10.13\"\n",
    ")"
   ]
  },
  {
   "cell_type": "code",
   "execution_count": null,
   "id": "09152e54",
   "metadata": {},
   "outputs": [],
   "source": []
  },
  {
   "cell_type": "code",
   "execution_count": 76,
   "id": "a75521da",
   "metadata": {},
   "outputs": [],
   "source": [
    "from snowflake.ml.modeling.metrics import (confusion_matrix,\n",
    "                                        accuracy_score,\n",
    "                                        f1_score, recall_score,\n",
    "                                        precision_score,\n",
    "                                        log_loss ,\n",
    "                                        roc_auc_score ,\n",
    "                                        roc_curve)"
   ]
  },
  {
   "cell_type": "code",
   "execution_count": null,
   "id": "974782a5",
   "metadata": {},
   "outputs": [],
   "source": [
    "roc_auc_score(df=self.sf_df,y_true_col_names=self.true_cn, y_score_col_names=self.pred_cn)"
   ]
  },
  {
   "cell_type": "code",
   "execution_count": null,
   "id": "69748315",
   "metadata": {},
   "outputs": [],
   "source": []
  },
  {
   "cell_type": "code",
   "execution_count": null,
   "id": "36ffa37d",
   "metadata": {},
   "outputs": [],
   "source": []
  },
  {
   "cell_type": "code",
   "execution_count": null,
   "id": "bac93aae",
   "metadata": {},
   "outputs": [],
   "source": []
  },
  {
   "cell_type": "code",
   "execution_count": null,
   "id": "331e683b",
   "metadata": {},
   "outputs": [],
   "source": []
  },
  {
   "cell_type": "code",
   "execution_count": null,
   "id": "741a1120",
   "metadata": {},
   "outputs": [
    {
     "name": "stdout",
     "output_type": "stream",
     "text": [
      "Calculating build time metrics\n",
      "\n",
      "Progress: ███████████████████████                                                33.3%\n"
     ]
    },
    {
     "name": "stderr",
     "output_type": "stream",
     "text": [
      "The version of package 'scikit-learn' in the local environment is 1.3.2, which does not fit the criteria for the requirement 'scikit-learn<1.4'. Your UDF might not work when the package version is different between the server and your local environment.\n",
      "DataFrame.flatten() is deprecated since 0.7.0. Use `DataFrame.join_table_function()` instead.\n",
      "The version of package 'scikit-learn' in the local environment is 1.3.2, which does not fit the criteria for the requirement 'scikit-learn<1.4'. Your UDF might not work when the package version is different between the server and your local environment.\n",
      "The version of package 'scikit-learn' in the local environment is 1.3.2, which does not fit the criteria for the requirement 'scikit-learn<1.4'. Your UDF might not work when the package version is different between the server and your local environment.\n"
     ]
    },
    {
     "name": "stdout",
     "output_type": "stream",
     "text": [
      "Calculating build time metrics\n",
      "\n",
      "Progress: ███████████████████████████████████████████████                        66.7%\n",
      "Calculating build time metrics\n",
      "\n",
      "Progress: ██████████████████████████████████████████████████████████████████████ 100.0%\n"
     ]
    },
    {
     "name": "stderr",
     "output_type": "stream",
     "text": [
      "/opt/conda/lib/python3.10/contextlib.py:135: UserWarning: `relax_version` is not set and therefore defaulted to True. Dependency version constraints relaxed from ==x.y.z to >=x.y, <(x+1). To use specific dependency versions for compatibility, reproducibility, etc., set `options={'relax_version': False}` when logging the model.\n",
      "  return next(self.gen)\n",
      "/tmp/pip_packages/snowflake/ml/model/model_signature.py:69: UserWarning: The sample input has 112 rows, thus a truncation happened before inferring signature. This might cause inaccurate signature inference. If that happens, consider specifying signature manually.\n",
      "  warnings.warn(\n",
      "/tmp/pip_packages/sklearn/ensemble/_forest.py:913: RuntimeWarning: divide by zero encountered in log\n",
      "  return np.log(proba)\n"
     ]
    }
   ],
   "source": [
    "from fosforml import register_model\n",
    "register_model(\n",
    "  model_obj=custom_test_model,\n",
    "  session=session,\n",
    "  x_train=x_train,\n",
    "  y_train=y_train,\n",
    "  x_test=x_test,\n",
    "  y_test=y_test,\n",
    "  y_pred=y_pred,\n",
    "  dataset_name=\"Snowflake_dataset\",\n",
    "  dataset_source=\"Snowflake\",\n",
    "  name=\"SklearnMulitClassModel\",\n",
    "  description=\"This is a test sklearn model\",\n",
    "  flavour=\"sklearn\",\n",
    "  model_type=\"classification\",\n",
    "  conda_dependencies=[\"scikit-learn==1.3.2\"]\n",
    ")"
   ]
  },
  {
   "cell_type": "code",
   "execution_count": null,
   "id": "3a395843",
   "metadata": {},
   "outputs": [],
   "source": []
  },
  {
   "cell_type": "markdown",
   "id": "d7ba09b7",
   "metadata": {},
   "source": [
    "#### Binary Classfication"
   ]
  },
  {
   "cell_type": "code",
   "execution_count": 8,
   "id": "607193c3",
   "metadata": {},
   "outputs": [],
   "source": [
    "from sklearn.ensemble._forest import RandomForestClassifier\n",
    "from sklearn.datasets import load_breast_cancer\n",
    "from sklearn.model_selection import train_test_split\n",
    "import pandas as pd\n",
    "\n",
    "m_dataset = load_breast_cancer() \n",
    "feature_names = m_dataset.feature_names\n",
    "u_features = [feature.replace(\" \",\"_\") for feature in feature_names]\n",
    "m_df = pd.DataFrame(m_dataset.data,columns=u_features)\n",
    "m_df[\"Target\"] = m_dataset.target\n",
    "\n",
    "\n",
    "x_train,x_test,y_train,y_test = train_test_split(m_df.iloc[:,:-1],m_df['Target'])\n",
    "model = RandomForestClassifier()\n",
    "model.fit(x_train,y_train)\n",
    "\n",
    "y_pred = pd.DataFrame(model.predict(x_test),columns=[\"Predicted\"])"
   ]
  },
  {
   "cell_type": "code",
   "execution_count": 9,
   "id": "99a82f77",
   "metadata": {},
   "outputs": [
    {
     "data": {
      "text/plain": [
       "<snowflake.snowpark.session.Session at 0x7f0685519fa0>"
      ]
     },
     "execution_count": 9,
     "metadata": {},
     "output_type": "execute_result"
    }
   ],
   "source": [
    "session"
   ]
  },
  {
   "cell_type": "code",
   "execution_count": null,
   "id": "e905b3c2",
   "metadata": {},
   "outputs": [
    {
     "name": "stdout",
     "output_type": "stream",
     "text": [
      "Calculating build time metrics\n",
      "\n",
      "Progress: ███████████████████████                                                33.3%\n"
     ]
    }
   ],
   "source": [
    "from fosforml import register_model\n",
    "register_model(\n",
    "  model_obj=model,\n",
    "  session=session,\n",
    "  x_train=x_train,\n",
    "  y_train=y_train,\n",
    "  x_test=x_test,\n",
    "  y_test=y_test,\n",
    "  y_pred=y_pred,\n",
    "  dataset_name=\"Binary_Model\",\n",
    "  dataset_source = \"SNOWFLAKE_STAGE\",\n",
    "  name=\"SklearnBinaryModel\",\n",
    "  description=\"This is a test sklearn model\",\n",
    "  flavour=\"sklearn\",\n",
    "  model_type=\"classification\",\n",
    "  conda_dependencies=[\"scikit-learn==1.3.2\"]\n",
    ")"
   ]
  },
  {
   "cell_type": "code",
   "execution_count": null,
   "id": "d7772309",
   "metadata": {},
   "outputs": [],
   "source": []
  },
  {
   "cell_type": "markdown",
   "id": "bbd5d726",
   "metadata": {},
   "source": [
    "#### Regression"
   ]
  },
  {
   "cell_type": "code",
   "execution_count": null,
   "id": "ff506979",
   "metadata": {},
   "outputs": [],
   "source": [
    "from sklearn.ensemble._forest import RandomForestRegressor\n",
    "from sklearn.datasets import load_diabetes\n",
    "from sklearn.model_selection import train_test_split\n",
    "import pandas as pd\n",
    "\n",
    "m_dataset = load_diabetes() \n",
    "feature_names = m_dataset.feature_names\n",
    "u_features = [feature.replace(\" \",\"_\") for feature in feature_names]\n",
    "\n",
    "m_df = pd.DataFrame(m_dataset.data,columns=u_features)\n",
    "m_df[\"Target\"] = m_dataset.target\n",
    "\n",
    "x_train,x_test,y_train,y_test = train_test_split(m_df.iloc[:,:-1],m_df['Target'])\n",
    "model = RandomForestRegressor()\n",
    "model.fit(x_train,y_train)\n",
    "\n",
    "y_pred = pd.DataFrame(model.predict(x_test),columns=[\"Predicted\"])"
   ]
  },
  {
   "cell_type": "code",
   "execution_count": null,
   "id": "3775cb1d",
   "metadata": {},
   "outputs": [],
   "source": [
    "from fosforml import register_model\n",
    "register_model(\n",
    "  name=\"SklearnReyhtyjhgressionModel\",\n",
    "  model_obj=model,\n",
    "  session=session,\n",
    "  x_train=x_train,\n",
    "  y_train=y_train,\n",
    "  x_test=x_test,\n",
    "  y_test=y_test,\n",
    "  y_pred=y_pred,\n",
    "  dataset_name=\"RegressionModel\",\n",
    "  dataset_source = \"SNOWFLAKE_STAGE\",\n",
    "  description=\"This is a test sklearn model\",\n",
    "  flavour=\"sklearn\",\n",
    "  model_type=\"regression\",\n",
    "  conda_dependencies=[\"scikit-learn==1.3.2\"]\n",
    ")"
   ]
  },
  {
   "cell_type": "code",
   "execution_count": null,
   "id": "fad79a57",
   "metadata": {},
   "outputs": [],
   "source": []
  },
  {
   "cell_type": "code",
   "execution_count": null,
   "id": "e1634b2e",
   "metadata": {},
   "outputs": [],
   "source": []
  },
  {
   "cell_type": "code",
   "execution_count": null,
   "id": "9300d98f",
   "metadata": {},
   "outputs": [],
   "source": []
  }
 ],
 "metadata": {
  "kernelspec": {
   "display_name": "Python 3 (ipykernel)",
   "language": "python",
   "name": "python3"
  },
  "language_info": {
   "codemirror_mode": {
    "name": "ipython",
    "version": 3
   },
   "file_extension": ".py",
   "mimetype": "text/x-python",
   "name": "python",
   "nbconvert_exporter": "python",
   "pygments_lexer": "ipython3",
   "version": "3.9.19"
  }
 },
 "nbformat": 4,
 "nbformat_minor": 5
}
