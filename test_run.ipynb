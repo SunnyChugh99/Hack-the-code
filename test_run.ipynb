{
 "cells": [
  {
   "cell_type": "code",
   "execution_count": 1,
   "id": "655b3f04-8df4-43d6-99f5-c523a730aad3",
   "metadata": {},
   "outputs": [],
   "source": [
    "import fosforml"
   ]
  },
  {
   "cell_type": "code",
   "execution_count": 2,
   "id": "b18774ab-923b-4891-8429-3a8bb8be6f0a",
   "metadata": {},
   "outputs": [
    {
     "name": "stdout",
     "output_type": "stream",
     "text": [
      "76JevC3vDr/6oXJiOG31yAxOjZPefWsdy7SerJu7Dx1uelQI/TFI1uCy3f8UWGbgfJ6i5w==\n"
     ]
    }
   ],
   "source": [
    "import os\n",
    "print(os.environ.get('secure'))"
   ]
  },
  {
   "cell_type": "code",
   "execution_count": 3,
   "id": "ead63210-2552-4ec5-ac80-58d899a5e5ad",
   "metadata": {},
   "outputs": [
    {
     "name": "stdout",
     "output_type": "stream",
     "text": [
      "test_test\n"
     ]
    }
   ],
   "source": [
    "import os\n",
    "print(os.environ.get('non_sec'))"
   ]
  },
  {
   "cell_type": "code",
   "execution_count": null,
   "id": "380ad8f0-643c-43d0-b583-5227e507da24",
   "metadata": {},
   "outputs": [],
   "source": []
  }
 ],
 "metadata": {
  "kernelspec": {
   "display_name": "Python 3 (ipykernel)",
   "language": "python",
   "name": "python3"
  },
  "language_info": {
   "codemirror_mode": {
    "name": "ipython",
    "version": 3
   },
   "file_extension": ".py",
   "mimetype": "text/x-python",
   "name": "python",
   "nbconvert_exporter": "python",
   "pygments_lexer": "ipython3",
   "version": "3.9.19"
  }
 },
 "nbformat": 4,
 "nbformat_minor": 5
}
