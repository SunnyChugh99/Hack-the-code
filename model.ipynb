{
 "cells": [
  {
   "cell_type": "code",
   "execution_count": 2,
   "id": "f5a773dc-5580-4528-a771-09bd963e8975",
   "metadata": {},
   "outputs": [
    {
     "name": "stdout",
     "output_type": "stream",
     "text": [
      "Executing.....\n",
      "{'user': 'SAURABHKULKARNI', 'password': 'Epsilon0*', 'account': 'rwb76633', 'role': 'SAURABHKULKARNI', 'warehouse': 'FOSFOR_WAREHOUSE', 'database': 'INSIGHT_DESIGNER_SPCS', 'schema': 'INSIGHT_SPCS_SCHEMA'}\n",
      "End !!\n"
     ]
    }
   ],
   "source": [
    "from fosforml.model_manager.snowflakesession import get_session, get_connection_params\n",
    "session = get_session()\n",
    "connection_params = get_connection_params()\n",
    "\n",
    "from sklearn.ensemble._forest import RandomForestClassifier\n",
    "from sklearn.tree import DecisionTreeClassifier\n",
    "from sklearn.datasets import load_iris\n",
    "from sklearn.model_selection import train_test_split\n",
    "import pandas as pd\n",
    "\n",
    "m_dataset = load_iris() \n",
    "feature_names = m_dataset.feature_names\n",
    "u_features = [col.replace(\" \",\"_\").replace(\"(\",\"\").replace(\")\",\"\") for col in feature_names]\n",
    "m_df = pd.DataFrame(m_dataset.data,columns=u_features)\n",
    "m_df[\"Target\"] = m_dataset.target\n",
    "\n",
    "\n",
    "x_train,x_test,y_train,y_test = train_test_split(m_df.iloc[:,:-1],m_df['Target'])\n",
    "model = DecisionTreeClassifier()\n",
    "model.fit(x_train,y_train)\n",
    "\n",
    "y_pred = pd.DataFrame(model.predict(x_test),columns=[\"Predicted\"])\n",
    "y_prob = pd.DataFrame(model.predict_proba(x_test),columns=['a','b','c'])\n",
    "\n",
    "\n",
    "from fosforml import register_model\n",
    "\n",
    "register_model(\n",
    "  model_obj=model,\n",
    "  session=session,\n",
    "  x_train=x_train,\n",
    "  y_train=y_train,\n",
    "  x_test=x_test,\n",
    "  y_test=y_test,\n",
    "  y_pred=y_pred,\n",
    "  y_prob=y_prob,\n",
    "  source=\"Notebook\",\n",
    "  dataset_name=\"HR_CHURN\",\n",
    "  dataset_source=\"InMemory\",\n",
    "  name=\"MyModel\",\n",
    "  description=\"This is a sklearn model\",\n",
    "  flavour=\"sklearn\",\n",
    "  model_type=\"classification\",\n",
    "  conda_dependencies=[\"scikit-learn==1.3.2\"]\n",
    ")"
   ]
  },
  {
   "cell_type": "code",
   "execution_count": null,
   "id": "ee52bd33-b0bb-404e-b1c9-6d25e199a5fc",
   "metadata": {},
   "outputs": [],
   "source": []
  }
 ],
 "metadata": {
  "kernelspec": {
   "display_name": "Python 3 (ipykernel)",
   "language": "python",
   "name": "python3"
  },
  "language_info": {
   "codemirror_mode": {
    "name": "ipython",
    "version": 3
   },
   "file_extension": ".py",
   "mimetype": "text/x-python",
   "name": "python",
   "nbconvert_exporter": "python",
   "pygments_lexer": "ipython3",
   "version": "3.9.19"
  }
 },
 "nbformat": 4,
 "nbformat_minor": 5
}
