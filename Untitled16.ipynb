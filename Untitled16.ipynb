{
 "cells": [
  {
   "cell_type": "code",
   "execution_count": 5,
   "id": "0adf3e37-7e55-44e5-a7ce-a5e56d48b220",
   "metadata": {},
   "outputs": [],
   "source": [
    "# !pip freeze | grep fosforml"
   ]
  },
  {
   "cell_type": "code",
   "execution_count": 3,
   "id": "078544b4-1b9c-404f-8d2c-2b919f60c47f",
   "metadata": {},
   "outputs": [],
   "source": [
    "import os,json"
   ]
  },
  {
   "cell_type": "code",
   "execution_count": 6,
   "id": "e54857e3-7762-42ec-b442-ca05c7b8c09d",
   "metadata": {},
   "outputs": [
    {
     "ename": "NameError",
     "evalue": "name 'json' is not defined",
     "output_type": "error",
     "traceback": [
      "\u001b[0;31m---------------------------------------------------------------------------\u001b[0m",
      "\u001b[0;31mNameError\u001b[0m                                 Traceback (most recent call last)",
      "Cell \u001b[0;32mIn[6], line 1\u001b[0m\n\u001b[0;32m----> 1\u001b[0m params \u001b[38;5;241m=\u001b[39m \u001b[43mjson\u001b[49m\u001b[38;5;241m.\u001b[39mloads(os\u001b[38;5;241m.\u001b[39mgetenv(\u001b[38;5;124m'\u001b[39m\u001b[38;5;124mconnection_details\u001b[39m\u001b[38;5;124m'\u001b[39m))\n",
      "\u001b[0;31mNameError\u001b[0m: name 'json' is not defined"
     ]
    }
   ],
   "source": [
    "params = json.loads(os.getenv('connection_details'))"
   ]
  },
  {
   "cell_type": "code",
   "execution_count": null,
   "id": "a024099d-c95c-4884-895c-40fe9ce0216f",
   "metadata": {},
   "outputs": [],
   "source": []
  }
 ],
 "metadata": {
  "kernelspec": {
   "display_name": "Python 3 (ipykernel)",
   "language": "python",
   "name": "python3"
  },
  "language_info": {
   "codemirror_mode": {
    "name": "ipython",
    "version": 3
   },
   "file_extension": ".py",
   "mimetype": "text/x-python",
   "name": "python",
   "nbconvert_exporter": "python",
   "pygments_lexer": "ipython3",
   "version": "3.9.19"
  }
 },
 "nbformat": 4,
 "nbformat_minor": 5
}
