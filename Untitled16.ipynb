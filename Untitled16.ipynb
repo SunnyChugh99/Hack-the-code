{
 "cells": [
  {
   "cell_type": "code",
   "execution_count": null,
   "id": "0adf3e37-7e55-44e5-a7ce-a5e56d48b220",
   "metadata": {},
   "outputs": [],
   "source": [
    "import json,os\n",
    "class UserConfigs:\n",
    "    repo_key = \"repo_details\"\n",
    "    connection_details = \"connection_details\"\n",
    "    run_id = \"RUN_ID\"\n",
    "    project_id = \"PROJECT_ID\"\n",
    "    experimet_name = \"experiment_name\"\n",
    "    token_file = \"/snowflake/session/token\"\n",
    "\n",
    "connection_info = json.loads(os.environ.get(UserConfigs.connection_details))"
   ]
  },
  {
   "cell_type": "markdown",
   "id": "f8821f6a",
   "metadata": {},
   "source": []
  },
  {
   "cell_type": "code",
   "execution_count": null,
   "id": "2d858d55-7fb2-47d0-8c74-1b7ffc891eae",
   "metadata": {},
   "outputs": [
    {
     "data": {
      "text/plain": [
       "{'user': 'SAURABHKULKARNI',\n",
       " 'password': 'Epsilon0*',\n",
       " 'account': 'fya62509.us-east-1',\n",
       " 'role': 'SAURABHKULKARNI',\n",
       " 'warehouse': 'FOSFOR_INSIGHT_WH',\n",
       " 'database': 'INSIGHT_DESIGNER_SPCS',\n",
       " 'schema': 'INSIGHT_SPCS_SCHEMA'}"
      ]
     },
     "execution_count": 21,
     "metadata": {},
     "output_type": "execute_result"
    }
   ],
   "source": [
    "connection_info"
   ]
  },
  {
   "cell_type": "code",
   "execution_count": null,
   "id": "549cec6e-5807-48b8-be1c-4dbc0335a0f8",
   "metadata": {},
   "outputs": [],
   "source": [
    "session = Session.builder.configs({\"connection\": connection()}).create()"
   ]
  },
  {
   "cell_type": "code",
   "execution_count": null,
   "id": "b19779fd-0673-4225-9dc8-792d94bacbcf",
   "metadata": {},
   "outputs": [],
   "source": [
    "creds = {\n",
    "            'host': os.getenv('SNOWFLAKE_HOST'),\n",
    "            'port': os.getenv('SNOWFLAKE_PORT'),\n",
    "            'protocol': \"https\",\n",
    "            'account': os.getenv('SNOWFLAKE_ACCOUNT'),\n",
    "            'authenticator': \"oauth\",\n",
    "            'token': open('/snowflake/session/token', 'r').read(),\n",
    "            'warehouse': connection_info.get('warehouse'),\n",
    "            'database': os.getenv('SNOWFLAKE_DATABASE'),\n",
    "            'schema': os.getenv('SNOWFLAKE_SCHEMA'),\n",
    "            'client_session_keep_alive': True\n",
    "        }"
   ]
  },
  {
   "cell_type": "code",
   "execution_count": null,
   "id": "ec81f0e4-7a35-4b64-b39a-d7b241c6de85",
   "metadata": {
    "scrolled": true
   },
   "outputs": [],
   "source": [
    "# creds"
   ]
  },
  {
   "cell_type": "code",
   "execution_count": null,
   "id": "d2108f34-c3c7-4bb5-8377-2041fd9bee30",
   "metadata": {},
   "outputs": [],
   "source": [
    "connection = snowflake.connector.connect(**creds)"
   ]
  },
  {
   "cell_type": "code",
   "execution_count": null,
   "id": "36734d15-cc50-4a28-af59-32f36e98fee2",
   "metadata": {},
   "outputs": [],
   "source": [
    "from snowflake.snowpark import Session\n",
    "session =  Session.builder.configs({\"connection\": connection}).create()"
   ]
  },
  {
   "cell_type": "code",
   "execution_count": null,
   "id": "92794f06-844f-4169-b9ba-52be4ca075a0",
   "metadata": {},
   "outputs": [],
   "source": [
    "# session.connection.warehouse"
   ]
  },
  {
   "cell_type": "code",
   "execution_count": null,
   "id": "34fff34a-9fa5-4fef-901e-143464c7aa9b",
   "metadata": {},
   "outputs": [],
   "source": []
  },
  {
   "cell_type": "code",
   "execution_count": null,
   "id": "5c69e361-d2f3-4518-987d-a76b8c1d1fe6",
   "metadata": {},
   "outputs": [],
   "source": [
    "import snowflake"
   ]
  },
  {
   "cell_type": "code",
   "execution_count": null,
   "id": "8e2c86ea-0ad5-4ac4-8cfc-3f84ccdb2bc8",
   "metadata": {},
   "outputs": [],
   "source": [
    "from fosforml.model_manager.snowflakesession import get_session"
   ]
  },
  {
   "cell_type": "code",
   "execution_count": null,
   "id": "0192bcd8-8d91-4f59-8556-a913cd5a9388",
   "metadata": {},
   "outputs": [],
   "source": [
    "session =  get_session()"
   ]
  },
  {
   "cell_type": "code",
   "execution_count": null,
   "id": "d4af5a49-4c93-4277-a74b-ab2218687dbe",
   "metadata": {},
   "outputs": [],
   "source": [
    "# session"
   ]
  },
  {
   "cell_type": "code",
   "execution_count": null,
   "id": "3e8d39dd-e70c-4185-a172-f765487cec54",
   "metadata": {},
   "outputs": [],
   "source": []
  }
 ],
 "metadata": {
  "kernelspec": {
   "display_name": "Python 3",
   "language": "python",
   "name": "python3"
  },
  "language_info": {
   "codemirror_mode": {
    "name": "ipython",
    "version": 3
   },
   "file_extension": ".py",
   "mimetype": "text/x-python",
   "name": "python",
   "nbconvert_exporter": "python",
   "pygments_lexer": "ipython3",
   "version": "3.10.15"
  }
 },
 "nbformat": 4,
 "nbformat_minor": 5
}
