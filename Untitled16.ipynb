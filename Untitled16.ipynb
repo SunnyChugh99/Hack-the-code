{
 "cells": [
  {
   "cell_type": "code",
   "execution_count": 5,
   "id": "0adf3e37-7e55-44e5-a7ce-a5e56d48b220",
   "metadata": {},
   "outputs": [],
   "source": [
    "# !pip freeze | grep fosforml"
   ]
  },
  {
   "cell_type": "code",
   "execution_count": 7,
   "id": "078544b4-1b9c-404f-8d2c-2b919f60c47f",
   "metadata": {},
   "outputs": [],
   "source": [
    "import os,json"
   ]
  },
  {
   "cell_type": "code",
   "execution_count": 8,
   "id": "e54857e3-7762-42ec-b442-ca05c7b8c09d",
   "metadata": {},
   "outputs": [],
   "source": [
    "params = json.loads(os.getenv('connection_details'))"
   ]
  },
  {
   "cell_type": "code",
   "execution_count": 11,
   "id": "a024099d-c95c-4884-895c-40fe9ce0216f",
   "metadata": {},
   "outputs": [],
   "source": [
    "params['region']='us-east-1'\n",
    "params['account']='fya62509'"
   ]
  },
  {
   "cell_type": "code",
   "execution_count": 16,
   "id": "08f4912e-1afa-4586-a501-86f3571f5a43",
   "metadata": {},
   "outputs": [
    {
     "data": {
      "text/plain": [
       "{'user': 'SAURABHKULKARNI',\n",
       " 'password': 'Epsilon0*',\n",
       " 'account': 'fya62509',\n",
       " 'role': 'SAURABHKULKARNI',\n",
       " 'warehouse': 'FOSFOR_INSIGHT_WH',\n",
       " 'database': 'INSIGHT_DESIGNER_SPCS',\n",
       " 'schema': 'INSIGHT_SPCS_SCHEMA',\n",
       " 'region': 'us-east-1'}"
      ]
     },
     "execution_count": 16,
     "metadata": {},
     "output_type": "execute_result"
    }
   ],
   "source": [
    "params"
   ]
  },
  {
   "cell_type": "code",
   "execution_count": 19,
   "id": "b1803776-7f5c-4e25-84de-699b5dae4070",
   "metadata": {},
   "outputs": [],
   "source": [
    "params['token'] = get_login_token()"
   ]
  },
  {
   "cell_type": "code",
   "execution_count": 32,
   "id": "8e15db7b-6cf3-4334-8fa3-33e025ebc1f2",
   "metadata": {},
   "outputs": [],
   "source": [
    "from snowflake.snowpark import Session\n",
    "import snowflake"
   ]
  },
  {
   "cell_type": "code",
   "execution_count": 21,
   "id": "afd1d6e9-a593-4d26-a028-bb8a9e4d28c0",
   "metadata": {},
   "outputs": [],
   "source": [
    "def get_login_token():\n",
    "  with open('/snowflake/session/token', 'r') as f:\n",
    "    return f.read()"
   ]
  },
  {
   "cell_type": "code",
   "execution_count": 23,
   "id": "fa18b0b3-df72-4158-9ff8-ebb5938d60b5",
   "metadata": {},
   "outputs": [],
   "source": [
    "session = Session.builder.configs(params)"
   ]
  },
  {
   "cell_type": "code",
   "execution_count": 33,
   "id": "a865e0a9-3edc-41fb-bf01-6cad099bc1d9",
   "metadata": {},
   "outputs": [],
   "source": [
    "conn = snowflake.connector.connect(\n",
    "  host = os.getenv('SNOWFLAKE_HOST'),\n",
    "  account = os.getenv('SNOWFLAKE_ACCOUNT'),\n",
    "  token = get_login_token(),\n",
    "  authenticator = 'oauth'\n",
    ")"
   ]
  },
  {
   "cell_type": "code",
   "execution_count": 38,
   "id": "e8b67458-bd85-492e-a3fb-dd9b2bf4aedd",
   "metadata": {},
   "outputs": [],
   "source": [
    "session = conn.cursor()"
   ]
  },
  {
   "cell_type": "code",
   "execution_count": 43,
   "id": "ed1abbb2-80b2-492b-8986-82f534b102d6",
   "metadata": {},
   "outputs": [
    {
     "data": {
      "text/plain": [
       "32355342333423622"
      ]
     },
     "execution_count": 43,
     "metadata": {},
     "output_type": "execute_result"
    }
   ],
   "source": [
    "session.connection.session_id"
   ]
  },
  {
   "cell_type": "code",
   "execution_count": 47,
   "id": "6fbe71b9-14bf-4343-a38e-d6fad17e3972",
   "metadata": {},
   "outputs": [],
   "source": [
    "import os\n",
    "import snowflake.connector\n",
    "from snowflake.snowpark import Session\n",
    "\n",
    "def connection() -> snowflake.connector.SnowflakeConnection:\n",
    "    if os.path.isfile(\"/snowflake/session/token\"):\n",
    "        creds = {\n",
    "            'host': os.getenv('SNOWFLAKE_HOST'),\n",
    "            'port': os.getenv('SNOWFLAKE_PORT'),\n",
    "            'protocol': \"https\",\n",
    "            'account': os.getenv('SNOWFLAKE_ACCOUNT'),\n",
    "            'authenticator': \"oauth\",\n",
    "            'token': open('/snowflake/session/token', 'r').read(),\n",
    "            'warehouse': os.getenv('SNOWFLAKE_WAREHOUSE'),\n",
    "            'database': os.getenv('SNOWFLAKE_DATABASE'),\n",
    "            'schema': os.getenv('SNOWFLAKE_SCHEMA'),\n",
    "            'client_session_keep_alive': True\n",
    "        }\n",
    "        print(creds)\n",
    "    else:\n",
    "        creds = {\n",
    "            'account': os.getenv('SNOWFLAKE_ACCOUNT'),\n",
    "            'user': os.getenv('SNOWFLAKE_USER'),\n",
    "            'password': os.getenv('SNOWFLAKE_PASSWORD'),\n",
    "            'warehouse': os.getenv('SNOWFLAKE_WAREHOUSE'),\n",
    "            'database': os.getenv('SNOWFLAKE_DATABASE'),\n",
    "            'schema': os.getenv('SNOWFLAKE_SCHEMA'),\n",
    "            'client_session_keep_alive': True\n",
    "        }\n",
    "\n",
    "    connection = snowflake.connector.connect(**creds)\n",
    "    return connection\n",
    "\n",
    "def session() -> Session:\n",
    "    return Session.builder.configs({\"connection\": connection()}).create()"
   ]
  },
  {
   "cell_type": "code",
   "execution_count": 48,
   "id": "51ca8b13-408f-4619-bdbf-1561ef0a9e4a",
   "metadata": {},
   "outputs": [
    {
     "name": "stdout",
     "output_type": "stream",
     "text": [
      "{'host': 'snowflake.us-east-1.snowflakecomputing.com', 'port': '443', 'protocol': 'https', 'account': 'FYA62509', 'authenticator': 'oauth', 'token': 'ver:1-hint:32355341568585746-ETMsDgAAAZDe3hZXABRBRVMvQ0JDL1BLQ1M1UGFkZGluZwEAABAAEDfWEkWjtceQaPaGYbFNFMcAAACQ9/YlR1MciBHFIiK5Ag82t/0kkpDvf3DTxLn/5W/FjURHWPmcu9GWg/7wdaveLCbdhQuurUTGh6zlB+D1y3vVn7eKbsGOCOcv9Wlrz3//M84/s5C6aw5M27d4loqqINguxVzyyUoAuhrougB0mCTX2uWhAg1zo6tHnSIylpmam+m7AWOuRdJDjivvuaKvaYOiABTqRQ37oAS5iEmeMFrOdUDKh8jiew==', 'warehouse': None, 'database': 'INSIGHT_DESIGNER_SPCS', 'schema': 'INSIGHT_SPCS_SCHEMA', 'client_session_keep_alive': True}\n"
     ]
    }
   ],
   "source": [
    "session = session()"
   ]
  },
  {
   "cell_type": "code",
   "execution_count": 46,
   "id": "a6f4b0ab-9e8e-446c-8409-c119665e919f",
   "metadata": {},
   "outputs": [
    {
     "data": {
      "text/plain": [
       "<snowflake.snowpark.session.Session at 0x7fe7134f36a0>"
      ]
     },
     "execution_count": 46,
     "metadata": {},
     "output_type": "execute_result"
    }
   ],
   "source": [
    "session"
   ]
  },
  {
   "cell_type": "code",
   "execution_count": 51,
   "id": "5fa04bb7-7537-4614-bb0e-8251d08c7cbb",
   "metadata": {},
   "outputs": [
    {
     "data": {
      "text/plain": [
       "'443'"
      ]
     },
     "execution_count": 51,
     "metadata": {},
     "output_type": "execute_result"
    }
   ],
   "source": [
    "os.getenv('SNOWFLAKE_PORT')"
   ]
  },
  {
   "cell_type": "code",
   "execution_count": 35,
   "id": "fd236078-e634-402b-9571-f6aa645369f1",
   "metadata": {},
   "outputs": [],
   "source": [
    "session = Session.session_id"
   ]
  },
  {
   "cell_type": "code",
   "execution_count": 52,
   "id": "4bbf0230-24f7-48b1-ba14-707f94376792",
   "metadata": {},
   "outputs": [
    {
     "data": {
      "text/plain": [
       "'FYA62509'"
      ]
     },
     "execution_count": 52,
     "metadata": {},
     "output_type": "execute_result"
    }
   ],
   "source": [
    "os.getenv('SNOWFLAKE_ACCOUNT')"
   ]
  },
  {
   "cell_type": "code",
   "execution_count": null,
   "id": "f67d0e93-4cb0-477e-b6a7-668a95502707",
   "metadata": {},
   "outputs": [],
   "source": []
  }
 ],
 "metadata": {
  "kernelspec": {
   "display_name": "Python 3 (ipykernel)",
   "language": "python",
   "name": "python3"
  },
  "language_info": {
   "codemirror_mode": {
    "name": "ipython",
    "version": 3
   },
   "file_extension": ".py",
   "mimetype": "text/x-python",
   "name": "python",
   "nbconvert_exporter": "python",
   "pygments_lexer": "ipython3",
   "version": "3.9.19"
  }
 },
 "nbformat": 4,
 "nbformat_minor": 5
}
