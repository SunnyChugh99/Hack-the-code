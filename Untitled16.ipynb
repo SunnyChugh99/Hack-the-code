{
 "cells": [
  {
   "cell_type": "code",
   "execution_count": 5,
   "id": "0adf3e37-7e55-44e5-a7ce-a5e56d48b220",
   "metadata": {},
   "outputs": [],
   "source": [
    "# !pip freeze | grep fosforml"
   ]
  },
  {
   "cell_type": "code",
   "execution_count": 7,
   "id": "078544b4-1b9c-404f-8d2c-2b919f60c47f",
   "metadata": {},
   "outputs": [],
   "source": [
    "import os,json"
   ]
  },
  {
   "cell_type": "code",
   "execution_count": 8,
   "id": "e54857e3-7762-42ec-b442-ca05c7b8c09d",
   "metadata": {},
   "outputs": [],
   "source": [
    "params = json.loads(os.getenv('connection_details'))"
   ]
  },
  {
   "cell_type": "code",
   "execution_count": 11,
   "id": "a024099d-c95c-4884-895c-40fe9ce0216f",
   "metadata": {},
   "outputs": [],
   "source": [
    "params['region']='us-east-1'\n",
    "params['account']='fya62509'"
   ]
  },
  {
   "cell_type": "code",
   "execution_count": 16,
   "id": "08f4912e-1afa-4586-a501-86f3571f5a43",
   "metadata": {},
   "outputs": [
    {
     "data": {
      "text/plain": [
       "{'user': 'SAURABHKULKARNI',\n",
       " 'password': 'Epsilon0*',\n",
       " 'account': 'fya62509',\n",
       " 'role': 'SAURABHKULKARNI',\n",
       " 'warehouse': 'FOSFOR_INSIGHT_WH',\n",
       " 'database': 'INSIGHT_DESIGNER_SPCS',\n",
       " 'schema': 'INSIGHT_SPCS_SCHEMA',\n",
       " 'region': 'us-east-1'}"
      ]
     },
     "execution_count": 16,
     "metadata": {},
     "output_type": "execute_result"
    }
   ],
   "source": [
    "params"
   ]
  },
  {
   "cell_type": "code",
   "execution_count": 13,
   "id": "8e15db7b-6cf3-4334-8fa3-33e025ebc1f2",
   "metadata": {},
   "outputs": [],
   "source": [
    "from snowflake.snowpark import Session"
   ]
  },
  {
   "cell_type": "code",
   "execution_count": 15,
   "id": "fa18b0b3-df72-4158-9ff8-ebb5938d60b5",
   "metadata": {},
   "outputs": [],
   "source": [
    "new_session = Session.builder.configs(params).create()"
   ]
  },
  {
   "cell_type": "code",
   "execution_count": 17,
   "id": "f51475b5-353e-4137-872a-1c49420ec714",
   "metadata": {},
   "outputs": [
    {
     "name": "stdout",
     "output_type": "stream",
     "text": [
      "ver:1-hint:32355341568585746-ETMsDgAAAZDehgQNABRBRVMvQ0JDL1BLQ1M1UGFkZGluZwEAABAAECWwixBV60g9HLYa8XruZtkAAACQZQn791DE3fTHfr/6FK8wDhVqNIM4IpcsjewsLgM+VwZuLZkB70CpqTNwviV1Pr0WRCnbJXOADhUc2ridtSc9cYAkcfdNj7mDhSJkaQxHJOfeyvFy9G2TVN00fnUQF+0rhDz4gdIzDtWuHfN+xX3POOci6NOxKftxplYT6UvVjqdAFRnY/rnbA/c7/tSaW6iWABRDAxsQe0iqrhAP+vOnToQi/+6rgw==\n"
     ]
    }
   ],
   "source": [
    "with open('/snowflake/session/token', 'r') as f:\n",
    "    print(f.read())"
   ]
  },
  {
   "cell_type": "code",
   "execution_count": null,
   "id": "a865e0a9-3edc-41fb-bf01-6cad099bc1d9",
   "metadata": {},
   "outputs": [],
   "source": []
  }
 ],
 "metadata": {
  "kernelspec": {
   "display_name": "Python 3 (ipykernel)",
   "language": "python",
   "name": "python3"
  },
  "language_info": {
   "codemirror_mode": {
    "name": "ipython",
    "version": 3
   },
   "file_extension": ".py",
   "mimetype": "text/x-python",
   "name": "python",
   "nbconvert_exporter": "python",
   "pygments_lexer": "ipython3",
   "version": "3.9.19"
  }
 },
 "nbformat": 4,
 "nbformat_minor": 5
}
