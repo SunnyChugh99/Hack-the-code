{
 "cells": [
  {
   "cell_type": "code",
   "execution_count": 5,
   "id": "0adf3e37-7e55-44e5-a7ce-a5e56d48b220",
   "metadata": {},
   "outputs": [],
   "source": [
    "# !pip freeze | grep fosforml"
   ]
  },
  {
   "cell_type": "code",
   "execution_count": 7,
   "id": "078544b4-1b9c-404f-8d2c-2b919f60c47f",
   "metadata": {},
   "outputs": [],
   "source": [
    "import os,json"
   ]
  },
  {
   "cell_type": "code",
   "execution_count": 8,
   "id": "e54857e3-7762-42ec-b442-ca05c7b8c09d",
   "metadata": {},
   "outputs": [],
   "source": [
    "params = json.loads(os.getenv('connection_details'))"
   ]
  },
  {
   "cell_type": "code",
   "execution_count": 11,
   "id": "a024099d-c95c-4884-895c-40fe9ce0216f",
   "metadata": {},
   "outputs": [],
   "source": [
    "params['region']='us-east-1'\n",
    "params['account']='fya62509'"
   ]
  },
  {
   "cell_type": "code",
   "execution_count": 16,
   "id": "08f4912e-1afa-4586-a501-86f3571f5a43",
   "metadata": {},
   "outputs": [
    {
     "data": {
      "text/plain": [
       "{'user': 'SAURABHKULKARNI',\n",
       " 'password': 'Epsilon0*',\n",
       " 'account': 'fya62509',\n",
       " 'role': 'SAURABHKULKARNI',\n",
       " 'warehouse': 'FOSFOR_INSIGHT_WH',\n",
       " 'database': 'INSIGHT_DESIGNER_SPCS',\n",
       " 'schema': 'INSIGHT_SPCS_SCHEMA',\n",
       " 'region': 'us-east-1'}"
      ]
     },
     "execution_count": 16,
     "metadata": {},
     "output_type": "execute_result"
    }
   ],
   "source": [
    "params"
   ]
  },
  {
   "cell_type": "code",
   "execution_count": 19,
   "id": "b1803776-7f5c-4e25-84de-699b5dae4070",
   "metadata": {},
   "outputs": [],
   "source": [
    "params['token'] = get_login_token()"
   ]
  },
  {
   "cell_type": "code",
   "execution_count": 32,
   "id": "8e15db7b-6cf3-4334-8fa3-33e025ebc1f2",
   "metadata": {},
   "outputs": [],
   "source": [
    "from snowflake.snowpark import Session\n",
    "import snowflake"
   ]
  },
  {
   "cell_type": "code",
   "execution_count": 21,
   "id": "afd1d6e9-a593-4d26-a028-bb8a9e4d28c0",
   "metadata": {},
   "outputs": [],
   "source": [
    "def get_login_token():\n",
    "  with open('/snowflake/session/token', 'r') as f:\n",
    "    return f.read()"
   ]
  },
  {
   "cell_type": "code",
   "execution_count": 23,
   "id": "fa18b0b3-df72-4158-9ff8-ebb5938d60b5",
   "metadata": {},
   "outputs": [],
   "source": [
    "session = Session.builder.configs(params)"
   ]
  },
  {
   "cell_type": "code",
   "execution_count": 33,
   "id": "a865e0a9-3edc-41fb-bf01-6cad099bc1d9",
   "metadata": {},
   "outputs": [],
   "source": [
    "conn = snowflake.connector.connect(\n",
    "  host = os.getenv('SNOWFLAKE_HOST'),\n",
    "  account = os.getenv('SNOWFLAKE_ACCOUNT'),\n",
    "  token = get_login_token(),\n",
    "  authenticator = 'oauth'\n",
    ")"
   ]
  },
  {
   "cell_type": "code",
   "execution_count": 34,
   "id": "e8b67458-bd85-492e-a3fb-dd9b2bf4aedd",
   "metadata": {},
   "outputs": [
    {
     "data": {
      "text/plain": [
       "32355342333423622"
      ]
     },
     "execution_count": 34,
     "metadata": {},
     "output_type": "execute_result"
    }
   ],
   "source": [
    "conn.session_id"
   ]
  },
  {
   "cell_type": "code",
   "execution_count": 35,
   "id": "fd236078-e634-402b-9571-f6aa645369f1",
   "metadata": {},
   "outputs": [],
   "source": [
    "session = Session.session_id"
   ]
  },
  {
   "cell_type": "code",
   "execution_count": 37,
   "id": "4bbf0230-24f7-48b1-ba14-707f94376792",
   "metadata": {},
   "outputs": [
    {
     "ename": "TypeError",
     "evalue": "'property' object is not callable",
     "output_type": "error",
     "traceback": [
      "\u001b[0;31m---------------------------------------------------------------------------\u001b[0m",
      "\u001b[0;31mTypeError\u001b[0m                                 Traceback (most recent call last)",
      "Cell \u001b[0;32mIn[37], line 1\u001b[0m\n\u001b[0;32m----> 1\u001b[0m \u001b[43msession\u001b[49m\u001b[43m(\u001b[49m\u001b[43m)\u001b[49m\n",
      "\u001b[0;31mTypeError\u001b[0m: 'property' object is not callable"
     ]
    }
   ],
   "source": [
    "session()"
   ]
  },
  {
   "cell_type": "code",
   "execution_count": null,
   "id": "f67d0e93-4cb0-477e-b6a7-668a95502707",
   "metadata": {},
   "outputs": [],
   "source": []
  }
 ],
 "metadata": {
  "kernelspec": {
   "display_name": "Python 3 (ipykernel)",
   "language": "python",
   "name": "python3"
  },
  "language_info": {
   "codemirror_mode": {
    "name": "ipython",
    "version": 3
   },
   "file_extension": ".py",
   "mimetype": "text/x-python",
   "name": "python",
   "nbconvert_exporter": "python",
   "pygments_lexer": "ipython3",
   "version": "3.9.19"
  }
 },
 "nbformat": 4,
 "nbformat_minor": 5
}
