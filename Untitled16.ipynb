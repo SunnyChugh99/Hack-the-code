{
 "cells": [
  {
   "cell_type": "code",
   "execution_count": 5,
   "id": "0adf3e37-7e55-44e5-a7ce-a5e56d48b220",
   "metadata": {},
   "outputs": [],
   "source": [
    "# !pip freeze | grep fosforml"
   ]
  },
  {
   "cell_type": "code",
   "execution_count": 1,
   "id": "8e2c86ea-0ad5-4ac4-8cfc-3f84ccdb2bc8",
   "metadata": {},
   "outputs": [],
   "source": [
    "from fosforml.model_manager.snowflakesession import get_session"
   ]
  },
  {
   "cell_type": "code",
   "execution_count": 6,
   "id": "0192bcd8-8d91-4f59-8556-a913cd5a9388",
   "metadata": {},
   "outputs": [
    {
     "name": "stdout",
     "output_type": "stream",
     "text": [
      "Using Snowflake OAuth token ..\n"
     ]
    }
   ],
   "source": [
    "session =  get_session()"
   ]
  },
  {
   "cell_type": "code",
   "execution_count": null,
   "id": "d4af5a49-4c93-4277-a74b-ab2218687dbe",
   "metadata": {},
   "outputs": [],
   "source": []
  }
 ],
 "metadata": {
  "kernelspec": {
   "display_name": "Python 3 (ipykernel)",
   "language": "python",
   "name": "python3"
  },
  "language_info": {
   "codemirror_mode": {
    "name": "ipython",
    "version": 3
   },
   "file_extension": ".py",
   "mimetype": "text/x-python",
   "name": "python",
   "nbconvert_exporter": "python",
   "pygments_lexer": "ipython3",
   "version": "3.9.19"
  }
 },
 "nbformat": 4,
 "nbformat_minor": 5
}
