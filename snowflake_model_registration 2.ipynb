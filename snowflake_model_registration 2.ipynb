{
 "cells": [
  {
   "cell_type": "code",
   "execution_count": 35,
   "id": "7639dde7",
   "metadata": {},
   "outputs": [],
   "source": [
    "# session.write_pandas(df,table_name=\"HR_CHURN\",auto_create_table=True).show()\n",
    "# !pip install fosforml"
   ]
  },
  {
   "cell_type": "code",
   "execution_count": 36,
   "id": "2876d7a6",
   "metadata": {},
   "outputs": [
    {
     "data": {
      "text/plain": [
       "'INSIGHT_SPCS_SCHEMA'"
      ]
     },
     "execution_count": 36,
     "metadata": {},
     "output_type": "execute_result"
    }
   ],
   "source": [
    "from fosforml.model_manager.snowflakesession import get_session\n",
    "session = get_session()\n",
    "session.get_current_schema().replace('\"','')"
   ]
  },
  {
   "cell_type": "code",
   "execution_count": 352,
   "id": "68fac18e",
   "metadata": {},
   "outputs": [],
   "source": [
    "from snowflake.snowpark.session import Session,col\n",
    "import snowflake.snowpark.functions\n",
    "from snowflake.ml.modeling.metrics import confusion_matrix, accuracy_score, f1_score, recall_score,precision_score\n",
    "from snowflake.ml.modeling.preprocessing import LabelEncoder, StandardScaler\n",
    "from snowflake.ml.modeling.impute import SimpleImputer\n",
    "from snowflake.ml.modeling.ensemble import GradientBoostingClassifier,RandomForestClassifier,RandomForestRegressor\n",
    "from snowflake.ml.modeling.xgboost import XGBClassifier\n",
    "from snowflake.ml.modeling.pipeline import Pipeline\n",
    "import snowflake\n",
    "def apply_label_encoding(input_data_frame):\n",
    "    for i in input_data_frame.dtypes:\n",
    "        if i[1].find('string') >= 0:\n",
    "            label_encoder = LabelEncoder(input_cols=i[0],output_cols=i[0],drop_input_cols=True)\n",
    "            input_data_frame = label_encoder.fit(input_data_frame).transform(input_data_frame)\n",
    "    return input_data_frame"
   ]
  },
  {
   "cell_type": "code",
   "execution_count": 353,
   "id": "d4fdf4b9",
   "metadata": {
    "scrolled": true
   },
   "outputs": [],
   "source": [
    "import pandas as pd\n",
    "df = pd.read_csv(\"HR_CHURN.csv\")\n",
    "\n",
    "df_filtered = df[df['SALARY']!='low']\n",
    "snow_df = session.create_dataframe(df_filtered)\n",
    "# snow_df = session.create_dataframe(df)\n",
    "\n",
    "\n",
    "snow_df = snow_df.drop(['Unnamed: 0','DEPARTMENT'])\n",
    "input_data_frame, test_df = snow_df.randomSplit([0.75, 0.25])\n",
    "label_encoder_column = []     \n",
    "input_data_frame = apply_label_encoding(input_data_frame)\n",
    "test_df = apply_label_encoding(test_df)\n",
    "feature_cols = input_data_frame.columns\n",
    "target_col = \"SALARY\"\n",
    "feature_cols.remove(target_col)\n",
    "OUTPUT_COLS = [target_col + '_PREDICTION']"
   ]
  },
  {
   "cell_type": "code",
   "execution_count": 343,
   "id": "4255469b-0860-4988-b398-c653cb565d53",
   "metadata": {},
   "outputs": [
    {
     "name": "stdout",
     "output_type": "stream",
     "text": [
      "-------------------------------------------------------------------------------------------------------------------------------------------------------------------------------\n",
      "|\"SALARY\"  |\"SATISFACTION_LEVEL\"  |\"LAST_EVALUATION\"  |\"NUMBER_PROJECT\"  |\"AVERAGE_MONTLY_HOURS\"  |\"TIME_SPEND_COMPANY\"  |\"WORK_ACCIDENT\"  |\"LEFT\"  |\"PROMOTION_LAST_5YEARS\"  |\n",
      "-------------------------------------------------------------------------------------------------------------------------------------------------------------------------------\n",
      "|1.0       |0.8                   |0.86               |5                 |262                     |6                     |0                |1       |0                        |\n",
      "|1.0       |0.11                  |0.88               |7                 |272                     |4                     |0                |1       |0                        |\n",
      "-------------------------------------------------------------------------------------------------------------------------------------------------------------------------------\n",
      "\n"
     ]
    }
   ],
   "source": [
    "input_data_frame.limit(2).show()"
   ]
  },
  {
   "cell_type": "code",
   "execution_count": 359,
   "id": "9538f410-d4b4-4a20-a16d-231b141e452f",
   "metadata": {},
   "outputs": [
    {
     "name": "stderr",
     "output_type": "stream",
     "text": [
      "The version of package 'scikit-learn' in the local environment is 1.3.2, which does not fit the criteria for the requirement 'scikit-learn==1.3.0'. Your UDF might not work when the package version is different between the server and your local environment.\n"
     ]
    },
    {
     "data": {
      "text/plain": [
       "['SALARY',\n",
       " 'SATISFACTION_LEVEL',\n",
       " 'LAST_EVALUATION',\n",
       " 'NUMBER_PROJECT',\n",
       " 'AVERAGE_MONTLY_HOURS',\n",
       " 'TIME_SPEND_COMPANY',\n",
       " 'WORK_ACCIDENT',\n",
       " 'LEFT',\n",
       " 'PROMOTION_LAST_5YEARS',\n",
       " 'OUTPUT_SALARY']"
      ]
     },
     "execution_count": 359,
     "metadata": {},
     "output_type": "execute_result"
    }
   ],
   "source": [
    "pipeline = RandomForestRegressor(input_cols=feature_cols, label_cols=target_col)\n",
    "pipeline.fit(input_data_frame)\n",
    "pred_snow_df = pipeline.predict(test_df)\n",
    "pred_snow_df.columns"
   ]
  },
  {
   "cell_type": "code",
   "execution_count": 360,
   "id": "34fa0ee7-25f6-4ea2-bb55-65fc11430e1c",
   "metadata": {},
   "outputs": [],
   "source": [
    "feature_columns = input_data_frame.columns\n",
    "sf_current = pred_snow_df\n",
    "sf_reference = pred_snow_df\n",
    "target_column  = \"SALARY\"\n",
    "prediction_column = \"OUTPUT_SALARY\"\n",
    "# predict_probability_columns = [ '\"\"\"PREDICT_PROBA_high\"\"\"','\"\"\"PREDICT_PROBA_medium\"\"\"']\n",
    "# predict_probability_columns = ['\"\"\"PREDICT_PROBA_0.0\"\"\"',\n",
    "#  '\"\"\"PREDICT_PROBA_2.0\"\"\"']\n",
    "drift_configs = {\n",
    "        \"project_id\" : \"asvw4g124-124sdvrgwef\",\n",
    "        \"feature_columns\": feature_columns,\n",
    "        \"current_dataset\" : current_df,\n",
    "        \"reference_dataset\" : reference_df,\n",
    "        \"model_name\" : \"HR_CHURN_MODEL\",\n",
    "        \"problem_type\" : \"regression\",  # classification or regression\n",
    "        \"target_column\" : \"SALARY\",\n",
    "        \"prediction_column\" : prediction_column,\n",
    "        # \"predict_probability_columns\" : predict_probability_columns,\n",
    "        \"version_name\" : \"V2\",\n",
    "        \"alerts_configurations\" : [\n",
    "            {\n",
    "                \"parameter\": \"performance_drift_score\",\n",
    "                \"threshold_range\": [[0.5, 1,'Red'],[0.5, 1,'Amber'],[0.5, 1,'Green']]\n",
    "            },\n",
    "            {\n",
    "                \"parameter\": \"drift_score\",\n",
    "                \"threshold_range\": [[0.5, 1,'Red'],[0.5, 1,'Amber'],[0.5, 1,'Green']]\n",
    "            }\n",
    "        ]\n",
    "    }"
   ]
  },
  {
   "cell_type": "code",
   "execution_count": 361,
   "id": "659c4286-571f-4fdf-9ea6-0cda4501cb3f",
   "metadata": {},
   "outputs": [],
   "source": [
    "import pandas as pd\n",
    "from snowflake.snowpark import Session\n",
    "from snowflake.snowpark.functions import col, try_cast, when, cast\n",
    "from sklearn.datasets import load_diabetes\n",
    "import json\n",
    "\n",
    "from snowflake.ml.modeling.metrics import explained_variance_score, \\\n",
    "                    mean_absolute_percentage_error ,\\\n",
    "\t\t\t\t\tmean_squared_error, \\\n",
    "\t\t\t\t\tmean_absolute_error, \\\n",
    "\t\t\t\t\tr2_score\n"
   ]
  },
  {
   "cell_type": "code",
   "execution_count": null,
   "id": "6595e1f9-93f1-452b-9ab5-58860cc9ef69",
   "metadata": {},
   "outputs": [],
   "source": [
    "\n",
    "def get_regression_metrics(sf_df,true_cn,pred_cn):\n",
    "    import math\n",
    "    performance_metrics = {}\n",
    "    performance_metrics['explained_variance_score'] = explained_variance_score(df=sf_df,\n",
    "                                                                               y_true_col_names=true_cn,\n",
    "                                                                               y_pred_col_names=pred_cn)\n",
    "\n",
    "    performance_metrics['mean_absolute_percentage_error'] = mean_absolute_percentage_error(df=sf_df,\n",
    "                                                                                            y_true_col_names=true_cn,\n",
    "                                                                                            y_pred_col_names=pred_cn)\n",
    "\n",
    "    performance_metrics['mean_squared_error'] = mean_squared_error(df=sf_df,\n",
    "                                                                    y_true_col_names=true_cn, \n",
    "                                                                    y_pred_col_names=pred_cn)\n",
    "\n",
    "    performance_metrics['mean_absolute_error'] = mean_absolute_error(df=sf_df,\n",
    "                                                                        y_true_col_names=true_cn, \n",
    "                                                                        y_pred_col_names=pred_cn)\n",
    "\n",
    "    performance_metrics['r2_score'] = r2_score(df=sf_df,y_true_col_name=true_cn, y_pred_col_name=pred_cn)\n",
    "\n",
    "    performance_metrics['root_mean_square_error'] = math.sqrt(performance_metrics['r2_score'])\n",
    "\n",
    "    return performance_metrics\n",
    "\n",
    "\n",
    "def get_list_of_bins(total_rows):\n",
    "    total_bins = 150\n",
    "    bin_indexs = [] ; count = 0\n",
    "    if total_rows > 150 :\n",
    "        for i in range(0,total_rows,int(total_rows/total_bins)):\n",
    "            bin_indexs.append(i)\n",
    "            count += 1\n",
    "            if count > 150 :\n",
    "                break\n",
    "    else :\n",
    "        return [i for i in range(total_rows)]\n",
    "    return bin_indexs\n",
    "\n",
    "def get_binned_sf_dataframe(sf_df,plot_bins):\n",
    "    from snowflake.snowpark.functions import row_number, lit, col\n",
    "    from snowflake.snowpark.window import Window\n",
    "\n",
    "    window_spec = Window.order_by(lit(1))\n",
    "    df_with_row_numbers = sf_df.with_column(\"row_number\",row_number().over(window_spec))\n",
    "    temp_df = df_with_row_numbers.filter(col(\"row_number\").isin(plot_bins)).drop(\"row_number\")\n",
    "    return temp_df\n",
    "\n",
    "def get_prediction_vs_actual_data(sf_df,true_cn,pred_cn):\n",
    "    regression_plot = {}\n",
    "    regression_plot[\"x_axis\"] = sf_df.select(true_cn).to_pandas().squeeze().tolist()\n",
    "    regression_plot[\"y_axis\"] = sf_df.select(pred_cn).to_pandas().squeeze().tolist()\n",
    "    return regression_plot\n",
    "\n",
    "def get_regression_plot_in_time(sf_df,true_cn,pred_cn,bins):\n",
    "    regression_in_time_plot = {}\n",
    "    target_plot = {} ; prediction_plot = {}\n",
    "    target_plot['x_axis'] = bins[:-1]\n",
    "    target_plot['y_axis'] = sf_df.select(true_cn).to_pandas().squeeze().tolist()\n",
    "    prediction_plot['x_axis'] = bins[:-1]\n",
    "    prediction_plot['y_axis'] = sf_df.select(pred_cn).to_pandas().squeeze().tolist()\n",
    "    regression_in_time_plot[true_cn] = target_plot\n",
    "    regression_in_time_plot[pred_cn] = prediction_plot\n",
    "    return regression_in_time_plot\n",
    "\n",
    "def get_errors_plot(sf_df,true_cn,pred_cn,bins):\n",
    "    error_plot = {}\n",
    "    error_plot['x_axis'] = bins[:-1]\n",
    "    error_plot['y_axis'] = sf_df.with_column(\"difference\",col(pred_cn)-col(true_cn)) \\\n",
    "                            .select(\"difference\").to_pandas().squeeze().tolist()\n",
    "    return error_plot\n",
    "\n",
    "def get_error_normality_plot(sf_df,true_cn,pred_cn,bins):\n",
    "    import numpy as np\n",
    "    import scipy.stats as stats\n",
    "    error_normality_plots = {}\n",
    "    errors = sf_df.with_column(\"difference\",col(pred_cn)-col(true_cn)) \\\n",
    "                            .select(\"difference\").to_pandas().squeeze().tolist()\n",
    "    sorted_errors = np.sort(np.array(errors))\n",
    "    n = len(sorted_errors)\n",
    "\n",
    "    theoretical_quantiles = stats.norm.ppf((np.arange(1,n+1) - 0.5)/n)\n",
    "    error_normality_plots['theoretical_quantiles'] = theoretical_quantiles.tolist()\n",
    "    error_normality_plots['prediction_errors'] = sorted_errors.tolist()\n",
    "    return error_normality_plots\n",
    "\n",
    "\n",
    "def execute_regression_drift(drift_configs,\n",
    "                             sf_current,\n",
    "                             sf_reference):\n",
    "    \n",
    "    ####################################Regression problem ########################################\n",
    "\n",
    "    metrics = []\n",
    "    target_column = drift_configs['target_column']\n",
    "    prediction_column = drift_configs['prediction_column']\n",
    "\n",
    "    ## bins\n",
    "    plot_bins = get_list_of_bins(sf_current.count())\n",
    "\n",
    "    # binned dataframes\n",
    "    binn_sf_current = get_binned_sf_dataframe(sf_current,plot_bins)\n",
    "    binn_sf_reference = get_binned_sf_dataframe(sf_current,plot_bins)\n",
    "\n",
    "    # performance metrics\n",
    "    regression_quality_metrics = {}\n",
    "    regression_quality_metrics['current'] = get_regression_metrics(sf_current,target_column,prediction_column)\n",
    "    regression_quality_metrics['reference'] = get_regression_metrics(sf_reference,target_column,prediction_column)\n",
    "    metrics.append({\n",
    "        \"regression_quality_metrics\" : regression_quality_metrics\n",
    "    })\n",
    "    # print(regression_quality_metrics)\n",
    "\n",
    "    # Prediction vs Actual\n",
    "    prediction_vs_actual = {}\n",
    "    prediction_vs_actual['current'] = get_prediction_vs_actual_data(binn_sf_current,target_column,prediction_column)\n",
    "    prediction_vs_actual['reference'] = get_prediction_vs_actual_data(binn_sf_reference,target_column,prediction_column)\n",
    "    metrics.append({\n",
    "        \"prediction_vs_actual\" : prediction_vs_actual\n",
    "    })\n",
    "    # print(prediction_vs_actual)\n",
    "\n",
    "    # Prediction vs Actual in time\n",
    "    prediction_vs_actual_in_time = {}\n",
    "    prediction_vs_actual_in_time['current'] = get_regression_plot_in_time(binn_sf_current,target_column,prediction_column,plot_bins)\n",
    "    prediction_vs_actual_in_time['reference'] = get_regression_plot_in_time(binn_sf_reference,target_column,prediction_column,plot_bins)\n",
    "    metrics.append({\n",
    "        \"prediction_vs_actual_in_time\" : prediction_vs_actual_in_time\n",
    "    })\n",
    "    # print(prediction_vs_actual_in_time)\n",
    "\n",
    "    # Errors predicted vs Actual in time\n",
    "    errors_plot = {}\n",
    "    errors_plot['current'] = get_errors_plot(binn_sf_current,target_column,prediction_column,plot_bins)\n",
    "    errors_plot['reference'] = get_errors_plot(binn_sf_reference,target_column,prediction_column,plot_bins)\n",
    "    metrics.append({\n",
    "        \"errors_plot\" : errors_plot\n",
    "    })\n",
    "    # print(errors_plot)\n",
    "\n",
    "    ## Error normality\n",
    "    errors_normality_plot = {}\n",
    "    errors_normality_plot['current'] = get_error_normality_plot(binn_sf_current,target_column,prediction_column,plot_bins)\n",
    "    errors_normality_plot['reference'] = get_error_normality_plot(binn_sf_reference,target_column,prediction_column,plot_bins)\n",
    "    metrics.append({\n",
    "        \"errors_normality_plot\" : errors_normality_plot\n",
    "    })\n",
    "    # print(errors_normality_plot)\n",
    "\n",
    "    return {\n",
    "        \"metrics\" : metrics\n",
    "    }\n"
   ]
  },
  {
   "cell_type": "code",
   "execution_count": null,
   "id": "420c9f9c-b3e3-409d-8cdc-908c291e19c0",
   "metadata": {},
   "outputs": [],
   "source": []
  },
  {
   "cell_type": "code",
   "execution_count": null,
   "id": "d653865e-957f-4ff8-a6dc-e0f1d227bee3",
   "metadata": {},
   "outputs": [],
   "source": []
  },
  {
   "cell_type": "code",
   "execution_count": null,
   "id": "9d6000fd-ce23-446f-b48f-7d9660dccec4",
   "metadata": {},
   "outputs": [],
   "source": []
  },
  {
   "cell_type": "code",
   "execution_count": null,
   "id": "f91b70e6-769f-49f9-9236-d437ebdf63f1",
   "metadata": {},
   "outputs": [],
   "source": []
  },
  {
   "cell_type": "code",
   "execution_count": null,
   "id": "8db1916f-7d25-4221-8c97-38e92de8c6a5",
   "metadata": {},
   "outputs": [],
   "source": []
  },
  {
   "cell_type": "code",
   "execution_count": null,
   "id": "c76c7f4b-a96b-420e-a4ac-02000a36f0eb",
   "metadata": {},
   "outputs": [],
   "source": []
  },
  {
   "cell_type": "code",
   "execution_count": null,
   "id": "ac086288-bb95-4246-ae82-54b7698d9e00",
   "metadata": {},
   "outputs": [],
   "source": []
  },
  {
   "cell_type": "code",
   "execution_count": null,
   "id": "31579ba2-fdd6-4506-8af1-65b74e569b72",
   "metadata": {},
   "outputs": [],
   "source": []
  },
  {
   "cell_type": "code",
   "execution_count": null,
   "id": "f53c389c-1c44-46af-8cab-468ff72a7c19",
   "metadata": {},
   "outputs": [],
   "source": []
  },
  {
   "cell_type": "code",
   "execution_count": null,
   "id": "e5888645-da6a-4e2c-9b61-1926b6e48797",
   "metadata": {},
   "outputs": [],
   "source": []
  },
  {
   "cell_type": "code",
   "execution_count": 46,
   "id": "1cc192e6",
   "metadata": {
    "scrolled": true
   },
   "outputs": [
    {
     "name": "stderr",
     "output_type": "stream",
     "text": [
      "WARNING:snowflake.snowpark._internal.udf_utils:Got error object of type 'NoneType' has no len() when trying to read default values from function: <class 'snowflake.ml.modeling.metrics.classification._register_confusion_matrix_computer.<locals>.ConfusionMatrixComputer'>. Proceeding without creating optional arguments\n",
      "WARNING:snowflake.snowpark._internal.udf_utils:Got error object of type 'NoneType' has no len() when trying to read default values from function: <class 'snowflake.ml.modeling.metrics.metrics_utils.register_accumulator_udtf.<locals>.Accumulator'>. Proceeding without creating optional arguments\n"
     ]
    },
    {
     "name": "stdout",
     "output_type": "stream",
     "text": [
      "Calculating build time metrics\n",
      "\n",
      "Progress: ██████████████                                                         20.0%\n",
      "Calculating build time metrics\n",
      "\n",
      "Progress: ████████████████████████████                                           40.0%\n"
     ]
    },
    {
     "name": "stderr",
     "output_type": "stream",
     "text": [
      "WARNING:snowflake.snowpark._internal.udf_utils:Got error object of type 'NoneType' has no len() when trying to read default values from function: <class 'snowflake.ml.modeling.metrics.classification._register_multilabel_confusion_matrix_computer.<locals>.MultilabelConfusionMatrixComputer'>. Proceeding without creating optional arguments\n",
      "WARNING:snowflake.snowpark.session:The version of package 'scikit-learn' in the local environment is 1.3.2, which does not fit the criteria for the requirement 'scikit-learn<1.4'. Your UDF might not work when the package version is different between the server and your local environment.\n",
      "WARNING:snowflake.snowpark._internal.udf_utils:Got error object of type 'NoneType' has no len() when trying to read default values from function: <class 'snowflake.ml.modeling.metrics.classification._register_multilabel_confusion_matrix_computer.<locals>.MultilabelConfusionMatrixComputer'>. Proceeding without creating optional arguments\n",
      "WARNING:snowflake.snowpark.session:The version of package 'scikit-learn' in the local environment is 1.3.2, which does not fit the criteria for the requirement 'scikit-learn<1.4'. Your UDF might not work when the package version is different between the server and your local environment.\n",
      "WARNING:snowflake.snowpark._internal.udf_utils:Got error object of type 'NoneType' has no len() when trying to read default values from function: <class 'snowflake.ml.modeling.metrics.classification._register_multilabel_confusion_matrix_computer.<locals>.MultilabelConfusionMatrixComputer'>. Proceeding without creating optional arguments\n",
      "WARNING:snowflake.snowpark.session:The version of package 'scikit-learn' in the local environment is 1.3.2, which does not fit the criteria for the requirement 'scikit-learn<1.4'. Your UDF might not work when the package version is different between the server and your local environment.\n"
     ]
    },
    {
     "name": "stdout",
     "output_type": "stream",
     "text": [
      "Calculating build time metrics\n",
      "\n",
      "Progress: ██████████████████████████████████████████                             60.0%\n",
      "Calculating build time metrics\n",
      "\n",
      "Progress: ████████████████████████████████████████████████████████               80.0%\n",
      "Calculating build time metrics\n",
      "\n",
      "Progress: ██████████████████████████████████████████████████████████████████████ 100.0%\n"
     ]
    },
    {
     "data": {
      "text/plain": [
       "\"Model 'MODEL_8D3FB8A6_A886_4236_9B35_73EB1303C4BF_FDC_TESTMODE02092024' registered successfully.\""
      ]
     },
     "execution_count": 46,
     "metadata": {},
     "output_type": "execute_result"
    }
   ],
   "source": [
    "from fosforml import register_model\n",
    "\n",
    "register_model(\n",
    "  model_obj=pipeline,\n",
    "  session=session,\n",
    "  name=\"Testmode02092024\",\n",
    "  snowflake_df=pred_snow_df,\n",
    "  dataset_name=\"HR_CHURN\",\n",
    "  dataset_source=\"Dataset\",\n",
    "  source=\"Notebook\",\n",
    "  description=\"This is a Snowflake model\",\n",
    "  flavour=\"snowflake\",\n",
    "  model_type=\"classification\",\n",
    "  conda_dependencies=[\"scikit-learn==1.3.2\"]\n",
    ")"
   ]
  },
  {
   "cell_type": "code",
   "execution_count": null,
   "id": "c2efda67-cf02-4fb6-b958-084e8a79c0f0",
   "metadata": {},
   "outputs": [],
   "source": []
  },
  {
   "cell_type": "code",
   "execution_count": null,
   "id": "ea906b84-9728-49df-8348-16c8515aa016",
   "metadata": {},
   "outputs": [],
   "source": []
  },
  {
   "cell_type": "code",
   "execution_count": null,
   "id": "58ede7e3-d30a-4bdf-a71e-d443b73e5bdd",
   "metadata": {},
   "outputs": [],
   "source": []
  },
  {
   "cell_type": "code",
   "execution_count": null,
   "id": "c70abba0-f796-45c6-a3a7-df73fce8f281",
   "metadata": {},
   "outputs": [],
   "source": []
  },
  {
   "cell_type": "code",
   "execution_count": null,
   "id": "e90e0d85-bf9a-411e-8b9e-d6ea725fc312",
   "metadata": {},
   "outputs": [],
   "source": []
  },
  {
   "cell_type": "code",
   "execution_count": 54,
   "id": "5b7351e6",
   "metadata": {},
   "outputs": [],
   "source": [
    "model_obj = model_registry.get_model(model_name=\"TestModel\")"
   ]
  },
  {
   "cell_type": "code",
   "execution_count": 55,
   "id": "00d3bff0",
   "metadata": {},
   "outputs": [],
   "source": [
    "model = model_obj.version(version_name=\"v1\")"
   ]
  },
  {
   "cell_type": "code",
   "execution_count": 58,
   "id": "ed2011c4",
   "metadata": {},
   "outputs": [],
   "source": [
    "inptu_df ,test_df = session.table(\"HR_CHURN\").randomSplit([0.75, 0.25])"
   ]
  },
  {
   "cell_type": "code",
   "execution_count": 59,
   "id": "4fb0ba75",
   "metadata": {},
   "outputs": [],
   "source": [
    "test_df = apply_label_encoding(test_df)"
   ]
  },
  {
   "cell_type": "code",
   "execution_count": 75,
   "id": "0ac7db79",
   "metadata": {},
   "outputs": [],
   "source": [
    "test_df_pandas = test_df.to_pandas()"
   ]
  },
  {
   "cell_type": "code",
   "execution_count": 76,
   "id": "25f9706d",
   "metadata": {},
   "outputs": [
    {
     "name": "stdout",
     "output_type": "stream",
     "text": [
      "-------------------------------------------------------------------------------------------------------------------------------------------------------------------------------------------------------------\n",
      "|\"SALARY\"  |\"DEPARTMENT\"  |\"Unnamed: 0\"  |\"SATISFACTION_LEVEL\"  |\"LAST_EVALUATION\"  |\"NUMBER_PROJECT\"  |\"AVERAGE_MONTLY_HOURS\"  |\"TIME_SPEND_COMPANY\"  |\"WORK_ACCIDENT\"  |\"LEFT\"  |\"PROMOTION_LAST_5YEARS\"  |\n",
      "-------------------------------------------------------------------------------------------------------------------------------------------------------------------------------------------------------------\n",
      "|2.0       |7.0           |1             |0.8                   |0.86               |5                 |262                     |6                     |0                |1       |0                        |\n",
      "|1.0       |7.0           |13            |0.41                  |0.55               |2                 |148                     |3                     |0                |1       |0                        |\n",
      "|1.0       |7.0           |18            |0.45                  |0.51               |2                 |160                     |3                     |1                |1       |1                        |\n",
      "|1.0       |7.0           |19            |0.76                  |0.89               |5                 |262                     |5                     |0                |1       |0                        |\n",
      "|1.0       |7.0           |25            |0.89                  |0.92               |5                 |242                     |5                     |0                |1       |0                        |\n",
      "|1.0       |2.0           |28            |0.41                  |0.46               |2                 |128                     |3                     |0                |1       |0                        |\n",
      "|1.0       |2.0           |30            |0.09                  |0.62               |6                 |294                     |4                     |0                |1       |0                        |\n",
      "|1.0       |3.0           |34            |0.84                  |0.87               |4                 |246                     |6                     |0                |1       |0                        |\n",
      "|1.0       |9.0           |38            |0.11                  |0.89               |6                 |306                     |4                     |0                |1       |0                        |\n",
      "|1.0       |9.0           |42            |0.4                   |0.46               |2                 |127                     |3                     |0                |1       |0                        |\n",
      "-------------------------------------------------------------------------------------------------------------------------------------------------------------------------------------------------------------\n",
      "\n"
     ]
    }
   ],
   "source": [
    "session.write_pandas(test_df_pandas,table_name=\"TEST_DATA_HR\",overwrite=True).show()"
   ]
  },
  {
   "cell_type": "code",
   "execution_count": 80,
   "id": "3bf2d1db",
   "metadata": {},
   "outputs": [],
   "source": [
    "test_df_fetch = session.table(\"TEST_DATA_HR\")"
   ]
  },
  {
   "cell_type": "code",
   "execution_count": 81,
   "id": "0a3c6340",
   "metadata": {},
   "outputs": [
    {
     "name": "stdout",
     "output_type": "stream",
     "text": [
      "-------------------------------------------------------------------------------------------------------------------------------------------------------------------------------------------------------------\n",
      "|\"SALARY\"  |\"DEPARTMENT\"  |\"Unnamed: 0\"  |\"SATISFACTION_LEVEL\"  |\"LAST_EVALUATION\"  |\"NUMBER_PROJECT\"  |\"AVERAGE_MONTLY_HOURS\"  |\"TIME_SPEND_COMPANY\"  |\"WORK_ACCIDENT\"  |\"LEFT\"  |\"PROMOTION_LAST_5YEARS\"  |\n",
      "-------------------------------------------------------------------------------------------------------------------------------------------------------------------------------------------------------------\n",
      "|2.0       |7.0           |1             |0.8                   |0.86               |5                 |262                     |6                     |0                |1       |0                        |\n",
      "|1.0       |7.0           |13            |0.41                  |0.55               |2                 |148                     |3                     |0                |1       |0                        |\n",
      "|1.0       |7.0           |18            |0.45                  |0.51               |2                 |160                     |3                     |1                |1       |1                        |\n",
      "|1.0       |7.0           |19            |0.76                  |0.89               |5                 |262                     |5                     |0                |1       |0                        |\n",
      "|1.0       |7.0           |25            |0.89                  |0.92               |5                 |242                     |5                     |0                |1       |0                        |\n",
      "|1.0       |2.0           |28            |0.41                  |0.46               |2                 |128                     |3                     |0                |1       |0                        |\n",
      "|1.0       |2.0           |30            |0.09                  |0.62               |6                 |294                     |4                     |0                |1       |0                        |\n",
      "|1.0       |3.0           |34            |0.84                  |0.87               |4                 |246                     |6                     |0                |1       |0                        |\n",
      "|1.0       |9.0           |38            |0.11                  |0.89               |6                 |306                     |4                     |0                |1       |0                        |\n",
      "|1.0       |9.0           |42            |0.4                   |0.46               |2                 |127                     |3                     |0                |1       |0                        |\n",
      "-------------------------------------------------------------------------------------------------------------------------------------------------------------------------------------------------------------\n",
      "\n"
     ]
    }
   ],
   "source": [
    "test_df_fetch.show()"
   ]
  },
  {
   "cell_type": "code",
   "execution_count": null,
   "id": "5e14bd13",
   "metadata": {},
   "outputs": [],
   "source": []
  },
  {
   "cell_type": "code",
   "execution_count": null,
   "id": "fa0a6cb7",
   "metadata": {},
   "outputs": [],
   "source": []
  },
  {
   "cell_type": "code",
   "execution_count": null,
   "id": "8243cf00",
   "metadata": {},
   "outputs": [],
   "source": []
  },
  {
   "cell_type": "code",
   "execution_count": 82,
   "id": "2117fc9d",
   "metadata": {},
   "outputs": [
    {
     "data": {
      "text/html": [
       "<div>\n",
       "<style scoped>\n",
       "    .dataframe tbody tr th:only-of-type {\n",
       "        vertical-align: middle;\n",
       "    }\n",
       "\n",
       "    .dataframe tbody tr th {\n",
       "        vertical-align: top;\n",
       "    }\n",
       "\n",
       "    .dataframe thead th {\n",
       "        text-align: right;\n",
       "    }\n",
       "</style>\n",
       "<table border=\"1\" class=\"dataframe\">\n",
       "  <thead>\n",
       "    <tr style=\"text-align: right;\">\n",
       "      <th></th>\n",
       "      <th>SALARY</th>\n",
       "      <th>DEPARTMENT</th>\n",
       "      <th>Unnamed: 0</th>\n",
       "      <th>SATISFACTION_LEVEL</th>\n",
       "      <th>LAST_EVALUATION</th>\n",
       "      <th>NUMBER_PROJECT</th>\n",
       "      <th>AVERAGE_MONTLY_HOURS</th>\n",
       "      <th>TIME_SPEND_COMPANY</th>\n",
       "      <th>WORK_ACCIDENT</th>\n",
       "      <th>LEFT</th>\n",
       "      <th>PROMOTION_LAST_5YEARS</th>\n",
       "      <th>OUTPUT_SALARY</th>\n",
       "    </tr>\n",
       "  </thead>\n",
       "  <tbody>\n",
       "    <tr>\n",
       "      <th>0</th>\n",
       "      <td>1.0</td>\n",
       "      <td>3.0</td>\n",
       "      <td>34</td>\n",
       "      <td>0.84</td>\n",
       "      <td>0.87</td>\n",
       "      <td>4</td>\n",
       "      <td>246</td>\n",
       "      <td>6</td>\n",
       "      <td>0</td>\n",
       "      <td>1</td>\n",
       "      <td>0</td>\n",
       "      <td>1.0</td>\n",
       "    </tr>\n",
       "    <tr>\n",
       "      <th>1</th>\n",
       "      <td>2.0</td>\n",
       "      <td>6.0</td>\n",
       "      <td>66</td>\n",
       "      <td>0.43</td>\n",
       "      <td>0.54</td>\n",
       "      <td>2</td>\n",
       "      <td>153</td>\n",
       "      <td>3</td>\n",
       "      <td>0</td>\n",
       "      <td>1</td>\n",
       "      <td>0</td>\n",
       "      <td>2.0</td>\n",
       "    </tr>\n",
       "    <tr>\n",
       "      <th>2</th>\n",
       "      <td>1.0</td>\n",
       "      <td>7.0</td>\n",
       "      <td>94</td>\n",
       "      <td>0.09</td>\n",
       "      <td>0.83</td>\n",
       "      <td>6</td>\n",
       "      <td>255</td>\n",
       "      <td>4</td>\n",
       "      <td>0</td>\n",
       "      <td>1</td>\n",
       "      <td>0</td>\n",
       "      <td>1.0</td>\n",
       "    </tr>\n",
       "    <tr>\n",
       "      <th>3</th>\n",
       "      <td>1.0</td>\n",
       "      <td>8.0</td>\n",
       "      <td>130</td>\n",
       "      <td>0.10</td>\n",
       "      <td>0.83</td>\n",
       "      <td>6</td>\n",
       "      <td>292</td>\n",
       "      <td>4</td>\n",
       "      <td>0</td>\n",
       "      <td>1</td>\n",
       "      <td>0</td>\n",
       "      <td>1.0</td>\n",
       "    </tr>\n",
       "    <tr>\n",
       "      <th>4</th>\n",
       "      <td>1.0</td>\n",
       "      <td>7.0</td>\n",
       "      <td>163</td>\n",
       "      <td>0.79</td>\n",
       "      <td>0.89</td>\n",
       "      <td>5</td>\n",
       "      <td>239</td>\n",
       "      <td>5</td>\n",
       "      <td>0</td>\n",
       "      <td>1</td>\n",
       "      <td>0</td>\n",
       "      <td>1.0</td>\n",
       "    </tr>\n",
       "    <tr>\n",
       "      <th>...</th>\n",
       "      <td>...</td>\n",
       "      <td>...</td>\n",
       "      <td>...</td>\n",
       "      <td>...</td>\n",
       "      <td>...</td>\n",
       "      <td>...</td>\n",
       "      <td>...</td>\n",
       "      <td>...</td>\n",
       "      <td>...</td>\n",
       "      <td>...</td>\n",
       "      <td>...</td>\n",
       "      <td>...</td>\n",
       "    </tr>\n",
       "    <tr>\n",
       "      <th>7447</th>\n",
       "      <td>2.0</td>\n",
       "      <td>5.0</td>\n",
       "      <td>14821</td>\n",
       "      <td>0.09</td>\n",
       "      <td>0.95</td>\n",
       "      <td>7</td>\n",
       "      <td>256</td>\n",
       "      <td>4</td>\n",
       "      <td>0</td>\n",
       "      <td>1</td>\n",
       "      <td>0</td>\n",
       "      <td>2.0</td>\n",
       "    </tr>\n",
       "    <tr>\n",
       "      <th>7448</th>\n",
       "      <td>2.0</td>\n",
       "      <td>9.0</td>\n",
       "      <td>14859</td>\n",
       "      <td>0.45</td>\n",
       "      <td>0.54</td>\n",
       "      <td>2</td>\n",
       "      <td>129</td>\n",
       "      <td>3</td>\n",
       "      <td>0</td>\n",
       "      <td>1</td>\n",
       "      <td>0</td>\n",
       "      <td>2.0</td>\n",
       "    </tr>\n",
       "    <tr>\n",
       "      <th>7449</th>\n",
       "      <td>1.0</td>\n",
       "      <td>7.0</td>\n",
       "      <td>14888</td>\n",
       "      <td>0.39</td>\n",
       "      <td>0.49</td>\n",
       "      <td>2</td>\n",
       "      <td>142</td>\n",
       "      <td>3</td>\n",
       "      <td>0</td>\n",
       "      <td>1</td>\n",
       "      <td>0</td>\n",
       "      <td>1.0</td>\n",
       "    </tr>\n",
       "    <tr>\n",
       "      <th>7450</th>\n",
       "      <td>2.0</td>\n",
       "      <td>7.0</td>\n",
       "      <td>14945</td>\n",
       "      <td>0.14</td>\n",
       "      <td>0.75</td>\n",
       "      <td>4</td>\n",
       "      <td>277</td>\n",
       "      <td>5</td>\n",
       "      <td>1</td>\n",
       "      <td>1</td>\n",
       "      <td>0</td>\n",
       "      <td>1.0</td>\n",
       "    </tr>\n",
       "    <tr>\n",
       "      <th>7451</th>\n",
       "      <td>2.0</td>\n",
       "      <td>2.0</td>\n",
       "      <td>14974</td>\n",
       "      <td>0.36</td>\n",
       "      <td>0.54</td>\n",
       "      <td>2</td>\n",
       "      <td>153</td>\n",
       "      <td>3</td>\n",
       "      <td>0</td>\n",
       "      <td>1</td>\n",
       "      <td>0</td>\n",
       "      <td>2.0</td>\n",
       "    </tr>\n",
       "  </tbody>\n",
       "</table>\n",
       "<p>7452 rows × 12 columns</p>\n",
       "</div>"
      ],
      "text/plain": [
       "      SALARY  DEPARTMENT  Unnamed: 0  SATISFACTION_LEVEL  LAST_EVALUATION  \\\n",
       "0        1.0         3.0          34                0.84             0.87   \n",
       "1        2.0         6.0          66                0.43             0.54   \n",
       "2        1.0         7.0          94                0.09             0.83   \n",
       "3        1.0         8.0         130                0.10             0.83   \n",
       "4        1.0         7.0         163                0.79             0.89   \n",
       "...      ...         ...         ...                 ...              ...   \n",
       "7447     2.0         5.0       14821                0.09             0.95   \n",
       "7448     2.0         9.0       14859                0.45             0.54   \n",
       "7449     1.0         7.0       14888                0.39             0.49   \n",
       "7450     2.0         7.0       14945                0.14             0.75   \n",
       "7451     2.0         2.0       14974                0.36             0.54   \n",
       "\n",
       "      NUMBER_PROJECT  AVERAGE_MONTLY_HOURS  TIME_SPEND_COMPANY  WORK_ACCIDENT  \\\n",
       "0                  4                   246                   6              0   \n",
       "1                  2                   153                   3              0   \n",
       "2                  6                   255                   4              0   \n",
       "3                  6                   292                   4              0   \n",
       "4                  5                   239                   5              0   \n",
       "...              ...                   ...                 ...            ...   \n",
       "7447               7                   256                   4              0   \n",
       "7448               2                   129                   3              0   \n",
       "7449               2                   142                   3              0   \n",
       "7450               4                   277                   5              1   \n",
       "7451               2                   153                   3              0   \n",
       "\n",
       "      LEFT  PROMOTION_LAST_5YEARS  OUTPUT_SALARY  \n",
       "0        1                      0            1.0  \n",
       "1        1                      0            2.0  \n",
       "2        1                      0            1.0  \n",
       "3        1                      0            1.0  \n",
       "4        1                      0            1.0  \n",
       "...    ...                    ...            ...  \n",
       "7447     1                      0            2.0  \n",
       "7448     1                      0            2.0  \n",
       "7449     1                      0            1.0  \n",
       "7450     1                      0            1.0  \n",
       "7451     1                      0            2.0  \n",
       "\n",
       "[7452 rows x 12 columns]"
      ]
     },
     "execution_count": 82,
     "metadata": {},
     "output_type": "execute_result"
    }
   ],
   "source": [
    "model.run(test_df_fetch, function_name=\"predict\").to_pandas()"
   ]
  },
  {
   "cell_type": "code",
   "execution_count": null,
   "id": "9f604b25",
   "metadata": {},
   "outputs": [],
   "source": []
  },
  {
   "cell_type": "code",
   "execution_count": null,
   "id": "90556e8d",
   "metadata": {},
   "outputs": [],
   "source": []
  },
  {
   "cell_type": "code",
   "execution_count": null,
   "id": "5abae063",
   "metadata": {},
   "outputs": [],
   "source": []
  },
  {
   "cell_type": "code",
   "execution_count": null,
   "id": "0493a161",
   "metadata": {},
   "outputs": [],
   "source": []
  },
  {
   "cell_type": "code",
   "execution_count": null,
   "id": "cf512a51",
   "metadata": {},
   "outputs": [],
   "source": [
    "register_model(\n",
    "  model_obj=pipeline,\n",
    "  session=session,\n",
    "  snowflake_df=pred_snow_df,\n",
    "  name=\"HR_Churn_model\",\n",
    "  description=\"This is a test model\",\n",
    "  flavour=\"snowflake\",\n",
    "  dataset_name=\"Hr_churn\",\n",
    "  datasource_name=\"Hr_churn\",\n",
    "  model_type=\"classification\",\n",
    "  conda_dependencies=[\"scikit-learn==1.3.2\"],\n",
    "  source=\"Notebook\"\n",
    ")"
   ]
  },
  {
   "cell_type": "code",
   "execution_count": null,
   "id": "d151bb10",
   "metadata": {},
   "outputs": [],
   "source": []
  },
  {
   "cell_type": "code",
   "execution_count": null,
   "id": "4255d32d",
   "metadata": {},
   "outputs": [],
   "source": []
  }
 ],
 "metadata": {
  "kernelspec": {
   "display_name": "Python 3 (ipykernel)",
   "language": "python",
   "name": "python3"
  },
  "language_info": {
   "codemirror_mode": {
    "name": "ipython",
    "version": 3
   },
   "file_extension": ".py",
   "mimetype": "text/x-python",
   "name": "python",
   "nbconvert_exporter": "python",
   "pygments_lexer": "ipython3",
   "version": "3.9.19"
  }
 },
 "nbformat": 4,
 "nbformat_minor": 5
}
