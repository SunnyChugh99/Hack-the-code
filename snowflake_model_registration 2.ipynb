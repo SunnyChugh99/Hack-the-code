{
 "cells": [
  {
   "cell_type": "code",
   "execution_count": 1,
   "id": "7639dde7",
   "metadata": {},
   "outputs": [],
   "source": [
    "# session.write_pandas(df,table_name=\"HR_CHURN\",auto_create_table=True).show()\n",
    "# !pip install fosforml"
   ]
  },
  {
   "cell_type": "code",
   "execution_count": 135,
   "id": "2876d7a6",
   "metadata": {},
   "outputs": [],
   "source": [
    "from fosforml.model_manager.snowflakesession import get_session"
   ]
  },
  {
   "cell_type": "code",
   "execution_count": 136,
   "id": "727d4c6a-742e-4cbd-9b9c-08f2c45334c6",
   "metadata": {},
   "outputs": [
    {
     "data": {
      "text/plain": [
       "'INSIGHT_SPCS_SCHEMA'"
      ]
     },
     "execution_count": 136,
     "metadata": {},
     "output_type": "execute_result"
    }
   ],
   "source": [
    "session = get_session()\n",
    "session.get_current_schema().replace('\"','')\n"
   ]
  },
  {
   "cell_type": "code",
   "execution_count": 174,
   "id": "68fac18e",
   "metadata": {},
   "outputs": [],
   "source": [
    "from snowflake.snowpark.session import Session,col\n",
    "import snowflake.snowpark.functions\n",
    "from snowflake.ml.modeling.metrics import confusion_matrix, accuracy_score, f1_score, recall_score,precision_score\n",
    "from snowflake.ml.modeling.preprocessing import LabelEncoder, StandardScaler\n",
    "from snowflake.ml.modeling.impute import SimpleImputer\n",
    "from snowflake.ml.modeling.ensemble import GradientBoostingClassifier,RandomForestClassifier\n",
    "from snowflake.ml.modeling.xgboost import XGBClassifier\n",
    "from snowflake.ml.modeling.pipeline import Pipeline\n",
    "import snowflake"
   ]
  },
  {
   "cell_type": "code",
   "execution_count": 175,
   "id": "49d41f5e",
   "metadata": {},
   "outputs": [],
   "source": [
    "def apply_label_encoding(input_data_frame):\n",
    "    for i in input_data_frame.dtypes:\n",
    "        if i[1].find('string') >= 0:\n",
    "            label_encoder = LabelEncoder(input_cols=i[0],output_cols=i[0],drop_input_cols=True)\n",
    "            input_data_frame = label_encoder.fit(input_data_frame).transform(input_data_frame)\n",
    "    return input_data_frame"
   ]
  },
  {
   "cell_type": "code",
   "execution_count": 176,
   "id": "d4fdf4b9",
   "metadata": {},
   "outputs": [],
   "source": [
    "import pandas as pd\n",
    "df = pd.read_csv(\"HR_CHURN.csv\")"
   ]
  },
  {
   "cell_type": "code",
   "execution_count": 177,
   "id": "9fd8171f-4a52-4287-830f-24cd25639c4e",
   "metadata": {},
   "outputs": [],
   "source": [
    "# df['SALARY']"
   ]
  },
  {
   "cell_type": "code",
   "execution_count": 178,
   "id": "c1921799-00fb-4f77-8f1d-5361287e36e0",
   "metadata": {},
   "outputs": [
    {
     "name": "stdout",
     "output_type": "stream",
     "text": [
      "----------------------------------------------------------------------------------------------------------------------------------------------------------------------------------------------\n",
      "|\"SATISFACTION_LEVEL\"  |\"LAST_EVALUATION\"  |\"NUMBER_PROJECT\"  |\"AVERAGE_MONTLY_HOURS\"  |\"TIME_SPEND_COMPANY\"  |\"WORK_ACCIDENT\"  |\"LEFT\"  |\"PROMOTION_LAST_5YEARS\"  |\"DEPARTMENT\"  |\"SALARY\"  |\n",
      "----------------------------------------------------------------------------------------------------------------------------------------------------------------------------------------------\n",
      "|0.38                  |0.53               |2                 |157                     |3                     |0                |1       |0                        |sales         |low       |\n",
      "----------------------------------------------------------------------------------------------------------------------------------------------------------------------------------------------\n",
      "\n"
     ]
    }
   ],
   "source": [
    "# snow_df = session.table(\"HR_CHURN\")\n",
    "snow_df = session.create_dataframe(df)\n",
    "snow_df = snow_df.drop(['Unnamed: 0'])\n",
    "snow_df.limit(1).show()"
   ]
  },
  {
   "cell_type": "code",
   "execution_count": 179,
   "id": "eff73986",
   "metadata": {},
   "outputs": [
    {
     "name": "stdout",
     "output_type": "stream",
     "text": [
      "----------------------------------------------------------------------------------------------------------------------------------------------------------------------------------------------\n",
      "|\"SATISFACTION_LEVEL\"  |\"LAST_EVALUATION\"  |\"NUMBER_PROJECT\"  |\"AVERAGE_MONTLY_HOURS\"  |\"TIME_SPEND_COMPANY\"  |\"WORK_ACCIDENT\"  |\"LEFT\"  |\"PROMOTION_LAST_5YEARS\"  |\"DEPARTMENT\"  |\"SALARY\"  |\n",
      "----------------------------------------------------------------------------------------------------------------------------------------------------------------------------------------------\n",
      "|0.38                  |0.53               |2                 |157                     |3                     |0                |1       |0                        |sales         |low       |\n",
      "----------------------------------------------------------------------------------------------------------------------------------------------------------------------------------------------\n",
      "\n"
     ]
    }
   ],
   "source": [
    "input_data_frame, test_df = snow_df.randomSplit([0.75, 0.25])\n",
    "input_data_frame.limit(1).show()"
   ]
  },
  {
   "cell_type": "code",
   "execution_count": 183,
   "id": "29f6735b-d2a4-41b8-b459-4839474ef615",
   "metadata": {},
   "outputs": [],
   "source": []
  },
  {
   "cell_type": "code",
   "execution_count": 184,
   "id": "2fac7193-3234-45bf-8587-6eca412da12c",
   "metadata": {},
   "outputs": [
    {
     "data": {
      "text/plain": [
       "[]"
      ]
     },
     "execution_count": 184,
     "metadata": {},
     "output_type": "execute_result"
    }
   ],
   "source": [
    "extracted_names"
   ]
  },
  {
   "cell_type": "code",
   "execution_count": null,
   "id": "1b8374b6-94ac-4ef2-a822-64924312e7d3",
   "metadata": {},
   "outputs": [],
   "source": []
  },
  {
   "cell_type": "code",
   "execution_count": 182,
   "id": "95fe810e-1fac-45ef-8b71-4b2942d5cff4",
   "metadata": {},
   "outputs": [
    {
     "data": {
      "text/plain": [
       "['__add__',\n",
       " '__and__',\n",
       " '__bool__',\n",
       " '__class__',\n",
       " '__delattr__',\n",
       " '__dict__',\n",
       " '__dir__',\n",
       " '__doc__',\n",
       " '__eq__',\n",
       " '__format__',\n",
       " '__ge__',\n",
       " '__getattribute__',\n",
       " '__getitem__',\n",
       " '__gt__',\n",
       " '__hash__',\n",
       " '__init__',\n",
       " '__init_subclass__',\n",
       " '__invert__',\n",
       " '__iter__',\n",
       " '__le__',\n",
       " '__lt__',\n",
       " '__mod__',\n",
       " '__module__',\n",
       " '__mul__',\n",
       " '__ne__',\n",
       " '__neg__',\n",
       " '__new__',\n",
       " '__or__',\n",
       " '__pow__',\n",
       " '__radd__',\n",
       " '__rand__',\n",
       " '__reduce__',\n",
       " '__reduce_ex__',\n",
       " '__repr__',\n",
       " '__rmod__',\n",
       " '__rmul__',\n",
       " '__ror__',\n",
       " '__round__',\n",
       " '__rpow__',\n",
       " '__rsub__',\n",
       " '__rtruediv__',\n",
       " '__setattr__',\n",
       " '__sizeof__',\n",
       " '__str__',\n",
       " '__sub__',\n",
       " '__subclasshook__',\n",
       " '__truediv__',\n",
       " '__weakref__',\n",
       " '_cast',\n",
       " '_expr',\n",
       " '_expression',\n",
       " '_named',\n",
       " '_to_expr',\n",
       " 'alias',\n",
       " 'as_',\n",
       " 'asc',\n",
       " 'asc_nulls_first',\n",
       " 'asc_nulls_last',\n",
       " 'astype',\n",
       " 'between',\n",
       " 'bitand',\n",
       " 'bitor',\n",
       " 'bitwiseAnd',\n",
       " 'bitwiseOR',\n",
       " 'bitwiseXOR',\n",
       " 'bitxor',\n",
       " 'cast',\n",
       " 'collate',\n",
       " 'contains',\n",
       " 'desc',\n",
       " 'desc_nulls_first',\n",
       " 'desc_nulls_last',\n",
       " 'endswith',\n",
       " 'eqNullSafe',\n",
       " 'equal_nan',\n",
       " 'equal_null',\n",
       " 'getField',\n",
       " 'getItem',\n",
       " 'getName',\n",
       " 'get_name',\n",
       " 'in_',\n",
       " 'isNotNull',\n",
       " 'isNull',\n",
       " 'is_not_null',\n",
       " 'is_null',\n",
       " 'isin',\n",
       " 'like',\n",
       " 'name',\n",
       " 'over',\n",
       " 'regexp',\n",
       " 'rlike',\n",
       " 'startswith',\n",
       " 'substr',\n",
       " 'substring',\n",
       " 'try_cast',\n",
       " 'within_group']"
      ]
     },
     "execution_count": 182,
     "metadata": {},
     "output_type": "execute_result"
    }
   ],
   "source": [
    "dir(input_data_frame['SALARY'])"
   ]
  },
  {
   "cell_type": "code",
   "execution_count": null,
   "id": "a2a7e7d5-749f-400f-adba-6d6c1c2d1591",
   "metadata": {},
   "outputs": [],
   "source": []
  },
  {
   "cell_type": "code",
   "execution_count": null,
   "id": "b9ce3527-4bf1-45a2-8b43-5bff0ea2bf4a",
   "metadata": {},
   "outputs": [],
   "source": []
  },
  {
   "cell_type": "code",
   "execution_count": null,
   "id": "6ac1f299-5e75-405d-98e5-225d337964c8",
   "metadata": {},
   "outputs": [],
   "source": []
  },
  {
   "cell_type": "code",
   "execution_count": null,
   "id": "74dd14c6-054f-48f4-8272-5d0439607e1b",
   "metadata": {},
   "outputs": [],
   "source": []
  },
  {
   "cell_type": "code",
   "execution_count": null,
   "id": "8e87eae7-32dc-4699-9125-4d6cfa11a9e3",
   "metadata": {},
   "outputs": [],
   "source": []
  },
  {
   "cell_type": "code",
   "execution_count": null,
   "id": "8dd9a462-0193-402b-913b-39a039926a41",
   "metadata": {},
   "outputs": [],
   "source": []
  },
  {
   "cell_type": "code",
   "execution_count": null,
   "id": "4b157bfa-6c89-42d4-9fd5-54625045b740",
   "metadata": {},
   "outputs": [],
   "source": []
  },
  {
   "cell_type": "code",
   "execution_count": 162,
   "id": "1f02d4b3",
   "metadata": {},
   "outputs": [
    {
     "name": "stdout",
     "output_type": "stream",
     "text": [
      "----------------------------------------------------------------------------------------------------------------------------------------------------------------------------------------------\n",
      "|\"SALARY\"  |\"DEPARTMENT\"  |\"SATISFACTION_LEVEL\"  |\"LAST_EVALUATION\"  |\"NUMBER_PROJECT\"  |\"AVERAGE_MONTLY_HOURS\"  |\"TIME_SPEND_COMPANY\"  |\"WORK_ACCIDENT\"  |\"LEFT\"  |\"PROMOTION_LAST_5YEARS\"  |\n",
      "----------------------------------------------------------------------------------------------------------------------------------------------------------------------------------------------\n",
      "|2.0       |7.0           |0.8                   |0.86               |5                 |262                     |6                     |0                |1       |0                        |\n",
      "----------------------------------------------------------------------------------------------------------------------------------------------------------------------------------------------\n",
      "\n"
     ]
    }
   ],
   "source": [
    "label_encoder_column = []     \n",
    "input_data_frame = apply_label_encoding(input_data_frame)\n",
    "feature_cols = input_data_frame.columns\n",
    "target_col = \"SALARY\"\n",
    "feature_cols.remove(target_col)\n",
    "OUTPUT_COLS = [target_col + '_PREDICTION']\n",
    "input_data_frame.limit(1).show()"
   ]
  },
  {
   "cell_type": "code",
   "execution_count": 163,
   "id": "9538f410-d4b4-4a20-a16d-231b141e452f",
   "metadata": {},
   "outputs": [],
   "source": [
    "pipeline = Pipeline(\n",
    "    steps = [\n",
    "        (\"SnowflakePiplineModel\",\n",
    "         XGBClassifier(input_cols=feature_cols, label_cols=target_col))\n",
    "    ]\n",
    ")"
   ]
  },
  {
   "cell_type": "code",
   "execution_count": 164,
   "id": "91331716-21e4-45d1-b64e-682af5fbef78",
   "metadata": {},
   "outputs": [
    {
     "data": {
      "text/plain": [
       "<snowflake.ml.modeling.pipeline.pipeline.Pipeline at 0x7fd77ed07220>"
      ]
     },
     "execution_count": 164,
     "metadata": {},
     "output_type": "execute_result"
    }
   ],
   "source": [
    "pipeline.fit(input_data_frame)"
   ]
  },
  {
   "cell_type": "code",
   "execution_count": 166,
   "id": "16a25566-7f4b-4225-9e13-ea685e2b3c5b",
   "metadata": {},
   "outputs": [],
   "source": [
    "test_en_df = apply_label_encoding(test_df)"
   ]
  },
  {
   "cell_type": "code",
   "execution_count": 167,
   "id": "7f38e8ec-e2f0-49df-b650-33e81b2f35e6",
   "metadata": {},
   "outputs": [
    {
     "name": "stdout",
     "output_type": "stream",
     "text": [
      "----------------------------------------------------------------------------------------------------------------------------------------------------------------------------------------------\n",
      "|\"SALARY\"  |\"DEPARTMENT\"  |\"SATISFACTION_LEVEL\"  |\"LAST_EVALUATION\"  |\"NUMBER_PROJECT\"  |\"AVERAGE_MONTLY_HOURS\"  |\"TIME_SPEND_COMPANY\"  |\"WORK_ACCIDENT\"  |\"LEFT\"  |\"PROMOTION_LAST_5YEARS\"  |\n",
      "----------------------------------------------------------------------------------------------------------------------------------------------------------------------------------------------\n",
      "|1.0       |7.0           |0.38                  |0.53               |2                 |157                     |3                     |0                |1       |0                        |\n",
      "----------------------------------------------------------------------------------------------------------------------------------------------------------------------------------------------\n",
      "\n"
     ]
    }
   ],
   "source": [
    "test_en_df.limit(1).show()"
   ]
  },
  {
   "cell_type": "code",
   "execution_count": 168,
   "id": "087921f7-06c2-48b4-9b57-1384f38db60c",
   "metadata": {},
   "outputs": [],
   "source": [
    "pred_snow_df = pipeline.predict(test_en_df)"
   ]
  },
  {
   "cell_type": "code",
   "execution_count": 169,
   "id": "940ae718-8ee7-4a78-aa37-080a8746beef",
   "metadata": {},
   "outputs": [],
   "source": [
    "prob_snow_df = pipeline.predict_proba(test_en_df)"
   ]
  },
  {
   "cell_type": "code",
   "execution_count": 173,
   "id": "809ab4c7-ce26-4fa3-812e-8083a4cabd91",
   "metadata": {},
   "outputs": [
    {
     "name": "stdout",
     "output_type": "stream",
     "text": [
      "----------------------------------------------------------------------------------------------------------------------------------------------------------------------------------------------\n",
      "|\"SALARY\"  |\"DEPARTMENT\"  |\"SATISFACTION_LEVEL\"  |\"LAST_EVALUATION\"  |\"NUMBER_PROJECT\"  |\"AVERAGE_MONTLY_HOURS\"  |\"TIME_SPEND_COMPANY\"  |\"WORK_ACCIDENT\"  |\"LEFT\"  |\"PROMOTION_LAST_5YEARS\"  |\n",
      "----------------------------------------------------------------------------------------------------------------------------------------------------------------------------------------------\n",
      "|2.0       |7.0           |0.8                   |0.86               |5                 |262                     |6                     |0                |1       |0                        |\n",
      "|1.0       |7.0           |0.72                  |0.87               |5                 |223                     |5                     |0                |1       |0                        |\n",
      "|1.0       |7.0           |0.37                  |0.52               |2                 |159                     |3                     |0                |1       |0                        |\n",
      "|1.0       |7.0           |0.41                  |0.5                |2                 |153                     |3                     |0                |1       |0                        |\n",
      "|1.0       |7.0           |0.92                  |0.85               |5                 |259                     |5                     |0                |1       |0                        |\n",
      "|1.0       |7.0           |0.42                  |0.53               |2                 |142                     |3                     |0                |1       |0                        |\n",
      "|1.0       |7.0           |0.45                  |0.54               |2                 |135                     |3                     |0                |1       |0                        |\n",
      "|1.0       |7.0           |0.11                  |0.81               |6                 |305                     |4                     |0                |1       |0                        |\n",
      "|1.0       |7.0           |0.84                  |0.92               |4                 |234                     |5                     |0                |1       |0                        |\n",
      "|1.0       |7.0           |0.41                  |0.55               |2                 |148                     |3                     |0                |1       |0                        |\n",
      "----------------------------------------------------------------------------------------------------------------------------------------------------------------------------------------------\n",
      "\n"
     ]
    }
   ],
   "source": [
    "input_data_frame.show()"
   ]
  },
  {
   "cell_type": "code",
   "execution_count": null,
   "id": "5a8b6b32-5501-4bc1-a87c-e2ed5d573d56",
   "metadata": {},
   "outputs": [],
   "source": []
  },
  {
   "cell_type": "code",
   "execution_count": null,
   "id": "a7d01a78-19cc-4c19-97a0-fa0f9c236046",
   "metadata": {},
   "outputs": [],
   "source": []
  },
  {
   "cell_type": "code",
   "execution_count": 185,
   "id": "f356750a-c200-4ba3-830d-3f4e1f0b17cb",
   "metadata": {},
   "outputs": [],
   "source": [
    "column_names = prob_snow_df.columns\n",
    "extracted_names = [col_name.replace('PREDICT_PROBA_', '') for col_name in column_names if col_name.startswith('PREDICT_PROBA_')]"
   ]
  },
  {
   "cell_type": "code",
   "execution_count": null,
   "id": "4f41424a-f7f9-45c7-b7bc-6c5bfa4c6cc5",
   "metadata": {},
   "outputs": [],
   "source": []
  },
  {
   "cell_type": "code",
   "execution_count": 170,
   "id": "ccdb91e6-f9c4-4e1d-bf88-cc9ffb14e9a6",
   "metadata": {},
   "outputs": [],
   "source": [
    "test_df = prob_snow_df.to_pandas()"
   ]
  },
  {
   "cell_type": "code",
   "execution_count": 171,
   "id": "b47cfb81-27fe-4fdd-9c79-42b37bc0005c",
   "metadata": {},
   "outputs": [
    {
     "data": {
      "text/html": [
       "<div>\n",
       "<style scoped>\n",
       "    .dataframe tbody tr th:only-of-type {\n",
       "        vertical-align: middle;\n",
       "    }\n",
       "\n",
       "    .dataframe tbody tr th {\n",
       "        vertical-align: top;\n",
       "    }\n",
       "\n",
       "    .dataframe thead th {\n",
       "        text-align: right;\n",
       "    }\n",
       "</style>\n",
       "<table border=\"1\" class=\"dataframe\">\n",
       "  <thead>\n",
       "    <tr style=\"text-align: right;\">\n",
       "      <th></th>\n",
       "      <th>SALARY</th>\n",
       "      <th>DEPARTMENT</th>\n",
       "      <th>SATISFACTION_LEVEL</th>\n",
       "      <th>LAST_EVALUATION</th>\n",
       "      <th>NUMBER_PROJECT</th>\n",
       "      <th>AVERAGE_MONTLY_HOURS</th>\n",
       "      <th>TIME_SPEND_COMPANY</th>\n",
       "      <th>WORK_ACCIDENT</th>\n",
       "      <th>LEFT</th>\n",
       "      <th>PROMOTION_LAST_5YEARS</th>\n",
       "      <th>\"PREDICT_PROBA_0.0\"</th>\n",
       "      <th>\"PREDICT_PROBA_1.0\"</th>\n",
       "      <th>\"PREDICT_PROBA_2.0\"</th>\n",
       "    </tr>\n",
       "  </thead>\n",
       "  <tbody>\n",
       "    <tr>\n",
       "      <th>0</th>\n",
       "      <td>1.0</td>\n",
       "      <td>7.0</td>\n",
       "      <td>0.10</td>\n",
       "      <td>0.77</td>\n",
       "      <td>6</td>\n",
       "      <td>247</td>\n",
       "      <td>4</td>\n",
       "      <td>0</td>\n",
       "      <td>1</td>\n",
       "      <td>0</td>\n",
       "      <td>0.001736</td>\n",
       "      <td>0.768049</td>\n",
       "      <td>0.230215</td>\n",
       "    </tr>\n",
       "    <tr>\n",
       "      <th>1</th>\n",
       "      <td>1.0</td>\n",
       "      <td>8.0</td>\n",
       "      <td>0.43</td>\n",
       "      <td>0.47</td>\n",
       "      <td>2</td>\n",
       "      <td>147</td>\n",
       "      <td>3</td>\n",
       "      <td>0</td>\n",
       "      <td>1</td>\n",
       "      <td>0</td>\n",
       "      <td>0.005127</td>\n",
       "      <td>0.585659</td>\n",
       "      <td>0.409214</td>\n",
       "    </tr>\n",
       "    <tr>\n",
       "      <th>2</th>\n",
       "      <td>1.0</td>\n",
       "      <td>2.0</td>\n",
       "      <td>0.39</td>\n",
       "      <td>0.56</td>\n",
       "      <td>2</td>\n",
       "      <td>142</td>\n",
       "      <td>3</td>\n",
       "      <td>0</td>\n",
       "      <td>1</td>\n",
       "      <td>0</td>\n",
       "      <td>0.007157</td>\n",
       "      <td>0.449269</td>\n",
       "      <td>0.543574</td>\n",
       "    </tr>\n",
       "    <tr>\n",
       "      <th>3</th>\n",
       "      <td>2.0</td>\n",
       "      <td>7.0</td>\n",
       "      <td>0.36</td>\n",
       "      <td>0.52</td>\n",
       "      <td>2</td>\n",
       "      <td>147</td>\n",
       "      <td>3</td>\n",
       "      <td>0</td>\n",
       "      <td>1</td>\n",
       "      <td>0</td>\n",
       "      <td>0.013509</td>\n",
       "      <td>0.411396</td>\n",
       "      <td>0.575095</td>\n",
       "    </tr>\n",
       "    <tr>\n",
       "      <th>4</th>\n",
       "      <td>1.0</td>\n",
       "      <td>8.0</td>\n",
       "      <td>0.70</td>\n",
       "      <td>0.89</td>\n",
       "      <td>3</td>\n",
       "      <td>183</td>\n",
       "      <td>5</td>\n",
       "      <td>0</td>\n",
       "      <td>1</td>\n",
       "      <td>0</td>\n",
       "      <td>0.005062</td>\n",
       "      <td>0.879325</td>\n",
       "      <td>0.115613</td>\n",
       "    </tr>\n",
       "  </tbody>\n",
       "</table>\n",
       "</div>"
      ],
      "text/plain": [
       "   SALARY  DEPARTMENT  SATISFACTION_LEVEL  LAST_EVALUATION  NUMBER_PROJECT  \\\n",
       "0     1.0         7.0                0.10             0.77               6   \n",
       "1     1.0         8.0                0.43             0.47               2   \n",
       "2     1.0         2.0                0.39             0.56               2   \n",
       "3     2.0         7.0                0.36             0.52               2   \n",
       "4     1.0         8.0                0.70             0.89               3   \n",
       "\n",
       "   AVERAGE_MONTLY_HOURS  TIME_SPEND_COMPANY  WORK_ACCIDENT  LEFT  \\\n",
       "0                   247                   4              0     1   \n",
       "1                   147                   3              0     1   \n",
       "2                   142                   3              0     1   \n",
       "3                   147                   3              0     1   \n",
       "4                   183                   5              0     1   \n",
       "\n",
       "   PROMOTION_LAST_5YEARS  \"PREDICT_PROBA_0.0\"  \"PREDICT_PROBA_1.0\"  \\\n",
       "0                      0             0.001736             0.768049   \n",
       "1                      0             0.005127             0.585659   \n",
       "2                      0             0.007157             0.449269   \n",
       "3                      0             0.013509             0.411396   \n",
       "4                      0             0.005062             0.879325   \n",
       "\n",
       "   \"PREDICT_PROBA_2.0\"  \n",
       "0             0.230215  \n",
       "1             0.409214  \n",
       "2             0.543574  \n",
       "3             0.575095  \n",
       "4             0.115613  "
      ]
     },
     "execution_count": 171,
     "metadata": {},
     "output_type": "execute_result"
    }
   ],
   "source": [
    "test_df.head()"
   ]
  },
  {
   "cell_type": "code",
   "execution_count": 18,
   "id": "072a85e6-cfc7-4065-a524-b23d2cc1da23",
   "metadata": {},
   "outputs": [
    {
     "data": {
      "text/plain": [
       "array([1., 2., 0.])"
      ]
     },
     "execution_count": 18,
     "metadata": {},
     "output_type": "execute_result"
    }
   ],
   "source": [
    "test_df['SALARY'].unique()"
   ]
  },
  {
   "cell_type": "code",
   "execution_count": 19,
   "id": "6b4788d4-c89e-4aa4-8e93-d7d513ad5e02",
   "metadata": {
    "scrolled": true
   },
   "outputs": [
    {
     "data": {
      "text/plain": [
       "Index(['SALARY', 'DEPARTMENT', 'SATISFACTION_LEVEL', 'LAST_EVALUATION',\n",
       "       'NUMBER_PROJECT', 'AVERAGE_MONTLY_HOURS', 'TIME_SPEND_COMPANY',\n",
       "       'WORK_ACCIDENT', 'LEFT', 'PROMOTION_LAST_5YEARS', '\"PREDICT_PROBA_0.0\"',\n",
       "       '\"PREDICT_PROBA_1.0\"', '\"PREDICT_PROBA_2.0\"'],\n",
       "      dtype='object')"
      ]
     },
     "execution_count": 19,
     "metadata": {},
     "output_type": "execute_result"
    }
   ],
   "source": [
    "test_df.columns"
   ]
  },
  {
   "cell_type": "code",
   "execution_count": null,
   "id": "eff13580-7b1b-4ea1-9730-b869835c21ef",
   "metadata": {},
   "outputs": [],
   "source": []
  },
  {
   "cell_type": "code",
   "execution_count": 21,
   "id": "dde85dc6-8fe8-45b4-8853-97547b958b91",
   "metadata": {},
   "outputs": [],
   "source": [
    "# dir(pipeline)"
   ]
  },
  {
   "cell_type": "code",
   "execution_count": 53,
   "id": "da616592-84e6-4628-938d-7eada3958451",
   "metadata": {},
   "outputs": [],
   "source": [
    "df = df.drop(['Unnamed: 0','DEPARTMENT'],axis=1).dropna()"
   ]
  },
  {
   "cell_type": "code",
   "execution_count": null,
   "id": "6b4020ed-c73f-49bb-ae1c-7aa08991d260",
   "metadata": {},
   "outputs": [],
   "source": []
  },
  {
   "cell_type": "code",
   "execution_count": 61,
   "id": "43e6057f-69c4-4b23-a2d0-d9ffd0430ff9",
   "metadata": {},
   "outputs": [
    {
     "ename": "ModuleNotFoundError",
     "evalue": "No module named 'snowflake.ensemble'",
     "output_type": "error",
     "traceback": [
      "\u001b[0;31m---------------------------------------------------------------------------\u001b[0m",
      "\u001b[0;31mModuleNotFoundError\u001b[0m                       Traceback (most recent call last)",
      "Cell \u001b[0;32mIn[61], line 1\u001b[0m\n\u001b[0;32m----> 1\u001b[0m \u001b[38;5;28;01mfrom\u001b[39;00m \u001b[38;5;21;01msnowflake\u001b[39;00m\u001b[38;5;21;01m.\u001b[39;00m\u001b[38;5;21;01mensemble\u001b[39;00m\u001b[38;5;21;01m.\u001b[39;00m\u001b[38;5;21;01m_forest\u001b[39;00m \u001b[38;5;28;01mimport\u001b[39;00m RandomForestClassifier\n\u001b[1;32m      2\u001b[0m \u001b[38;5;28;01mfrom\u001b[39;00m \u001b[38;5;21;01msklearn\u001b[39;00m\u001b[38;5;21;01m.\u001b[39;00m\u001b[38;5;21;01mmodel_selection\u001b[39;00m \u001b[38;5;28;01mimport\u001b[39;00m train_test_split\n",
      "\u001b[0;31mModuleNotFoundError\u001b[0m: No module named 'snowflake.ensemble'"
     ]
    }
   ],
   "source": [
    "from snowflake.ensemble._forest import RandomForestClassifier\n",
    "from sklearn.model_selection import train_test_split"
   ]
  },
  {
   "cell_type": "code",
   "execution_count": 55,
   "id": "821e0c76-5d94-4198-9c50-299e635bebe6",
   "metadata": {},
   "outputs": [],
   "source": [
    "model = RandomForestClassifier()\n",
    "x_train,x_test,y_train,y_test = train_test_split(df.drop('SALARY',axis=1),df['SALARY'])"
   ]
  },
  {
   "cell_type": "code",
   "execution_count": 56,
   "id": "c41af501-e217-4ef8-811a-4bcd8aa95a19",
   "metadata": {},
   "outputs": [
    {
     "data": {
      "text/plain": [
       "Index(['SATISFACTION_LEVEL', 'LAST_EVALUATION', 'NUMBER_PROJECT',\n",
       "       'AVERAGE_MONTLY_HOURS', 'TIME_SPEND_COMPANY', 'WORK_ACCIDENT', 'LEFT',\n",
       "       'PROMOTION_LAST_5YEARS'],\n",
       "      dtype='object')"
      ]
     },
     "execution_count": 56,
     "metadata": {},
     "output_type": "execute_result"
    }
   ],
   "source": [
    "x_train.columns"
   ]
  },
  {
   "cell_type": "code",
   "execution_count": 57,
   "id": "5fd13fd4-58f5-4d18-abb9-bd00f93604dc",
   "metadata": {},
   "outputs": [
    {
     "data": {
      "text/html": [
       "<div>\n",
       "<style scoped>\n",
       "    .dataframe tbody tr th:only-of-type {\n",
       "        vertical-align: middle;\n",
       "    }\n",
       "\n",
       "    .dataframe tbody tr th {\n",
       "        vertical-align: top;\n",
       "    }\n",
       "\n",
       "    .dataframe thead th {\n",
       "        text-align: right;\n",
       "    }\n",
       "</style>\n",
       "<table border=\"1\" class=\"dataframe\">\n",
       "  <thead>\n",
       "    <tr style=\"text-align: right;\">\n",
       "      <th></th>\n",
       "      <th>SATISFACTION_LEVEL</th>\n",
       "      <th>LAST_EVALUATION</th>\n",
       "      <th>NUMBER_PROJECT</th>\n",
       "      <th>AVERAGE_MONTLY_HOURS</th>\n",
       "      <th>TIME_SPEND_COMPANY</th>\n",
       "      <th>WORK_ACCIDENT</th>\n",
       "      <th>LEFT</th>\n",
       "      <th>PROMOTION_LAST_5YEARS</th>\n",
       "    </tr>\n",
       "  </thead>\n",
       "  <tbody>\n",
       "    <tr>\n",
       "      <th>2692</th>\n",
       "      <td>0.68</td>\n",
       "      <td>0.51</td>\n",
       "      <td>4</td>\n",
       "      <td>157</td>\n",
       "      <td>3</td>\n",
       "      <td>0</td>\n",
       "      <td>0</td>\n",
       "      <td>0</td>\n",
       "    </tr>\n",
       "    <tr>\n",
       "      <th>13580</th>\n",
       "      <td>0.86</td>\n",
       "      <td>0.84</td>\n",
       "      <td>3</td>\n",
       "      <td>177</td>\n",
       "      <td>3</td>\n",
       "      <td>0</td>\n",
       "      <td>0</td>\n",
       "      <td>0</td>\n",
       "    </tr>\n",
       "    <tr>\n",
       "      <th>7448</th>\n",
       "      <td>0.55</td>\n",
       "      <td>0.98</td>\n",
       "      <td>4</td>\n",
       "      <td>137</td>\n",
       "      <td>2</td>\n",
       "      <td>0</td>\n",
       "      <td>0</td>\n",
       "      <td>0</td>\n",
       "    </tr>\n",
       "    <tr>\n",
       "      <th>3409</th>\n",
       "      <td>0.58</td>\n",
       "      <td>0.86</td>\n",
       "      <td>5</td>\n",
       "      <td>206</td>\n",
       "      <td>3</td>\n",
       "      <td>0</td>\n",
       "      <td>0</td>\n",
       "      <td>0</td>\n",
       "    </tr>\n",
       "    <tr>\n",
       "      <th>570</th>\n",
       "      <td>0.44</td>\n",
       "      <td>0.52</td>\n",
       "      <td>2</td>\n",
       "      <td>137</td>\n",
       "      <td>3</td>\n",
       "      <td>0</td>\n",
       "      <td>1</td>\n",
       "      <td>0</td>\n",
       "    </tr>\n",
       "  </tbody>\n",
       "</table>\n",
       "</div>"
      ],
      "text/plain": [
       "       SATISFACTION_LEVEL  LAST_EVALUATION  NUMBER_PROJECT  \\\n",
       "2692                 0.68             0.51               4   \n",
       "13580                0.86             0.84               3   \n",
       "7448                 0.55             0.98               4   \n",
       "3409                 0.58             0.86               5   \n",
       "570                  0.44             0.52               2   \n",
       "\n",
       "       AVERAGE_MONTLY_HOURS  TIME_SPEND_COMPANY  WORK_ACCIDENT  LEFT  \\\n",
       "2692                    157                   3              0     0   \n",
       "13580                   177                   3              0     0   \n",
       "7448                    137                   2              0     0   \n",
       "3409                    206                   3              0     0   \n",
       "570                     137                   3              0     1   \n",
       "\n",
       "       PROMOTION_LAST_5YEARS  \n",
       "2692                       0  \n",
       "13580                      0  \n",
       "7448                       0  \n",
       "3409                       0  \n",
       "570                        0  "
      ]
     },
     "execution_count": 57,
     "metadata": {},
     "output_type": "execute_result"
    }
   ],
   "source": [
    "x_train.head()"
   ]
  },
  {
   "cell_type": "code",
   "execution_count": 58,
   "id": "28630ffd-e360-46f8-85ba-e39368e197d2",
   "metadata": {},
   "outputs": [
    {
     "data": {
      "text/html": [
       "<style>#sk-container-id-1 {color: black;}#sk-container-id-1 pre{padding: 0;}#sk-container-id-1 div.sk-toggleable {background-color: white;}#sk-container-id-1 label.sk-toggleable__label {cursor: pointer;display: block;width: 100%;margin-bottom: 0;padding: 0.3em;box-sizing: border-box;text-align: center;}#sk-container-id-1 label.sk-toggleable__label-arrow:before {content: \"▸\";float: left;margin-right: 0.25em;color: #696969;}#sk-container-id-1 label.sk-toggleable__label-arrow:hover:before {color: black;}#sk-container-id-1 div.sk-estimator:hover label.sk-toggleable__label-arrow:before {color: black;}#sk-container-id-1 div.sk-toggleable__content {max-height: 0;max-width: 0;overflow: hidden;text-align: left;background-color: #f0f8ff;}#sk-container-id-1 div.sk-toggleable__content pre {margin: 0.2em;color: black;border-radius: 0.25em;background-color: #f0f8ff;}#sk-container-id-1 input.sk-toggleable__control:checked~div.sk-toggleable__content {max-height: 200px;max-width: 100%;overflow: auto;}#sk-container-id-1 input.sk-toggleable__control:checked~label.sk-toggleable__label-arrow:before {content: \"▾\";}#sk-container-id-1 div.sk-estimator input.sk-toggleable__control:checked~label.sk-toggleable__label {background-color: #d4ebff;}#sk-container-id-1 div.sk-label input.sk-toggleable__control:checked~label.sk-toggleable__label {background-color: #d4ebff;}#sk-container-id-1 input.sk-hidden--visually {border: 0;clip: rect(1px 1px 1px 1px);clip: rect(1px, 1px, 1px, 1px);height: 1px;margin: -1px;overflow: hidden;padding: 0;position: absolute;width: 1px;}#sk-container-id-1 div.sk-estimator {font-family: monospace;background-color: #f0f8ff;border: 1px dotted black;border-radius: 0.25em;box-sizing: border-box;margin-bottom: 0.5em;}#sk-container-id-1 div.sk-estimator:hover {background-color: #d4ebff;}#sk-container-id-1 div.sk-parallel-item::after {content: \"\";width: 100%;border-bottom: 1px solid gray;flex-grow: 1;}#sk-container-id-1 div.sk-label:hover label.sk-toggleable__label {background-color: #d4ebff;}#sk-container-id-1 div.sk-serial::before {content: \"\";position: absolute;border-left: 1px solid gray;box-sizing: border-box;top: 0;bottom: 0;left: 50%;z-index: 0;}#sk-container-id-1 div.sk-serial {display: flex;flex-direction: column;align-items: center;background-color: white;padding-right: 0.2em;padding-left: 0.2em;position: relative;}#sk-container-id-1 div.sk-item {position: relative;z-index: 1;}#sk-container-id-1 div.sk-parallel {display: flex;align-items: stretch;justify-content: center;background-color: white;position: relative;}#sk-container-id-1 div.sk-item::before, #sk-container-id-1 div.sk-parallel-item::before {content: \"\";position: absolute;border-left: 1px solid gray;box-sizing: border-box;top: 0;bottom: 0;left: 50%;z-index: -1;}#sk-container-id-1 div.sk-parallel-item {display: flex;flex-direction: column;z-index: 1;position: relative;background-color: white;}#sk-container-id-1 div.sk-parallel-item:first-child::after {align-self: flex-end;width: 50%;}#sk-container-id-1 div.sk-parallel-item:last-child::after {align-self: flex-start;width: 50%;}#sk-container-id-1 div.sk-parallel-item:only-child::after {width: 0;}#sk-container-id-1 div.sk-dashed-wrapped {border: 1px dashed gray;margin: 0 0.4em 0.5em 0.4em;box-sizing: border-box;padding-bottom: 0.4em;background-color: white;}#sk-container-id-1 div.sk-label label {font-family: monospace;font-weight: bold;display: inline-block;line-height: 1.2em;}#sk-container-id-1 div.sk-label-container {text-align: center;}#sk-container-id-1 div.sk-container {/* jupyter's `normalize.less` sets `[hidden] { display: none; }` but bootstrap.min.css set `[hidden] { display: none !important; }` so we also need the `!important` here to be able to override the default hidden behavior on the sphinx rendered scikit-learn.org. See: https://github.com/scikit-learn/scikit-learn/issues/21755 */display: inline-block !important;position: relative;}#sk-container-id-1 div.sk-text-repr-fallback {display: none;}</style><div id=\"sk-container-id-1\" class=\"sk-top-container\"><div class=\"sk-text-repr-fallback\"><pre>RandomForestClassifier()</pre><b>In a Jupyter environment, please rerun this cell to show the HTML representation or trust the notebook. <br />On GitHub, the HTML representation is unable to render, please try loading this page with nbviewer.org.</b></div><div class=\"sk-container\" hidden><div class=\"sk-item\"><div class=\"sk-estimator sk-toggleable\"><input class=\"sk-toggleable__control sk-hidden--visually\" id=\"sk-estimator-id-1\" type=\"checkbox\" checked><label for=\"sk-estimator-id-1\" class=\"sk-toggleable__label sk-toggleable__label-arrow\">RandomForestClassifier</label><div class=\"sk-toggleable__content\"><pre>RandomForestClassifier()</pre></div></div></div></div></div>"
      ],
      "text/plain": [
       "RandomForestClassifier()"
      ]
     },
     "execution_count": 58,
     "metadata": {},
     "output_type": "execute_result"
    }
   ],
   "source": [
    "model.fit(x_train,y_train)"
   ]
  },
  {
   "cell_type": "code",
   "execution_count": 60,
   "id": "23a6d19c-6018-4db7-acee-0bcfce60dbab",
   "metadata": {},
   "outputs": [],
   "source": [
    "# model.predict_proba(x_test)"
   ]
  },
  {
   "cell_type": "code",
   "execution_count": null,
   "id": "659c4286-571f-4fdf-9ea6-0cda4501cb3f",
   "metadata": {},
   "outputs": [],
   "source": []
  },
  {
   "cell_type": "code",
   "execution_count": null,
   "id": "ac086288-bb95-4246-ae82-54b7698d9e00",
   "metadata": {},
   "outputs": [],
   "source": []
  },
  {
   "cell_type": "code",
   "execution_count": null,
   "id": "31579ba2-fdd6-4506-8af1-65b74e569b72",
   "metadata": {},
   "outputs": [],
   "source": []
  },
  {
   "cell_type": "code",
   "execution_count": null,
   "id": "f53c389c-1c44-46af-8cab-468ff72a7c19",
   "metadata": {},
   "outputs": [],
   "source": []
  },
  {
   "cell_type": "code",
   "execution_count": null,
   "id": "e5888645-da6a-4e2c-9b61-1926b6e48797",
   "metadata": {},
   "outputs": [],
   "source": []
  },
  {
   "cell_type": "code",
   "execution_count": 46,
   "id": "1cc192e6",
   "metadata": {
    "scrolled": true
   },
   "outputs": [
    {
     "name": "stderr",
     "output_type": "stream",
     "text": [
      "WARNING:snowflake.snowpark._internal.udf_utils:Got error object of type 'NoneType' has no len() when trying to read default values from function: <class 'snowflake.ml.modeling.metrics.classification._register_confusion_matrix_computer.<locals>.ConfusionMatrixComputer'>. Proceeding without creating optional arguments\n",
      "WARNING:snowflake.snowpark._internal.udf_utils:Got error object of type 'NoneType' has no len() when trying to read default values from function: <class 'snowflake.ml.modeling.metrics.metrics_utils.register_accumulator_udtf.<locals>.Accumulator'>. Proceeding without creating optional arguments\n"
     ]
    },
    {
     "name": "stdout",
     "output_type": "stream",
     "text": [
      "Calculating build time metrics\n",
      "\n",
      "Progress: ██████████████                                                         20.0%\n",
      "Calculating build time metrics\n",
      "\n",
      "Progress: ████████████████████████████                                           40.0%\n"
     ]
    },
    {
     "name": "stderr",
     "output_type": "stream",
     "text": [
      "WARNING:snowflake.snowpark._internal.udf_utils:Got error object of type 'NoneType' has no len() when trying to read default values from function: <class 'snowflake.ml.modeling.metrics.classification._register_multilabel_confusion_matrix_computer.<locals>.MultilabelConfusionMatrixComputer'>. Proceeding without creating optional arguments\n",
      "WARNING:snowflake.snowpark.session:The version of package 'scikit-learn' in the local environment is 1.3.2, which does not fit the criteria for the requirement 'scikit-learn<1.4'. Your UDF might not work when the package version is different between the server and your local environment.\n",
      "WARNING:snowflake.snowpark._internal.udf_utils:Got error object of type 'NoneType' has no len() when trying to read default values from function: <class 'snowflake.ml.modeling.metrics.classification._register_multilabel_confusion_matrix_computer.<locals>.MultilabelConfusionMatrixComputer'>. Proceeding without creating optional arguments\n",
      "WARNING:snowflake.snowpark.session:The version of package 'scikit-learn' in the local environment is 1.3.2, which does not fit the criteria for the requirement 'scikit-learn<1.4'. Your UDF might not work when the package version is different between the server and your local environment.\n",
      "WARNING:snowflake.snowpark._internal.udf_utils:Got error object of type 'NoneType' has no len() when trying to read default values from function: <class 'snowflake.ml.modeling.metrics.classification._register_multilabel_confusion_matrix_computer.<locals>.MultilabelConfusionMatrixComputer'>. Proceeding without creating optional arguments\n",
      "WARNING:snowflake.snowpark.session:The version of package 'scikit-learn' in the local environment is 1.3.2, which does not fit the criteria for the requirement 'scikit-learn<1.4'. Your UDF might not work when the package version is different between the server and your local environment.\n"
     ]
    },
    {
     "name": "stdout",
     "output_type": "stream",
     "text": [
      "Calculating build time metrics\n",
      "\n",
      "Progress: ██████████████████████████████████████████                             60.0%\n",
      "Calculating build time metrics\n",
      "\n",
      "Progress: ████████████████████████████████████████████████████████               80.0%\n",
      "Calculating build time metrics\n",
      "\n",
      "Progress: ██████████████████████████████████████████████████████████████████████ 100.0%\n"
     ]
    },
    {
     "data": {
      "text/plain": [
       "\"Model 'MODEL_8D3FB8A6_A886_4236_9B35_73EB1303C4BF_FDC_TESTMODE02092024' registered successfully.\""
      ]
     },
     "execution_count": 46,
     "metadata": {},
     "output_type": "execute_result"
    }
   ],
   "source": [
    "from fosforml import register_model\n",
    "\n",
    "register_model(\n",
    "  model_obj=pipeline,\n",
    "  session=session,\n",
    "  name=\"Testmode02092024\",\n",
    "  snowflake_df=pred_snow_df,\n",
    "  dataset_name=\"HR_CHURN\",\n",
    "  dataset_source=\"Dataset\",\n",
    "  source=\"Notebook\",\n",
    "  description=\"This is a Snowflake model\",\n",
    "  flavour=\"snowflake\",\n",
    "  model_type=\"classification\",\n",
    "  conda_dependencies=[\"scikit-learn==1.3.2\"]\n",
    ")"
   ]
  },
  {
   "cell_type": "code",
   "execution_count": null,
   "id": "c2efda67-cf02-4fb6-b958-084e8a79c0f0",
   "metadata": {},
   "outputs": [],
   "source": []
  },
  {
   "cell_type": "code",
   "execution_count": null,
   "id": "ea906b84-9728-49df-8348-16c8515aa016",
   "metadata": {},
   "outputs": [],
   "source": []
  },
  {
   "cell_type": "code",
   "execution_count": null,
   "id": "58ede7e3-d30a-4bdf-a71e-d443b73e5bdd",
   "metadata": {},
   "outputs": [],
   "source": []
  },
  {
   "cell_type": "code",
   "execution_count": null,
   "id": "c70abba0-f796-45c6-a3a7-df73fce8f281",
   "metadata": {},
   "outputs": [],
   "source": []
  },
  {
   "cell_type": "code",
   "execution_count": null,
   "id": "e90e0d85-bf9a-411e-8b9e-d6ea725fc312",
   "metadata": {},
   "outputs": [],
   "source": []
  },
  {
   "cell_type": "code",
   "execution_count": 54,
   "id": "5b7351e6",
   "metadata": {},
   "outputs": [],
   "source": [
    "model_obj = model_registry.get_model(model_name=\"TestModel\")"
   ]
  },
  {
   "cell_type": "code",
   "execution_count": 55,
   "id": "00d3bff0",
   "metadata": {},
   "outputs": [],
   "source": [
    "model = model_obj.version(version_name=\"v1\")"
   ]
  },
  {
   "cell_type": "code",
   "execution_count": 58,
   "id": "ed2011c4",
   "metadata": {},
   "outputs": [],
   "source": [
    "inptu_df ,test_df = session.table(\"HR_CHURN\").randomSplit([0.75, 0.25])"
   ]
  },
  {
   "cell_type": "code",
   "execution_count": 59,
   "id": "4fb0ba75",
   "metadata": {},
   "outputs": [],
   "source": [
    "test_df = apply_label_encoding(test_df)"
   ]
  },
  {
   "cell_type": "code",
   "execution_count": 75,
   "id": "0ac7db79",
   "metadata": {},
   "outputs": [],
   "source": [
    "test_df_pandas = test_df.to_pandas()"
   ]
  },
  {
   "cell_type": "code",
   "execution_count": 76,
   "id": "25f9706d",
   "metadata": {},
   "outputs": [
    {
     "name": "stdout",
     "output_type": "stream",
     "text": [
      "-------------------------------------------------------------------------------------------------------------------------------------------------------------------------------------------------------------\n",
      "|\"SALARY\"  |\"DEPARTMENT\"  |\"Unnamed: 0\"  |\"SATISFACTION_LEVEL\"  |\"LAST_EVALUATION\"  |\"NUMBER_PROJECT\"  |\"AVERAGE_MONTLY_HOURS\"  |\"TIME_SPEND_COMPANY\"  |\"WORK_ACCIDENT\"  |\"LEFT\"  |\"PROMOTION_LAST_5YEARS\"  |\n",
      "-------------------------------------------------------------------------------------------------------------------------------------------------------------------------------------------------------------\n",
      "|2.0       |7.0           |1             |0.8                   |0.86               |5                 |262                     |6                     |0                |1       |0                        |\n",
      "|1.0       |7.0           |13            |0.41                  |0.55               |2                 |148                     |3                     |0                |1       |0                        |\n",
      "|1.0       |7.0           |18            |0.45                  |0.51               |2                 |160                     |3                     |1                |1       |1                        |\n",
      "|1.0       |7.0           |19            |0.76                  |0.89               |5                 |262                     |5                     |0                |1       |0                        |\n",
      "|1.0       |7.0           |25            |0.89                  |0.92               |5                 |242                     |5                     |0                |1       |0                        |\n",
      "|1.0       |2.0           |28            |0.41                  |0.46               |2                 |128                     |3                     |0                |1       |0                        |\n",
      "|1.0       |2.0           |30            |0.09                  |0.62               |6                 |294                     |4                     |0                |1       |0                        |\n",
      "|1.0       |3.0           |34            |0.84                  |0.87               |4                 |246                     |6                     |0                |1       |0                        |\n",
      "|1.0       |9.0           |38            |0.11                  |0.89               |6                 |306                     |4                     |0                |1       |0                        |\n",
      "|1.0       |9.0           |42            |0.4                   |0.46               |2                 |127                     |3                     |0                |1       |0                        |\n",
      "-------------------------------------------------------------------------------------------------------------------------------------------------------------------------------------------------------------\n",
      "\n"
     ]
    }
   ],
   "source": [
    "session.write_pandas(test_df_pandas,table_name=\"TEST_DATA_HR\",overwrite=True).show()"
   ]
  },
  {
   "cell_type": "code",
   "execution_count": 80,
   "id": "3bf2d1db",
   "metadata": {},
   "outputs": [],
   "source": [
    "test_df_fetch = session.table(\"TEST_DATA_HR\")"
   ]
  },
  {
   "cell_type": "code",
   "execution_count": 81,
   "id": "0a3c6340",
   "metadata": {},
   "outputs": [
    {
     "name": "stdout",
     "output_type": "stream",
     "text": [
      "-------------------------------------------------------------------------------------------------------------------------------------------------------------------------------------------------------------\n",
      "|\"SALARY\"  |\"DEPARTMENT\"  |\"Unnamed: 0\"  |\"SATISFACTION_LEVEL\"  |\"LAST_EVALUATION\"  |\"NUMBER_PROJECT\"  |\"AVERAGE_MONTLY_HOURS\"  |\"TIME_SPEND_COMPANY\"  |\"WORK_ACCIDENT\"  |\"LEFT\"  |\"PROMOTION_LAST_5YEARS\"  |\n",
      "-------------------------------------------------------------------------------------------------------------------------------------------------------------------------------------------------------------\n",
      "|2.0       |7.0           |1             |0.8                   |0.86               |5                 |262                     |6                     |0                |1       |0                        |\n",
      "|1.0       |7.0           |13            |0.41                  |0.55               |2                 |148                     |3                     |0                |1       |0                        |\n",
      "|1.0       |7.0           |18            |0.45                  |0.51               |2                 |160                     |3                     |1                |1       |1                        |\n",
      "|1.0       |7.0           |19            |0.76                  |0.89               |5                 |262                     |5                     |0                |1       |0                        |\n",
      "|1.0       |7.0           |25            |0.89                  |0.92               |5                 |242                     |5                     |0                |1       |0                        |\n",
      "|1.0       |2.0           |28            |0.41                  |0.46               |2                 |128                     |3                     |0                |1       |0                        |\n",
      "|1.0       |2.0           |30            |0.09                  |0.62               |6                 |294                     |4                     |0                |1       |0                        |\n",
      "|1.0       |3.0           |34            |0.84                  |0.87               |4                 |246                     |6                     |0                |1       |0                        |\n",
      "|1.0       |9.0           |38            |0.11                  |0.89               |6                 |306                     |4                     |0                |1       |0                        |\n",
      "|1.0       |9.0           |42            |0.4                   |0.46               |2                 |127                     |3                     |0                |1       |0                        |\n",
      "-------------------------------------------------------------------------------------------------------------------------------------------------------------------------------------------------------------\n",
      "\n"
     ]
    }
   ],
   "source": [
    "test_df_fetch.show()"
   ]
  },
  {
   "cell_type": "code",
   "execution_count": null,
   "id": "5e14bd13",
   "metadata": {},
   "outputs": [],
   "source": []
  },
  {
   "cell_type": "code",
   "execution_count": null,
   "id": "fa0a6cb7",
   "metadata": {},
   "outputs": [],
   "source": []
  },
  {
   "cell_type": "code",
   "execution_count": null,
   "id": "8243cf00",
   "metadata": {},
   "outputs": [],
   "source": []
  },
  {
   "cell_type": "code",
   "execution_count": 82,
   "id": "2117fc9d",
   "metadata": {},
   "outputs": [
    {
     "data": {
      "text/html": [
       "<div>\n",
       "<style scoped>\n",
       "    .dataframe tbody tr th:only-of-type {\n",
       "        vertical-align: middle;\n",
       "    }\n",
       "\n",
       "    .dataframe tbody tr th {\n",
       "        vertical-align: top;\n",
       "    }\n",
       "\n",
       "    .dataframe thead th {\n",
       "        text-align: right;\n",
       "    }\n",
       "</style>\n",
       "<table border=\"1\" class=\"dataframe\">\n",
       "  <thead>\n",
       "    <tr style=\"text-align: right;\">\n",
       "      <th></th>\n",
       "      <th>SALARY</th>\n",
       "      <th>DEPARTMENT</th>\n",
       "      <th>Unnamed: 0</th>\n",
       "      <th>SATISFACTION_LEVEL</th>\n",
       "      <th>LAST_EVALUATION</th>\n",
       "      <th>NUMBER_PROJECT</th>\n",
       "      <th>AVERAGE_MONTLY_HOURS</th>\n",
       "      <th>TIME_SPEND_COMPANY</th>\n",
       "      <th>WORK_ACCIDENT</th>\n",
       "      <th>LEFT</th>\n",
       "      <th>PROMOTION_LAST_5YEARS</th>\n",
       "      <th>OUTPUT_SALARY</th>\n",
       "    </tr>\n",
       "  </thead>\n",
       "  <tbody>\n",
       "    <tr>\n",
       "      <th>0</th>\n",
       "      <td>1.0</td>\n",
       "      <td>3.0</td>\n",
       "      <td>34</td>\n",
       "      <td>0.84</td>\n",
       "      <td>0.87</td>\n",
       "      <td>4</td>\n",
       "      <td>246</td>\n",
       "      <td>6</td>\n",
       "      <td>0</td>\n",
       "      <td>1</td>\n",
       "      <td>0</td>\n",
       "      <td>1.0</td>\n",
       "    </tr>\n",
       "    <tr>\n",
       "      <th>1</th>\n",
       "      <td>2.0</td>\n",
       "      <td>6.0</td>\n",
       "      <td>66</td>\n",
       "      <td>0.43</td>\n",
       "      <td>0.54</td>\n",
       "      <td>2</td>\n",
       "      <td>153</td>\n",
       "      <td>3</td>\n",
       "      <td>0</td>\n",
       "      <td>1</td>\n",
       "      <td>0</td>\n",
       "      <td>2.0</td>\n",
       "    </tr>\n",
       "    <tr>\n",
       "      <th>2</th>\n",
       "      <td>1.0</td>\n",
       "      <td>7.0</td>\n",
       "      <td>94</td>\n",
       "      <td>0.09</td>\n",
       "      <td>0.83</td>\n",
       "      <td>6</td>\n",
       "      <td>255</td>\n",
       "      <td>4</td>\n",
       "      <td>0</td>\n",
       "      <td>1</td>\n",
       "      <td>0</td>\n",
       "      <td>1.0</td>\n",
       "    </tr>\n",
       "    <tr>\n",
       "      <th>3</th>\n",
       "      <td>1.0</td>\n",
       "      <td>8.0</td>\n",
       "      <td>130</td>\n",
       "      <td>0.10</td>\n",
       "      <td>0.83</td>\n",
       "      <td>6</td>\n",
       "      <td>292</td>\n",
       "      <td>4</td>\n",
       "      <td>0</td>\n",
       "      <td>1</td>\n",
       "      <td>0</td>\n",
       "      <td>1.0</td>\n",
       "    </tr>\n",
       "    <tr>\n",
       "      <th>4</th>\n",
       "      <td>1.0</td>\n",
       "      <td>7.0</td>\n",
       "      <td>163</td>\n",
       "      <td>0.79</td>\n",
       "      <td>0.89</td>\n",
       "      <td>5</td>\n",
       "      <td>239</td>\n",
       "      <td>5</td>\n",
       "      <td>0</td>\n",
       "      <td>1</td>\n",
       "      <td>0</td>\n",
       "      <td>1.0</td>\n",
       "    </tr>\n",
       "    <tr>\n",
       "      <th>...</th>\n",
       "      <td>...</td>\n",
       "      <td>...</td>\n",
       "      <td>...</td>\n",
       "      <td>...</td>\n",
       "      <td>...</td>\n",
       "      <td>...</td>\n",
       "      <td>...</td>\n",
       "      <td>...</td>\n",
       "      <td>...</td>\n",
       "      <td>...</td>\n",
       "      <td>...</td>\n",
       "      <td>...</td>\n",
       "    </tr>\n",
       "    <tr>\n",
       "      <th>7447</th>\n",
       "      <td>2.0</td>\n",
       "      <td>5.0</td>\n",
       "      <td>14821</td>\n",
       "      <td>0.09</td>\n",
       "      <td>0.95</td>\n",
       "      <td>7</td>\n",
       "      <td>256</td>\n",
       "      <td>4</td>\n",
       "      <td>0</td>\n",
       "      <td>1</td>\n",
       "      <td>0</td>\n",
       "      <td>2.0</td>\n",
       "    </tr>\n",
       "    <tr>\n",
       "      <th>7448</th>\n",
       "      <td>2.0</td>\n",
       "      <td>9.0</td>\n",
       "      <td>14859</td>\n",
       "      <td>0.45</td>\n",
       "      <td>0.54</td>\n",
       "      <td>2</td>\n",
       "      <td>129</td>\n",
       "      <td>3</td>\n",
       "      <td>0</td>\n",
       "      <td>1</td>\n",
       "      <td>0</td>\n",
       "      <td>2.0</td>\n",
       "    </tr>\n",
       "    <tr>\n",
       "      <th>7449</th>\n",
       "      <td>1.0</td>\n",
       "      <td>7.0</td>\n",
       "      <td>14888</td>\n",
       "      <td>0.39</td>\n",
       "      <td>0.49</td>\n",
       "      <td>2</td>\n",
       "      <td>142</td>\n",
       "      <td>3</td>\n",
       "      <td>0</td>\n",
       "      <td>1</td>\n",
       "      <td>0</td>\n",
       "      <td>1.0</td>\n",
       "    </tr>\n",
       "    <tr>\n",
       "      <th>7450</th>\n",
       "      <td>2.0</td>\n",
       "      <td>7.0</td>\n",
       "      <td>14945</td>\n",
       "      <td>0.14</td>\n",
       "      <td>0.75</td>\n",
       "      <td>4</td>\n",
       "      <td>277</td>\n",
       "      <td>5</td>\n",
       "      <td>1</td>\n",
       "      <td>1</td>\n",
       "      <td>0</td>\n",
       "      <td>1.0</td>\n",
       "    </tr>\n",
       "    <tr>\n",
       "      <th>7451</th>\n",
       "      <td>2.0</td>\n",
       "      <td>2.0</td>\n",
       "      <td>14974</td>\n",
       "      <td>0.36</td>\n",
       "      <td>0.54</td>\n",
       "      <td>2</td>\n",
       "      <td>153</td>\n",
       "      <td>3</td>\n",
       "      <td>0</td>\n",
       "      <td>1</td>\n",
       "      <td>0</td>\n",
       "      <td>2.0</td>\n",
       "    </tr>\n",
       "  </tbody>\n",
       "</table>\n",
       "<p>7452 rows × 12 columns</p>\n",
       "</div>"
      ],
      "text/plain": [
       "      SALARY  DEPARTMENT  Unnamed: 0  SATISFACTION_LEVEL  LAST_EVALUATION  \\\n",
       "0        1.0         3.0          34                0.84             0.87   \n",
       "1        2.0         6.0          66                0.43             0.54   \n",
       "2        1.0         7.0          94                0.09             0.83   \n",
       "3        1.0         8.0         130                0.10             0.83   \n",
       "4        1.0         7.0         163                0.79             0.89   \n",
       "...      ...         ...         ...                 ...              ...   \n",
       "7447     2.0         5.0       14821                0.09             0.95   \n",
       "7448     2.0         9.0       14859                0.45             0.54   \n",
       "7449     1.0         7.0       14888                0.39             0.49   \n",
       "7450     2.0         7.0       14945                0.14             0.75   \n",
       "7451     2.0         2.0       14974                0.36             0.54   \n",
       "\n",
       "      NUMBER_PROJECT  AVERAGE_MONTLY_HOURS  TIME_SPEND_COMPANY  WORK_ACCIDENT  \\\n",
       "0                  4                   246                   6              0   \n",
       "1                  2                   153                   3              0   \n",
       "2                  6                   255                   4              0   \n",
       "3                  6                   292                   4              0   \n",
       "4                  5                   239                   5              0   \n",
       "...              ...                   ...                 ...            ...   \n",
       "7447               7                   256                   4              0   \n",
       "7448               2                   129                   3              0   \n",
       "7449               2                   142                   3              0   \n",
       "7450               4                   277                   5              1   \n",
       "7451               2                   153                   3              0   \n",
       "\n",
       "      LEFT  PROMOTION_LAST_5YEARS  OUTPUT_SALARY  \n",
       "0        1                      0            1.0  \n",
       "1        1                      0            2.0  \n",
       "2        1                      0            1.0  \n",
       "3        1                      0            1.0  \n",
       "4        1                      0            1.0  \n",
       "...    ...                    ...            ...  \n",
       "7447     1                      0            2.0  \n",
       "7448     1                      0            2.0  \n",
       "7449     1                      0            1.0  \n",
       "7450     1                      0            1.0  \n",
       "7451     1                      0            2.0  \n",
       "\n",
       "[7452 rows x 12 columns]"
      ]
     },
     "execution_count": 82,
     "metadata": {},
     "output_type": "execute_result"
    }
   ],
   "source": [
    "model.run(test_df_fetch, function_name=\"predict\").to_pandas()"
   ]
  },
  {
   "cell_type": "code",
   "execution_count": null,
   "id": "9f604b25",
   "metadata": {},
   "outputs": [],
   "source": []
  },
  {
   "cell_type": "code",
   "execution_count": null,
   "id": "90556e8d",
   "metadata": {},
   "outputs": [],
   "source": []
  },
  {
   "cell_type": "code",
   "execution_count": null,
   "id": "5abae063",
   "metadata": {},
   "outputs": [],
   "source": []
  },
  {
   "cell_type": "code",
   "execution_count": null,
   "id": "0493a161",
   "metadata": {},
   "outputs": [],
   "source": []
  },
  {
   "cell_type": "code",
   "execution_count": null,
   "id": "cf512a51",
   "metadata": {},
   "outputs": [],
   "source": [
    "register_model(\n",
    "  model_obj=pipeline,\n",
    "  session=session,\n",
    "  snowflake_df=pred_snow_df,\n",
    "  name=\"HR_Churn_model\",\n",
    "  description=\"This is a test model\",\n",
    "  flavour=\"snowflake\",\n",
    "  dataset_name=\"Hr_churn\",\n",
    "  datasource_name=\"Hr_churn\",\n",
    "  model_type=\"classification\",\n",
    "  conda_dependencies=[\"scikit-learn==1.3.2\"],\n",
    "  source=\"Notebook\"\n",
    ")"
   ]
  },
  {
   "cell_type": "code",
   "execution_count": null,
   "id": "d151bb10",
   "metadata": {},
   "outputs": [],
   "source": []
  },
  {
   "cell_type": "code",
   "execution_count": null,
   "id": "4255d32d",
   "metadata": {},
   "outputs": [],
   "source": []
  }
 ],
 "metadata": {
  "kernelspec": {
   "display_name": "Python 3 (ipykernel)",
   "language": "python",
   "name": "python3"
  },
  "language_info": {
   "codemirror_mode": {
    "name": "ipython",
    "version": 3
   },
   "file_extension": ".py",
   "mimetype": "text/x-python",
   "name": "python",
   "nbconvert_exporter": "python",
   "pygments_lexer": "ipython3",
   "version": "3.9.19"
  }
 },
 "nbformat": 4,
 "nbformat_minor": 5
}
