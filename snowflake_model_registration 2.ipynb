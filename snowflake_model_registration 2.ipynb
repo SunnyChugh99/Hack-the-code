{
 "cells": [
  {
   "cell_type": "code",
   "execution_count": 32,
   "id": "b1b8c825-b933-4f5c-aeba-81dd1de8799b",
   "metadata": {},
   "outputs": [],
   "source": []
  },
  {
   "cell_type": "code",
   "execution_count": 30,
   "id": "b5c42037-7b78-4011-9966-f491ee83079c",
   "metadata": {},
   "outputs": [],
   "source": []
  },
  {
   "cell_type": "code",
   "execution_count": 33,
   "id": "f227a91e-f8d6-4a53-b6c5-826f8a7859fd",
   "metadata": {},
   "outputs": [],
   "source": []
  },
  {
   "cell_type": "code",
   "execution_count": 34,
   "id": "8e7053d3-af12-450e-ac46-ad846f62494c",
   "metadata": {},
   "outputs": [
    {
     "data": {
      "text/plain": [
       "{'user': 'SAURABHKULKARNI',\n",
       " 'password': 'Epsilon0*',\n",
       " 'account': 'fya62509.us-east-1',\n",
       " 'role': 'SAURABHKULKARNI',\n",
       " 'warehouse': 'FOSFOR_INSIGHT_WH',\n",
       " 'database': 'INSIGHT_DESIGNER_SPCS',\n",
       " 'schema': 'INSIGHT_SPCS_SCHEMA'}"
      ]
     },
     "execution_count": 34,
     "metadata": {},
     "output_type": "execute_result"
    }
   ],
   "source": [
    "connection_info['authenticator'] = 'oauth'\n",
    "connection_info['authenticator'] = 'oauth'"
   ]
  },
  {
   "cell_type": "code",
   "execution_count": 28,
   "id": "de86f0a7-42d6-4095-86c0-262c21e143af",
   "metadata": {},
   "outputs": [],
   "source": [
    "creds = {\n",
    "                    'host': os.getenv('SNOWFLAKE_HOST'),\n",
    "                    'port': os.getenv('SNOWFLAKE_PORT'),\n",
    "                    'protocol': \"https\",\n",
    "                    'account': os.getenv('SNOWFLAKE_ACCOUNT'),\n",
    "                    'authenticator': \"oauth\",\n",
    "                    # 'token': self._get_login_token(),\n",
    "                    'warehouse': os.getenv('SNOWFLAKE_WAREHOUSE'),\n",
    "                    'database': os.getenv('SNOWFLAKE_DATABASE'),\n",
    "                    'schema': os.getenv('SNOWFLAKE_SCHEMA'),\n",
    "                    'client_session_keep_alive': True\n",
    "                }"
   ]
  },
  {
   "cell_type": "code",
   "execution_count": 29,
   "id": "000502e3-cfc9-4e03-b74b-e67e8c6fc9cb",
   "metadata": {},
   "outputs": [
    {
     "data": {
      "text/plain": [
       "{'host': 'snowflake.us-east-1.snowflakecomputing.com',\n",
       " 'port': '443',\n",
       " 'protocol': 'https',\n",
       " 'account': 'FYA62509',\n",
       " 'authenticator': 'oauth',\n",
       " 'warehouse': None,\n",
       " 'database': 'INSIGHT_DESIGNER_SPCS',\n",
       " 'schema': 'INSIGHT_SPCS_SCHEMA',\n",
       " 'client_session_keep_alive': True}"
      ]
     },
     "execution_count": 29,
     "metadata": {},
     "output_type": "execute_result"
    }
   ],
   "source": [
    "creds"
   ]
  },
  {
   "cell_type": "code",
   "execution_count": 3,
   "id": "7639dde7",
   "metadata": {},
   "outputs": [],
   "source": [
    "# session.write_pandas(df,table_name=\"HR_CHURN\",auto_create_table=True).show()"
   ]
  },
  {
   "cell_type": "code",
   "execution_count": 7,
   "id": "2876d7a6",
   "metadata": {},
   "outputs": [],
   "source": [
    "from fosforml.model_manager.snowflakesession import get_session"
   ]
  },
  {
   "cell_type": "code",
   "execution_count": 8,
   "id": "727d4c6a-742e-4cbd-9b9c-08f2c45334c6",
   "metadata": {},
   "outputs": [],
   "source": [
    "session =  get_session()"
   ]
  },
  {
   "cell_type": "code",
   "execution_count": null,
   "id": "7c1efc3f-d1a6-4f60-b832-d8207b3d9e28",
   "metadata": {},
   "outputs": [],
   "source": []
  },
  {
   "cell_type": "code",
   "execution_count": 9,
   "id": "68fac18e",
   "metadata": {},
   "outputs": [],
   "source": [
    "from snowflake.snowpark.session import Session,col\n",
    "import snowflake.snowpark.functions\n",
    "from snowflake.ml.modeling.metrics import confusion_matrix, accuracy_score, f1_score, recall_score,precision_score\n",
    "from snowflake.ml.modeling.preprocessing import LabelEncoder, StandardScaler\n",
    "from snowflake.ml.modeling.impute import SimpleImputer\n",
    "from snowflake.ml.modeling.ensemble import GradientBoostingClassifier\n",
    "from snowflake.ml.modeling.pipeline import Pipeline\n",
    "import snowflake"
   ]
  },
  {
   "cell_type": "code",
   "execution_count": 10,
   "id": "49d41f5e",
   "metadata": {},
   "outputs": [],
   "source": [
    "def apply_label_encoding(input_data_frame):\n",
    "    for i in input_data_frame.dtypes:\n",
    "        if i[1].find('string') >= 0:\n",
    "            label_encoder = LabelEncoder(input_cols=i[0],output_cols=i[0],drop_input_cols=True)\n",
    "            input_data_frame = label_encoder.fit(input_data_frame).transform(input_data_frame)\n",
    "    return input_data_frame"
   ]
  },
  {
   "cell_type": "code",
   "execution_count": 20,
   "id": "d4fdf4b9",
   "metadata": {},
   "outputs": [
    {
     "ename": "ProgrammingError",
     "evalue": "000606 (57P03): No active warehouse selected in the current session.  Select an active warehouse with the 'use warehouse' command.\n",
     "output_type": "error",
     "traceback": [
      "\u001b[0;31m---------------------------------------------------------------------------\u001b[0m",
      "\u001b[0;31mProgrammingError\u001b[0m                          Traceback (most recent call last)",
      "Cell \u001b[0;32mIn[20], line 4\u001b[0m\n\u001b[1;32m      2\u001b[0m df \u001b[38;5;241m=\u001b[39m pd\u001b[38;5;241m.\u001b[39mread_csv(\u001b[38;5;124m\"\u001b[39m\u001b[38;5;124mHR_CHURN.csv\u001b[39m\u001b[38;5;124m\"\u001b[39m)\n\u001b[1;32m      3\u001b[0m \u001b[38;5;66;03m# snow_df = session.table(\"HR_CHURN\")\u001b[39;00m\n\u001b[0;32m----> 4\u001b[0m snow_df \u001b[38;5;241m=\u001b[39m \u001b[43msession\u001b[49m\u001b[38;5;241;43m.\u001b[39;49m\u001b[43mcreate_dataframe\u001b[49m\u001b[43m(\u001b[49m\u001b[43mdf\u001b[49m\u001b[43m)\u001b[49m\n\u001b[1;32m      5\u001b[0m input_data_frame, test_df \u001b[38;5;241m=\u001b[39m snow_df\u001b[38;5;241m.\u001b[39mrandomSplit([\u001b[38;5;241m0.75\u001b[39m, \u001b[38;5;241m0.25\u001b[39m])\n",
      "File \u001b[0;32m/opt/conda/lib/python3.9/site-packages/snowflake/snowpark/session.py:2545\u001b[0m, in \u001b[0;36mSession.create_dataframe\u001b[0;34m(self, data, schema)\u001b[0m\n\u001b[1;32m   2540\u001b[0m sf_database \u001b[38;5;241m=\u001b[39m \u001b[38;5;28mself\u001b[39m\u001b[38;5;241m.\u001b[39m_conn\u001b[38;5;241m.\u001b[39m_get_current_parameter(\n\u001b[1;32m   2541\u001b[0m     \u001b[38;5;124m\"\u001b[39m\u001b[38;5;124mdatabase\u001b[39m\u001b[38;5;124m\"\u001b[39m, quoted\u001b[38;5;241m=\u001b[39m\u001b[38;5;28;01mFalse\u001b[39;00m\n\u001b[1;32m   2542\u001b[0m )\n\u001b[1;32m   2543\u001b[0m sf_schema \u001b[38;5;241m=\u001b[39m \u001b[38;5;28mself\u001b[39m\u001b[38;5;241m.\u001b[39m_conn\u001b[38;5;241m.\u001b[39m_get_current_parameter(\u001b[38;5;124m\"\u001b[39m\u001b[38;5;124mschema\u001b[39m\u001b[38;5;124m\"\u001b[39m, quoted\u001b[38;5;241m=\u001b[39m\u001b[38;5;28;01mFalse\u001b[39;00m)\n\u001b[0;32m-> 2545\u001b[0m t \u001b[38;5;241m=\u001b[39m \u001b[38;5;28;43mself\u001b[39;49m\u001b[38;5;241;43m.\u001b[39;49m\u001b[43mwrite_pandas\u001b[49m\u001b[43m(\u001b[49m\n\u001b[1;32m   2546\u001b[0m \u001b[43m    \u001b[49m\u001b[43mdata\u001b[49m\u001b[43m,\u001b[49m\n\u001b[1;32m   2547\u001b[0m \u001b[43m    \u001b[49m\u001b[43mtemp_table_name\u001b[49m\u001b[43m,\u001b[49m\n\u001b[1;32m   2548\u001b[0m \u001b[43m    \u001b[49m\u001b[43mdatabase\u001b[49m\u001b[38;5;241;43m=\u001b[39;49m\u001b[43msf_database\u001b[49m\u001b[43m,\u001b[49m\n\u001b[1;32m   2549\u001b[0m \u001b[43m    \u001b[49m\u001b[43mschema\u001b[49m\u001b[38;5;241;43m=\u001b[39;49m\u001b[43msf_schema\u001b[49m\u001b[43m,\u001b[49m\n\u001b[1;32m   2550\u001b[0m \u001b[43m    \u001b[49m\u001b[43mquote_identifiers\u001b[49m\u001b[38;5;241;43m=\u001b[39;49m\u001b[38;5;28;43;01mTrue\u001b[39;49;00m\u001b[43m,\u001b[49m\n\u001b[1;32m   2551\u001b[0m \u001b[43m    \u001b[49m\u001b[43mauto_create_table\u001b[49m\u001b[38;5;241;43m=\u001b[39;49m\u001b[38;5;28;43;01mTrue\u001b[39;49;00m\u001b[43m,\u001b[49m\n\u001b[1;32m   2552\u001b[0m \u001b[43m    \u001b[49m\u001b[43mtable_type\u001b[49m\u001b[38;5;241;43m=\u001b[39;49m\u001b[38;5;124;43m\"\u001b[39;49m\u001b[38;5;124;43mtemporary\u001b[39;49m\u001b[38;5;124;43m\"\u001b[39;49m\u001b[43m,\u001b[49m\n\u001b[1;32m   2553\u001b[0m \u001b[43m    \u001b[49m\u001b[43muse_logical_type\u001b[49m\u001b[38;5;241;43m=\u001b[39;49m\u001b[38;5;28;43mself\u001b[39;49m\u001b[38;5;241;43m.\u001b[39;49m\u001b[43m_use_logical_type_for_create_df\u001b[49m\u001b[43m,\u001b[49m\n\u001b[1;32m   2554\u001b[0m \u001b[43m\u001b[49m\u001b[43m)\u001b[49m\n\u001b[1;32m   2555\u001b[0m set_api_call_source(t, \u001b[38;5;124m\"\u001b[39m\u001b[38;5;124mSession.create_dataframe[pandas]\u001b[39m\u001b[38;5;124m\"\u001b[39m)\n\u001b[1;32m   2556\u001b[0m \u001b[38;5;28;01mreturn\u001b[39;00m t\n",
      "File \u001b[0;32m/opt/conda/lib/python3.9/site-packages/snowflake/snowpark/session.py:2447\u001b[0m, in \u001b[0;36mSession.write_pandas\u001b[0;34m(self, df, table_name, database, schema, chunk_size, compression, on_error, parallel, quote_identifiers, auto_create_table, create_temp_table, overwrite, table_type, **kwargs)\u001b[0m\n\u001b[1;32m   2443\u001b[0m         \u001b[38;5;28;01mraise\u001b[39;00m SnowparkClientExceptionMessages\u001b[38;5;241m.\u001b[39mDF_PANDAS_TABLE_DOES_NOT_EXIST_EXCEPTION(\n\u001b[1;32m   2444\u001b[0m             location\n\u001b[1;32m   2445\u001b[0m         ) \u001b[38;5;28;01mfrom\u001b[39;00m \u001b[38;5;21;01mpe\u001b[39;00m\n\u001b[1;32m   2446\u001b[0m     \u001b[38;5;28;01melse\u001b[39;00m:\n\u001b[0;32m-> 2447\u001b[0m         \u001b[38;5;28;01mraise\u001b[39;00m pe\n\u001b[1;32m   2449\u001b[0m \u001b[38;5;28;01mif\u001b[39;00m success:\n\u001b[1;32m   2450\u001b[0m     t \u001b[38;5;241m=\u001b[39m \u001b[38;5;28mself\u001b[39m\u001b[38;5;241m.\u001b[39mtable(location)\n",
      "File \u001b[0;32m/opt/conda/lib/python3.9/site-packages/snowflake/snowpark/session.py:2425\u001b[0m, in \u001b[0;36mSession.write_pandas\u001b[0;34m(self, df, table_name, database, schema, chunk_size, compression, on_error, parallel, quote_identifiers, auto_create_table, create_temp_table, overwrite, table_type, **kwargs)\u001b[0m\n\u001b[1;32m   2423\u001b[0m         success, ci_output \u001b[38;5;241m=\u001b[39m \u001b[38;5;28;01mTrue\u001b[39;00m, \u001b[38;5;124m\"\u001b[39m\u001b[38;5;124m\"\u001b[39m\n\u001b[1;32m   2424\u001b[0m     \u001b[38;5;28;01melse\u001b[39;00m:\n\u001b[0;32m-> 2425\u001b[0m         success, _, _, ci_output \u001b[38;5;241m=\u001b[39m \u001b[43mwrite_pandas\u001b[49m\u001b[43m(\u001b[49m\n\u001b[1;32m   2426\u001b[0m \u001b[43m            \u001b[49m\u001b[38;5;28;43mself\u001b[39;49m\u001b[38;5;241;43m.\u001b[39;49m\u001b[43m_conn\u001b[49m\u001b[38;5;241;43m.\u001b[39;49m\u001b[43m_conn\u001b[49m\u001b[43m,\u001b[49m\n\u001b[1;32m   2427\u001b[0m \u001b[43m            \u001b[49m\u001b[43mdf\u001b[49m\u001b[43m,\u001b[49m\n\u001b[1;32m   2428\u001b[0m \u001b[43m            \u001b[49m\u001b[43mtable_name\u001b[49m\u001b[43m,\u001b[49m\n\u001b[1;32m   2429\u001b[0m \u001b[43m            \u001b[49m\u001b[43mdatabase\u001b[49m\u001b[38;5;241;43m=\u001b[39;49m\u001b[43mdatabase\u001b[49m\u001b[43m,\u001b[49m\n\u001b[1;32m   2430\u001b[0m \u001b[43m            \u001b[49m\u001b[43mschema\u001b[49m\u001b[38;5;241;43m=\u001b[39;49m\u001b[43mschema\u001b[49m\u001b[43m,\u001b[49m\n\u001b[1;32m   2431\u001b[0m \u001b[43m            \u001b[49m\u001b[43mchunk_size\u001b[49m\u001b[38;5;241;43m=\u001b[39;49m\u001b[43mchunk_size\u001b[49m\u001b[43m,\u001b[49m\n\u001b[1;32m   2432\u001b[0m \u001b[43m            \u001b[49m\u001b[43mcompression\u001b[49m\u001b[38;5;241;43m=\u001b[39;49m\u001b[43mcompression\u001b[49m\u001b[43m,\u001b[49m\n\u001b[1;32m   2433\u001b[0m \u001b[43m            \u001b[49m\u001b[43mon_error\u001b[49m\u001b[38;5;241;43m=\u001b[39;49m\u001b[43mon_error\u001b[49m\u001b[43m,\u001b[49m\n\u001b[1;32m   2434\u001b[0m \u001b[43m            \u001b[49m\u001b[43mparallel\u001b[49m\u001b[38;5;241;43m=\u001b[39;49m\u001b[43mparallel\u001b[49m\u001b[43m,\u001b[49m\n\u001b[1;32m   2435\u001b[0m \u001b[43m            \u001b[49m\u001b[43mquote_identifiers\u001b[49m\u001b[38;5;241;43m=\u001b[39;49m\u001b[43mquote_identifiers\u001b[49m\u001b[43m,\u001b[49m\n\u001b[1;32m   2436\u001b[0m \u001b[43m            \u001b[49m\u001b[43mauto_create_table\u001b[49m\u001b[38;5;241;43m=\u001b[39;49m\u001b[43mauto_create_table\u001b[49m\u001b[43m,\u001b[49m\n\u001b[1;32m   2437\u001b[0m \u001b[43m            \u001b[49m\u001b[43moverwrite\u001b[49m\u001b[38;5;241;43m=\u001b[39;49m\u001b[43moverwrite\u001b[49m\u001b[43m,\u001b[49m\n\u001b[1;32m   2438\u001b[0m \u001b[43m            \u001b[49m\u001b[43mtable_type\u001b[49m\u001b[38;5;241;43m=\u001b[39;49m\u001b[43mtable_type\u001b[49m\u001b[43m,\u001b[49m\n\u001b[1;32m   2439\u001b[0m \u001b[43m            \u001b[49m\u001b[38;5;241;43m*\u001b[39;49m\u001b[38;5;241;43m*\u001b[39;49m\u001b[43mkwargs\u001b[49m\u001b[43m,\u001b[49m\n\u001b[1;32m   2440\u001b[0m \u001b[43m        \u001b[49m\u001b[43m)\u001b[49m\n\u001b[1;32m   2441\u001b[0m \u001b[38;5;28;01mexcept\u001b[39;00m ProgrammingError \u001b[38;5;28;01mas\u001b[39;00m pe:\n\u001b[1;32m   2442\u001b[0m     \u001b[38;5;28;01mif\u001b[39;00m pe\u001b[38;5;241m.\u001b[39mmsg\u001b[38;5;241m.\u001b[39mendswith(\u001b[38;5;124m\"\u001b[39m\u001b[38;5;124mdoes not exist\u001b[39m\u001b[38;5;124m\"\u001b[39m):\n",
      "File \u001b[0;32m/opt/conda/lib/python3.9/site-packages/snowflake/connector/pandas_tools.py:377\u001b[0m, in \u001b[0;36mwrite_pandas\u001b[0;34m(conn, df, table_name, database, schema, chunk_size, compression, on_error, parallel, quote_identifiers, auto_create_table, create_temp_table, overwrite, table_type, use_logical_type, **kwargs)\u001b[0m\n\u001b[1;32m    374\u001b[0m infer_schema_sql \u001b[38;5;241m=\u001b[39m \u001b[38;5;124mf\u001b[39m\u001b[38;5;124m\"\u001b[39m\u001b[38;5;124mSELECT COLUMN_NAME, TYPE FROM table(infer_schema(location=>\u001b[39m\u001b[38;5;124m'\u001b[39m\u001b[38;5;124m@\u001b[39m\u001b[38;5;132;01m{\u001b[39;00mstage_location\u001b[38;5;132;01m}\u001b[39;00m\u001b[38;5;124m'\u001b[39m\u001b[38;5;124m, file_format=>\u001b[39m\u001b[38;5;124m'\u001b[39m\u001b[38;5;132;01m{\u001b[39;00mfile_format_location\u001b[38;5;132;01m}\u001b[39;00m\u001b[38;5;124m'\u001b[39m\u001b[38;5;124m))\u001b[39m\u001b[38;5;124m\"\u001b[39m\n\u001b[1;32m    375\u001b[0m logger\u001b[38;5;241m.\u001b[39mdebug(\u001b[38;5;124mf\u001b[39m\u001b[38;5;124m\"\u001b[39m\u001b[38;5;124minferring schema with \u001b[39m\u001b[38;5;124m'\u001b[39m\u001b[38;5;132;01m{\u001b[39;00minfer_schema_sql\u001b[38;5;132;01m}\u001b[39;00m\u001b[38;5;124m'\u001b[39m\u001b[38;5;124m\"\u001b[39m)\n\u001b[1;32m    376\u001b[0m column_type_mapping \u001b[38;5;241m=\u001b[39m \u001b[38;5;28mdict\u001b[39m(\n\u001b[0;32m--> 377\u001b[0m     \u001b[43mcursor\u001b[49m\u001b[38;5;241;43m.\u001b[39;49m\u001b[43mexecute\u001b[49m\u001b[43m(\u001b[49m\u001b[43minfer_schema_sql\u001b[49m\u001b[43m,\u001b[49m\u001b[43m \u001b[49m\u001b[43m_is_internal\u001b[49m\u001b[38;5;241;43m=\u001b[39;49m\u001b[38;5;28;43;01mTrue\u001b[39;49;00m\u001b[43m)\u001b[49m\u001b[38;5;241m.\u001b[39mfetchall()\n\u001b[1;32m    378\u001b[0m )\n\u001b[1;32m    379\u001b[0m \u001b[38;5;66;03m# Infer schema can return the columns out of order depending on the chunking we do when uploading\u001b[39;00m\n\u001b[1;32m    380\u001b[0m \u001b[38;5;66;03m# so we have to iterate through the dataframe columns to make sure we create the table with its\u001b[39;00m\n\u001b[1;32m    381\u001b[0m \u001b[38;5;66;03m# columns in order\u001b[39;00m\n\u001b[1;32m    382\u001b[0m create_table_columns \u001b[38;5;241m=\u001b[39m \u001b[38;5;124m\"\u001b[39m\u001b[38;5;124m, \u001b[39m\u001b[38;5;124m\"\u001b[39m\u001b[38;5;241m.\u001b[39mjoin(\n\u001b[1;32m    383\u001b[0m     [\n\u001b[1;32m    384\u001b[0m         \u001b[38;5;124mf\u001b[39m\u001b[38;5;124m\"\u001b[39m\u001b[38;5;132;01m{\u001b[39;00mquote\u001b[38;5;132;01m}\u001b[39;00m\u001b[38;5;132;01m{\u001b[39;00msnowflake_col\u001b[38;5;132;01m}\u001b[39;00m\u001b[38;5;132;01m{\u001b[39;00mquote\u001b[38;5;132;01m}\u001b[39;00m\u001b[38;5;124m \u001b[39m\u001b[38;5;132;01m{\u001b[39;00mcolumn_type_mapping[col]\u001b[38;5;132;01m}\u001b[39;00m\u001b[38;5;124m\"\u001b[39m\n\u001b[1;32m    385\u001b[0m         \u001b[38;5;28;01mfor\u001b[39;00m snowflake_col, col \u001b[38;5;129;01min\u001b[39;00m \u001b[38;5;28mzip\u001b[39m(snowflake_column_names, df\u001b[38;5;241m.\u001b[39mcolumns)\n\u001b[1;32m    386\u001b[0m     ]\n\u001b[1;32m    387\u001b[0m )\n",
      "File \u001b[0;32m/opt/conda/lib/python3.9/site-packages/snowflake/connector/cursor.py:1080\u001b[0m, in \u001b[0;36mSnowflakeCursor.execute\u001b[0;34m(self, command, params, _bind_stage, timeout, _exec_async, _no_retry, _do_reset, _put_callback, _put_azure_callback, _put_callback_output_stream, _get_callback, _get_azure_callback, _get_callback_output_stream, _show_progress_bar, _statement_params, _is_internal, _describe_only, _no_results, _is_put_get, _raise_put_get_error, _force_put_overwrite, _skip_upload_on_content_match, file_stream, num_statements)\u001b[0m\n\u001b[1;32m   1076\u001b[0m     is_integrity_error \u001b[38;5;241m=\u001b[39m (\n\u001b[1;32m   1077\u001b[0m         code \u001b[38;5;241m==\u001b[39m \u001b[38;5;124m\"\u001b[39m\u001b[38;5;124m100072\u001b[39m\u001b[38;5;124m\"\u001b[39m\n\u001b[1;32m   1078\u001b[0m     )  \u001b[38;5;66;03m# NULL result in a non-nullable column\u001b[39;00m\n\u001b[1;32m   1079\u001b[0m     error_class \u001b[38;5;241m=\u001b[39m IntegrityError \u001b[38;5;28;01mif\u001b[39;00m is_integrity_error \u001b[38;5;28;01melse\u001b[39;00m ProgrammingError\n\u001b[0;32m-> 1080\u001b[0m     \u001b[43mError\u001b[49m\u001b[38;5;241;43m.\u001b[39;49m\u001b[43merrorhandler_wrapper\u001b[49m\u001b[43m(\u001b[49m\u001b[38;5;28;43mself\u001b[39;49m\u001b[38;5;241;43m.\u001b[39;49m\u001b[43mconnection\u001b[49m\u001b[43m,\u001b[49m\u001b[43m \u001b[49m\u001b[38;5;28;43mself\u001b[39;49m\u001b[43m,\u001b[49m\u001b[43m \u001b[49m\u001b[43merror_class\u001b[49m\u001b[43m,\u001b[49m\u001b[43m \u001b[49m\u001b[43merrvalue\u001b[49m\u001b[43m)\u001b[49m\n\u001b[1;32m   1081\u001b[0m \u001b[38;5;28;01mreturn\u001b[39;00m \u001b[38;5;28mself\u001b[39m\n",
      "File \u001b[0;32m/opt/conda/lib/python3.9/site-packages/snowflake/connector/errors.py:290\u001b[0m, in \u001b[0;36mError.errorhandler_wrapper\u001b[0;34m(connection, cursor, error_class, error_value)\u001b[0m\n\u001b[1;32m    267\u001b[0m \u001b[38;5;129m@staticmethod\u001b[39m\n\u001b[1;32m    268\u001b[0m \u001b[38;5;28;01mdef\u001b[39;00m \u001b[38;5;21merrorhandler_wrapper\u001b[39m(\n\u001b[1;32m    269\u001b[0m     connection: SnowflakeConnection \u001b[38;5;241m|\u001b[39m \u001b[38;5;28;01mNone\u001b[39;00m,\n\u001b[0;32m   (...)\u001b[0m\n\u001b[1;32m    272\u001b[0m     error_value: \u001b[38;5;28mdict\u001b[39m[\u001b[38;5;28mstr\u001b[39m, Any],\n\u001b[1;32m    273\u001b[0m ) \u001b[38;5;241m-\u001b[39m\u001b[38;5;241m>\u001b[39m \u001b[38;5;28;01mNone\u001b[39;00m:\n\u001b[1;32m    274\u001b[0m \u001b[38;5;250m    \u001b[39m\u001b[38;5;124;03m\"\"\"Error handler wrapper that calls the errorhandler method.\u001b[39;00m\n\u001b[1;32m    275\u001b[0m \n\u001b[1;32m    276\u001b[0m \u001b[38;5;124;03m    Args:\u001b[39;00m\n\u001b[0;32m   (...)\u001b[0m\n\u001b[1;32m    287\u001b[0m \u001b[38;5;124;03m        exception to the first handler in that order.\u001b[39;00m\n\u001b[1;32m    288\u001b[0m \u001b[38;5;124;03m    \"\"\"\u001b[39;00m\n\u001b[0;32m--> 290\u001b[0m     handed_over \u001b[38;5;241m=\u001b[39m \u001b[43mError\u001b[49m\u001b[38;5;241;43m.\u001b[39;49m\u001b[43mhand_to_other_handler\u001b[49m\u001b[43m(\u001b[49m\n\u001b[1;32m    291\u001b[0m \u001b[43m        \u001b[49m\u001b[43mconnection\u001b[49m\u001b[43m,\u001b[49m\n\u001b[1;32m    292\u001b[0m \u001b[43m        \u001b[49m\u001b[43mcursor\u001b[49m\u001b[43m,\u001b[49m\n\u001b[1;32m    293\u001b[0m \u001b[43m        \u001b[49m\u001b[43merror_class\u001b[49m\u001b[43m,\u001b[49m\n\u001b[1;32m    294\u001b[0m \u001b[43m        \u001b[49m\u001b[43merror_value\u001b[49m\u001b[43m,\u001b[49m\n\u001b[1;32m    295\u001b[0m \u001b[43m    \u001b[49m\u001b[43m)\u001b[49m\n\u001b[1;32m    296\u001b[0m     \u001b[38;5;28;01mif\u001b[39;00m \u001b[38;5;129;01mnot\u001b[39;00m handed_over:\n\u001b[1;32m    297\u001b[0m         \u001b[38;5;28;01mraise\u001b[39;00m Error\u001b[38;5;241m.\u001b[39merrorhandler_make_exception(\n\u001b[1;32m    298\u001b[0m             error_class,\n\u001b[1;32m    299\u001b[0m             error_value,\n\u001b[1;32m    300\u001b[0m         )\n",
      "File \u001b[0;32m/opt/conda/lib/python3.9/site-packages/snowflake/connector/errors.py:345\u001b[0m, in \u001b[0;36mError.hand_to_other_handler\u001b[0;34m(connection, cursor, error_class, error_value)\u001b[0m\n\u001b[1;32m    343\u001b[0m \u001b[38;5;28;01mif\u001b[39;00m cursor \u001b[38;5;129;01mis\u001b[39;00m \u001b[38;5;129;01mnot\u001b[39;00m \u001b[38;5;28;01mNone\u001b[39;00m:\n\u001b[1;32m    344\u001b[0m     cursor\u001b[38;5;241m.\u001b[39mmessages\u001b[38;5;241m.\u001b[39mappend((error_class, error_value))\n\u001b[0;32m--> 345\u001b[0m     \u001b[43mcursor\u001b[49m\u001b[38;5;241;43m.\u001b[39;49m\u001b[43merrorhandler\u001b[49m\u001b[43m(\u001b[49m\u001b[43mconnection\u001b[49m\u001b[43m,\u001b[49m\u001b[43m \u001b[49m\u001b[43mcursor\u001b[49m\u001b[43m,\u001b[49m\u001b[43m \u001b[49m\u001b[43merror_class\u001b[49m\u001b[43m,\u001b[49m\u001b[43m \u001b[49m\u001b[43merror_value\u001b[49m\u001b[43m)\u001b[49m\n\u001b[1;32m    346\u001b[0m     \u001b[38;5;28;01mreturn\u001b[39;00m \u001b[38;5;28;01mTrue\u001b[39;00m\n\u001b[1;32m    347\u001b[0m \u001b[38;5;28;01melif\u001b[39;00m connection \u001b[38;5;129;01mis\u001b[39;00m \u001b[38;5;129;01mnot\u001b[39;00m \u001b[38;5;28;01mNone\u001b[39;00m:\n",
      "File \u001b[0;32m/opt/conda/lib/python3.9/site-packages/snowflake/connector/errors.py:221\u001b[0m, in \u001b[0;36mError.default_errorhandler\u001b[0;34m(connection, cursor, error_class, error_value)\u001b[0m\n\u001b[1;32m    219\u001b[0m errno \u001b[38;5;241m=\u001b[39m error_value\u001b[38;5;241m.\u001b[39mget(\u001b[38;5;124m\"\u001b[39m\u001b[38;5;124merrno\u001b[39m\u001b[38;5;124m\"\u001b[39m)\n\u001b[1;32m    220\u001b[0m done_format_msg \u001b[38;5;241m=\u001b[39m error_value\u001b[38;5;241m.\u001b[39mget(\u001b[38;5;124m\"\u001b[39m\u001b[38;5;124mdone_format_msg\u001b[39m\u001b[38;5;124m\"\u001b[39m)\n\u001b[0;32m--> 221\u001b[0m \u001b[38;5;28;01mraise\u001b[39;00m error_class(\n\u001b[1;32m    222\u001b[0m     msg\u001b[38;5;241m=\u001b[39merror_value\u001b[38;5;241m.\u001b[39mget(\u001b[38;5;124m\"\u001b[39m\u001b[38;5;124mmsg\u001b[39m\u001b[38;5;124m\"\u001b[39m),\n\u001b[1;32m    223\u001b[0m     errno\u001b[38;5;241m=\u001b[39m\u001b[38;5;28;01mNone\u001b[39;00m \u001b[38;5;28;01mif\u001b[39;00m errno \u001b[38;5;129;01mis\u001b[39;00m \u001b[38;5;28;01mNone\u001b[39;00m \u001b[38;5;28;01melse\u001b[39;00m \u001b[38;5;28mint\u001b[39m(errno),\n\u001b[1;32m    224\u001b[0m     sqlstate\u001b[38;5;241m=\u001b[39merror_value\u001b[38;5;241m.\u001b[39mget(\u001b[38;5;124m\"\u001b[39m\u001b[38;5;124msqlstate\u001b[39m\u001b[38;5;124m\"\u001b[39m),\n\u001b[1;32m    225\u001b[0m     sfqid\u001b[38;5;241m=\u001b[39merror_value\u001b[38;5;241m.\u001b[39mget(\u001b[38;5;124m\"\u001b[39m\u001b[38;5;124msfqid\u001b[39m\u001b[38;5;124m\"\u001b[39m),\n\u001b[1;32m    226\u001b[0m     query\u001b[38;5;241m=\u001b[39merror_value\u001b[38;5;241m.\u001b[39mget(\u001b[38;5;124m\"\u001b[39m\u001b[38;5;124mquery\u001b[39m\u001b[38;5;124m\"\u001b[39m),\n\u001b[1;32m    227\u001b[0m     done_format_msg\u001b[38;5;241m=\u001b[39m(\n\u001b[1;32m    228\u001b[0m         \u001b[38;5;28;01mNone\u001b[39;00m \u001b[38;5;28;01mif\u001b[39;00m done_format_msg \u001b[38;5;129;01mis\u001b[39;00m \u001b[38;5;28;01mNone\u001b[39;00m \u001b[38;5;28;01melse\u001b[39;00m \u001b[38;5;28mbool\u001b[39m(done_format_msg)\n\u001b[1;32m    229\u001b[0m     ),\n\u001b[1;32m    230\u001b[0m     connection\u001b[38;5;241m=\u001b[39mconnection,\n\u001b[1;32m    231\u001b[0m     cursor\u001b[38;5;241m=\u001b[39mcursor,\n\u001b[1;32m    232\u001b[0m )\n",
      "\u001b[0;31mProgrammingError\u001b[0m: 000606 (57P03): No active warehouse selected in the current session.  Select an active warehouse with the 'use warehouse' command.\n"
     ]
    }
   ],
   "source": [
    "import pandas as pd\n",
    "df = pd.read_csv(\"HR_CHURN.csv\")\n",
    "# snow_df = session.table(\"HR_CHURN\")\n",
    "snow_df = session.create_dataframe(df)\n",
    "input_data_frame, test_df = snow_df.randomSplit([0.75, 0.25])"
   ]
  },
  {
   "cell_type": "code",
   "execution_count": 18,
   "id": "eff73986",
   "metadata": {},
   "outputs": [
    {
     "ename": "NameError",
     "evalue": "name 'input_data_frame' is not defined",
     "output_type": "error",
     "traceback": [
      "\u001b[0;31m---------------------------------------------------------------------------\u001b[0m",
      "\u001b[0;31mNameError\u001b[0m                                 Traceback (most recent call last)",
      "Cell \u001b[0;32mIn[18], line 1\u001b[0m\n\u001b[0;32m----> 1\u001b[0m \u001b[43minput_data_frame\u001b[49m\u001b[38;5;241m.\u001b[39mshow()\n",
      "\u001b[0;31mNameError\u001b[0m: name 'input_data_frame' is not defined"
     ]
    }
   ],
   "source": [
    "input_data_frame.show()"
   ]
  },
  {
   "cell_type": "code",
   "execution_count": 13,
   "id": "1f02d4b3",
   "metadata": {
    "scrolled": true
   },
   "outputs": [
    {
     "ename": "NameError",
     "evalue": "name 'input_data_frame' is not defined",
     "output_type": "error",
     "traceback": [
      "\u001b[0;31m---------------------------------------------------------------------------\u001b[0m",
      "\u001b[0;31mNameError\u001b[0m                                 Traceback (most recent call last)",
      "Cell \u001b[0;32mIn[13], line 2\u001b[0m\n\u001b[1;32m      1\u001b[0m label_encoder_column \u001b[38;5;241m=\u001b[39m []     \n\u001b[0;32m----> 2\u001b[0m input_data_frame \u001b[38;5;241m=\u001b[39m apply_label_encoding(\u001b[43minput_data_frame\u001b[49m)\n\u001b[1;32m      3\u001b[0m feature_cols \u001b[38;5;241m=\u001b[39m input_data_frame\u001b[38;5;241m.\u001b[39mcolumns\n\u001b[1;32m      4\u001b[0m target_col \u001b[38;5;241m=\u001b[39m \u001b[38;5;124m\"\u001b[39m\u001b[38;5;124mSALARY\u001b[39m\u001b[38;5;124m\"\u001b[39m\n",
      "\u001b[0;31mNameError\u001b[0m: name 'input_data_frame' is not defined"
     ]
    }
   ],
   "source": [
    "label_encoder_column = []     \n",
    "input_data_frame = apply_label_encoding(input_data_frame)\n",
    "feature_cols = input_data_frame.columns\n",
    "target_col = \"SALARY\"\n",
    "feature_cols.remove(target_col)\n",
    "OUTPUT_COLS = [target_col + '_PREDICTION']\n",
    "input_data_frame.show()"
   ]
  },
  {
   "cell_type": "code",
   "execution_count": 44,
   "id": "2d08d49c",
   "metadata": {},
   "outputs": [
    {
     "name": "stderr",
     "output_type": "stream",
     "text": [
      "/tmp/pip_packages/sklearn/base.py:348: InconsistentVersionWarning: Trying to unpickle estimator DummyClassifier from version 1.3.0 when using version 1.3.2. This might lead to breaking code or invalid results. Use at your own risk. For more info please refer to:\n",
      "https://scikit-learn.org/stable/model_persistence.html#security-maintainability-limitations\n",
      "  warnings.warn(\n",
      "/tmp/pip_packages/sklearn/base.py:348: InconsistentVersionWarning: Trying to unpickle estimator DecisionTreeRegressor from version 1.3.0 when using version 1.3.2. This might lead to breaking code or invalid results. Use at your own risk. For more info please refer to:\n",
      "https://scikit-learn.org/stable/model_persistence.html#security-maintainability-limitations\n",
      "  warnings.warn(\n",
      "/tmp/pip_packages/sklearn/base.py:348: InconsistentVersionWarning: Trying to unpickle estimator GradientBoostingClassifier from version 1.3.0 when using version 1.3.2. This might lead to breaking code or invalid results. Use at your own risk. For more info please refer to:\n",
      "https://scikit-learn.org/stable/model_persistence.html#security-maintainability-limitations\n",
      "  warnings.warn(\n"
     ]
    },
    {
     "data": {
      "text/plain": [
       "<snowflake.ml.modeling.ensemble.gradient_boosting_classifier.GradientBoostingClassifier at 0x7a422ffcc4c0>"
      ]
     },
     "execution_count": 44,
     "metadata": {},
     "output_type": "execute_result"
    }
   ],
   "source": [
    "pipeline = GradientBoostingClassifier(input_cols=feature_cols, label_cols=target_col)\n",
    "pipeline.fit(input_data_frame)"
   ]
  },
  {
   "cell_type": "code",
   "execution_count": 45,
   "id": "d0e05f10",
   "metadata": {},
   "outputs": [
    {
     "name": "stderr",
     "output_type": "stream",
     "text": [
      "The version of package 'scikit-learn' in the local environment is 1.3.2, which does not fit the criteria for the requirement 'scikit-learn==1.3.0'. Your UDF might not work when the package version is different between the server and your local environment.\n"
     ]
    }
   ],
   "source": [
    "pred_snow_df = pipeline.predict(apply_label_encoding(test_df))"
   ]
  },
  {
   "cell_type": "code",
   "execution_count": 16,
   "id": "a2a74d4b",
   "metadata": {},
   "outputs": [
    {
     "name": "stdout",
     "output_type": "stream",
     "text": [
      "-------------------------------------------------------------------------------------------------------------------------------------------------------------------------------------------------------------------------------\n",
      "|\"SALARY\"  |\"DEPARTMENT\"  |\"Unnamed: 0\"  |\"SATISFACTION_LEVEL\"  |\"LAST_EVALUATION\"  |\"NUMBER_PROJECT\"  |\"AVERAGE_MONTLY_HOURS\"  |\"TIME_SPEND_COMPANY\"  |\"WORK_ACCIDENT\"  |\"LEFT\"  |\"PROMOTION_LAST_5YEARS\"  |\"OUTPUT_SALARY\"  |\n",
      "-------------------------------------------------------------------------------------------------------------------------------------------------------------------------------------------------------------------------------\n",
      "|1.0       |7.0           |3             |0.72                  |0.87               |5                 |223                     |5                     |0                |1       |0                        |2.0              |\n",
      "|1.0       |7.0           |6             |0.1                   |0.77               |6                 |247                     |4                     |0                |1       |0                        |1.0              |\n",
      "|1.0       |7.0           |8             |0.89                  |1.0                |5                 |224                     |5                     |0                |1       |0                        |1.0              |\n",
      "|1.0       |7.0           |17            |0.78                  |0.99               |4                 |255                     |6                     |0                |1       |0                        |1.0              |\n",
      "|1.0       |7.0           |25            |0.89                  |0.92               |5                 |242                     |5                     |0                |1       |0                        |1.0              |\n",
      "|1.0       |2.0           |28            |0.41                  |0.46               |2                 |128                     |3                     |0                |1       |0                        |1.0              |\n",
      "|1.0       |3.0           |32            |0.4                   |0.51               |2                 |145                     |3                     |0                |1       |0                        |1.0              |\n",
      "|1.0       |3.0           |33            |0.45                  |0.55               |2                 |140                     |3                     |0                |1       |0                        |1.0              |\n",
      "|1.0       |9.0           |39            |0.41                  |0.54               |2                 |152                     |3                     |0                |1       |0                        |1.0              |\n",
      "|1.0       |9.0           |44            |0.09                  |0.89               |6                 |276                     |4                     |0                |1       |0                        |1.0              |\n",
      "-------------------------------------------------------------------------------------------------------------------------------------------------------------------------------------------------------------------------------\n",
      "\n"
     ]
    }
   ],
   "source": [
    "pred_snow_df.show()"
   ]
  },
  {
   "cell_type": "code",
   "execution_count": 17,
   "id": "75e63672",
   "metadata": {
    "scrolled": true
   },
   "outputs": [
    {
     "data": {
      "text/html": [
       "<div>\n",
       "<style scoped>\n",
       "    .dataframe tbody tr th:only-of-type {\n",
       "        vertical-align: middle;\n",
       "    }\n",
       "\n",
       "    .dataframe tbody tr th {\n",
       "        vertical-align: top;\n",
       "    }\n",
       "\n",
       "    .dataframe thead th {\n",
       "        text-align: right;\n",
       "    }\n",
       "</style>\n",
       "<table border=\"1\" class=\"dataframe\">\n",
       "  <thead>\n",
       "    <tr style=\"text-align: right;\">\n",
       "      <th></th>\n",
       "      <th>SALARY</th>\n",
       "      <th>DEPARTMENT</th>\n",
       "      <th>Unnamed: 0</th>\n",
       "      <th>SATISFACTION_LEVEL</th>\n",
       "      <th>LAST_EVALUATION</th>\n",
       "      <th>NUMBER_PROJECT</th>\n",
       "      <th>AVERAGE_MONTLY_HOURS</th>\n",
       "      <th>TIME_SPEND_COMPANY</th>\n",
       "      <th>WORK_ACCIDENT</th>\n",
       "      <th>LEFT</th>\n",
       "      <th>PROMOTION_LAST_5YEARS</th>\n",
       "      <th>OUTPUT_SALARY</th>\n",
       "    </tr>\n",
       "  </thead>\n",
       "  <tbody>\n",
       "    <tr>\n",
       "      <th>0</th>\n",
       "      <td>1.0</td>\n",
       "      <td>2.0</td>\n",
       "      <td>28</td>\n",
       "      <td>0.41</td>\n",
       "      <td>0.46</td>\n",
       "      <td>2</td>\n",
       "      <td>128</td>\n",
       "      <td>3</td>\n",
       "      <td>0</td>\n",
       "      <td>1</td>\n",
       "      <td>0</td>\n",
       "      <td>1.0</td>\n",
       "    </tr>\n",
       "    <tr>\n",
       "      <th>1</th>\n",
       "      <td>2.0</td>\n",
       "      <td>0.0</td>\n",
       "      <td>62</td>\n",
       "      <td>0.10</td>\n",
       "      <td>0.95</td>\n",
       "      <td>6</td>\n",
       "      <td>244</td>\n",
       "      <td>5</td>\n",
       "      <td>0</td>\n",
       "      <td>1</td>\n",
       "      <td>0</td>\n",
       "      <td>2.0</td>\n",
       "    </tr>\n",
       "    <tr>\n",
       "      <th>2</th>\n",
       "      <td>1.0</td>\n",
       "      <td>7.0</td>\n",
       "      <td>94</td>\n",
       "      <td>0.09</td>\n",
       "      <td>0.83</td>\n",
       "      <td>6</td>\n",
       "      <td>255</td>\n",
       "      <td>4</td>\n",
       "      <td>0</td>\n",
       "      <td>1</td>\n",
       "      <td>0</td>\n",
       "      <td>1.0</td>\n",
       "    </tr>\n",
       "    <tr>\n",
       "      <th>3</th>\n",
       "      <td>1.0</td>\n",
       "      <td>9.0</td>\n",
       "      <td>122</td>\n",
       "      <td>0.75</td>\n",
       "      <td>1.00</td>\n",
       "      <td>4</td>\n",
       "      <td>216</td>\n",
       "      <td>6</td>\n",
       "      <td>0</td>\n",
       "      <td>1</td>\n",
       "      <td>0</td>\n",
       "      <td>1.0</td>\n",
       "    </tr>\n",
       "    <tr>\n",
       "      <th>4</th>\n",
       "      <td>1.0</td>\n",
       "      <td>2.0</td>\n",
       "      <td>155</td>\n",
       "      <td>0.11</td>\n",
       "      <td>0.80</td>\n",
       "      <td>6</td>\n",
       "      <td>304</td>\n",
       "      <td>4</td>\n",
       "      <td>0</td>\n",
       "      <td>1</td>\n",
       "      <td>0</td>\n",
       "      <td>1.0</td>\n",
       "    </tr>\n",
       "    <tr>\n",
       "      <th>...</th>\n",
       "      <td>...</td>\n",
       "      <td>...</td>\n",
       "      <td>...</td>\n",
       "      <td>...</td>\n",
       "      <td>...</td>\n",
       "      <td>...</td>\n",
       "      <td>...</td>\n",
       "      <td>...</td>\n",
       "      <td>...</td>\n",
       "      <td>...</td>\n",
       "      <td>...</td>\n",
       "      <td>...</td>\n",
       "    </tr>\n",
       "    <tr>\n",
       "      <th>3697</th>\n",
       "      <td>1.0</td>\n",
       "      <td>8.0</td>\n",
       "      <td>14869</td>\n",
       "      <td>0.38</td>\n",
       "      <td>0.53</td>\n",
       "      <td>2</td>\n",
       "      <td>146</td>\n",
       "      <td>3</td>\n",
       "      <td>0</td>\n",
       "      <td>1</td>\n",
       "      <td>0</td>\n",
       "      <td>1.0</td>\n",
       "    </tr>\n",
       "    <tr>\n",
       "      <th>3698</th>\n",
       "      <td>2.0</td>\n",
       "      <td>2.0</td>\n",
       "      <td>14897</td>\n",
       "      <td>0.11</td>\n",
       "      <td>0.92</td>\n",
       "      <td>6</td>\n",
       "      <td>269</td>\n",
       "      <td>4</td>\n",
       "      <td>0</td>\n",
       "      <td>1</td>\n",
       "      <td>0</td>\n",
       "      <td>2.0</td>\n",
       "    </tr>\n",
       "    <tr>\n",
       "      <th>3699</th>\n",
       "      <td>1.0</td>\n",
       "      <td>8.0</td>\n",
       "      <td>14922</td>\n",
       "      <td>0.11</td>\n",
       "      <td>0.86</td>\n",
       "      <td>6</td>\n",
       "      <td>286</td>\n",
       "      <td>4</td>\n",
       "      <td>0</td>\n",
       "      <td>1</td>\n",
       "      <td>0</td>\n",
       "      <td>1.0</td>\n",
       "    </tr>\n",
       "    <tr>\n",
       "      <th>3700</th>\n",
       "      <td>1.0</td>\n",
       "      <td>7.0</td>\n",
       "      <td>14958</td>\n",
       "      <td>0.42</td>\n",
       "      <td>0.52</td>\n",
       "      <td>2</td>\n",
       "      <td>134</td>\n",
       "      <td>3</td>\n",
       "      <td>0</td>\n",
       "      <td>1</td>\n",
       "      <td>0</td>\n",
       "      <td>1.0</td>\n",
       "    </tr>\n",
       "    <tr>\n",
       "      <th>3701</th>\n",
       "      <td>1.0</td>\n",
       "      <td>9.0</td>\n",
       "      <td>14989</td>\n",
       "      <td>0.43</td>\n",
       "      <td>0.57</td>\n",
       "      <td>2</td>\n",
       "      <td>159</td>\n",
       "      <td>3</td>\n",
       "      <td>1</td>\n",
       "      <td>1</td>\n",
       "      <td>0</td>\n",
       "      <td>1.0</td>\n",
       "    </tr>\n",
       "  </tbody>\n",
       "</table>\n",
       "<p>3702 rows × 12 columns</p>\n",
       "</div>"
      ],
      "text/plain": [
       "      SALARY  DEPARTMENT  Unnamed: 0  SATISFACTION_LEVEL  LAST_EVALUATION  \\\n",
       "0        1.0         2.0          28                0.41             0.46   \n",
       "1        2.0         0.0          62                0.10             0.95   \n",
       "2        1.0         7.0          94                0.09             0.83   \n",
       "3        1.0         9.0         122                0.75             1.00   \n",
       "4        1.0         2.0         155                0.11             0.80   \n",
       "...      ...         ...         ...                 ...              ...   \n",
       "3697     1.0         8.0       14869                0.38             0.53   \n",
       "3698     2.0         2.0       14897                0.11             0.92   \n",
       "3699     1.0         8.0       14922                0.11             0.86   \n",
       "3700     1.0         7.0       14958                0.42             0.52   \n",
       "3701     1.0         9.0       14989                0.43             0.57   \n",
       "\n",
       "      NUMBER_PROJECT  AVERAGE_MONTLY_HOURS  TIME_SPEND_COMPANY  WORK_ACCIDENT  \\\n",
       "0                  2                   128                   3              0   \n",
       "1                  6                   244                   5              0   \n",
       "2                  6                   255                   4              0   \n",
       "3                  4                   216                   6              0   \n",
       "4                  6                   304                   4              0   \n",
       "...              ...                   ...                 ...            ...   \n",
       "3697               2                   146                   3              0   \n",
       "3698               6                   269                   4              0   \n",
       "3699               6                   286                   4              0   \n",
       "3700               2                   134                   3              0   \n",
       "3701               2                   159                   3              1   \n",
       "\n",
       "      LEFT  PROMOTION_LAST_5YEARS  OUTPUT_SALARY  \n",
       "0        1                      0            1.0  \n",
       "1        1                      0            2.0  \n",
       "2        1                      0            1.0  \n",
       "3        1                      0            1.0  \n",
       "4        1                      0            1.0  \n",
       "...    ...                    ...            ...  \n",
       "3697     1                      0            1.0  \n",
       "3698     1                      0            2.0  \n",
       "3699     1                      0            1.0  \n",
       "3700     1                      0            1.0  \n",
       "3701     1                      0            1.0  \n",
       "\n",
       "[3702 rows x 12 columns]"
      ]
     },
     "execution_count": 17,
     "metadata": {},
     "output_type": "execute_result"
    }
   ],
   "source": [
    "pred_snow_df.to_pandas()"
   ]
  },
  {
   "cell_type": "code",
   "execution_count": 46,
   "id": "a891198a",
   "metadata": {},
   "outputs": [],
   "source": [
    "from snowflake.ml.registry import Registry"
   ]
  },
  {
   "cell_type": "code",
   "execution_count": null,
   "id": "5a2c7060",
   "metadata": {},
   "outputs": [],
   "source": [
    "CONNECTION_PARAMETERS = {\n",
    "    \"account\": \"ug94937.us-east4.gcp\",\n",
    "    \"user\":\"ADITYASINGH\",\n",
    "    \"password\": \"Enlightme#2024\",\n",
    "    \"role\": \"ADITYASINGH\",\n",
    "    \"database\": \"FIRST_DB\",\n",
    "    \"warehouse\": \"FOSFOR_INSIGHT_WH\",\n",
    "    \"schema\": \"PUBLIC\"\n",
    "}"
   ]
  },
  {
   "cell_type": "code",
   "execution_count": null,
   "id": "2e6f3ff0",
   "metadata": {},
   "outputs": [],
   "source": []
  },
  {
   "cell_type": "code",
   "execution_count": 47,
   "id": "4a4c0cb0",
   "metadata": {},
   "outputs": [],
   "source": [
    "model_registry = Registry(session=session, \n",
    "                                       database_name=\"FIRST_DB\",\n",
    "                                       schema_name=\"PUBLIC\"\n",
    "                                       )"
   ]
  },
  {
   "cell_type": "code",
   "execution_count": 49,
   "id": "7774edbd",
   "metadata": {},
   "outputs": [
    {
     "data": {
      "text/plain": [
       "'3.10.13'"
      ]
     },
     "execution_count": 49,
     "metadata": {},
     "output_type": "execute_result"
    }
   ],
   "source": [
    "import platform\n",
    "platform.python_version()"
   ]
  },
  {
   "cell_type": "code",
   "execution_count": 50,
   "id": "1cc192e6",
   "metadata": {
    "scrolled": true
   },
   "outputs": [
    {
     "name": "stderr",
     "output_type": "stream",
     "text": [
      "/opt/conda/lib/python3.10/contextlib.py:135: UserWarning: `relax_version` is not set and therefore defaulted to True. Dependency version constraints relaxed from ==x.y.z to >=x.y, <(x+1). To use specific dependency versions for compatibility, reproducibility, etc., set `options={'relax_version': False}` when logging the model.\n",
      "  return next(self.gen)\n",
      "/tmp/pip_packages/snowflake/ml/model/_packager/model_packager.py:92: UserWarning: Inferring model signature from sample input or providing model signature for Snowpark ML Modeling model is not required. Model signature will automatically be inferred during fitting. \n",
      "  handler.save_model(\n"
     ]
    },
    {
     "data": {
      "text/plain": [
       "<snowflake.ml.model._client.model.model_version_impl.ModelVersion at 0x7a4256df1090>"
      ]
     },
     "execution_count": 50,
     "metadata": {},
     "output_type": "execute_result"
    }
   ],
   "source": [
    "model_registry.log_model(\n",
    "                   pipeline,\n",
    "                   model_name=\"TestModel\",\n",
    "                   version_name=\"v1\",\n",
    "                   comment=\"test model\",\n",
    "                   conda_dependencies=[\"scikit-learn==1.3.2\"],\n",
    "                   metrics={},\n",
    "                   sample_input_data=input_data_frame,\n",
    "                   python_version=\"3.10.13\"  \n",
    "                  )"
   ]
  },
  {
   "cell_type": "code",
   "execution_count": 54,
   "id": "5b7351e6",
   "metadata": {},
   "outputs": [],
   "source": [
    "model_obj = model_registry.get_model(model_name=\"TestModel\")"
   ]
  },
  {
   "cell_type": "code",
   "execution_count": 55,
   "id": "00d3bff0",
   "metadata": {},
   "outputs": [],
   "source": [
    "model = model_obj.version(version_name=\"v1\")"
   ]
  },
  {
   "cell_type": "code",
   "execution_count": 58,
   "id": "ed2011c4",
   "metadata": {},
   "outputs": [],
   "source": [
    "inptu_df ,test_df = session.table(\"HR_CHURN\").randomSplit([0.75, 0.25])"
   ]
  },
  {
   "cell_type": "code",
   "execution_count": 59,
   "id": "4fb0ba75",
   "metadata": {},
   "outputs": [],
   "source": [
    "test_df = apply_label_encoding(test_df)"
   ]
  },
  {
   "cell_type": "code",
   "execution_count": 75,
   "id": "0ac7db79",
   "metadata": {},
   "outputs": [],
   "source": [
    "test_df_pandas = test_df.to_pandas()"
   ]
  },
  {
   "cell_type": "code",
   "execution_count": 76,
   "id": "25f9706d",
   "metadata": {},
   "outputs": [
    {
     "name": "stdout",
     "output_type": "stream",
     "text": [
      "-------------------------------------------------------------------------------------------------------------------------------------------------------------------------------------------------------------\n",
      "|\"SALARY\"  |\"DEPARTMENT\"  |\"Unnamed: 0\"  |\"SATISFACTION_LEVEL\"  |\"LAST_EVALUATION\"  |\"NUMBER_PROJECT\"  |\"AVERAGE_MONTLY_HOURS\"  |\"TIME_SPEND_COMPANY\"  |\"WORK_ACCIDENT\"  |\"LEFT\"  |\"PROMOTION_LAST_5YEARS\"  |\n",
      "-------------------------------------------------------------------------------------------------------------------------------------------------------------------------------------------------------------\n",
      "|2.0       |7.0           |1             |0.8                   |0.86               |5                 |262                     |6                     |0                |1       |0                        |\n",
      "|1.0       |7.0           |13            |0.41                  |0.55               |2                 |148                     |3                     |0                |1       |0                        |\n",
      "|1.0       |7.0           |18            |0.45                  |0.51               |2                 |160                     |3                     |1                |1       |1                        |\n",
      "|1.0       |7.0           |19            |0.76                  |0.89               |5                 |262                     |5                     |0                |1       |0                        |\n",
      "|1.0       |7.0           |25            |0.89                  |0.92               |5                 |242                     |5                     |0                |1       |0                        |\n",
      "|1.0       |2.0           |28            |0.41                  |0.46               |2                 |128                     |3                     |0                |1       |0                        |\n",
      "|1.0       |2.0           |30            |0.09                  |0.62               |6                 |294                     |4                     |0                |1       |0                        |\n",
      "|1.0       |3.0           |34            |0.84                  |0.87               |4                 |246                     |6                     |0                |1       |0                        |\n",
      "|1.0       |9.0           |38            |0.11                  |0.89               |6                 |306                     |4                     |0                |1       |0                        |\n",
      "|1.0       |9.0           |42            |0.4                   |0.46               |2                 |127                     |3                     |0                |1       |0                        |\n",
      "-------------------------------------------------------------------------------------------------------------------------------------------------------------------------------------------------------------\n",
      "\n"
     ]
    }
   ],
   "source": [
    "session.write_pandas(test_df_pandas,table_name=\"TEST_DATA_HR\",overwrite=True).show()"
   ]
  },
  {
   "cell_type": "code",
   "execution_count": 80,
   "id": "3bf2d1db",
   "metadata": {},
   "outputs": [],
   "source": [
    "test_df_fetch = session.table(\"TEST_DATA_HR\")"
   ]
  },
  {
   "cell_type": "code",
   "execution_count": 81,
   "id": "0a3c6340",
   "metadata": {},
   "outputs": [
    {
     "name": "stdout",
     "output_type": "stream",
     "text": [
      "-------------------------------------------------------------------------------------------------------------------------------------------------------------------------------------------------------------\n",
      "|\"SALARY\"  |\"DEPARTMENT\"  |\"Unnamed: 0\"  |\"SATISFACTION_LEVEL\"  |\"LAST_EVALUATION\"  |\"NUMBER_PROJECT\"  |\"AVERAGE_MONTLY_HOURS\"  |\"TIME_SPEND_COMPANY\"  |\"WORK_ACCIDENT\"  |\"LEFT\"  |\"PROMOTION_LAST_5YEARS\"  |\n",
      "-------------------------------------------------------------------------------------------------------------------------------------------------------------------------------------------------------------\n",
      "|2.0       |7.0           |1             |0.8                   |0.86               |5                 |262                     |6                     |0                |1       |0                        |\n",
      "|1.0       |7.0           |13            |0.41                  |0.55               |2                 |148                     |3                     |0                |1       |0                        |\n",
      "|1.0       |7.0           |18            |0.45                  |0.51               |2                 |160                     |3                     |1                |1       |1                        |\n",
      "|1.0       |7.0           |19            |0.76                  |0.89               |5                 |262                     |5                     |0                |1       |0                        |\n",
      "|1.0       |7.0           |25            |0.89                  |0.92               |5                 |242                     |5                     |0                |1       |0                        |\n",
      "|1.0       |2.0           |28            |0.41                  |0.46               |2                 |128                     |3                     |0                |1       |0                        |\n",
      "|1.0       |2.0           |30            |0.09                  |0.62               |6                 |294                     |4                     |0                |1       |0                        |\n",
      "|1.0       |3.0           |34            |0.84                  |0.87               |4                 |246                     |6                     |0                |1       |0                        |\n",
      "|1.0       |9.0           |38            |0.11                  |0.89               |6                 |306                     |4                     |0                |1       |0                        |\n",
      "|1.0       |9.0           |42            |0.4                   |0.46               |2                 |127                     |3                     |0                |1       |0                        |\n",
      "-------------------------------------------------------------------------------------------------------------------------------------------------------------------------------------------------------------\n",
      "\n"
     ]
    }
   ],
   "source": [
    "test_df_fetch.show()"
   ]
  },
  {
   "cell_type": "code",
   "execution_count": null,
   "id": "5e14bd13",
   "metadata": {},
   "outputs": [],
   "source": []
  },
  {
   "cell_type": "code",
   "execution_count": null,
   "id": "fa0a6cb7",
   "metadata": {},
   "outputs": [],
   "source": []
  },
  {
   "cell_type": "code",
   "execution_count": null,
   "id": "8243cf00",
   "metadata": {},
   "outputs": [],
   "source": []
  },
  {
   "cell_type": "code",
   "execution_count": 82,
   "id": "2117fc9d",
   "metadata": {},
   "outputs": [
    {
     "data": {
      "text/html": [
       "<div>\n",
       "<style scoped>\n",
       "    .dataframe tbody tr th:only-of-type {\n",
       "        vertical-align: middle;\n",
       "    }\n",
       "\n",
       "    .dataframe tbody tr th {\n",
       "        vertical-align: top;\n",
       "    }\n",
       "\n",
       "    .dataframe thead th {\n",
       "        text-align: right;\n",
       "    }\n",
       "</style>\n",
       "<table border=\"1\" class=\"dataframe\">\n",
       "  <thead>\n",
       "    <tr style=\"text-align: right;\">\n",
       "      <th></th>\n",
       "      <th>SALARY</th>\n",
       "      <th>DEPARTMENT</th>\n",
       "      <th>Unnamed: 0</th>\n",
       "      <th>SATISFACTION_LEVEL</th>\n",
       "      <th>LAST_EVALUATION</th>\n",
       "      <th>NUMBER_PROJECT</th>\n",
       "      <th>AVERAGE_MONTLY_HOURS</th>\n",
       "      <th>TIME_SPEND_COMPANY</th>\n",
       "      <th>WORK_ACCIDENT</th>\n",
       "      <th>LEFT</th>\n",
       "      <th>PROMOTION_LAST_5YEARS</th>\n",
       "      <th>OUTPUT_SALARY</th>\n",
       "    </tr>\n",
       "  </thead>\n",
       "  <tbody>\n",
       "    <tr>\n",
       "      <th>0</th>\n",
       "      <td>1.0</td>\n",
       "      <td>3.0</td>\n",
       "      <td>34</td>\n",
       "      <td>0.84</td>\n",
       "      <td>0.87</td>\n",
       "      <td>4</td>\n",
       "      <td>246</td>\n",
       "      <td>6</td>\n",
       "      <td>0</td>\n",
       "      <td>1</td>\n",
       "      <td>0</td>\n",
       "      <td>1.0</td>\n",
       "    </tr>\n",
       "    <tr>\n",
       "      <th>1</th>\n",
       "      <td>2.0</td>\n",
       "      <td>6.0</td>\n",
       "      <td>66</td>\n",
       "      <td>0.43</td>\n",
       "      <td>0.54</td>\n",
       "      <td>2</td>\n",
       "      <td>153</td>\n",
       "      <td>3</td>\n",
       "      <td>0</td>\n",
       "      <td>1</td>\n",
       "      <td>0</td>\n",
       "      <td>2.0</td>\n",
       "    </tr>\n",
       "    <tr>\n",
       "      <th>2</th>\n",
       "      <td>1.0</td>\n",
       "      <td>7.0</td>\n",
       "      <td>94</td>\n",
       "      <td>0.09</td>\n",
       "      <td>0.83</td>\n",
       "      <td>6</td>\n",
       "      <td>255</td>\n",
       "      <td>4</td>\n",
       "      <td>0</td>\n",
       "      <td>1</td>\n",
       "      <td>0</td>\n",
       "      <td>1.0</td>\n",
       "    </tr>\n",
       "    <tr>\n",
       "      <th>3</th>\n",
       "      <td>1.0</td>\n",
       "      <td>8.0</td>\n",
       "      <td>130</td>\n",
       "      <td>0.10</td>\n",
       "      <td>0.83</td>\n",
       "      <td>6</td>\n",
       "      <td>292</td>\n",
       "      <td>4</td>\n",
       "      <td>0</td>\n",
       "      <td>1</td>\n",
       "      <td>0</td>\n",
       "      <td>1.0</td>\n",
       "    </tr>\n",
       "    <tr>\n",
       "      <th>4</th>\n",
       "      <td>1.0</td>\n",
       "      <td>7.0</td>\n",
       "      <td>163</td>\n",
       "      <td>0.79</td>\n",
       "      <td>0.89</td>\n",
       "      <td>5</td>\n",
       "      <td>239</td>\n",
       "      <td>5</td>\n",
       "      <td>0</td>\n",
       "      <td>1</td>\n",
       "      <td>0</td>\n",
       "      <td>1.0</td>\n",
       "    </tr>\n",
       "    <tr>\n",
       "      <th>...</th>\n",
       "      <td>...</td>\n",
       "      <td>...</td>\n",
       "      <td>...</td>\n",
       "      <td>...</td>\n",
       "      <td>...</td>\n",
       "      <td>...</td>\n",
       "      <td>...</td>\n",
       "      <td>...</td>\n",
       "      <td>...</td>\n",
       "      <td>...</td>\n",
       "      <td>...</td>\n",
       "      <td>...</td>\n",
       "    </tr>\n",
       "    <tr>\n",
       "      <th>7447</th>\n",
       "      <td>2.0</td>\n",
       "      <td>5.0</td>\n",
       "      <td>14821</td>\n",
       "      <td>0.09</td>\n",
       "      <td>0.95</td>\n",
       "      <td>7</td>\n",
       "      <td>256</td>\n",
       "      <td>4</td>\n",
       "      <td>0</td>\n",
       "      <td>1</td>\n",
       "      <td>0</td>\n",
       "      <td>2.0</td>\n",
       "    </tr>\n",
       "    <tr>\n",
       "      <th>7448</th>\n",
       "      <td>2.0</td>\n",
       "      <td>9.0</td>\n",
       "      <td>14859</td>\n",
       "      <td>0.45</td>\n",
       "      <td>0.54</td>\n",
       "      <td>2</td>\n",
       "      <td>129</td>\n",
       "      <td>3</td>\n",
       "      <td>0</td>\n",
       "      <td>1</td>\n",
       "      <td>0</td>\n",
       "      <td>2.0</td>\n",
       "    </tr>\n",
       "    <tr>\n",
       "      <th>7449</th>\n",
       "      <td>1.0</td>\n",
       "      <td>7.0</td>\n",
       "      <td>14888</td>\n",
       "      <td>0.39</td>\n",
       "      <td>0.49</td>\n",
       "      <td>2</td>\n",
       "      <td>142</td>\n",
       "      <td>3</td>\n",
       "      <td>0</td>\n",
       "      <td>1</td>\n",
       "      <td>0</td>\n",
       "      <td>1.0</td>\n",
       "    </tr>\n",
       "    <tr>\n",
       "      <th>7450</th>\n",
       "      <td>2.0</td>\n",
       "      <td>7.0</td>\n",
       "      <td>14945</td>\n",
       "      <td>0.14</td>\n",
       "      <td>0.75</td>\n",
       "      <td>4</td>\n",
       "      <td>277</td>\n",
       "      <td>5</td>\n",
       "      <td>1</td>\n",
       "      <td>1</td>\n",
       "      <td>0</td>\n",
       "      <td>1.0</td>\n",
       "    </tr>\n",
       "    <tr>\n",
       "      <th>7451</th>\n",
       "      <td>2.0</td>\n",
       "      <td>2.0</td>\n",
       "      <td>14974</td>\n",
       "      <td>0.36</td>\n",
       "      <td>0.54</td>\n",
       "      <td>2</td>\n",
       "      <td>153</td>\n",
       "      <td>3</td>\n",
       "      <td>0</td>\n",
       "      <td>1</td>\n",
       "      <td>0</td>\n",
       "      <td>2.0</td>\n",
       "    </tr>\n",
       "  </tbody>\n",
       "</table>\n",
       "<p>7452 rows × 12 columns</p>\n",
       "</div>"
      ],
      "text/plain": [
       "      SALARY  DEPARTMENT  Unnamed: 0  SATISFACTION_LEVEL  LAST_EVALUATION  \\\n",
       "0        1.0         3.0          34                0.84             0.87   \n",
       "1        2.0         6.0          66                0.43             0.54   \n",
       "2        1.0         7.0          94                0.09             0.83   \n",
       "3        1.0         8.0         130                0.10             0.83   \n",
       "4        1.0         7.0         163                0.79             0.89   \n",
       "...      ...         ...         ...                 ...              ...   \n",
       "7447     2.0         5.0       14821                0.09             0.95   \n",
       "7448     2.0         9.0       14859                0.45             0.54   \n",
       "7449     1.0         7.0       14888                0.39             0.49   \n",
       "7450     2.0         7.0       14945                0.14             0.75   \n",
       "7451     2.0         2.0       14974                0.36             0.54   \n",
       "\n",
       "      NUMBER_PROJECT  AVERAGE_MONTLY_HOURS  TIME_SPEND_COMPANY  WORK_ACCIDENT  \\\n",
       "0                  4                   246                   6              0   \n",
       "1                  2                   153                   3              0   \n",
       "2                  6                   255                   4              0   \n",
       "3                  6                   292                   4              0   \n",
       "4                  5                   239                   5              0   \n",
       "...              ...                   ...                 ...            ...   \n",
       "7447               7                   256                   4              0   \n",
       "7448               2                   129                   3              0   \n",
       "7449               2                   142                   3              0   \n",
       "7450               4                   277                   5              1   \n",
       "7451               2                   153                   3              0   \n",
       "\n",
       "      LEFT  PROMOTION_LAST_5YEARS  OUTPUT_SALARY  \n",
       "0        1                      0            1.0  \n",
       "1        1                      0            2.0  \n",
       "2        1                      0            1.0  \n",
       "3        1                      0            1.0  \n",
       "4        1                      0            1.0  \n",
       "...    ...                    ...            ...  \n",
       "7447     1                      0            2.0  \n",
       "7448     1                      0            2.0  \n",
       "7449     1                      0            1.0  \n",
       "7450     1                      0            1.0  \n",
       "7451     1                      0            2.0  \n",
       "\n",
       "[7452 rows x 12 columns]"
      ]
     },
     "execution_count": 82,
     "metadata": {},
     "output_type": "execute_result"
    }
   ],
   "source": [
    "model.run(test_df_fetch, function_name=\"predict\").to_pandas()"
   ]
  },
  {
   "cell_type": "code",
   "execution_count": null,
   "id": "9f604b25",
   "metadata": {},
   "outputs": [],
   "source": []
  },
  {
   "cell_type": "code",
   "execution_count": null,
   "id": "90556e8d",
   "metadata": {},
   "outputs": [],
   "source": []
  },
  {
   "cell_type": "code",
   "execution_count": null,
   "id": "5abae063",
   "metadata": {},
   "outputs": [],
   "source": []
  },
  {
   "cell_type": "code",
   "execution_count": null,
   "id": "0493a161",
   "metadata": {},
   "outputs": [],
   "source": []
  },
  {
   "cell_type": "code",
   "execution_count": null,
   "id": "cf512a51",
   "metadata": {},
   "outputs": [],
   "source": [
    "register_model(\n",
    "  model_obj=pipeline,\n",
    "  session=session,\n",
    "  snowflake_df=pred_snow_df,\n",
    "  name=\"HR_Churn_model\",\n",
    "  description=\"This is a test model\",\n",
    "  flavour=\"snowflake\",\n",
    "  dataset_name=\"Hr_churn\",\n",
    "  datasource_name=\"Hr_churn\",\n",
    "  model_type=\"classification\",\n",
    "  conda_dependencies=[\"scikit-learn==1.3.2\"],\n",
    "  source=\"Notebook\"\n",
    ")"
   ]
  },
  {
   "cell_type": "code",
   "execution_count": null,
   "id": "d151bb10",
   "metadata": {},
   "outputs": [],
   "source": []
  },
  {
   "cell_type": "code",
   "execution_count": null,
   "id": "4255d32d",
   "metadata": {},
   "outputs": [],
   "source": []
  }
 ],
 "metadata": {
  "kernelspec": {
   "display_name": "Python 3 (ipykernel)",
   "language": "python",
   "name": "python3"
  },
  "language_info": {
   "codemirror_mode": {
    "name": "ipython",
    "version": 3
   },
   "file_extension": ".py",
   "mimetype": "text/x-python",
   "name": "python",
   "nbconvert_exporter": "python",
   "pygments_lexer": "ipython3",
   "version": "3.9.19"
  }
 },
 "nbformat": 4,
 "nbformat_minor": 5
}
