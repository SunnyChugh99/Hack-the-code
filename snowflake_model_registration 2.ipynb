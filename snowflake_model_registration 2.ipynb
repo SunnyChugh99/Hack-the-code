{
 "cells": [
  {
   "cell_type": "code",
   "execution_count": 35,
   "id": "7639dde7",
   "metadata": {},
   "outputs": [],
   "source": [
    "# session.write_pandas(df,table_name=\"HR_CHURN\",auto_create_table=True).show()\n",
    "# !pip install fosforml"
   ]
  },
  {
   "cell_type": "code",
   "execution_count": 3,
   "id": "dc48e260-953f-440d-88c9-526afdc650fb",
   "metadata": {},
   "outputs": [],
   "source": [
    "import pandas as pd\n",
    "df = pd.read_csv(\"HR_CHURN.csv\",index_col='Unnamed: 0')\n",
    "\n",
    "from snowflake.snowpark import Session\n",
    "\t\t\n",
    "CONNECTION_PARAMETERS = {\n",
    "\"account\": \"RWB76633\",\n",
    "\"user\":\"MAHESHG\",\n",
    "\"password\": \"Jamesbond@123\",\n",
    "\"role\": \"MAHESHG\",\n",
    "\"database\": \"NVIDIA_DB\",\n",
    "\"warehouse\": \"FOSFOR_WAREHOUSE\",\n",
    "\"schema\": \"NVIDIA_SCHEMA\", }\n",
    "    \n",
    "session = Session.builder.configs(CONNECTION_PARAMETERS).create()"
   ]
  },
  {
   "cell_type": "code",
   "execution_count": null,
   "id": "25e5c464-9af5-442e-a834-6a66de111a9c",
   "metadata": {},
   "outputs": [],
   "source": []
  },
  {
   "cell_type": "code",
   "execution_count": 4,
   "id": "68fac18e",
   "metadata": {},
   "outputs": [],
   "source": [
    "from snowflake.snowpark.session import Session,col\n",
    "import snowflake.snowpark.functions\n",
    "from snowflake.ml.modeling.metrics import confusion_matrix, accuracy_score, f1_score, recall_score,precision_score\n",
    "from snowflake.ml.modeling.preprocessing import LabelEncoder, StandardScaler\n",
    "from snowflake.ml.modeling.impute import SimpleImputer\n",
    "from snowflake.ml.modeling.ensemble import GradientBoostingClassifier,RandomForestClassifier,RandomForestRegressor\n",
    "from snowflake.ml.modeling.xgboost import XGBClassifier\n",
    "from snowflake.ml.modeling.pipeline import Pipeline\n",
    "import snowflake\n",
    "def apply_label_encoding(input_data_frame):\n",
    "    for i in input_data_frame.dtypes:\n",
    "        if i[1].find('string') >= 0:\n",
    "            label_encoder = LabelEncoder(input_cols=i[0],output_cols=i[0],drop_input_cols=True)\n",
    "            input_data_frame = label_encoder.fit(input_data_frame).transform(input_data_frame)\n",
    "    return input_data_frame"
   ]
  },
  {
   "cell_type": "code",
   "execution_count": 5,
   "id": "d4fdf4b9",
   "metadata": {
    "scrolled": true
   },
   "outputs": [],
   "source": [
    "snow_df = session.create_dataframe(df)\n",
    "snow_df = snow_df.drop(['Unnamed: 0'])\n",
    "input_data_frame, test_df = snow_df.randomSplit([0.75, 0.25])\n",
    "label_encoder_column = []     \n",
    "input_data_frame = apply_label_encoding(input_data_frame)\n",
    "test_df = apply_label_encoding(test_df)\n",
    "feature_cols = input_data_frame.columns\n",
    "target_col = \"SALARY\"\n",
    "feature_cols.remove(target_col)\n",
    "OUTPUT_COLS = [target_col + '_PREDICTION']"
   ]
  },
  {
   "cell_type": "code",
   "execution_count": null,
   "id": "9538f410-d4b4-4a20-a16d-231b141e452f",
   "metadata": {
    "scrolled": true
   },
   "outputs": [
    {
     "name": "stderr",
     "output_type": "stream",
     "text": [
      "Got error object of type 'NoneType' has no len() when trying to read default values from function: <function SnowparkModelTrainer._build_fit_wrapper_sproc.<locals>.fit_wrapper_function at 0x7f456e607af0>. Proceeding without creating optional arguments\n",
      "The version of package 'snowflake-snowpark-python' in the local environment is 1.21.1, which does not fit the criteria for the requirement 'snowflake-snowpark-python'. Your UDF might not work when the package version is different between the server and your local environment.\n",
      "The version of package 'scikit-learn' in the local environment is 1.3.2, which does not fit the criteria for the requirement 'scikit-learn==1.3.0'. Your UDF might not work when the package version is different between the server and your local environment.\n"
     ]
    }
   ],
   "source": [
    "pipeline = GradientBoostingClassifier(input_cols=feature_cols, label_cols=target_col)\n",
    "pipeline.fit(input_data_frame)\n",
    "pred_snow_df = pipeline.predict(test_df)"
   ]
  },
  {
   "cell_type": "code",
   "execution_count": 392,
   "id": "5725a3c1-142e-44a5-9256-958b5d840b16",
   "metadata": {},
   "outputs": [],
   "source": [
    "model_monitor_table = \"MODEL_MONITORING\"\n",
    "model_alerts_table = \"MODEL_ALERTS\"\n",
    "drift_output = {'metrics': [{'classification_quality_metrics': {'current': {'accuracy_score': 0.496894, 'f1_score': 0.4640358250210494, 'recall_score': 0.4968944099378882, 'precision_score': 0.47492237364556444, 'log_loss': 17.978025333432186, 'roc_auc_score': 0.6129413691930737, 'gini': 0.226}, 'reference': {'accuracy_score': 0.496894, 'f1_score': 0.4640358250210494, 'recall_score': 0.4968944099378882, 'precision_score': 0.47492237364556444, 'log_loss': 17.978025333432186, 'roc_auc_score': 0.6129413691930737, 'gini': 0.226}}}, {'class_representation': {'current': {'SALARY': {'\"\"\"PREDICT_PROBA_1.0\"\"\"': 1830, '\"\"\"PREDICT_PROBA_2.0\"\"\"': 1580, '\"\"\"PREDICT_PROBA_0.0\"\"\"': 293}, 'OUTPUT_SALARY': {'\"\"\"PREDICT_PROBA_1.0\"\"\"': 2568, '\"\"\"PREDICT_PROBA_2.0\"\"\"': 1095, '\"\"\"PREDICT_PROBA_0.0\"\"\"': 40}}, 'reference': {'SALARY': {'\"\"\"PREDICT_PROBA_1.0\"\"\"': 1830, '\"\"\"PREDICT_PROBA_2.0\"\"\"': 1580, '\"\"\"PREDICT_PROBA_0.0\"\"\"': 293}, 'OUTPUT_SALARY': {'\"\"\"PREDICT_PROBA_1.0\"\"\"': 2568, '\"\"\"PREDICT_PROBA_2.0\"\"\"': 1095, '\"\"\"PREDICT_PROBA_0.0\"\"\"': 40}}}}, {'confusion_matrix': {'current': [[12.0, 189.0, 92.0], [7.0, 1324.0, 499.0], [21.0, 1055.0, 504.0]], 'reference': [[12.0, 189.0, 92.0], [7.0, 1324.0, 499.0], [21.0, 1055.0, 504.0]]}}, {'quality_metrics_by_class': {'current': {'\"\"\"PREDICT_PROBA_0.0\"\"\"': {'precision_score': 0.3, 'recall_score': 0.040955631399317405, 'f1_score': 0.07207207207207207, 'accuracy_score': 0.9165541452876046}, '\"\"\"PREDICT_PROBA_1.0\"\"\"': {'precision_score': 0.5155763239875389, 'recall_score': 0.7234972677595628, 'f1_score': 0.6020918599363346, 'accuracy_score': 0.5274102079395085}, '\"\"\"PREDICT_PROBA_2.0\"\"\"': {'precision_score': 0.4602739726027397, 'recall_score': 0.3189873417721519, 'f1_score': 0.376822429906542, 'accuracy_score': 0.5498244666486632}}, 'reference': {'\"\"\"PREDICT_PROBA_0.0\"\"\"': {'precision_score': 0.3, 'recall_score': 0.040955631399317405, 'f1_score': 0.07207207207207207, 'accuracy_score': 0.9165541452876046}, '\"\"\"PREDICT_PROBA_1.0\"\"\"': {'precision_score': 0.5155763239875389, 'recall_score': 0.7234972677595628, 'f1_score': 0.6020918599363346, 'accuracy_score': 0.5274102079395085}, '\"\"\"PREDICT_PROBA_2.0\"\"\"': {'precision_score': 0.4602739726027397, 'recall_score': 0.3189873417721519, 'f1_score': 0.376822429906542, 'accuracy_score': 0.5498244666486632}}}}], 'metric_info': {'ACCURACY': 0.496894, 'F1_SCORE': 0.4640358250210494, 'PRECISION': 0.47492237364556444, 'RECALL': 0.4968944099378882}}"
   ]
  },
  {
   "cell_type": "code",
   "execution_count": 439,
   "id": "74e039d5-5219-4a71-89f6-cd76a15f81b0",
   "metadata": {},
   "outputs": [],
   "source": [
    "query = f\"\"\"\n",
    "            INSERT INTO {model_monitor_table} \n",
    "                (object_id, model_name, version_name, object_type, object_data, created_by)\n",
    "            SELECT \n",
    "                'ergerg' AS object_id,\n",
    "                'testingmodel' AS model_name,\n",
    "                'v2' AS version_name,\n",
    "                'performancteste_drift_model' AS object_type,\n",
    "                parse_json('{drift_ouput_json}') AS object_data,\n",
    "                'mahesh' AS created_by;\n",
    "\"\"\""
   ]
  },
  {
   "cell_type": "code",
   "execution_count": 440,
   "id": "89648ced-7210-4e3d-924e-98c13a735cc9",
   "metadata": {},
   "outputs": [
    {
     "data": {
      "text/plain": [
       "[Row(number of rows inserted=1)]"
      ]
     },
     "execution_count": 440,
     "metadata": {},
     "output_type": "execute_result"
    }
   ],
   "source": [
    "session.sql(query).collect()"
   ]
  },
  {
   "cell_type": "code",
   "execution_count": 7,
   "id": "c2bda8cf-6dfc-4ce5-bde9-cda32e8bce24",
   "metadata": {},
   "outputs": [],
   "source": [
    "execute_regression_drift(drift_configs,\n",
    "                             sf_current,\n",
    "                             sf_reference)"
   ]
  },
  {
   "cell_type": "code",
   "execution_count": null,
   "id": "ac086288-bb95-4246-ae82-54b7698d9e00",
   "metadata": {},
   "outputs": [],
   "source": []
  },
  {
   "cell_type": "code",
   "execution_count": null,
   "id": "31579ba2-fdd6-4506-8af1-65b74e569b72",
   "metadata": {},
   "outputs": [],
   "source": []
  },
  {
   "cell_type": "code",
   "execution_count": null,
   "id": "f53c389c-1c44-46af-8cab-468ff72a7c19",
   "metadata": {},
   "outputs": [],
   "source": []
  },
  {
   "cell_type": "code",
   "execution_count": null,
   "id": "e5888645-da6a-4e2c-9b61-1926b6e48797",
   "metadata": {},
   "outputs": [],
   "source": [
    "pipeline = GradientBoostingClassifier(input_cols=feature_cols, label_cols=target_col)\n",
    "pipeline.fit(input_data_frame)\n",
    "pred_snow_df = pipeline.predict(test_df)"
   ]
  },
  {
   "cell_type": "code",
   "execution_count": 1,
   "id": "1cc192e6",
   "metadata": {
    "scrolled": true
   },
   "outputs": [
    {
     "ename": "NameError",
     "evalue": "name 'pipeline' is not defined",
     "output_type": "error",
     "traceback": [
      "\u001b[0;31m---------------------------------------------------------------------------\u001b[0m",
      "\u001b[0;31mNameError\u001b[0m                                 Traceback (most recent call last)",
      "Cell \u001b[0;32mIn[1], line 4\u001b[0m\n\u001b[1;32m      1\u001b[0m \u001b[38;5;28;01mfrom\u001b[39;00m \u001b[38;5;21;01mfosforml\u001b[39;00m \u001b[38;5;28;01mimport\u001b[39;00m register_model\n\u001b[1;32m      3\u001b[0m register_model(\n\u001b[0;32m----> 4\u001b[0m   model_obj\u001b[38;5;241m=\u001b[39m\u001b[43mpipeline\u001b[49m,\n\u001b[1;32m      5\u001b[0m   session\u001b[38;5;241m=\u001b[39msession,\n\u001b[1;32m      6\u001b[0m   name\u001b[38;5;241m=\u001b[39m\u001b[38;5;124m\"\u001b[39m\u001b[38;5;124mTestModelForDrifts\u001b[39m\u001b[38;5;124m\"\u001b[39m,\n\u001b[1;32m      7\u001b[0m   snowflake_df\u001b[38;5;241m=\u001b[39mpred_snow_df,\n\u001b[1;32m      8\u001b[0m   dataset_name\u001b[38;5;241m=\u001b[39m\u001b[38;5;124m\"\u001b[39m\u001b[38;5;124mHR_CHURN\u001b[39m\u001b[38;5;124m\"\u001b[39m,\n\u001b[1;32m      9\u001b[0m   dataset_source\u001b[38;5;241m=\u001b[39m\u001b[38;5;124m\"\u001b[39m\u001b[38;5;124mDataset\u001b[39m\u001b[38;5;124m\"\u001b[39m,\n\u001b[1;32m     10\u001b[0m   source\u001b[38;5;241m=\u001b[39m\u001b[38;5;124m\"\u001b[39m\u001b[38;5;124msnowflake\u001b[39m\u001b[38;5;124m\"\u001b[39m,\n\u001b[1;32m     11\u001b[0m   description\u001b[38;5;241m=\u001b[39m\u001b[38;5;124m\"\u001b[39m\u001b[38;5;124mThis is a Snowflake model\u001b[39m\u001b[38;5;124m\"\u001b[39m,\n\u001b[1;32m     12\u001b[0m   flavour\u001b[38;5;241m=\u001b[39m\u001b[38;5;124m\"\u001b[39m\u001b[38;5;124msnowflake\u001b[39m\u001b[38;5;124m\"\u001b[39m,\n\u001b[1;32m     13\u001b[0m   model_type\u001b[38;5;241m=\u001b[39m\u001b[38;5;124m\"\u001b[39m\u001b[38;5;124mclassification\u001b[39m\u001b[38;5;124m\"\u001b[39m,\n\u001b[1;32m     14\u001b[0m   conda_dependencies\u001b[38;5;241m=\u001b[39m[\u001b[38;5;124m\"\u001b[39m\u001b[38;5;124mscikit-learn==1.3.2\u001b[39m\u001b[38;5;124m\"\u001b[39m]\n\u001b[1;32m     15\u001b[0m )\n",
      "\u001b[0;31mNameError\u001b[0m: name 'pipeline' is not defined"
     ]
    }
   ],
   "source": [
    "from fosforml import register_model\n",
    "\n",
    "register_model(\n",
    "  model_obj=pipeline,\n",
    "  session=session,\n",
    "  name=\"TestModelForDrifts\",\n",
    "  snowflake_df=pred_snow_df,\n",
    "  dataset_name=\"HR_CHURN\",\n",
    "  dataset_source=\"Dataset\",\n",
    "  source=\"snowflake\",\n",
    "  description=\"This is a Snowflake model\",\n",
    "  flavour=\"snowflake\",\n",
    "  model_type=\"classification\",\n",
    "  conda_dependencies=[\"scikit-learn==1.3.2\"]\n",
    ")"
   ]
  },
  {
   "cell_type": "code",
   "execution_count": null,
   "id": "c2efda67-cf02-4fb6-b958-084e8a79c0f0",
   "metadata": {},
   "outputs": [],
   "source": []
  },
  {
   "cell_type": "code",
   "execution_count": null,
   "id": "ea906b84-9728-49df-8348-16c8515aa016",
   "metadata": {},
   "outputs": [],
   "source": []
  }
 ],
 "metadata": {
  "kernelspec": {
   "display_name": "Python 3 (ipykernel)",
   "language": "python",
   "name": "python3"
  },
  "language_info": {
   "codemirror_mode": {
    "name": "ipython",
    "version": 3
   },
   "file_extension": ".py",
   "mimetype": "text/x-python",
   "name": "python",
   "nbconvert_exporter": "python",
   "pygments_lexer": "ipython3",
   "version": "3.9.19"
  }
 },
 "nbformat": 4,
 "nbformat_minor": 5
}
