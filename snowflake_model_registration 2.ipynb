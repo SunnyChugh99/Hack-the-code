{
 "cells": [
  {
   "cell_type": "code",
   "execution_count": 35,
   "id": "7639dde7",
   "metadata": {},
   "outputs": [],
   "source": [
    "# session.write_pandas(df,table_name=\"HR_CHURN\",auto_create_table=True).show()\n",
    "# !pip install fosforml"
   ]
  },
  {
   "cell_type": "code",
   "execution_count": 1,
   "id": "11388491-e296-4500-8d03-09c47138504b",
   "metadata": {},
   "outputs": [],
   "source": [
    "import pandas as pd\n",
    "df = pd.read_csv(\"HR_CHURN.csv\",index_col='Unnamed: 0')"
   ]
  },
  {
   "cell_type": "code",
   "execution_count": 2,
   "id": "dc48e260-953f-440d-88c9-526afdc650fb",
   "metadata": {},
   "outputs": [],
   "source": [
    "from snowflake.snowpark import Session\n",
    "\t\t\n",
    "CONNECTION_PARAMETERS = {\n",
    "\"account\": \"RWB76633\",\n",
    "\"user\":\"MAHESHG\",\n",
    "\"password\": \"Jamesbond@123\",\n",
    "\"role\": \"MAHESHG\",\n",
    "\"database\": \"NVIDIA_DB\",\n",
    "\"warehouse\": \"FOSFOR_WAREHOUSE\",\n",
    "\"schema\": \"NVIDIA_SCHEMA\", }\n",
    "    \n",
    "session = Session.builder.configs(CONNECTION_PARAMETERS).create()"
   ]
  },
  {
   "cell_type": "code",
   "execution_count": null,
   "id": "25e5c464-9af5-442e-a834-6a66de111a9c",
   "metadata": {},
   "outputs": [],
   "source": []
  },
  {
   "cell_type": "code",
   "execution_count": 3,
   "id": "68fac18e",
   "metadata": {},
   "outputs": [],
   "source": [
    "from snowflake.snowpark.session import Session,col\n",
    "import snowflake.snowpark.functions\n",
    "from snowflake.ml.modeling.metrics import confusion_matrix, accuracy_score, f1_score, recall_score,precision_score\n",
    "from snowflake.ml.modeling.preprocessing import LabelEncoder, StandardScaler\n",
    "from snowflake.ml.modeling.impute import SimpleImputer\n",
    "from snowflake.ml.modeling.ensemble import GradientBoostingClassifier,RandomForestClassifier,RandomForestRegressor\n",
    "from snowflake.ml.modeling.xgboost import XGBClassifier\n",
    "from snowflake.ml.modeling.pipeline import Pipeline\n",
    "import snowflake\n",
    "def apply_label_encoding(input_data_frame):\n",
    "    for i in input_data_frame.dtypes:\n",
    "        if i[1].find('string') >= 0:\n",
    "            label_encoder = LabelEncoder(input_cols=i[0],output_cols=i[0],drop_input_cols=True)\n",
    "            input_data_frame = label_encoder.fit(input_data_frame).transform(input_data_frame)\n",
    "    return input_data_frame"
   ]
  },
  {
   "cell_type": "code",
   "execution_count": 4,
   "id": "d4fdf4b9",
   "metadata": {
    "scrolled": true
   },
   "outputs": [
    {
     "name": "stderr",
     "output_type": "stream",
     "text": [
      "/opt/conda/lib/python3.9/site-packages/snowflake/snowpark/session.py:2484: UserWarning: Pandas Dataframe has non-standard index of type <class 'pandas.core.indexes.base.Index'> which will not be written. Consider changing the index to pd.RangeIndex(start=0,...,step=1) or call reset_index() to keep index as column(s)\n",
      "  success, _, _, ci_output = write_pandas(\n"
     ]
    }
   ],
   "source": [
    "import pandas as pd\n",
    "# df = pd.read_csv(\"HR_CHURN.csv\")\n",
    "\n",
    "# df_filtered = df[df['SALARY']!='low']\n",
    "# snow_df = session.create_dataframe(df_filtered)\n",
    "\n",
    "snow_df = session.create_dataframe(df)\n",
    "snow_df = snow_df.drop(['Unnamed: 0'])\n",
    "input_data_frame, test_df = snow_df.randomSplit([0.75, 0.25])\n",
    "label_encoder_column = []     \n",
    "input_data_frame = apply_label_encoding(input_data_frame)\n",
    "test_df = apply_label_encoding(test_df)\n",
    "feature_cols = input_data_frame.columns\n",
    "target_col = \"SALARY\"\n",
    "feature_cols.remove(target_col)\n",
    "OUTPUT_COLS = [target_col + '_PREDICTION']"
   ]
  },
  {
   "cell_type": "code",
   "execution_count": 5,
   "id": "4255469b-0860-4988-b398-c653cb565d53",
   "metadata": {},
   "outputs": [
    {
     "name": "stdout",
     "output_type": "stream",
     "text": [
      "----------------------------------------------------------------------------------------------------------------------------------------------------------------------------------------------\n",
      "|\"SALARY\"  |\"DEPARTMENT\"  |\"SATISFACTION_LEVEL\"  |\"LAST_EVALUATION\"  |\"NUMBER_PROJECT\"  |\"AVERAGE_MONTLY_HOURS\"  |\"TIME_SPEND_COMPANY\"  |\"WORK_ACCIDENT\"  |\"LEFT\"  |\"PROMOTION_LAST_5YEARS\"  |\n",
      "----------------------------------------------------------------------------------------------------------------------------------------------------------------------------------------------\n",
      "|2.0       |7.0           |0.8                   |0.86               |5                 |262                     |6                     |0                |1       |0                        |\n",
      "|2.0       |7.0           |0.11                  |0.88               |7                 |272                     |4                     |0                |1       |0                        |\n",
      "----------------------------------------------------------------------------------------------------------------------------------------------------------------------------------------------\n",
      "\n"
     ]
    }
   ],
   "source": [
    "input_data_frame.limit(2).show()"
   ]
  },
  {
   "cell_type": "code",
   "execution_count": 6,
   "id": "9538f410-d4b4-4a20-a16d-231b141e452f",
   "metadata": {
    "scrolled": true
   },
   "outputs": [
    {
     "name": "stderr",
     "output_type": "stream",
     "text": [
      "Got error object of type 'NoneType' has no len() when trying to read default values from function: <function SnowparkModelTrainer._build_fit_wrapper_sproc.<locals>.fit_wrapper_function at 0x7f5122eb6d30>. Proceeding without creating optional arguments\n",
      "The version of package 'snowflake-snowpark-python' in the local environment is 1.21.1, which does not fit the criteria for the requirement 'snowflake-snowpark-python'. Your UDF might not work when the package version is different between the server and your local environment.\n",
      "The version of package 'scikit-learn' in the local environment is 1.3.2, which does not fit the criteria for the requirement 'scikit-learn==1.3.0'. Your UDF might not work when the package version is different between the server and your local environment.\n",
      "/opt/conda/lib/python3.9/site-packages/sklearn/base.py:348: InconsistentVersionWarning: Trying to unpickle estimator DummyClassifier from version 1.3.0 when using version 1.3.2. This might lead to breaking code or invalid results. Use at your own risk. For more info please refer to:\n",
      "https://scikit-learn.org/stable/model_persistence.html#security-maintainability-limitations\n",
      "  warnings.warn(\n",
      "/opt/conda/lib/python3.9/site-packages/sklearn/base.py:348: InconsistentVersionWarning: Trying to unpickle estimator DecisionTreeRegressor from version 1.3.0 when using version 1.3.2. This might lead to breaking code or invalid results. Use at your own risk. For more info please refer to:\n",
      "https://scikit-learn.org/stable/model_persistence.html#security-maintainability-limitations\n",
      "  warnings.warn(\n",
      "/opt/conda/lib/python3.9/site-packages/sklearn/base.py:348: InconsistentVersionWarning: Trying to unpickle estimator GradientBoostingClassifier from version 1.3.0 when using version 1.3.2. This might lead to breaking code or invalid results. Use at your own risk. For more info please refer to:\n",
      "https://scikit-learn.org/stable/model_persistence.html#security-maintainability-limitations\n",
      "  warnings.warn(\n",
      "The version of package 'scikit-learn' in the local environment is 1.3.2, which does not fit the criteria for the requirement 'scikit-learn==1.3.0'. Your UDF might not work when the package version is different between the server and your local environment.\n"
     ]
    }
   ],
   "source": [
    "pipeline = GradientBoostingClassifier(input_cols=feature_cols, label_cols=target_col)\n",
    "pipeline.fit(input_data_frame)\n",
    "pred_snow_df = pipeline.predict(test_df)"
   ]
  },
  {
   "cell_type": "code",
   "execution_count": 392,
   "id": "5725a3c1-142e-44a5-9256-958b5d840b16",
   "metadata": {},
   "outputs": [],
   "source": [
    "model_monitor_table = \"MODEL_MONITORING\"\n",
    "model_alerts_table = \"MODEL_ALERTS\"\n",
    "drift_output = {'metrics': [{'classification_quality_metrics': {'current': {'accuracy_score': 0.496894, 'f1_score': 0.4640358250210494, 'recall_score': 0.4968944099378882, 'precision_score': 0.47492237364556444, 'log_loss': 17.978025333432186, 'roc_auc_score': 0.6129413691930737, 'gini': 0.226}, 'reference': {'accuracy_score': 0.496894, 'f1_score': 0.4640358250210494, 'recall_score': 0.4968944099378882, 'precision_score': 0.47492237364556444, 'log_loss': 17.978025333432186, 'roc_auc_score': 0.6129413691930737, 'gini': 0.226}}}, {'class_representation': {'current': {'SALARY': {'\"\"\"PREDICT_PROBA_1.0\"\"\"': 1830, '\"\"\"PREDICT_PROBA_2.0\"\"\"': 1580, '\"\"\"PREDICT_PROBA_0.0\"\"\"': 293}, 'OUTPUT_SALARY': {'\"\"\"PREDICT_PROBA_1.0\"\"\"': 2568, '\"\"\"PREDICT_PROBA_2.0\"\"\"': 1095, '\"\"\"PREDICT_PROBA_0.0\"\"\"': 40}}, 'reference': {'SALARY': {'\"\"\"PREDICT_PROBA_1.0\"\"\"': 1830, '\"\"\"PREDICT_PROBA_2.0\"\"\"': 1580, '\"\"\"PREDICT_PROBA_0.0\"\"\"': 293}, 'OUTPUT_SALARY': {'\"\"\"PREDICT_PROBA_1.0\"\"\"': 2568, '\"\"\"PREDICT_PROBA_2.0\"\"\"': 1095, '\"\"\"PREDICT_PROBA_0.0\"\"\"': 40}}}}, {'confusion_matrix': {'current': [[12.0, 189.0, 92.0], [7.0, 1324.0, 499.0], [21.0, 1055.0, 504.0]], 'reference': [[12.0, 189.0, 92.0], [7.0, 1324.0, 499.0], [21.0, 1055.0, 504.0]]}}, {'quality_metrics_by_class': {'current': {'\"\"\"PREDICT_PROBA_0.0\"\"\"': {'precision_score': 0.3, 'recall_score': 0.040955631399317405, 'f1_score': 0.07207207207207207, 'accuracy_score': 0.9165541452876046}, '\"\"\"PREDICT_PROBA_1.0\"\"\"': {'precision_score': 0.5155763239875389, 'recall_score': 0.7234972677595628, 'f1_score': 0.6020918599363346, 'accuracy_score': 0.5274102079395085}, '\"\"\"PREDICT_PROBA_2.0\"\"\"': {'precision_score': 0.4602739726027397, 'recall_score': 0.3189873417721519, 'f1_score': 0.376822429906542, 'accuracy_score': 0.5498244666486632}}, 'reference': {'\"\"\"PREDICT_PROBA_0.0\"\"\"': {'precision_score': 0.3, 'recall_score': 0.040955631399317405, 'f1_score': 0.07207207207207207, 'accuracy_score': 0.9165541452876046}, '\"\"\"PREDICT_PROBA_1.0\"\"\"': {'precision_score': 0.5155763239875389, 'recall_score': 0.7234972677595628, 'f1_score': 0.6020918599363346, 'accuracy_score': 0.5274102079395085}, '\"\"\"PREDICT_PROBA_2.0\"\"\"': {'precision_score': 0.4602739726027397, 'recall_score': 0.3189873417721519, 'f1_score': 0.376822429906542, 'accuracy_score': 0.5498244666486632}}}}], 'metric_info': {'ACCURACY': 0.496894, 'F1_SCORE': 0.4640358250210494, 'PRECISION': 0.47492237364556444, 'RECALL': 0.4968944099378882}}"
   ]
  },
  {
   "cell_type": "code",
   "execution_count": 432,
   "id": "6de023d8-cebe-4eb1-b9b9-9c3da41f9720",
   "metadata": {},
   "outputs": [],
   "source": [
    "import json\n",
    "drift_ouput_json  = json.dumps(drift_output).replace('\\\\\"','')"
   ]
  },
  {
   "cell_type": "code",
   "execution_count": 433,
   "id": "3c92d694-c7bd-4a1d-a7c2-92ed0a8da72e",
   "metadata": {},
   "outputs": [
    {
     "data": {
      "text/plain": [
       "'{\"metrics\": [{\"classification_quality_metrics\": {\"current\": {\"accuracy_score\": 0.496894, \"f1_score\": 0.4640358250210494, \"recall_score\": 0.4968944099378882, \"precision_score\": 0.47492237364556444, \"log_loss\": 17.978025333432186, \"roc_auc_score\": 0.6129413691930737, \"gini\": 0.226}, \"reference\": {\"accuracy_score\": 0.496894, \"f1_score\": 0.4640358250210494, \"recall_score\": 0.4968944099378882, \"precision_score\": 0.47492237364556444, \"log_loss\": 17.978025333432186, \"roc_auc_score\": 0.6129413691930737, \"gini\": 0.226}}}, {\"class_representation\": {\"current\": {\"SALARY\": {\"PREDICT_PROBA_1.0\": 1830, \"PREDICT_PROBA_2.0\": 1580, \"PREDICT_PROBA_0.0\": 293}, \"OUTPUT_SALARY\": {\"PREDICT_PROBA_1.0\": 2568, \"PREDICT_PROBA_2.0\": 1095, \"PREDICT_PROBA_0.0\": 40}}, \"reference\": {\"SALARY\": {\"PREDICT_PROBA_1.0\": 1830, \"PREDICT_PROBA_2.0\": 1580, \"PREDICT_PROBA_0.0\": 293}, \"OUTPUT_SALARY\": {\"PREDICT_PROBA_1.0\": 2568, \"PREDICT_PROBA_2.0\": 1095, \"PREDICT_PROBA_0.0\": 40}}}}, {\"confusion_matrix\": {\"current\": [[12.0, 189.0, 92.0], [7.0, 1324.0, 499.0], [21.0, 1055.0, 504.0]], \"reference\": [[12.0, 189.0, 92.0], [7.0, 1324.0, 499.0], [21.0, 1055.0, 504.0]]}}, {\"quality_metrics_by_class\": {\"current\": {\"PREDICT_PROBA_0.0\": {\"precision_score\": 0.3, \"recall_score\": 0.040955631399317405, \"f1_score\": 0.07207207207207207, \"accuracy_score\": 0.9165541452876046}, \"PREDICT_PROBA_1.0\": {\"precision_score\": 0.5155763239875389, \"recall_score\": 0.7234972677595628, \"f1_score\": 0.6020918599363346, \"accuracy_score\": 0.5274102079395085}, \"PREDICT_PROBA_2.0\": {\"precision_score\": 0.4602739726027397, \"recall_score\": 0.3189873417721519, \"f1_score\": 0.376822429906542, \"accuracy_score\": 0.5498244666486632}}, \"reference\": {\"PREDICT_PROBA_0.0\": {\"precision_score\": 0.3, \"recall_score\": 0.040955631399317405, \"f1_score\": 0.07207207207207207, \"accuracy_score\": 0.9165541452876046}, \"PREDICT_PROBA_1.0\": {\"precision_score\": 0.5155763239875389, \"recall_score\": 0.7234972677595628, \"f1_score\": 0.6020918599363346, \"accuracy_score\": 0.5274102079395085}, \"PREDICT_PROBA_2.0\": {\"precision_score\": 0.4602739726027397, \"recall_score\": 0.3189873417721519, \"f1_score\": 0.376822429906542, \"accuracy_score\": 0.5498244666486632}}}}], \"metric_info\": {\"ACCURACY\": 0.496894, \"F1_SCORE\": 0.4640358250210494, \"PRECISION\": 0.47492237364556444, \"RECALL\": 0.4968944099378882}}'"
      ]
     },
     "execution_count": 433,
     "metadata": {},
     "output_type": "execute_result"
    }
   ],
   "source": [
    "drift_ouput_json"
   ]
  },
  {
   "cell_type": "code",
   "execution_count": 439,
   "id": "74e039d5-5219-4a71-89f6-cd76a15f81b0",
   "metadata": {},
   "outputs": [],
   "source": [
    "query = f\"\"\"\n",
    "            INSERT INTO {model_monitor_table} \n",
    "                (object_id, model_name, version_name, object_type, object_data, created_by)\n",
    "            SELECT \n",
    "                'ergerg' AS object_id,\n",
    "                'testingmodel' AS model_name,\n",
    "                'v2' AS version_name,\n",
    "                'performancteste_drift_model' AS object_type,\n",
    "                parse_json('{drift_ouput_json}') AS object_data,\n",
    "                'mahesh' AS created_by;\n",
    "\"\"\""
   ]
  },
  {
   "cell_type": "code",
   "execution_count": 440,
   "id": "89648ced-7210-4e3d-924e-98c13a735cc9",
   "metadata": {},
   "outputs": [
    {
     "data": {
      "text/plain": [
       "[Row(number of rows inserted=1)]"
      ]
     },
     "execution_count": 440,
     "metadata": {},
     "output_type": "execute_result"
    }
   ],
   "source": [
    "session.sql(query).collect()"
   ]
  },
  {
   "cell_type": "code",
   "execution_count": 453,
   "id": "4b48bdbf-e441-49d7-bae0-039b0f4f6313",
   "metadata": {},
   "outputs": [
    {
     "name": "stdout",
     "output_type": "stream",
     "text": [
      "---------------------------------------------------\n",
      "|\"ALERT_DATA:ALERT_DATA:METRICS:ACCURACY_STATUS\"  |\n",
      "---------------------------------------------------\n",
      "|\"Good\"                                           |\n",
      "|NULL                                             |\n",
      "|NULL                                             |\n",
      "|NULL                                             |\n",
      "|\"Poor\"                                           |\n",
      "|\"Poor\"                                           |\n",
      "|NULL                                             |\n",
      "|\"Poor\"                                           |\n",
      "|NULL                                             |\n",
      "|NULL                                             |\n",
      "---------------------------------------------------\n",
      "\n"
     ]
    }
   ],
   "source": [
    "session.sql(\"select alert_data:alert_data:metrics:accuracy_status from MODEL_ALERTS order by created_at desc limit 10\").show()"
   ]
  },
  {
   "cell_type": "code",
   "execution_count": 455,
   "id": "0d76170f-2365-49fd-a49b-95ceca474285",
   "metadata": {},
   "outputs": [
    {
     "name": "stdout",
     "output_type": "stream",
     "text": [
      "---------------------------------\n",
      "|\"CREATED_BY\"                   |\n",
      "---------------------------------\n",
      "|{drift_configs[\"created_by\"]}  |\n",
      "---------------------------------\n",
      "\n"
     ]
    }
   ],
   "source": [
    "session.sql(\"select created_by from MODEL_MONITORING order by created_at desc limit 1\").show()"
   ]
  },
  {
   "cell_type": "code",
   "execution_count": 383,
   "id": "629b4698-9c14-4124-915b-7c3d1a691f77",
   "metadata": {},
   "outputs": [],
   "source": [
    "final_df.write.mode('overwrite').save_as_table('HR_CHURN_DATA_CURRENT')"
   ]
  },
  {
   "cell_type": "code",
   "execution_count": 360,
   "id": "34fa0ee7-25f6-4ea2-bb55-65fc11430e1c",
   "metadata": {},
   "outputs": [],
   "source": [
    "feature_columns = input_data_frame.columns\n",
    "sf_current = pred_snow_df\n",
    "sf_reference = pred_snow_df\n",
    "target_column  = \"SALARY\"\n",
    "prediction_column = \"OUTPUT_SALARY\"\n",
    "# predict_probability_columns = [ '\"\"\"PREDICT_PROBA_high\"\"\"','\"\"\"PREDICT_PROBA_medium\"\"\"']\n",
    "# predict_probability_columns = ['\"\"\"PREDICT_PROBA_0.0\"\"\"',\n",
    "#  '\"\"\"PREDICT_PROBA_2.0\"\"\"']\n",
    "drift_configs = {\n",
    "        \"project_id\" : \"asvw4g124-124sdvrgwef\",\n",
    "        \"feature_columns\": feature_columns,\n",
    "        \"current_dataset\" : current_df,\n",
    "        \"reference_dataset\" : reference_df,\n",
    "        \"model_name\" : \"HR_CHURN_MODEL\",\n",
    "        \"problem_type\" : \"regression\",  # classification or regression\n",
    "        \"target_column\" : \"SALARY\",\n",
    "        \"prediction_column\" : prediction_column,\n",
    "        # \"predict_probability_columns\" : predict_probability_columns,\n",
    "        \"version_name\" : \"V2\",\n",
    "        \"alerts_configurations\" : [\n",
    "            {\n",
    "                \"parameter\": \"performance_drift_score\",\n",
    "                \"threshold_range\": [[0.5, 1,'Red'],[0.5, 1,'Amber'],[0.5, 1,'Green']]\n",
    "            },\n",
    "            {\n",
    "                \"parameter\": \"drift_score\",\n",
    "                \"threshold_range\": [[0.5, 1,'Red'],[0.5, 1,'Amber'],[0.5, 1,'Green']]\n",
    "            }\n",
    "        ]\n",
    "    }"
   ]
  },
  {
   "cell_type": "code",
   "execution_count": 7,
   "id": "c2bda8cf-6dfc-4ce5-bde9-cda32e8bce24",
   "metadata": {},
   "outputs": [],
   "source": [
    "execute_regression_drift(drift_configs,\n",
    "                             sf_current,\n",
    "                             sf_reference)"
   ]
  },
  {
   "cell_type": "code",
   "execution_count": null,
   "id": "ac086288-bb95-4246-ae82-54b7698d9e00",
   "metadata": {},
   "outputs": [],
   "source": []
  },
  {
   "cell_type": "code",
   "execution_count": null,
   "id": "31579ba2-fdd6-4506-8af1-65b74e569b72",
   "metadata": {},
   "outputs": [],
   "source": []
  },
  {
   "cell_type": "code",
   "execution_count": null,
   "id": "f53c389c-1c44-46af-8cab-468ff72a7c19",
   "metadata": {},
   "outputs": [],
   "source": []
  },
  {
   "cell_type": "code",
   "execution_count": null,
   "id": "e5888645-da6a-4e2c-9b61-1926b6e48797",
   "metadata": {},
   "outputs": [],
   "source": [
    "pipeline = GradientBoostingClassifier(input_cols=feature_cols, label_cols=target_col)\n",
    "pipeline.fit(input_data_frame)\n",
    "pred_snow_df = pipeline.predict(test_df)"
   ]
  },
  {
   "cell_type": "code",
   "execution_count": 8,
   "id": "1cc192e6",
   "metadata": {
    "scrolled": true
   },
   "outputs": [
    {
     "ename": "ModuleNotFoundError",
     "evalue": "No module named 'constants'",
     "output_type": "error",
     "traceback": [
      "\u001b[0;31m---------------------------------------------------------------------------\u001b[0m",
      "\u001b[0;31mModuleNotFoundError\u001b[0m                       Traceback (most recent call last)",
      "Cell \u001b[0;32mIn[8], line 1\u001b[0m\n\u001b[0;32m----> 1\u001b[0m \u001b[38;5;28;01mfrom\u001b[39;00m \u001b[38;5;21;01mfosforml\u001b[39;00m \u001b[38;5;28;01mimport\u001b[39;00m register_model\n\u001b[1;32m      3\u001b[0m register_model(\n\u001b[1;32m      4\u001b[0m   model_obj\u001b[38;5;241m=\u001b[39mpipeline,\n\u001b[1;32m      5\u001b[0m   session\u001b[38;5;241m=\u001b[39msession,\n\u001b[0;32m   (...)\u001b[0m\n\u001b[1;32m     14\u001b[0m   conda_dependencies\u001b[38;5;241m=\u001b[39m[\u001b[38;5;124m\"\u001b[39m\u001b[38;5;124mscikit-learn==1.3.2\u001b[39m\u001b[38;5;124m\"\u001b[39m]\n\u001b[1;32m     15\u001b[0m )\n",
      "File \u001b[0;32m~/fdc-fosforml/fosforml/__init__.py:3\u001b[0m\n\u001b[1;32m      1\u001b[0m \u001b[38;5;66;03m# -*- coding: utf-8 -*-\u001b[39;00m\n\u001b[0;32m----> 3\u001b[0m \u001b[38;5;28;01mfrom\u001b[39;00m \u001b[38;5;21;01m.\u001b[39;00m\u001b[38;5;21;01mapi\u001b[39;00m \u001b[38;5;28;01mimport\u001b[39;00m register_model\n\u001b[1;32m      5\u001b[0m \u001b[38;5;28;01mfrom\u001b[39;00m \u001b[38;5;21;01m.\u001b[39;00m\u001b[38;5;21;01mdecorators\u001b[39;00m \u001b[38;5;28;01mimport\u001b[39;00m scoring_func\n\u001b[1;32m      7\u001b[0m __all__ \u001b[38;5;241m=\u001b[39m [\n\u001b[1;32m      8\u001b[0m     \u001b[38;5;124m'\u001b[39m\u001b[38;5;124mregister_model\u001b[39m\u001b[38;5;124m'\u001b[39m\n\u001b[1;32m      9\u001b[0m ]\n",
      "File \u001b[0;32m~/fdc-fosforml/fosforml/api.py:2\u001b[0m\n\u001b[1;32m      1\u001b[0m \u001b[38;5;66;03m# -*- coding: utf-8 -*-\u001b[39;00m\n\u001b[0;32m----> 2\u001b[0m \u001b[38;5;28;01mfrom\u001b[39;00m \u001b[38;5;21;01m.\u001b[39;00m\u001b[38;5;21;01mmodel_manager\u001b[39;00m \u001b[38;5;28;01mimport\u001b[39;00m ModelRegistry\n\u001b[1;32m      3\u001b[0m \u001b[38;5;28;01mfrom\u001b[39;00m \u001b[38;5;21;01m.\u001b[39;00m\u001b[38;5;21;01mmodel_manager\u001b[39;00m\u001b[38;5;21;01m.\u001b[39;00m\u001b[38;5;21;01msnowflakesession\u001b[39;00m \u001b[38;5;28;01mimport\u001b[39;00m get_connection_params\n\u001b[1;32m      4\u001b[0m \u001b[38;5;28;01mfrom\u001b[39;00m \u001b[38;5;21;01mfosforml\u001b[39;00m\u001b[38;5;21;01m.\u001b[39;00m\u001b[38;5;21;01mutils\u001b[39;00m \u001b[38;5;28;01mimport\u001b[39;00m get_model_name, validate_datasets_for_sf, validate_privileges\n",
      "File \u001b[0;32m~/fdc-fosforml/fosforml/model_manager/__init__.py:5\u001b[0m\n\u001b[1;32m      3\u001b[0m \u001b[38;5;28;01mfrom\u001b[39;00m \u001b[38;5;21;01m.\u001b[39;00m\u001b[38;5;21;01mutilities\u001b[39;00m \u001b[38;5;28;01mimport\u001b[39;00m DatasetManager, Metadata\n\u001b[1;32m      4\u001b[0m \u001b[38;5;28;01mfrom\u001b[39;00m \u001b[38;5;21;01m.\u001b[39;00m\u001b[38;5;21;01mmodel_metrics\u001b[39;00m \u001b[38;5;28;01mimport\u001b[39;00m Classification, Regression\n\u001b[0;32m----> 5\u001b[0m \u001b[38;5;28;01mfrom\u001b[39;00m \u001b[38;5;21;01m.\u001b[39;00m\u001b[38;5;21;01mmodel\u001b[39;00m \u001b[38;5;28;01mimport\u001b[39;00m ModelObject\n\u001b[1;32m      7\u001b[0m __all__ \u001b[38;5;241m=\u001b[39m [\n\u001b[1;32m      8\u001b[0m     \u001b[38;5;124m'\u001b[39m\u001b[38;5;124msnowflakesession\u001b[39m\u001b[38;5;124m'\u001b[39m,\n\u001b[1;32m      9\u001b[0m     \u001b[38;5;124m'\u001b[39m\u001b[38;5;124mModelRegistry\u001b[39m\u001b[38;5;124m'\u001b[39m,\n\u001b[0;32m   (...)\u001b[0m\n\u001b[1;32m     14\u001b[0m     \u001b[38;5;124m'\u001b[39m\u001b[38;5;124mModelObject\u001b[39m\u001b[38;5;124m'\u001b[39m\n\u001b[1;32m     15\u001b[0m ]\n",
      "File \u001b[0;32m~/fdc-fosforml/fosforml/model_manager/model.py:4\u001b[0m\n\u001b[1;32m      2\u001b[0m \u001b[38;5;28;01mimport\u001b[39;00m \u001b[38;5;21;01mpandas\u001b[39;00m \u001b[38;5;28;01mas\u001b[39;00m \u001b[38;5;21;01mpd\u001b[39;00m\n\u001b[1;32m      3\u001b[0m \u001b[38;5;28;01mimport\u001b[39;00m \u001b[38;5;21;01mjson\u001b[39;00m\n\u001b[0;32m----> 4\u001b[0m \u001b[38;5;28;01mfrom\u001b[39;00m \u001b[38;5;21;01mconstants\u001b[39;00m \u001b[38;5;28;01mimport\u001b[39;00m SnowflakeTables\n\u001b[1;32m      6\u001b[0m \u001b[38;5;28;01mclass\u001b[39;00m \u001b[38;5;21;01mModelObject\u001b[39;00m:\n\u001b[1;32m      7\u001b[0m     \u001b[38;5;28;01mdef\u001b[39;00m \u001b[38;5;21m__init__\u001b[39m(\u001b[38;5;28mself\u001b[39m, model,model_type,snowflake_model\u001b[38;5;241m=\u001b[39m\u001b[38;5;28;01mTrue\u001b[39;00m):\n",
      "\u001b[0;31mModuleNotFoundError\u001b[0m: No module named 'constants'"
     ]
    }
   ],
   "source": [
    "from fosforml import register_model\n",
    "\n",
    "register_model(\n",
    "  model_obj=pipeline,\n",
    "  session=session,\n",
    "  name=\"TestModelForDrifts\",\n",
    "  snowflake_df=pred_snow_df,\n",
    "  dataset_name=\"HR_CHURN\",\n",
    "  dataset_source=\"Dataset\",\n",
    "  source=\"snowflake\",\n",
    "  description=\"This is a Snowflake model\",\n",
    "  flavour=\"snowflake\",\n",
    "  model_type=\"classification\",\n",
    "  conda_dependencies=[\"scikit-learn==1.3.2\"]\n",
    ")"
   ]
  },
  {
   "cell_type": "code",
   "execution_count": null,
   "id": "c2efda67-cf02-4fb6-b958-084e8a79c0f0",
   "metadata": {},
   "outputs": [],
   "source": []
  },
  {
   "cell_type": "code",
   "execution_count": null,
   "id": "ea906b84-9728-49df-8348-16c8515aa016",
   "metadata": {},
   "outputs": [],
   "source": []
  }
 ],
 "metadata": {
  "kernelspec": {
   "display_name": "Python 3 (ipykernel)",
   "language": "python",
   "name": "python3"
  },
  "language_info": {
   "codemirror_mode": {
    "name": "ipython",
    "version": 3
   },
   "file_extension": ".py",
   "mimetype": "text/x-python",
   "name": "python",
   "nbconvert_exporter": "python",
   "pygments_lexer": "ipython3",
   "version": "3.9.19"
  }
 },
 "nbformat": 4,
 "nbformat_minor": 5
}
