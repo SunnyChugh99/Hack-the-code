{
 "cells": [
  {
   "cell_type": "code",
   "execution_count": 3,
   "id": "7639dde7",
   "metadata": {},
   "outputs": [],
   "source": [
    "# session.write_pandas(df,table_name=\"HR_CHURN\",auto_create_table=True).show()"
   ]
  },
  {
   "cell_type": "code",
   "execution_count": 1,
   "id": "2876d7a6",
   "metadata": {},
   "outputs": [],
   "source": [
    "from fosforml.model_manager.snowflakesession import get_session"
   ]
  },
  {
   "cell_type": "code",
   "execution_count": 2,
   "id": "727d4c6a-742e-4cbd-9b9c-08f2c45334c6",
   "metadata": {},
   "outputs": [],
   "source": [
    "session =  get_session()"
   ]
  },
  {
   "cell_type": "code",
   "execution_count": 3,
   "id": "7c1efc3f-d1a6-4f60-b832-d8207b3d9e28",
   "metadata": {},
   "outputs": [
    {
     "data": {
      "text/plain": [
       "<snowflake.snowpark.session.Session at 0x7f0501e9f520>"
      ]
     },
     "execution_count": 3,
     "metadata": {},
     "output_type": "execute_result"
    }
   ],
   "source": [
    "session"
   ]
  },
  {
   "cell_type": "code",
   "execution_count": 4,
   "id": "68fac18e",
   "metadata": {},
   "outputs": [],
   "source": [
    "from snowflake.snowpark.session import Session,col\n",
    "import snowflake.snowpark.functions\n",
    "from snowflake.ml.modeling.metrics import confusion_matrix, accuracy_score, f1_score, recall_score,precision_score\n",
    "from snowflake.ml.modeling.preprocessing import LabelEncoder, StandardScaler\n",
    "from snowflake.ml.modeling.impute import SimpleImputer\n",
    "from snowflake.ml.modeling.ensemble import GradientBoostingClassifier\n",
    "from snowflake.ml.modeling.xgboost import XGBClassifier\n",
    "from snowflake.ml.modeling.pipeline import Pipeline\n",
    "import snowflake"
   ]
  },
  {
   "cell_type": "code",
   "execution_count": 5,
   "id": "49d41f5e",
   "metadata": {},
   "outputs": [],
   "source": [
    "def apply_label_encoding(input_data_frame):\n",
    "    for i in input_data_frame.dtypes:\n",
    "        if i[1].find('string') >= 0:\n",
    "            label_encoder = LabelEncoder(input_cols=i[0],output_cols=i[0],drop_input_cols=True)\n",
    "            input_data_frame = label_encoder.fit(input_data_frame).transform(input_data_frame)\n",
    "    return input_data_frame"
   ]
  },
  {
   "cell_type": "code",
   "execution_count": 6,
   "id": "d4fdf4b9",
   "metadata": {},
   "outputs": [],
   "source": [
    "import pandas as pd\n",
    "df = pd.read_csv(\"HR_CHURN.csv\")\n",
    "# snow_df = session.table(\"HR_CHURN\")\n",
    "snow_df = session.create_dataframe(df)\n",
    "input_data_frame, test_df = snow_df.randomSplit([0.75, 0.25])"
   ]
  },
  {
   "cell_type": "code",
   "execution_count": 7,
   "id": "eff73986",
   "metadata": {},
   "outputs": [
    {
     "name": "stdout",
     "output_type": "stream",
     "text": [
      "-------------------------------------------------------------------------------------------------------------------------------------------------------------------------------------------------------------\n",
      "|\"Unnamed: 0\"  |\"SATISFACTION_LEVEL\"  |\"LAST_EVALUATION\"  |\"NUMBER_PROJECT\"  |\"AVERAGE_MONTLY_HOURS\"  |\"TIME_SPEND_COMPANY\"  |\"WORK_ACCIDENT\"  |\"LEFT\"  |\"PROMOTION_LAST_5YEARS\"  |\"DEPARTMENT\"  |\"SALARY\"  |\n",
      "-------------------------------------------------------------------------------------------------------------------------------------------------------------------------------------------------------------\n",
      "|0             |0.38                  |0.53               |2                 |157                     |3                     |0                |1       |0                        |sales         |low       |\n",
      "|1             |0.8                   |0.86               |5                 |262                     |6                     |0                |1       |0                        |sales         |medium    |\n",
      "|2             |0.11                  |0.88               |7                 |272                     |4                     |0                |1       |0                        |sales         |medium    |\n",
      "|4             |0.37                  |0.52               |2                 |159                     |3                     |0                |1       |0                        |sales         |low       |\n",
      "|5             |0.41                  |0.5                |2                 |153                     |3                     |0                |1       |0                        |sales         |low       |\n",
      "|8             |0.89                  |1.0                |5                 |224                     |5                     |0                |1       |0                        |sales         |low       |\n",
      "|9             |0.42                  |0.53               |2                 |142                     |3                     |0                |1       |0                        |sales         |low       |\n",
      "|10            |0.45                  |0.54               |2                 |135                     |3                     |0                |1       |0                        |sales         |low       |\n",
      "|11            |0.11                  |0.81               |6                 |305                     |4                     |0                |1       |0                        |sales         |low       |\n",
      "|12            |0.84                  |0.92               |4                 |234                     |5                     |0                |1       |0                        |sales         |low       |\n",
      "-------------------------------------------------------------------------------------------------------------------------------------------------------------------------------------------------------------\n",
      "\n"
     ]
    }
   ],
   "source": [
    "input_data_frame.show()"
   ]
  },
  {
   "cell_type": "code",
   "execution_count": 8,
   "id": "1f02d4b3",
   "metadata": {
    "scrolled": true
   },
   "outputs": [
    {
     "name": "stdout",
     "output_type": "stream",
     "text": [
      "-------------------------------------------------------------------------------------------------------------------------------------------------------------------------------------------------------------\n",
      "|\"SALARY\"  |\"DEPARTMENT\"  |\"Unnamed: 0\"  |\"SATISFACTION_LEVEL\"  |\"LAST_EVALUATION\"  |\"NUMBER_PROJECT\"  |\"AVERAGE_MONTLY_HOURS\"  |\"TIME_SPEND_COMPANY\"  |\"WORK_ACCIDENT\"  |\"LEFT\"  |\"PROMOTION_LAST_5YEARS\"  |\n",
      "-------------------------------------------------------------------------------------------------------------------------------------------------------------------------------------------------------------\n",
      "|1.0       |7.0           |0             |0.38                  |0.53               |2                 |157                     |3                     |0                |1       |0                        |\n",
      "|2.0       |7.0           |1             |0.8                   |0.86               |5                 |262                     |6                     |0                |1       |0                        |\n",
      "|2.0       |7.0           |2             |0.11                  |0.88               |7                 |272                     |4                     |0                |1       |0                        |\n",
      "|1.0       |7.0           |4             |0.37                  |0.52               |2                 |159                     |3                     |0                |1       |0                        |\n",
      "|1.0       |7.0           |5             |0.41                  |0.5                |2                 |153                     |3                     |0                |1       |0                        |\n",
      "|1.0       |7.0           |8             |0.89                  |1.0                |5                 |224                     |5                     |0                |1       |0                        |\n",
      "|1.0       |7.0           |9             |0.42                  |0.53               |2                 |142                     |3                     |0                |1       |0                        |\n",
      "|1.0       |7.0           |10            |0.45                  |0.54               |2                 |135                     |3                     |0                |1       |0                        |\n",
      "|1.0       |7.0           |11            |0.11                  |0.81               |6                 |305                     |4                     |0                |1       |0                        |\n",
      "|1.0       |7.0           |12            |0.84                  |0.92               |4                 |234                     |5                     |0                |1       |0                        |\n",
      "-------------------------------------------------------------------------------------------------------------------------------------------------------------------------------------------------------------\n",
      "\n"
     ]
    }
   ],
   "source": [
    "label_encoder_column = []     \n",
    "input_data_frame = apply_label_encoding(input_data_frame)\n",
    "feature_cols = input_data_frame.columns\n",
    "target_col = \"SALARY\"\n",
    "feature_cols.remove(target_col)\n",
    "OUTPUT_COLS = [target_col + '_PREDICTION']\n",
    "input_data_frame.show()"
   ]
  },
  {
   "cell_type": "code",
   "execution_count": 9,
   "id": "2d08d49c",
   "metadata": {},
   "outputs": [
    {
     "name": "stderr",
     "output_type": "stream",
     "text": [
      "The version of package 'snowflake-snowpark-python' in the local environment is 1.20.0, which does not fit the criteria for the requirement 'snowflake-snowpark-python'. Your UDF might not work when the package version is different between the server and your local environment.\n"
     ]
    },
    {
     "data": {
      "text/plain": [
       "<snowflake.ml.modeling.xgboost.xgb_classifier.XGBClassifier at 0x7f0500062a00>"
      ]
     },
     "execution_count": 9,
     "metadata": {},
     "output_type": "execute_result"
    }
   ],
   "source": [
    "pipeline = XGBClassifier(input_cols=feature_cols, label_cols=target_col)\n",
    "pipeline.fit(input_data_frame)"
   ]
  },
  {
   "cell_type": "code",
   "execution_count": 15,
   "id": "13539209-fe40-4a98-8f73-49f34e730943",
   "metadata": {},
   "outputs": [],
   "source": [
    "import snowflake"
   ]
  },
  {
   "cell_type": "code",
   "execution_count": 21,
   "id": "15decdfd-c220-419b-a1b8-bedb2aec8893",
   "metadata": {},
   "outputs": [],
   "source": [
    "from snowflake.ml.model.custom_model import inference_api"
   ]
  },
  {
   "cell_type": "code",
   "execution_count": 30,
   "id": "2b320902-e089-43c8-b89d-497a18a67525",
   "metadata": {},
   "outputs": [
    {
     "data": {
      "text/plain": [
       "<function snowflake.ml.model.custom_model.inference_api(func: Callable[[~CustomModelType, pandas.core.frame.DataFrame], pandas.core.frame.DataFrame]) -> Callable[[~CustomModelType, pandas.core.frame.DataFrame], pandas.core.frame.DataFrame]>"
      ]
     },
     "execution_count": 30,
     "metadata": {},
     "output_type": "execute_result"
    }
   ],
   "source": []
  },
  {
   "cell_type": "code",
   "execution_count": null,
   "id": "ee361be2-54e4-45a6-8949-4739959ca1ba",
   "metadata": {},
   "outputs": [],
   "source": []
  },
  {
   "cell_type": "code",
   "execution_count": 40,
   "id": "72346d7e-1f29-496d-9d7e-8dc982b12cf2",
   "metadata": {},
   "outputs": [],
   "source": [
    "from snowflake.ml.model import custom_model\n",
    "from snowflake.ml.model.custom_model import ModelContext\n",
    "\n",
    "##user provide preprocessing\n",
    "def pre_process(input_data_frame):\n",
    "    return apply_label_encoding(input_data_frame)\n",
    "\n",
    "## To be created and handled within fosforml\n",
    "mc = custom_model.ModelContext(\n",
    "    models={\n",
    "        'm1': pipeline\n",
    "    }\n",
    ")\n",
    "\n",
    "## To be created and handled within fosforml\n",
    "class FDCCustomModel(custom_model.CustomModel):\n",
    "    def __init__(self, context: ModelContext) -> None:\n",
    "        super().__init__(context)\n",
    "        \n",
    "    def predict(self, input_data: snowflake.snowpark.dataframe.DataFrame) -> snowflake.snowpark.dataframe.DataFrame:\n",
    "        input_features = pre_process(input_data)\n",
    "        model_output = self.context.model_ref('m1').predict(input_features)\n",
    "        return pd.DataFrame({\n",
    "            'output': model_output })\n",
    "\n"
   ]
  },
  {
   "cell_type": "code",
   "execution_count": 41,
   "id": "77bbb37e-6d1f-4d4d-ad4f-443e8fd70743",
   "metadata": {},
   "outputs": [],
   "source": [
    "my_model_pipeline = FDCCustomModel(mc)"
   ]
  },
  {
   "cell_type": "code",
   "execution_count": 42,
   "id": "ceeadd78-ed37-4b56-8a62-cc1bd13288d4",
   "metadata": {},
   "outputs": [
    {
     "name": "stdout",
     "output_type": "stream",
     "text": [
      "-------------------------------------------------------------------------------------------------------------------------------------------------------------------------------------------------------------------------------\n",
      "|\"SALARY\"  |\"DEPARTMENT\"  |\"Unnamed: 0\"  |\"SATISFACTION_LEVEL\"  |\"LAST_EVALUATION\"  |\"NUMBER_PROJECT\"  |\"AVERAGE_MONTLY_HOURS\"  |\"TIME_SPEND_COMPANY\"  |\"WORK_ACCIDENT\"  |\"LEFT\"  |\"PROMOTION_LAST_5YEARS\"  |\"OUTPUT_SALARY\"  |\n",
      "-------------------------------------------------------------------------------------------------------------------------------------------------------------------------------------------------------------------------------\n",
      "|1.0       |7.0           |3             |0.72                  |0.87               |5                 |223                     |5                     |0                |1       |0                        |1.0              |\n",
      "|1.0       |7.0           |6             |0.1                   |0.77               |6                 |247                     |4                     |0                |1       |0                        |1.0              |\n",
      "|1.0       |7.0           |7             |0.92                  |0.85               |5                 |259                     |5                     |0                |1       |0                        |1.0              |\n",
      "|1.0       |7.0           |14            |0.36                  |0.56               |2                 |137                     |3                     |0                |1       |0                        |1.0              |\n",
      "|1.0       |7.0           |17            |0.78                  |0.99               |4                 |255                     |6                     |0                |1       |0                        |1.0              |\n",
      "|1.0       |7.0           |26            |0.82                  |0.87               |4                 |239                     |5                     |0                |1       |0                        |1.0              |\n",
      "|1.0       |2.0           |28            |0.41                  |0.46               |2                 |128                     |3                     |0                |1       |0                        |1.0              |\n",
      "|1.0       |9.0           |36            |0.38                  |0.46               |2                 |137                     |3                     |0                |1       |0                        |1.0              |\n",
      "|1.0       |9.0           |39            |0.41                  |0.54               |2                 |152                     |3                     |0                |1       |0                        |1.0              |\n",
      "|1.0       |8.0           |47            |0.57                  |0.7                |3                 |273                     |6                     |0                |1       |0                        |1.0              |\n",
      "-------------------------------------------------------------------------------------------------------------------------------------------------------------------------------------------------------------------------------\n",
      "\n"
     ]
    }
   ],
   "source": [
    "my_model_pipeline.predict(test_df).show()"
   ]
  },
  {
   "cell_type": "code",
   "execution_count": 39,
   "id": "286a7cbe-7e85-40a5-a3d3-87bc0e346036",
   "metadata": {},
   "outputs": [
    {
     "ename": "RuntimeError",
     "evalue": "(0000) The meta data is not ready to save.",
     "output_type": "error",
     "traceback": [
      "\u001b[0;31m---------------------------------------------------------------------------\u001b[0m",
      "\u001b[0;31mRuntimeError\u001b[0m                              Traceback (most recent call last)",
      "File \u001b[0;32m/opt/conda/lib/python3.9/site-packages/snowflake/ml/_internal/telemetry.py:367\u001b[0m, in \u001b[0;36msend_api_usage_telemetry.<locals>.decorator.<locals>.wrap\u001b[0;34m(*args, **kwargs)\u001b[0m\n\u001b[1;32m    366\u001b[0m \u001b[38;5;28;01mtry\u001b[39;00m:\n\u001b[0;32m--> 367\u001b[0m     res \u001b[38;5;241m=\u001b[39m \u001b[43mfunc\u001b[49m\u001b[43m(\u001b[49m\u001b[38;5;241;43m*\u001b[39;49m\u001b[43margs\u001b[49m\u001b[43m,\u001b[49m\u001b[43m \u001b[49m\u001b[38;5;241;43m*\u001b[39;49m\u001b[38;5;241;43m*\u001b[39;49m\u001b[43mkwargs\u001b[49m\u001b[43m)\u001b[49m\n\u001b[1;32m    368\u001b[0m \u001b[38;5;28;01mexcept\u001b[39;00m \u001b[38;5;167;01mException\u001b[39;00m \u001b[38;5;28;01mas\u001b[39;00m e:\n",
      "File \u001b[0;32m/opt/conda/lib/python3.9/site-packages/snowflake/ml/registry/registry.py:156\u001b[0m, in \u001b[0;36mRegistry.log_model\u001b[0;34m(self, model, model_name, version_name, comment, metrics, conda_dependencies, pip_requirements, python_version, signatures, sample_input_data, code_paths, ext_modules, options)\u001b[0m\n\u001b[1;32m    151\u001b[0m     \u001b[38;5;28;01mraise\u001b[39;00m \u001b[38;5;167;01mNotImplementedError\u001b[39;00m(\n\u001b[1;32m    152\u001b[0m         \u001b[38;5;124m\"\u001b[39m\u001b[38;5;124mCurrently `pip_requirements` is not supported since Model can only executed \u001b[39m\u001b[38;5;124m\"\u001b[39m\n\u001b[1;32m    153\u001b[0m         \u001b[38;5;124m\"\u001b[39m\u001b[38;5;124min Snowflake Warehouse where all dependencies are required to be retrieved \u001b[39m\u001b[38;5;124m\"\u001b[39m\n\u001b[1;32m    154\u001b[0m         \u001b[38;5;124m\"\u001b[39m\u001b[38;5;124mfrom Snowflake Anaconda Channel.\u001b[39m\u001b[38;5;124m\"\u001b[39m\n\u001b[1;32m    155\u001b[0m     )\n\u001b[0;32m--> 156\u001b[0m \u001b[38;5;28;01mreturn\u001b[39;00m \u001b[38;5;28;43mself\u001b[39;49m\u001b[38;5;241;43m.\u001b[39;49m\u001b[43m_model_manager\u001b[49m\u001b[38;5;241;43m.\u001b[39;49m\u001b[43mlog_model\u001b[49m\u001b[43m(\u001b[49m\n\u001b[1;32m    157\u001b[0m \u001b[43m    \u001b[49m\u001b[43mmodel\u001b[49m\u001b[38;5;241;43m=\u001b[39;49m\u001b[43mmodel\u001b[49m\u001b[43m,\u001b[49m\n\u001b[1;32m    158\u001b[0m \u001b[43m    \u001b[49m\u001b[43mmodel_name\u001b[49m\u001b[38;5;241;43m=\u001b[39;49m\u001b[43mmodel_name\u001b[49m\u001b[43m,\u001b[49m\n\u001b[1;32m    159\u001b[0m \u001b[43m    \u001b[49m\u001b[43mversion_name\u001b[49m\u001b[38;5;241;43m=\u001b[39;49m\u001b[43mversion_name\u001b[49m\u001b[43m,\u001b[49m\n\u001b[1;32m    160\u001b[0m \u001b[43m    \u001b[49m\u001b[43mcomment\u001b[49m\u001b[38;5;241;43m=\u001b[39;49m\u001b[43mcomment\u001b[49m\u001b[43m,\u001b[49m\n\u001b[1;32m    161\u001b[0m \u001b[43m    \u001b[49m\u001b[43mmetrics\u001b[49m\u001b[38;5;241;43m=\u001b[39;49m\u001b[43mmetrics\u001b[49m\u001b[43m,\u001b[49m\n\u001b[1;32m    162\u001b[0m \u001b[43m    \u001b[49m\u001b[43mconda_dependencies\u001b[49m\u001b[38;5;241;43m=\u001b[39;49m\u001b[43mconda_dependencies\u001b[49m\u001b[43m,\u001b[49m\n\u001b[1;32m    163\u001b[0m \u001b[43m    \u001b[49m\u001b[43mpip_requirements\u001b[49m\u001b[38;5;241;43m=\u001b[39;49m\u001b[38;5;28;43;01mNone\u001b[39;49;00m\u001b[43m,\u001b[49m\n\u001b[1;32m    164\u001b[0m \u001b[43m    \u001b[49m\u001b[43mpython_version\u001b[49m\u001b[38;5;241;43m=\u001b[39;49m\u001b[43mpython_version\u001b[49m\u001b[43m,\u001b[49m\n\u001b[1;32m    165\u001b[0m \u001b[43m    \u001b[49m\u001b[43msignatures\u001b[49m\u001b[38;5;241;43m=\u001b[39;49m\u001b[43msignatures\u001b[49m\u001b[43m,\u001b[49m\n\u001b[1;32m    166\u001b[0m \u001b[43m    \u001b[49m\u001b[43msample_input_data\u001b[49m\u001b[38;5;241;43m=\u001b[39;49m\u001b[43msample_input_data\u001b[49m\u001b[43m,\u001b[49m\n\u001b[1;32m    167\u001b[0m \u001b[43m    \u001b[49m\u001b[43mcode_paths\u001b[49m\u001b[38;5;241;43m=\u001b[39;49m\u001b[43mcode_paths\u001b[49m\u001b[43m,\u001b[49m\n\u001b[1;32m    168\u001b[0m \u001b[43m    \u001b[49m\u001b[43mext_modules\u001b[49m\u001b[38;5;241;43m=\u001b[39;49m\u001b[43mext_modules\u001b[49m\u001b[43m,\u001b[49m\n\u001b[1;32m    169\u001b[0m \u001b[43m    \u001b[49m\u001b[43moptions\u001b[49m\u001b[38;5;241;43m=\u001b[39;49m\u001b[43moptions\u001b[49m\u001b[43m,\u001b[49m\n\u001b[1;32m    170\u001b[0m \u001b[43m    \u001b[49m\u001b[43mstatement_params\u001b[49m\u001b[38;5;241;43m=\u001b[39;49m\u001b[43mstatement_params\u001b[49m\u001b[43m,\u001b[49m\n\u001b[1;32m    171\u001b[0m \u001b[43m\u001b[49m\u001b[43m)\u001b[49m\n",
      "File \u001b[0;32m/opt/conda/lib/python3.9/site-packages/snowflake/ml/registry/_manager/model_manager.py:71\u001b[0m, in \u001b[0;36mModelManager.log_model\u001b[0;34m(self, model, model_name, version_name, comment, metrics, conda_dependencies, pip_requirements, python_version, signatures, sample_input_data, code_paths, ext_modules, options, statement_params)\u001b[0m\n\u001b[1;32m     70\u001b[0m mc \u001b[38;5;241m=\u001b[39m model_composer\u001b[38;5;241m.\u001b[39mModelComposer(\u001b[38;5;28mself\u001b[39m\u001b[38;5;241m.\u001b[39m_model_ops\u001b[38;5;241m.\u001b[39m_session, stage_path\u001b[38;5;241m=\u001b[39mstage_path)\n\u001b[0;32m---> 71\u001b[0m \u001b[43mmc\u001b[49m\u001b[38;5;241;43m.\u001b[39;49m\u001b[43msave\u001b[49m\u001b[43m(\u001b[49m\n\u001b[1;32m     72\u001b[0m \u001b[43m    \u001b[49m\u001b[43mname\u001b[49m\u001b[38;5;241;43m=\u001b[39;49m\u001b[43mmodel_name_id\u001b[49m\u001b[38;5;241;43m.\u001b[39;49m\u001b[43mresolved\u001b[49m\u001b[43m(\u001b[49m\u001b[43m)\u001b[49m\u001b[43m,\u001b[49m\n\u001b[1;32m     73\u001b[0m \u001b[43m    \u001b[49m\u001b[43mmodel\u001b[49m\u001b[38;5;241;43m=\u001b[39;49m\u001b[43mmodel\u001b[49m\u001b[43m,\u001b[49m\n\u001b[1;32m     74\u001b[0m \u001b[43m    \u001b[49m\u001b[43msignatures\u001b[49m\u001b[38;5;241;43m=\u001b[39;49m\u001b[43msignatures\u001b[49m\u001b[43m,\u001b[49m\n\u001b[1;32m     75\u001b[0m \u001b[43m    \u001b[49m\u001b[43msample_input_data\u001b[49m\u001b[38;5;241;43m=\u001b[39;49m\u001b[43msample_input_data\u001b[49m\u001b[43m,\u001b[49m\n\u001b[1;32m     76\u001b[0m \u001b[43m    \u001b[49m\u001b[43mconda_dependencies\u001b[49m\u001b[38;5;241;43m=\u001b[39;49m\u001b[43mconda_dependencies\u001b[49m\u001b[43m,\u001b[49m\n\u001b[1;32m     77\u001b[0m \u001b[43m    \u001b[49m\u001b[43mpip_requirements\u001b[49m\u001b[38;5;241;43m=\u001b[39;49m\u001b[43mpip_requirements\u001b[49m\u001b[43m,\u001b[49m\n\u001b[1;32m     78\u001b[0m \u001b[43m    \u001b[49m\u001b[43mpython_version\u001b[49m\u001b[38;5;241;43m=\u001b[39;49m\u001b[43mpython_version\u001b[49m\u001b[43m,\u001b[49m\n\u001b[1;32m     79\u001b[0m \u001b[43m    \u001b[49m\u001b[43mcode_paths\u001b[49m\u001b[38;5;241;43m=\u001b[39;49m\u001b[43mcode_paths\u001b[49m\u001b[43m,\u001b[49m\n\u001b[1;32m     80\u001b[0m \u001b[43m    \u001b[49m\u001b[43mext_modules\u001b[49m\u001b[38;5;241;43m=\u001b[39;49m\u001b[43mext_modules\u001b[49m\u001b[43m,\u001b[49m\n\u001b[1;32m     81\u001b[0m \u001b[43m    \u001b[49m\u001b[43moptions\u001b[49m\u001b[38;5;241;43m=\u001b[39;49m\u001b[43moptions\u001b[49m\u001b[43m,\u001b[49m\n\u001b[1;32m     82\u001b[0m \u001b[43m\u001b[49m\u001b[43m)\u001b[49m\n\u001b[1;32m     84\u001b[0m logger\u001b[38;5;241m.\u001b[39minfo(\u001b[38;5;124m\"\u001b[39m\u001b[38;5;124mStart creating MODEL object for you in the Snowflake.\u001b[39m\u001b[38;5;124m\"\u001b[39m)\n",
      "File \u001b[0;32m/opt/conda/lib/python3.9/site-packages/snowflake/ml/model/_model_composer/model_composer.py:109\u001b[0m, in \u001b[0;36mModelComposer.save\u001b[0;34m(self, name, model, signatures, sample_input_data, metadata, conda_dependencies, pip_requirements, python_version, ext_modules, code_paths, options)\u001b[0m\n\u001b[1;32m    107\u001b[0m         options[\u001b[38;5;124m\"\u001b[39m\u001b[38;5;124membed_local_ml_library\u001b[39m\u001b[38;5;124m\"\u001b[39m] \u001b[38;5;241m=\u001b[39m \u001b[38;5;28;01mTrue\u001b[39;00m\n\u001b[0;32m--> 109\u001b[0m \u001b[38;5;28;43mself\u001b[39;49m\u001b[38;5;241;43m.\u001b[39;49m\u001b[43mpackager\u001b[49m\u001b[38;5;241;43m.\u001b[39;49m\u001b[43msave\u001b[49m\u001b[43m(\u001b[49m\n\u001b[1;32m    110\u001b[0m \u001b[43m    \u001b[49m\u001b[43mname\u001b[49m\u001b[38;5;241;43m=\u001b[39;49m\u001b[43mname\u001b[49m\u001b[43m,\u001b[49m\n\u001b[1;32m    111\u001b[0m \u001b[43m    \u001b[49m\u001b[43mmodel\u001b[49m\u001b[38;5;241;43m=\u001b[39;49m\u001b[43mmodel\u001b[49m\u001b[43m,\u001b[49m\n\u001b[1;32m    112\u001b[0m \u001b[43m    \u001b[49m\u001b[43msignatures\u001b[49m\u001b[38;5;241;43m=\u001b[39;49m\u001b[43msignatures\u001b[49m\u001b[43m,\u001b[49m\n\u001b[1;32m    113\u001b[0m \u001b[43m    \u001b[49m\u001b[43msample_input_data\u001b[49m\u001b[38;5;241;43m=\u001b[39;49m\u001b[43msample_input_data\u001b[49m\u001b[43m,\u001b[49m\n\u001b[1;32m    114\u001b[0m \u001b[43m    \u001b[49m\u001b[43mmetadata\u001b[49m\u001b[38;5;241;43m=\u001b[39;49m\u001b[43mmetadata\u001b[49m\u001b[43m,\u001b[49m\n\u001b[1;32m    115\u001b[0m \u001b[43m    \u001b[49m\u001b[43mconda_dependencies\u001b[49m\u001b[38;5;241;43m=\u001b[39;49m\u001b[43mconda_dependencies\u001b[49m\u001b[43m,\u001b[49m\n\u001b[1;32m    116\u001b[0m \u001b[43m    \u001b[49m\u001b[43mpip_requirements\u001b[49m\u001b[38;5;241;43m=\u001b[39;49m\u001b[43mpip_requirements\u001b[49m\u001b[43m,\u001b[49m\n\u001b[1;32m    117\u001b[0m \u001b[43m    \u001b[49m\u001b[43mpython_version\u001b[49m\u001b[38;5;241;43m=\u001b[39;49m\u001b[43mpython_version\u001b[49m\u001b[43m,\u001b[49m\n\u001b[1;32m    118\u001b[0m \u001b[43m    \u001b[49m\u001b[43mext_modules\u001b[49m\u001b[38;5;241;43m=\u001b[39;49m\u001b[43mext_modules\u001b[49m\u001b[43m,\u001b[49m\n\u001b[1;32m    119\u001b[0m \u001b[43m    \u001b[49m\u001b[43mcode_paths\u001b[49m\u001b[38;5;241;43m=\u001b[39;49m\u001b[43mcode_paths\u001b[49m\u001b[43m,\u001b[49m\n\u001b[1;32m    120\u001b[0m \u001b[43m    \u001b[49m\u001b[43moptions\u001b[49m\u001b[38;5;241;43m=\u001b[39;49m\u001b[43moptions\u001b[49m\u001b[43m,\u001b[49m\n\u001b[1;32m    121\u001b[0m \u001b[43m\u001b[49m\u001b[43m)\u001b[49m\n\u001b[1;32m    123\u001b[0m \u001b[38;5;28;01massert\u001b[39;00m \u001b[38;5;28mself\u001b[39m\u001b[38;5;241m.\u001b[39mpackager\u001b[38;5;241m.\u001b[39mmeta \u001b[38;5;129;01mis\u001b[39;00m \u001b[38;5;129;01mnot\u001b[39;00m \u001b[38;5;28;01mNone\u001b[39;00m\n",
      "File \u001b[0;32m/opt/conda/lib/python3.9/site-packages/snowflake/ml/model/_packager/model_packager.py:102\u001b[0m, in \u001b[0;36mModelPackager.save\u001b[0;34m(self, name, model, signatures, sample_input_data, metadata, conda_dependencies, pip_requirements, python_version, ext_modules, code_paths, options)\u001b[0m\n\u001b[1;32m    101\u001b[0m     \u001b[38;5;28;01mif\u001b[39;00m signatures \u001b[38;5;129;01mis\u001b[39;00m \u001b[38;5;28;01mNone\u001b[39;00m:\n\u001b[0;32m--> 102\u001b[0m         logging\u001b[38;5;241m.\u001b[39minfo(\u001b[38;5;124mf\u001b[39m\u001b[38;5;124m\"\u001b[39m\u001b[38;5;124mModel signatures are auto inferred as:\u001b[39m\u001b[38;5;130;01m\\n\u001b[39;00m\u001b[38;5;130;01m\\n\u001b[39;00m\u001b[38;5;132;01m{\u001b[39;00mmeta\u001b[38;5;241m.\u001b[39msignatures\u001b[38;5;132;01m}\u001b[39;00m\u001b[38;5;124m\"\u001b[39m)\n\u001b[1;32m    104\u001b[0m \u001b[38;5;28mself\u001b[39m\u001b[38;5;241m.\u001b[39mmodel \u001b[38;5;241m=\u001b[39m model\n",
      "File \u001b[0;32m/opt/conda/lib/python3.9/contextlib.py:126\u001b[0m, in \u001b[0;36m_GeneratorContextManager.__exit__\u001b[0;34m(self, typ, value, traceback)\u001b[0m\n\u001b[1;32m    125\u001b[0m \u001b[38;5;28;01mtry\u001b[39;00m:\n\u001b[0;32m--> 126\u001b[0m     \u001b[38;5;28;43mnext\u001b[39;49m\u001b[43m(\u001b[49m\u001b[38;5;28;43mself\u001b[39;49m\u001b[38;5;241;43m.\u001b[39;49m\u001b[43mgen\u001b[49m\u001b[43m)\u001b[49m\n\u001b[1;32m    127\u001b[0m \u001b[38;5;28;01mexcept\u001b[39;00m \u001b[38;5;167;01mStopIteration\u001b[39;00m:\n",
      "File \u001b[0;32m/opt/conda/lib/python3.9/site-packages/snowflake/ml/model/_packager/model_meta/model_meta.py:161\u001b[0m, in \u001b[0;36mcreate_model_metadata\u001b[0;34m(model_dir_path, name, model_type, signatures, metadata, code_paths, ext_modules, conda_dependencies, pip_requirements, python_version, **kwargs)\u001b[0m\n\u001b[1;32m    160\u001b[0m         model_meta\u001b[38;5;241m.\u001b[39menv\u001b[38;5;241m.\u001b[39mrelax_version()\n\u001b[0;32m--> 161\u001b[0m     \u001b[43mmodel_meta\u001b[49m\u001b[38;5;241;43m.\u001b[39;49m\u001b[43msave\u001b[49m\u001b[43m(\u001b[49m\u001b[43mmodel_dir_path\u001b[49m\u001b[43m)\u001b[49m\n\u001b[1;32m    162\u001b[0m \u001b[38;5;28;01mfinally\u001b[39;00m:\n",
      "File \u001b[0;32m/opt/conda/lib/python3.9/site-packages/snowflake/ml/model/_packager/model_meta/model_meta.py:301\u001b[0m, in \u001b[0;36mModelMetadata.save\u001b[0;34m(self, model_dir_path)\u001b[0m\n\u001b[1;32m    300\u001b[0m \u001b[38;5;28;01mif\u001b[39;00m (\u001b[38;5;129;01mnot\u001b[39;00m \u001b[38;5;28mself\u001b[39m\u001b[38;5;241m.\u001b[39msignatures) \u001b[38;5;129;01mor\u001b[39;00m (\u001b[38;5;28mself\u001b[39m\u001b[38;5;241m.\u001b[39mname \u001b[38;5;129;01mnot\u001b[39;00m \u001b[38;5;129;01min\u001b[39;00m \u001b[38;5;28mself\u001b[39m\u001b[38;5;241m.\u001b[39mmodels):\n\u001b[0;32m--> 301\u001b[0m     \u001b[38;5;28;01mraise\u001b[39;00m \u001b[38;5;167;01mRuntimeError\u001b[39;00m(\u001b[38;5;124m\"\u001b[39m\u001b[38;5;124mThe meta data is not ready to save.\u001b[39m\u001b[38;5;124m\"\u001b[39m)\n\u001b[1;32m    303\u001b[0m model_dict \u001b[38;5;241m=\u001b[39m model_meta_schema\u001b[38;5;241m.\u001b[39mModelMetadataDict(\n\u001b[1;32m    304\u001b[0m     {\n\u001b[1;32m    305\u001b[0m         \u001b[38;5;124m\"\u001b[39m\u001b[38;5;124mcreation_timestamp\u001b[39m\u001b[38;5;124m\"\u001b[39m: \u001b[38;5;28mself\u001b[39m\u001b[38;5;241m.\u001b[39mcreation_timestamp,\n\u001b[0;32m   (...)\u001b[0m\n\u001b[1;32m    318\u001b[0m     }\n\u001b[1;32m    319\u001b[0m )\n",
      "\u001b[0;31mRuntimeError\u001b[0m: The meta data is not ready to save.",
      "\nThe above exception was the direct cause of the following exception:\n",
      "\u001b[0;31mRuntimeError\u001b[0m                              Traceback (most recent call last)",
      "Cell \u001b[0;32mIn[39], line 3\u001b[0m\n\u001b[1;32m      1\u001b[0m \u001b[38;5;28;01mfrom\u001b[39;00m \u001b[38;5;21;01msnowflake\u001b[39;00m\u001b[38;5;21;01m.\u001b[39;00m\u001b[38;5;21;01mml\u001b[39;00m\u001b[38;5;21;01m.\u001b[39;00m\u001b[38;5;21;01mregistry\u001b[39;00m \u001b[38;5;28;01mimport\u001b[39;00m Registry\n\u001b[1;32m      2\u001b[0m reg \u001b[38;5;241m=\u001b[39m Registry(session\u001b[38;5;241m=\u001b[39msession, database_name\u001b[38;5;241m=\u001b[39m\u001b[38;5;124m\"\u001b[39m\u001b[38;5;124mINSIGHT_DESIGNER_SPCS\u001b[39m\u001b[38;5;124m\"\u001b[39m, schema_name\u001b[38;5;241m=\u001b[39m\u001b[38;5;124m\"\u001b[39m\u001b[38;5;124mINSIGHT_SPCS_SCHEMA\u001b[39m\u001b[38;5;124m\"\u001b[39m)\n\u001b[0;32m----> 3\u001b[0m mv \u001b[38;5;241m=\u001b[39m \u001b[43mreg\u001b[49m\u001b[38;5;241;43m.\u001b[39;49m\u001b[43mlog_model\u001b[49m\u001b[43m(\u001b[49m\u001b[43mmy_model_pipeline\u001b[49m\u001b[43m,\u001b[49m\n\u001b[1;32m      4\u001b[0m \u001b[43m            \u001b[49m\u001b[43mmodel_name\u001b[49m\u001b[38;5;241;43m=\u001b[39;49m\u001b[38;5;124;43m\"\u001b[39;49m\u001b[38;5;124;43mcustom_model_snowflake\u001b[39;49m\u001b[38;5;124;43m\"\u001b[39;49m\u001b[43m,\u001b[49m\n\u001b[1;32m      5\u001b[0m \u001b[43m            \u001b[49m\u001b[43mversion_name\u001b[49m\u001b[38;5;241;43m=\u001b[39;49m\u001b[38;5;124;43m\"\u001b[39;49m\u001b[38;5;124;43mv7\u001b[39;49m\u001b[38;5;124;43m\"\u001b[39;49m\u001b[43m,\u001b[49m\n\u001b[1;32m      6\u001b[0m \u001b[43m            \u001b[49m\u001b[43mconda_dependencies\u001b[49m\u001b[38;5;241;43m=\u001b[39;49m\u001b[43m[\u001b[49m\u001b[38;5;124;43m\"\u001b[39;49m\u001b[38;5;124;43mscikit-learn\u001b[39;49m\u001b[38;5;124;43m\"\u001b[39;49m\u001b[43m]\u001b[49m\u001b[43m,\u001b[49m\n\u001b[1;32m      7\u001b[0m \u001b[43m            \u001b[49m\u001b[43mcomment\u001b[49m\u001b[38;5;241;43m=\u001b[39;49m\u001b[38;5;124;43m\"\u001b[39;49m\u001b[38;5;124;43mMy Custom ML Model Pipeline\u001b[39;49m\u001b[38;5;124;43m\"\u001b[39;49m\u001b[43m,\u001b[49m\n\u001b[1;32m      8\u001b[0m \u001b[43m            \u001b[49m\u001b[43msample_input_data\u001b[49m\u001b[38;5;241;43m=\u001b[39;49m\u001b[43minput_data_frame\u001b[49m\u001b[43m)\u001b[49m\n",
      "File \u001b[0;32m/opt/conda/lib/python3.9/site-packages/snowflake/ml/_internal/telemetry.py:389\u001b[0m, in \u001b[0;36msend_api_usage_telemetry.<locals>.decorator.<locals>.wrap\u001b[0;34m(*args, **kwargs)\u001b[0m\n\u001b[1;32m    387\u001b[0m         \u001b[38;5;28;01mraise\u001b[39;00m me\u001b[38;5;241m.\u001b[39moriginal_exception \u001b[38;5;28;01mfrom\u001b[39;00m \u001b[38;5;28;01mNone\u001b[39;00m\n\u001b[1;32m    388\u001b[0m     \u001b[38;5;28;01melse\u001b[39;00m:\n\u001b[0;32m--> 389\u001b[0m         \u001b[38;5;28;01mraise\u001b[39;00m me\u001b[38;5;241m.\u001b[39moriginal_exception \u001b[38;5;28;01mfrom\u001b[39;00m \u001b[38;5;21;01me\u001b[39;00m\n\u001b[1;32m    390\u001b[0m \u001b[38;5;28;01melse\u001b[39;00m:\n\u001b[1;32m    391\u001b[0m     \u001b[38;5;28;01mreturn\u001b[39;00m update_stmt_params_if_snowpark_df(res, statement_params)\n",
      "\u001b[0;31mRuntimeError\u001b[0m: (0000) The meta data is not ready to save."
     ]
    }
   ],
   "source": [
    "from snowflake.ml.registry import Registry\n",
    "reg = Registry(session=session, database_name=\"INSIGHT_DESIGNER_SPCS\", schema_name=\"INSIGHT_SPCS_SCHEMA\")\n",
    "mv = reg.log_model(my_model_pipeline,\n",
    "            model_name=\"custom_model_snowflake\",\n",
    "            version_name=\"v7\",\n",
    "            conda_dependencies=[\"scikit-learn\"],\n",
    "            comment=\"My Custom ML Model Pipeline\",\n",
    "            sample_input_data=input_data_frame)"
   ]
  },
  {
   "cell_type": "code",
   "execution_count": null,
   "id": "9d9b8130-c120-487b-832b-cda4f5d52126",
   "metadata": {},
   "outputs": [],
   "source": []
  },
  {
   "cell_type": "code",
   "execution_count": 10,
   "id": "d0e05f10",
   "metadata": {},
   "outputs": [],
   "source": [
    "pred_snow_df = pipeline.predict(apply_label_encoding(test_df))"
   ]
  },
  {
   "cell_type": "code",
   "execution_count": 11,
   "id": "a2a74d4b",
   "metadata": {},
   "outputs": [
    {
     "name": "stdout",
     "output_type": "stream",
     "text": [
      "-------------------------------------------------------------------------------------------------------------------------------------------------------------------------------------------------------------------------------\n",
      "|\"SALARY\"  |\"DEPARTMENT\"  |\"Unnamed: 0\"  |\"SATISFACTION_LEVEL\"  |\"LAST_EVALUATION\"  |\"NUMBER_PROJECT\"  |\"AVERAGE_MONTLY_HOURS\"  |\"TIME_SPEND_COMPANY\"  |\"WORK_ACCIDENT\"  |\"LEFT\"  |\"PROMOTION_LAST_5YEARS\"  |\"OUTPUT_SALARY\"  |\n",
      "-------------------------------------------------------------------------------------------------------------------------------------------------------------------------------------------------------------------------------\n",
      "|2.0       |7.0           |2             |0.11                  |0.88               |7                 |272                     |4                     |0                |1       |0                        |1.0              |\n",
      "|1.0       |7.0           |11            |0.11                  |0.81               |6                 |305                     |4                     |0                |1       |0                        |1.0              |\n",
      "|1.0       |7.0           |12            |0.84                  |0.92               |4                 |234                     |5                     |0                |1       |0                        |1.0              |\n",
      "|1.0       |7.0           |16            |0.45                  |0.47               |2                 |160                     |3                     |0                |1       |0                        |1.0              |\n",
      "|1.0       |7.0           |17            |0.78                  |0.99               |4                 |255                     |6                     |0                |1       |0                        |1.0              |\n",
      "|1.0       |7.0           |23            |0.46                  |0.57               |2                 |139                     |3                     |0                |1       |0                        |1.0              |\n",
      "|1.0       |7.0           |26            |0.82                  |0.87               |4                 |239                     |5                     |0                |1       |0                        |1.0              |\n",
      "|1.0       |2.0           |29            |0.38                  |0.5                |2                 |132                     |3                     |0                |1       |0                        |1.0              |\n",
      "|1.0       |3.0           |33            |0.45                  |0.55               |2                 |140                     |3                     |0                |1       |0                        |1.0              |\n",
      "|1.0       |3.0           |34            |0.84                  |0.87               |4                 |246                     |6                     |0                |1       |0                        |1.0              |\n",
      "-------------------------------------------------------------------------------------------------------------------------------------------------------------------------------------------------------------------------------\n",
      "\n"
     ]
    }
   ],
   "source": [
    "pred_snow_df.show()"
   ]
  },
  {
   "cell_type": "code",
   "execution_count": 12,
   "id": "75e63672",
   "metadata": {
    "scrolled": true
   },
   "outputs": [
    {
     "data": {
      "text/html": [
       "<div>\n",
       "<style scoped>\n",
       "    .dataframe tbody tr th:only-of-type {\n",
       "        vertical-align: middle;\n",
       "    }\n",
       "\n",
       "    .dataframe tbody tr th {\n",
       "        vertical-align: top;\n",
       "    }\n",
       "\n",
       "    .dataframe thead th {\n",
       "        text-align: right;\n",
       "    }\n",
       "</style>\n",
       "<table border=\"1\" class=\"dataframe\">\n",
       "  <thead>\n",
       "    <tr style=\"text-align: right;\">\n",
       "      <th></th>\n",
       "      <th>SALARY</th>\n",
       "      <th>DEPARTMENT</th>\n",
       "      <th>Unnamed: 0</th>\n",
       "      <th>SATISFACTION_LEVEL</th>\n",
       "      <th>LAST_EVALUATION</th>\n",
       "      <th>NUMBER_PROJECT</th>\n",
       "      <th>AVERAGE_MONTLY_HOURS</th>\n",
       "      <th>TIME_SPEND_COMPANY</th>\n",
       "      <th>WORK_ACCIDENT</th>\n",
       "      <th>LEFT</th>\n",
       "      <th>PROMOTION_LAST_5YEARS</th>\n",
       "      <th>OUTPUT_SALARY</th>\n",
       "    </tr>\n",
       "  </thead>\n",
       "  <tbody>\n",
       "    <tr>\n",
       "      <th>0</th>\n",
       "      <td>1.0</td>\n",
       "      <td>7.0</td>\n",
       "      <td>12</td>\n",
       "      <td>0.84</td>\n",
       "      <td>0.92</td>\n",
       "      <td>4</td>\n",
       "      <td>234</td>\n",
       "      <td>5</td>\n",
       "      <td>0</td>\n",
       "      <td>1</td>\n",
       "      <td>0</td>\n",
       "      <td>1.0</td>\n",
       "    </tr>\n",
       "    <tr>\n",
       "      <th>1</th>\n",
       "      <td>1.0</td>\n",
       "      <td>9.0</td>\n",
       "      <td>37</td>\n",
       "      <td>0.45</td>\n",
       "      <td>0.50</td>\n",
       "      <td>2</td>\n",
       "      <td>126</td>\n",
       "      <td>3</td>\n",
       "      <td>0</td>\n",
       "      <td>1</td>\n",
       "      <td>0</td>\n",
       "      <td>1.0</td>\n",
       "    </tr>\n",
       "    <tr>\n",
       "      <th>2</th>\n",
       "      <td>2.0</td>\n",
       "      <td>0.0</td>\n",
       "      <td>61</td>\n",
       "      <td>0.11</td>\n",
       "      <td>0.93</td>\n",
       "      <td>7</td>\n",
       "      <td>308</td>\n",
       "      <td>4</td>\n",
       "      <td>0</td>\n",
       "      <td>1</td>\n",
       "      <td>0</td>\n",
       "      <td>2.0</td>\n",
       "    </tr>\n",
       "    <tr>\n",
       "      <th>3</th>\n",
       "      <td>1.0</td>\n",
       "      <td>7.0</td>\n",
       "      <td>95</td>\n",
       "      <td>0.37</td>\n",
       "      <td>0.51</td>\n",
       "      <td>2</td>\n",
       "      <td>155</td>\n",
       "      <td>3</td>\n",
       "      <td>0</td>\n",
       "      <td>1</td>\n",
       "      <td>0</td>\n",
       "      <td>1.0</td>\n",
       "    </tr>\n",
       "    <tr>\n",
       "      <th>4</th>\n",
       "      <td>1.0</td>\n",
       "      <td>8.0</td>\n",
       "      <td>131</td>\n",
       "      <td>0.38</td>\n",
       "      <td>0.57</td>\n",
       "      <td>2</td>\n",
       "      <td>140</td>\n",
       "      <td>3</td>\n",
       "      <td>0</td>\n",
       "      <td>1</td>\n",
       "      <td>0</td>\n",
       "      <td>1.0</td>\n",
       "    </tr>\n",
       "    <tr>\n",
       "      <th>...</th>\n",
       "      <td>...</td>\n",
       "      <td>...</td>\n",
       "      <td>...</td>\n",
       "      <td>...</td>\n",
       "      <td>...</td>\n",
       "      <td>...</td>\n",
       "      <td>...</td>\n",
       "      <td>...</td>\n",
       "      <td>...</td>\n",
       "      <td>...</td>\n",
       "      <td>...</td>\n",
       "      <td>...</td>\n",
       "    </tr>\n",
       "    <tr>\n",
       "      <th>3753</th>\n",
       "      <td>1.0</td>\n",
       "      <td>7.0</td>\n",
       "      <td>14880</td>\n",
       "      <td>0.37</td>\n",
       "      <td>0.51</td>\n",
       "      <td>2</td>\n",
       "      <td>154</td>\n",
       "      <td>3</td>\n",
       "      <td>1</td>\n",
       "      <td>1</td>\n",
       "      <td>0</td>\n",
       "      <td>1.0</td>\n",
       "    </tr>\n",
       "    <tr>\n",
       "      <th>3754</th>\n",
       "      <td>1.0</td>\n",
       "      <td>9.0</td>\n",
       "      <td>14909</td>\n",
       "      <td>0.09</td>\n",
       "      <td>0.93</td>\n",
       "      <td>6</td>\n",
       "      <td>279</td>\n",
       "      <td>4</td>\n",
       "      <td>0</td>\n",
       "      <td>1</td>\n",
       "      <td>0</td>\n",
       "      <td>1.0</td>\n",
       "    </tr>\n",
       "    <tr>\n",
       "      <th>3755</th>\n",
       "      <td>1.0</td>\n",
       "      <td>8.0</td>\n",
       "      <td>14922</td>\n",
       "      <td>0.11</td>\n",
       "      <td>0.86</td>\n",
       "      <td>6</td>\n",
       "      <td>286</td>\n",
       "      <td>4</td>\n",
       "      <td>0</td>\n",
       "      <td>1</td>\n",
       "      <td>0</td>\n",
       "      <td>1.0</td>\n",
       "    </tr>\n",
       "    <tr>\n",
       "      <th>3756</th>\n",
       "      <td>1.0</td>\n",
       "      <td>7.0</td>\n",
       "      <td>14953</td>\n",
       "      <td>0.37</td>\n",
       "      <td>0.45</td>\n",
       "      <td>2</td>\n",
       "      <td>149</td>\n",
       "      <td>3</td>\n",
       "      <td>0</td>\n",
       "      <td>1</td>\n",
       "      <td>0</td>\n",
       "      <td>1.0</td>\n",
       "    </tr>\n",
       "    <tr>\n",
       "      <th>3757</th>\n",
       "      <td>1.0</td>\n",
       "      <td>9.0</td>\n",
       "      <td>14981</td>\n",
       "      <td>0.73</td>\n",
       "      <td>0.93</td>\n",
       "      <td>5</td>\n",
       "      <td>162</td>\n",
       "      <td>4</td>\n",
       "      <td>0</td>\n",
       "      <td>1</td>\n",
       "      <td>0</td>\n",
       "      <td>2.0</td>\n",
       "    </tr>\n",
       "  </tbody>\n",
       "</table>\n",
       "<p>3758 rows × 12 columns</p>\n",
       "</div>"
      ],
      "text/plain": [
       "      SALARY  DEPARTMENT  Unnamed: 0  SATISFACTION_LEVEL  LAST_EVALUATION  \\\n",
       "0        1.0         7.0          12                0.84             0.92   \n",
       "1        1.0         9.0          37                0.45             0.50   \n",
       "2        2.0         0.0          61                0.11             0.93   \n",
       "3        1.0         7.0          95                0.37             0.51   \n",
       "4        1.0         8.0         131                0.38             0.57   \n",
       "...      ...         ...         ...                 ...              ...   \n",
       "3753     1.0         7.0       14880                0.37             0.51   \n",
       "3754     1.0         9.0       14909                0.09             0.93   \n",
       "3755     1.0         8.0       14922                0.11             0.86   \n",
       "3756     1.0         7.0       14953                0.37             0.45   \n",
       "3757     1.0         9.0       14981                0.73             0.93   \n",
       "\n",
       "      NUMBER_PROJECT  AVERAGE_MONTLY_HOURS  TIME_SPEND_COMPANY  WORK_ACCIDENT  \\\n",
       "0                  4                   234                   5              0   \n",
       "1                  2                   126                   3              0   \n",
       "2                  7                   308                   4              0   \n",
       "3                  2                   155                   3              0   \n",
       "4                  2                   140                   3              0   \n",
       "...              ...                   ...                 ...            ...   \n",
       "3753               2                   154                   3              1   \n",
       "3754               6                   279                   4              0   \n",
       "3755               6                   286                   4              0   \n",
       "3756               2                   149                   3              0   \n",
       "3757               5                   162                   4              0   \n",
       "\n",
       "      LEFT  PROMOTION_LAST_5YEARS  OUTPUT_SALARY  \n",
       "0        1                      0            1.0  \n",
       "1        1                      0            1.0  \n",
       "2        1                      0            2.0  \n",
       "3        1                      0            1.0  \n",
       "4        1                      0            1.0  \n",
       "...    ...                    ...            ...  \n",
       "3753     1                      0            1.0  \n",
       "3754     1                      0            1.0  \n",
       "3755     1                      0            1.0  \n",
       "3756     1                      0            1.0  \n",
       "3757     1                      0            2.0  \n",
       "\n",
       "[3758 rows x 12 columns]"
      ]
     },
     "execution_count": 12,
     "metadata": {},
     "output_type": "execute_result"
    }
   ],
   "source": [
    "pred_snow_df.to_pandas()"
   ]
  },
  {
   "cell_type": "code",
   "execution_count": 13,
   "id": "6de290bc-1fe1-4298-b05c-d6ed69b81aae",
   "metadata": {},
   "outputs": [],
   "source": [
    "# temp = pipeline.to_xgboost()"
   ]
  },
  {
   "cell_type": "code",
   "execution_count": 14,
   "id": "4f957d14-52cb-493a-9f6d-dbece9fe1362",
   "metadata": {},
   "outputs": [],
   "source": [
    "# temp.__module__.split('.')[0]"
   ]
  },
  {
   "cell_type": "code",
   "execution_count": null,
   "id": "1cc192e6",
   "metadata": {
    "scrolled": true
   },
   "outputs": [
    {
     "name": "stdout",
     "output_type": "stream",
     "text": [
      "Calculating build time metrics\n",
      "\n",
      "Progress: ██████████████                                                         20.0%\n",
      "Calculating build time metrics\n",
      "\n",
      "Progress: ████████████████████████████                                           40.0%\n"
     ]
    },
    {
     "name": "stderr",
     "output_type": "stream",
     "text": [
      "The version of package 'scikit-learn' in the local environment is 1.3.2, which does not fit the criteria for the requirement 'scikit-learn<1.4'. Your UDF might not work when the package version is different between the server and your local environment.\n",
      "DataFrame.flatten() is deprecated since 0.7.0. Use `DataFrame.join_table_function()` instead.\n",
      "The version of package 'scikit-learn' in the local environment is 1.3.2, which does not fit the criteria for the requirement 'scikit-learn<1.4'. Your UDF might not work when the package version is different between the server and your local environment.\n",
      "The version of package 'scikit-learn' in the local environment is 1.3.2, which does not fit the criteria for the requirement 'scikit-learn<1.4'. Your UDF might not work when the package version is different between the server and your local environment.\n"
     ]
    },
    {
     "name": "stdout",
     "output_type": "stream",
     "text": [
      "Calculating build time metrics\n",
      "\n",
      "Progress: ██████████████████████████████████████████                             60.0%\n",
      "Calculating build time metrics\n",
      "\n",
      "Progress: ████████████████████████████████████████████████████████               80.0%\n",
      "Calculating build time metrics\n",
      "\n",
      "Progress: ██████████████████████████████████████████████████████████████████████ 100.0%\n"
     ]
    }
   ],
   "source": [
    "from fosforml import register_model\n",
    "\n",
    "register_model(\n",
    "  model_obj=pipeline,\n",
    "  session=session,\n",
    "  name=\"XGBoostModelTest\",\n",
    "  snowflake_df=pred_snow_df,\n",
    "  dataset_name=\"HR_CHURN\",\n",
    "  dataset_source=\"Dataset\",\n",
    "  source=\"Notebook\",\n",
    "  description=\"This is a Snowflake model\",\n",
    "  flavour=\"snowflake\",\n",
    "  model_type=\"classification\",\n",
    "  conda_dependencies=[\"scikit-learn==1.3.2\"]\n",
    ")"
   ]
  },
  {
   "cell_type": "code",
   "execution_count": null,
   "id": "c2efda67-cf02-4fb6-b958-084e8a79c0f0",
   "metadata": {},
   "outputs": [],
   "source": []
  },
  {
   "cell_type": "code",
   "execution_count": null,
   "id": "ea906b84-9728-49df-8348-16c8515aa016",
   "metadata": {},
   "outputs": [],
   "source": []
  },
  {
   "cell_type": "code",
   "execution_count": null,
   "id": "58ede7e3-d30a-4bdf-a71e-d443b73e5bdd",
   "metadata": {},
   "outputs": [],
   "source": []
  },
  {
   "cell_type": "code",
   "execution_count": null,
   "id": "c70abba0-f796-45c6-a3a7-df73fce8f281",
   "metadata": {},
   "outputs": [],
   "source": []
  },
  {
   "cell_type": "code",
   "execution_count": null,
   "id": "e90e0d85-bf9a-411e-8b9e-d6ea725fc312",
   "metadata": {},
   "outputs": [],
   "source": []
  },
  {
   "cell_type": "code",
   "execution_count": 54,
   "id": "5b7351e6",
   "metadata": {},
   "outputs": [],
   "source": [
    "model_obj = model_registry.get_model(model_name=\"TestModel\")"
   ]
  },
  {
   "cell_type": "code",
   "execution_count": 55,
   "id": "00d3bff0",
   "metadata": {},
   "outputs": [],
   "source": [
    "model = model_obj.version(version_name=\"v1\")"
   ]
  },
  {
   "cell_type": "code",
   "execution_count": 58,
   "id": "ed2011c4",
   "metadata": {},
   "outputs": [],
   "source": [
    "inptu_df ,test_df = session.table(\"HR_CHURN\").randomSplit([0.75, 0.25])"
   ]
  },
  {
   "cell_type": "code",
   "execution_count": 59,
   "id": "4fb0ba75",
   "metadata": {},
   "outputs": [],
   "source": [
    "test_df = apply_label_encoding(test_df)"
   ]
  },
  {
   "cell_type": "code",
   "execution_count": 75,
   "id": "0ac7db79",
   "metadata": {},
   "outputs": [],
   "source": [
    "test_df_pandas = test_df.to_pandas()"
   ]
  },
  {
   "cell_type": "code",
   "execution_count": 76,
   "id": "25f9706d",
   "metadata": {},
   "outputs": [
    {
     "name": "stdout",
     "output_type": "stream",
     "text": [
      "-------------------------------------------------------------------------------------------------------------------------------------------------------------------------------------------------------------\n",
      "|\"SALARY\"  |\"DEPARTMENT\"  |\"Unnamed: 0\"  |\"SATISFACTION_LEVEL\"  |\"LAST_EVALUATION\"  |\"NUMBER_PROJECT\"  |\"AVERAGE_MONTLY_HOURS\"  |\"TIME_SPEND_COMPANY\"  |\"WORK_ACCIDENT\"  |\"LEFT\"  |\"PROMOTION_LAST_5YEARS\"  |\n",
      "-------------------------------------------------------------------------------------------------------------------------------------------------------------------------------------------------------------\n",
      "|2.0       |7.0           |1             |0.8                   |0.86               |5                 |262                     |6                     |0                |1       |0                        |\n",
      "|1.0       |7.0           |13            |0.41                  |0.55               |2                 |148                     |3                     |0                |1       |0                        |\n",
      "|1.0       |7.0           |18            |0.45                  |0.51               |2                 |160                     |3                     |1                |1       |1                        |\n",
      "|1.0       |7.0           |19            |0.76                  |0.89               |5                 |262                     |5                     |0                |1       |0                        |\n",
      "|1.0       |7.0           |25            |0.89                  |0.92               |5                 |242                     |5                     |0                |1       |0                        |\n",
      "|1.0       |2.0           |28            |0.41                  |0.46               |2                 |128                     |3                     |0                |1       |0                        |\n",
      "|1.0       |2.0           |30            |0.09                  |0.62               |6                 |294                     |4                     |0                |1       |0                        |\n",
      "|1.0       |3.0           |34            |0.84                  |0.87               |4                 |246                     |6                     |0                |1       |0                        |\n",
      "|1.0       |9.0           |38            |0.11                  |0.89               |6                 |306                     |4                     |0                |1       |0                        |\n",
      "|1.0       |9.0           |42            |0.4                   |0.46               |2                 |127                     |3                     |0                |1       |0                        |\n",
      "-------------------------------------------------------------------------------------------------------------------------------------------------------------------------------------------------------------\n",
      "\n"
     ]
    }
   ],
   "source": [
    "session.write_pandas(test_df_pandas,table_name=\"TEST_DATA_HR\",overwrite=True).show()"
   ]
  },
  {
   "cell_type": "code",
   "execution_count": 80,
   "id": "3bf2d1db",
   "metadata": {},
   "outputs": [],
   "source": [
    "test_df_fetch = session.table(\"TEST_DATA_HR\")"
   ]
  },
  {
   "cell_type": "code",
   "execution_count": 81,
   "id": "0a3c6340",
   "metadata": {},
   "outputs": [
    {
     "name": "stdout",
     "output_type": "stream",
     "text": [
      "-------------------------------------------------------------------------------------------------------------------------------------------------------------------------------------------------------------\n",
      "|\"SALARY\"  |\"DEPARTMENT\"  |\"Unnamed: 0\"  |\"SATISFACTION_LEVEL\"  |\"LAST_EVALUATION\"  |\"NUMBER_PROJECT\"  |\"AVERAGE_MONTLY_HOURS\"  |\"TIME_SPEND_COMPANY\"  |\"WORK_ACCIDENT\"  |\"LEFT\"  |\"PROMOTION_LAST_5YEARS\"  |\n",
      "-------------------------------------------------------------------------------------------------------------------------------------------------------------------------------------------------------------\n",
      "|2.0       |7.0           |1             |0.8                   |0.86               |5                 |262                     |6                     |0                |1       |0                        |\n",
      "|1.0       |7.0           |13            |0.41                  |0.55               |2                 |148                     |3                     |0                |1       |0                        |\n",
      "|1.0       |7.0           |18            |0.45                  |0.51               |2                 |160                     |3                     |1                |1       |1                        |\n",
      "|1.0       |7.0           |19            |0.76                  |0.89               |5                 |262                     |5                     |0                |1       |0                        |\n",
      "|1.0       |7.0           |25            |0.89                  |0.92               |5                 |242                     |5                     |0                |1       |0                        |\n",
      "|1.0       |2.0           |28            |0.41                  |0.46               |2                 |128                     |3                     |0                |1       |0                        |\n",
      "|1.0       |2.0           |30            |0.09                  |0.62               |6                 |294                     |4                     |0                |1       |0                        |\n",
      "|1.0       |3.0           |34            |0.84                  |0.87               |4                 |246                     |6                     |0                |1       |0                        |\n",
      "|1.0       |9.0           |38            |0.11                  |0.89               |6                 |306                     |4                     |0                |1       |0                        |\n",
      "|1.0       |9.0           |42            |0.4                   |0.46               |2                 |127                     |3                     |0                |1       |0                        |\n",
      "-------------------------------------------------------------------------------------------------------------------------------------------------------------------------------------------------------------\n",
      "\n"
     ]
    }
   ],
   "source": [
    "test_df_fetch.show()"
   ]
  },
  {
   "cell_type": "code",
   "execution_count": null,
   "id": "5e14bd13",
   "metadata": {},
   "outputs": [],
   "source": []
  },
  {
   "cell_type": "code",
   "execution_count": null,
   "id": "fa0a6cb7",
   "metadata": {},
   "outputs": [],
   "source": []
  },
  {
   "cell_type": "code",
   "execution_count": null,
   "id": "8243cf00",
   "metadata": {},
   "outputs": [],
   "source": []
  },
  {
   "cell_type": "code",
   "execution_count": 82,
   "id": "2117fc9d",
   "metadata": {},
   "outputs": [
    {
     "data": {
      "text/html": [
       "<div>\n",
       "<style scoped>\n",
       "    .dataframe tbody tr th:only-of-type {\n",
       "        vertical-align: middle;\n",
       "    }\n",
       "\n",
       "    .dataframe tbody tr th {\n",
       "        vertical-align: top;\n",
       "    }\n",
       "\n",
       "    .dataframe thead th {\n",
       "        text-align: right;\n",
       "    }\n",
       "</style>\n",
       "<table border=\"1\" class=\"dataframe\">\n",
       "  <thead>\n",
       "    <tr style=\"text-align: right;\">\n",
       "      <th></th>\n",
       "      <th>SALARY</th>\n",
       "      <th>DEPARTMENT</th>\n",
       "      <th>Unnamed: 0</th>\n",
       "      <th>SATISFACTION_LEVEL</th>\n",
       "      <th>LAST_EVALUATION</th>\n",
       "      <th>NUMBER_PROJECT</th>\n",
       "      <th>AVERAGE_MONTLY_HOURS</th>\n",
       "      <th>TIME_SPEND_COMPANY</th>\n",
       "      <th>WORK_ACCIDENT</th>\n",
       "      <th>LEFT</th>\n",
       "      <th>PROMOTION_LAST_5YEARS</th>\n",
       "      <th>OUTPUT_SALARY</th>\n",
       "    </tr>\n",
       "  </thead>\n",
       "  <tbody>\n",
       "    <tr>\n",
       "      <th>0</th>\n",
       "      <td>1.0</td>\n",
       "      <td>3.0</td>\n",
       "      <td>34</td>\n",
       "      <td>0.84</td>\n",
       "      <td>0.87</td>\n",
       "      <td>4</td>\n",
       "      <td>246</td>\n",
       "      <td>6</td>\n",
       "      <td>0</td>\n",
       "      <td>1</td>\n",
       "      <td>0</td>\n",
       "      <td>1.0</td>\n",
       "    </tr>\n",
       "    <tr>\n",
       "      <th>1</th>\n",
       "      <td>2.0</td>\n",
       "      <td>6.0</td>\n",
       "      <td>66</td>\n",
       "      <td>0.43</td>\n",
       "      <td>0.54</td>\n",
       "      <td>2</td>\n",
       "      <td>153</td>\n",
       "      <td>3</td>\n",
       "      <td>0</td>\n",
       "      <td>1</td>\n",
       "      <td>0</td>\n",
       "      <td>2.0</td>\n",
       "    </tr>\n",
       "    <tr>\n",
       "      <th>2</th>\n",
       "      <td>1.0</td>\n",
       "      <td>7.0</td>\n",
       "      <td>94</td>\n",
       "      <td>0.09</td>\n",
       "      <td>0.83</td>\n",
       "      <td>6</td>\n",
       "      <td>255</td>\n",
       "      <td>4</td>\n",
       "      <td>0</td>\n",
       "      <td>1</td>\n",
       "      <td>0</td>\n",
       "      <td>1.0</td>\n",
       "    </tr>\n",
       "    <tr>\n",
       "      <th>3</th>\n",
       "      <td>1.0</td>\n",
       "      <td>8.0</td>\n",
       "      <td>130</td>\n",
       "      <td>0.10</td>\n",
       "      <td>0.83</td>\n",
       "      <td>6</td>\n",
       "      <td>292</td>\n",
       "      <td>4</td>\n",
       "      <td>0</td>\n",
       "      <td>1</td>\n",
       "      <td>0</td>\n",
       "      <td>1.0</td>\n",
       "    </tr>\n",
       "    <tr>\n",
       "      <th>4</th>\n",
       "      <td>1.0</td>\n",
       "      <td>7.0</td>\n",
       "      <td>163</td>\n",
       "      <td>0.79</td>\n",
       "      <td>0.89</td>\n",
       "      <td>5</td>\n",
       "      <td>239</td>\n",
       "      <td>5</td>\n",
       "      <td>0</td>\n",
       "      <td>1</td>\n",
       "      <td>0</td>\n",
       "      <td>1.0</td>\n",
       "    </tr>\n",
       "    <tr>\n",
       "      <th>...</th>\n",
       "      <td>...</td>\n",
       "      <td>...</td>\n",
       "      <td>...</td>\n",
       "      <td>...</td>\n",
       "      <td>...</td>\n",
       "      <td>...</td>\n",
       "      <td>...</td>\n",
       "      <td>...</td>\n",
       "      <td>...</td>\n",
       "      <td>...</td>\n",
       "      <td>...</td>\n",
       "      <td>...</td>\n",
       "    </tr>\n",
       "    <tr>\n",
       "      <th>7447</th>\n",
       "      <td>2.0</td>\n",
       "      <td>5.0</td>\n",
       "      <td>14821</td>\n",
       "      <td>0.09</td>\n",
       "      <td>0.95</td>\n",
       "      <td>7</td>\n",
       "      <td>256</td>\n",
       "      <td>4</td>\n",
       "      <td>0</td>\n",
       "      <td>1</td>\n",
       "      <td>0</td>\n",
       "      <td>2.0</td>\n",
       "    </tr>\n",
       "    <tr>\n",
       "      <th>7448</th>\n",
       "      <td>2.0</td>\n",
       "      <td>9.0</td>\n",
       "      <td>14859</td>\n",
       "      <td>0.45</td>\n",
       "      <td>0.54</td>\n",
       "      <td>2</td>\n",
       "      <td>129</td>\n",
       "      <td>3</td>\n",
       "      <td>0</td>\n",
       "      <td>1</td>\n",
       "      <td>0</td>\n",
       "      <td>2.0</td>\n",
       "    </tr>\n",
       "    <tr>\n",
       "      <th>7449</th>\n",
       "      <td>1.0</td>\n",
       "      <td>7.0</td>\n",
       "      <td>14888</td>\n",
       "      <td>0.39</td>\n",
       "      <td>0.49</td>\n",
       "      <td>2</td>\n",
       "      <td>142</td>\n",
       "      <td>3</td>\n",
       "      <td>0</td>\n",
       "      <td>1</td>\n",
       "      <td>0</td>\n",
       "      <td>1.0</td>\n",
       "    </tr>\n",
       "    <tr>\n",
       "      <th>7450</th>\n",
       "      <td>2.0</td>\n",
       "      <td>7.0</td>\n",
       "      <td>14945</td>\n",
       "      <td>0.14</td>\n",
       "      <td>0.75</td>\n",
       "      <td>4</td>\n",
       "      <td>277</td>\n",
       "      <td>5</td>\n",
       "      <td>1</td>\n",
       "      <td>1</td>\n",
       "      <td>0</td>\n",
       "      <td>1.0</td>\n",
       "    </tr>\n",
       "    <tr>\n",
       "      <th>7451</th>\n",
       "      <td>2.0</td>\n",
       "      <td>2.0</td>\n",
       "      <td>14974</td>\n",
       "      <td>0.36</td>\n",
       "      <td>0.54</td>\n",
       "      <td>2</td>\n",
       "      <td>153</td>\n",
       "      <td>3</td>\n",
       "      <td>0</td>\n",
       "      <td>1</td>\n",
       "      <td>0</td>\n",
       "      <td>2.0</td>\n",
       "    </tr>\n",
       "  </tbody>\n",
       "</table>\n",
       "<p>7452 rows × 12 columns</p>\n",
       "</div>"
      ],
      "text/plain": [
       "      SALARY  DEPARTMENT  Unnamed: 0  SATISFACTION_LEVEL  LAST_EVALUATION  \\\n",
       "0        1.0         3.0          34                0.84             0.87   \n",
       "1        2.0         6.0          66                0.43             0.54   \n",
       "2        1.0         7.0          94                0.09             0.83   \n",
       "3        1.0         8.0         130                0.10             0.83   \n",
       "4        1.0         7.0         163                0.79             0.89   \n",
       "...      ...         ...         ...                 ...              ...   \n",
       "7447     2.0         5.0       14821                0.09             0.95   \n",
       "7448     2.0         9.0       14859                0.45             0.54   \n",
       "7449     1.0         7.0       14888                0.39             0.49   \n",
       "7450     2.0         7.0       14945                0.14             0.75   \n",
       "7451     2.0         2.0       14974                0.36             0.54   \n",
       "\n",
       "      NUMBER_PROJECT  AVERAGE_MONTLY_HOURS  TIME_SPEND_COMPANY  WORK_ACCIDENT  \\\n",
       "0                  4                   246                   6              0   \n",
       "1                  2                   153                   3              0   \n",
       "2                  6                   255                   4              0   \n",
       "3                  6                   292                   4              0   \n",
       "4                  5                   239                   5              0   \n",
       "...              ...                   ...                 ...            ...   \n",
       "7447               7                   256                   4              0   \n",
       "7448               2                   129                   3              0   \n",
       "7449               2                   142                   3              0   \n",
       "7450               4                   277                   5              1   \n",
       "7451               2                   153                   3              0   \n",
       "\n",
       "      LEFT  PROMOTION_LAST_5YEARS  OUTPUT_SALARY  \n",
       "0        1                      0            1.0  \n",
       "1        1                      0            2.0  \n",
       "2        1                      0            1.0  \n",
       "3        1                      0            1.0  \n",
       "4        1                      0            1.0  \n",
       "...    ...                    ...            ...  \n",
       "7447     1                      0            2.0  \n",
       "7448     1                      0            2.0  \n",
       "7449     1                      0            1.0  \n",
       "7450     1                      0            1.0  \n",
       "7451     1                      0            2.0  \n",
       "\n",
       "[7452 rows x 12 columns]"
      ]
     },
     "execution_count": 82,
     "metadata": {},
     "output_type": "execute_result"
    }
   ],
   "source": [
    "model.run(test_df_fetch, function_name=\"predict\").to_pandas()"
   ]
  },
  {
   "cell_type": "code",
   "execution_count": null,
   "id": "9f604b25",
   "metadata": {},
   "outputs": [],
   "source": []
  },
  {
   "cell_type": "code",
   "execution_count": null,
   "id": "90556e8d",
   "metadata": {},
   "outputs": [],
   "source": []
  },
  {
   "cell_type": "code",
   "execution_count": null,
   "id": "5abae063",
   "metadata": {},
   "outputs": [],
   "source": []
  },
  {
   "cell_type": "code",
   "execution_count": null,
   "id": "0493a161",
   "metadata": {},
   "outputs": [],
   "source": []
  },
  {
   "cell_type": "code",
   "execution_count": null,
   "id": "cf512a51",
   "metadata": {},
   "outputs": [],
   "source": [
    "register_model(\n",
    "  model_obj=pipeline,\n",
    "  session=session,\n",
    "  snowflake_df=pred_snow_df,\n",
    "  name=\"HR_Churn_model\",\n",
    "  description=\"This is a test model\",\n",
    "  flavour=\"snowflake\",\n",
    "  dataset_name=\"Hr_churn\",\n",
    "  datasource_name=\"Hr_churn\",\n",
    "  model_type=\"classification\",\n",
    "  conda_dependencies=[\"scikit-learn==1.3.2\"],\n",
    "  source=\"Notebook\"\n",
    ")"
   ]
  },
  {
   "cell_type": "code",
   "execution_count": null,
   "id": "d151bb10",
   "metadata": {},
   "outputs": [],
   "source": []
  },
  {
   "cell_type": "code",
   "execution_count": null,
   "id": "4255d32d",
   "metadata": {},
   "outputs": [],
   "source": []
  }
 ],
 "metadata": {
  "kernelspec": {
   "display_name": "Python 3 (ipykernel)",
   "language": "python",
   "name": "python3"
  },
  "language_info": {
   "codemirror_mode": {
    "name": "ipython",
    "version": 3
   },
   "file_extension": ".py",
   "mimetype": "text/x-python",
   "name": "python",
   "nbconvert_exporter": "python",
   "pygments_lexer": "ipython3",
   "version": "3.9.19"
  }
 },
 "nbformat": 4,
 "nbformat_minor": 5
}
