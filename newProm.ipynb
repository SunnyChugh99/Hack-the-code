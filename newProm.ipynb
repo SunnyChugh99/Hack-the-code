{
 "cells": [
  {
   "cell_type": "code",
   "execution_count": 1,
   "id": "3bd824b3",
   "metadata": {},
   "outputs": [
    {
     "name": "stdout",
     "output_type": "stream",
     "text": [
      "1\n"
     ]
    }
   ],
   "source": [
    "print('1')"
   ]
  },
  {
   "cell_type": "code",
   "execution_count": 7,
   "id": "e0b241f0",
   "metadata": {},
   "outputs": [
    {
     "name": "stdout",
     "output_type": "stream",
     "text": [
      "curl: (6) Could not resolve host: prometheus-grafana.default.svc.cluster.local\r\n"
     ]
    }
   ],
   "source": [
    "!curl \"http://prometheus-grafana.default.svc.cluster.local:80\"\n"
   ]
  },
  {
   "cell_type": "code",
   "execution_count": 13,
   "id": "901abcde",
   "metadata": {},
   "outputs": [
    {
     "name": "stdout",
     "output_type": "stream",
     "text": [
      "<a href=\"/graph\">Found</a>.\r\n",
      "\r\n"
     ]
    }
   ],
   "source": [
    "!curl \"http://prometheus-grafana-kube-pr-prometheus.monitoring\"\n"
   ]
  },
  {
   "cell_type": "code",
   "execution_count": null,
   "id": "1daffa20",
   "metadata": {},
   "outputs": [],
   "source": []
  }
 ],
 "metadata": {
  "kernelspec": {
   "display_name": "Python 3",
   "language": "python",
   "name": "python3"
  },
  "language_info": {
   "codemirror_mode": {
    "name": "ipython",
    "version": 3
   },
   "file_extension": ".py",
   "mimetype": "text/x-python",
   "name": "python",
   "nbconvert_exporter": "python",
   "pygments_lexer": "ipython3",
   "version": "3.8.19"
  }
 },
 "nbformat": 4,
 "nbformat_minor": 5
}
