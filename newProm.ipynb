{
 "cells": [
  {
   "cell_type": "code",
   "execution_count": 1,
   "id": "6a85911c",
   "metadata": {},
   "outputs": [
    {
     "name": "stdout",
     "output_type": "stream",
     "text": [
      "1\n"
     ]
    }
   ],
   "source": [
    "print('1')"
   ]
  },
  {
   "cell_type": "code",
   "execution_count": 7,
   "id": "872e3469",
   "metadata": {},
   "outputs": [
    {
     "name": "stdout",
     "output_type": "stream",
     "text": [
      "curl: (6) Could not resolve host: prometheus-grafana.default.svc.cluster.local\r\n"
     ]
    }
   ],
   "source": [
    "!curl \"http://prometheus-grafana.default.svc.cluster.local:80\"\n"
   ]
  },
  {
   "cell_type": "code",
   "execution_count": 8,
   "id": "63dfeb7c",
   "metadata": {},
   "outputs": [
    {
     "name": "stdout",
     "output_type": "stream",
     "text": [
      "<a href=\"/login\">Found</a>.\r\n",
      "\r\n"
     ]
    }
   ],
   "source": [
    "!curl \"http://172.20.70.107:80\"\n"
   ]
  },
  {
   "cell_type": "code",
   "execution_count": null,
   "id": "04a564a5",
   "metadata": {},
   "outputs": [],
   "source": []
  }
 ],
 "metadata": {
  "kernelspec": {
   "display_name": "Python 3",
   "language": "python",
   "name": "python3"
  },
  "language_info": {
   "codemirror_mode": {
    "name": "ipython",
    "version": 3
   },
   "file_extension": ".py",
   "mimetype": "text/x-python",
   "name": "python",
   "nbconvert_exporter": "python",
   "pygments_lexer": "ipython3",
   "version": "3.8.19"
  }
 },
 "nbformat": 4,
 "nbformat_minor": 5
}
