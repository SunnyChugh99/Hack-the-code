{
 "cells": [
  {
   "cell_type": "code",
   "execution_count": null,
   "id": "7c35f8df-43db-4b1c-8875-b74f4497671a",
   "metadata": {},
   "outputs": [],
   "source": []
  }
 ],
 "metadata": {
  "kernelspec": {
   "display_name": "",
   "name": ""
  },
  "language_info": {
   "name": ""
  }
 },
 "nbformat": 4,
 "nbformat_minor": 5
}
