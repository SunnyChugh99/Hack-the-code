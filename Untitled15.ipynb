{
 "cells": [
  {
   "cell_type": "code",
   "execution_count": null,
   "id": "d75103e4-00f2-416e-a65e-45f0dc62fa2e",
   "metadata": {},
   "outputs": [],
   "source": [
    "from fosforml.model_manager.snowflakesession import get_session\n",
    "session = get_session()\n",
    "print(session)"
   ]
  },
  {
   "cell_type": "code",
   "execution_count": 1,
   "id": "2d454e55-8b0b-474b-83e8-77fa7faa85a3",
   "metadata": {},
   "outputs": [],
   "source": [
    "from snowflake.snowpark.session import Session"
   ]
  },
  {
   "cell_type": "code",
   "execution_count": null,
   "id": "5eb33c9f-5d84-4230-9ac9-e93277f6ff2b",
   "metadata": {},
   "outputs": [],
   "source": [
    "connection_details = {\n",
    "    'connectionUrl': 'https://ug94937.us-east4.gcp.snowflakecomputing.com',\n",
    "    'authenticationType': 'password',\n",
    "    'dbUserName': 'VISHWASMAHESHWARI',\n",
    "    'dbPassword': 'VishMahe@6',\n",
    "    'role': 'VISHWASMAHESHWARI',\n",
    "    'wareHouse': 'FOSFOR_INSIGHT_WH',\n",
    "    'defaultDb': 'FDC_DEV_VISHWASMAHESHWARI',\n",
    "    'defaultSchema': 'FDC_DEV_SCHMEA',\n",
    "    'accountName': 'ug94937',\n",
    "    'region': 'us-east4'\n",
    "}\n",
    "\n",
    "# ZQISEAM.LTIFOSFORSCSAWS\n",
    "# https://rwb76633.snowflakecomputing.com\n",
    "# url = connection_details[\"connectionUrl\"]\n",
    "auth_type = connection_details[\"authenticationType\"]\n",
    "if auth_type == 'privateKey':\n",
    "    auth_type = 'keyBased'\n",
    "\n",
    "connection_params = {\n",
    "    'connectionURL': connection_details[\"connectionUrl\"],\n",
    "    'username': connection_details[\"dbUserName\"],\n",
    "    'password': connection_details[\"dbPassword\"],\n",
    "    'role': connection_details[\"role\"],\n",
    "    'warehouse': connection_details[\"wareHouse\"],\n",
    "    'database': connection_details[\"defaultDb\"],\n",
    "    'schema': connection_details[\"defaultSchema\"],\n",
    "    # 'account': \"ug94937.us-east4.gcp\"\n",
    "    # 'account': f\"{connection_details['accountName']}.{connection_details['region']}.{'gcp'}\"\n",
    "}\n",
    "\n",
    "print(connection_params)\n",
    "\n",
    "# snowflake_connector = ConnectionFactory.get_connector(\"snowflake\")\n",
    "# snowflake_dto = ConnectionFactory.get_dto(\"SNOWFLAKE\")\n",
    "# param_dict = snowflake_dto.set_param(auth_type=auth_type, **connection_params)\n",
    "# session = snowflake_connector.get_snowpark_session(param_dict)\n",
    "session = Session.builder.configs(connection_params).create()\n",
    "# print(\"I am snowflake session - \", session)\n",
    "\n",
    "# import pandas as pd\n",
    "#\n",
    "# session = get_session()\n",
    "#\n",
    "# current = pd.read_csv(\"./current_data123.csv\")\n",
    "# reference = pd.read_csv(\"./reference123.csv\")\n",
    "#\n",
    "# result = Session.write_pandas(current)\n",
    "#\n",
    "# print(\"result\", result)\n"
   ]
  }
 ],
 "metadata": {
  "kernelspec": {
   "display_name": "Python 3",
   "language": "python",
   "name": "python3"
  },
  "language_info": {
   "codemirror_mode": {
    "name": "ipython",
    "version": 3
   },
   "file_extension": ".py",
   "mimetype": "text/x-python",
   "name": "python",
   "nbconvert_exporter": "python",
   "pygments_lexer": "ipython3",
   "version": "3.9.18"
  }
 },
 "nbformat": 4,
 "nbformat_minor": 5
}
